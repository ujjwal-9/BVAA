{
 "cells": [
  {
   "cell_type": "code",
   "execution_count": 1,
   "metadata": {},
   "outputs": [],
   "source": [
    "import torch\n",
    "import torch.nn as nn\n",
    "import torch.nn.functional as F\n",
    "\n",
    "import numpy as np"
   ]
  },
  {
   "cell_type": "code",
   "execution_count": 2,
   "metadata": {},
   "outputs": [],
   "source": [
    "class Distribution(object):\n",
    "    def sample(self):\n",
    "        raise NotImplementedError\n",
    "    \n",
    "    def log_prob(self, values):\n",
    "        raise NotImplementedError"
   ]
  },
  {
   "cell_type": "code",
   "execution_count": null,
   "metadata": {},
   "outputs": [],
   "source": [
    "class Bernoulli(Distribution):\n",
    "    def __init__(self, probs):\n",
    "        self.probs = probs\n",
    "    \n",
    "    def sample(self):\n",
    "        return torch.bernoulli(self.probs)\n",
    "    \n",
    "    def log_prob(self, values):\n",
    "        log_pmf = (torch.stack([1-self.probs, self.probs])).log()\n",
    "        dum = values.unsqueeze(0).long()\n",
    "        return log_pmf.gather(0, dum).squeeze(0)"
   ]
  }
 ],
 "metadata": {
  "kernelspec": {
   "display_name": "Python 3",
   "language": "python",
   "name": "python3"
  },
  "language_info": {
   "codemirror_mode": {
    "name": "ipython",
    "version": 3
   },
   "file_extension": ".py",
   "mimetype": "text/x-python",
   "name": "python",
   "nbconvert_exporter": "python",
   "pygments_lexer": "ipython3",
   "version": "3.6.9"
  }
 },
 "nbformat": 4,
 "nbformat_minor": 2
}
