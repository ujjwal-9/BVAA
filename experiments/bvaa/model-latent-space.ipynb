{
 "cells": [
  {
   "cell_type": "code",
   "execution_count": 1,
   "metadata": {},
   "outputs": [],
   "source": [
    "import torch\n",
    "import torchvision.datasets as datasets"
   ]
  },
  {
   "cell_type": "code",
   "execution_count": 2,
   "metadata": {},
   "outputs": [],
   "source": [
    "DATA_PATH = '/home/ujjwal/Desktop/BVAA/data/'"
   ]
  },
  {
   "cell_type": "code",
   "execution_count": 3,
   "metadata": {},
   "outputs": [],
   "source": [
    "train_batch_size = 64\n",
    "test_batch_size = 1000"
   ]
  },
  {
   "cell_type": "code",
   "execution_count": 4,
   "metadata": {},
   "outputs": [],
   "source": [
    "import torchvision.transforms as transforms\n",
    "\n",
    "train_loader = torch.utils.data.DataLoader(datasets.MNIST(DATA_PATH, train=True, download=True,\n",
    "                             transform=transforms.Compose([\n",
    "                                 transforms.ToTensor(),\n",
    "                                 transforms.Normalize(\n",
    "                                 (0.1307,), (0.3081,))\n",
    "                             ])), batch_size=train_batch_size, shuffle=True)\n",
    "\n",
    "test_loader = torch.utils.data.DataLoader(datasets.MNIST(DATA_PATH, train=False, download=True,\n",
    "                                                        transform=transforms.Compose([\n",
    "                                                            transforms.ToTensor(),\n",
    "                                                            transforms.Normalize(\n",
    "                                                            (0.1307,), (0.3081,))\n",
    "                                                        ])), batch_size=test_batch_size, shuffle=True)"
   ]
  },
  {
   "cell_type": "code",
   "execution_count": 5,
   "metadata": {},
   "outputs": [],
   "source": [
    "examples = enumerate(test_loader)\n",
    "batch_idx, (example_data, example_targets) = next(examples)"
   ]
  },
  {
   "cell_type": "code",
   "execution_count": 6,
   "metadata": {},
   "outputs": [
    {
     "data": {
      "image/png": "[encoded data removed]",
      "text/plain": [
       "<Figure size 432x288 with 6 Axes>"
      ]
     },
     "execution_count": 6,
     "metadata": {},
     "output_type": "execute_result"
    },
    {
     "data": {
      "image/png": "[encoded data removed]",
      "text/plain": [
       "<Figure size 432x288 with 6 Axes>"
      ]
     },
     "metadata": {},
     "output_type": "display_data"
    }
   ],
   "source": [
    "import matplotlib.pyplot as plt\n",
    "\n",
    "fig = plt.figure()\n",
    "for i in range(6):\n",
    "    plt.subplot(2,3,i+1)\n",
    "    plt.tight_layout()\n",
    "    plt.imshow(example_data[i][0], cmap='gray', interpolation='none')\n",
    "    plt.title(\"Ground Truth: {}\".format(example_targets[i]))\n",
    "    plt.xticks([])\n",
    "    plt.yticks([])\n",
    "fig"
   ]
  },
  {
   "cell_type": "code",
   "execution_count": 10,
   "metadata": {},
   "outputs": [
    {
     "data": {
      "text/plain": [
       "torch.Size([1, 28, 28])"
      ]
     },
     "execution_count": 10,
     "metadata": {},
     "output_type": "execute_result"
    }
   ],
   "source": [
    "example_data[0].shape"
   ]
  },
  {
   "cell_type": "code",
   "execution_count": 7,
   "metadata": {},
   "outputs": [],
   "source": [
    "import torch.nn as nn\n",
    "import torch.nn.functional as F\n",
    "import torch.optim as optim"
   ]
  },
  {
   "cell_type": "code",
   "execution_count": 12,
   "metadata": {},
   "outputs": [],
   "source": [
    "def conv(inch, ouch, ks, stride=2, pad=1, batchNorm=True):\n",
    "    layers = []\n",
    "    \n",
    "    layers.append(nn.Conv2d(inch, ouch, ks, pad))\n",
    "    \n",
    "    if batchNorm:\n",
    "        layers.append(nn.BatchNorm2d(ouch))\n",
    "    \n",
    "    return nn.Sequential(*layers)"
   ]
  },
  {
   "cell_type": "code",
   "execution_count": 13,
   "metadata": {},
   "outputs": [],
   "source": [
    "class Encoder(nn.Module):\n",
    "    def __init__(self, net_depth=4, conv_dim=64, img_dim=28, nc=1, z_dim=64):\n",
    "        super(Encoder, self).__init__()\n",
    "        self.net_depth = net_depth\n",
    "        \n",
    "        kernel_size = 4\n",
    "        stride = 2\n",
    "        pad = 1\n",
    "        input_ch = nc\n",
    "        output_ch = conv_dim\n",
    "        \n",
    "        self.encoder = []\n",
    "        \n",
    "        self.encoder.extend([conv(input_ch, output_ch, kernel_size, stride, pad, batchNorm=False), nn.LeakyReLU(0.05)])\n",
    "        \n",
    "        map_dim = (img_dim - kernel_size + 2 * pad) / stride + 1\n",
    "        \n",
    "        for i in range(1,net_depth):\n",
    "            input_ch = output_ch\n",
    "            output_ch = conv_dim*(2**i)\n",
    "            self.encoder.extend([conv(input_ch, output_ch, kernel_size, stride, pad, batchNorm=False), nn.LeakyReLU(0.05)])\n",
    "            map_dim = (map_dim - kernel_size + 2 * pad) / stride + 1\n",
    "        \n",
    "        self.encoder = nn.Sequential(*self.encoder)\n",
    "        \n",
    "        self.fc = nn.Linear(output_ch*(map_dim**2), 2048)\n",
    "        self.fc1 = nn.Linear(2048, 1024)\n",
    "        self.fc2 = nn.Linear(1024, z_dim)\n",
    "    \n",
    "    def encode(self, x):\n",
    "        out = self.encoder(x)\n",
    "        out = out.view((-1, torch.prod(torch.tensor(out.size()), 0).item()))\n",
    "        out = F.leaky_relu(self.fc(out), 0.05)\n",
    "        out = F.leaky_relu(self.fc1(out), 0.05)\n",
    "        out = self.fc2(out)\n",
    "        return out\n",
    "    \n",
    "    def forward(self, x):\n",
    "        return self.encode(x)"
   ]
  },
  {
   "cell_type": "code",
   "execution_count": 14,
   "metadata": {},
   "outputs": [],
   "source": [
    "def deconv(inch, ouch, kernel_size, stride=2, pad=1, batchNorm=True):\n",
    "    layers = []\n",
    "    layers.append(nn.ConvTranspose2d(inch, ouch, kernel_size, stride, pad))\n",
    "    if batchNorm:\n",
    "        layers.append(nn.BatchNorm2d(ouch))\n",
    "    return nn.Sequential(*layers)"
   ]
  },
  {
   "cell_type": "code",
   "execution_count": 15,
   "metadata": {},
   "outputs": [],
   "source": [
    "class Decoder(nn.Module):\n",
    "    def __init__(self, net_depth=4, conv_dim=64, img_dim=28, nc=1, z_dim=32):\n",
    "        super(Decoder, self).__init__()\n",
    "        self.net_depth = net_depth\n",
    "        \n",
    "        kernel_size = 4\n",
    "        stride = 2\n",
    "        pad = 1\n",
    "        input_ch = z_dim\n",
    "        output_ch = conv_dim*(2**self.net_depth)\n",
    "        map_dim = k\n",
    "        \n",
    "        self.fc = deconv(input_ch, output_ch, kernel_size, stride=1, pad=0, batchNorm=False)\n",
    "        \n",
    "        self.decoder = []\n",
    "        \n",
    "        for i in reversed(range(self.net_depth)):\n",
    "            input_ch = output_ch\n",
    "            output_ch = conv_dim*(2**i)\n",
    "            self.decoder.extend([deconv(input_ch, output_ch, kernel_size, stride, pad, batchNorm=False), nn.LeakyReLU(0.05)])\n",
    "            map_dim = kernel_size - 2 * pad + stride * (map_dim - 1)\n",
    "        \n",
    "        self.decoder = nn.Sequential(*self.decoder)\n",
    "        \n",
    "        input_ch = output_ch\n",
    "        output_ch = 1\n",
    "        output_dim = img_dim\n",
    "        pad = 0\n",
    "        stride = 1\n",
    "        kernel_size = output_dim + 2 * pad - stride * (map_dim - 1)\n",
    "        self.final = deconv(input_ch, output_ch, kernel_size, stride, pad, batchNorm=False)\n",
    "        \n",
    "    def decode(self, z):\n",
    "        z = z.view(z.size(0), z.size(1), 1, 1)\n",
    "        out = F.leaky_relu(self.fc(z), 0.05)\n",
    "        out = F.leaky_relu(self.decoder(out), 0.05)\n",
    "        out = F.sigmoid(self.final(out))\n",
    "        return out\n",
    "    \n",
    "    def forward(self, z):\n",
    "        return self.decode(z)"
   ]
  },
  {
   "cell_type": "code",
   "execution_count": 16,
   "metadata": {},
   "outputs": [],
   "source": [
    "class betaVAE(nn.Module):\n",
    "    def __init__(self, net_depth=4, conv_dim=64, img_dim=28, nc=1, z_dim=32, beta=1.0, use_cuda=True):\n",
    "        super(Net, self).__init__()\n",
    "        self.encoder = Encoder(net_depth, conv_dim, img_dim, nc, z_dim=2*z_dim)\n",
    "        self.decoder = Decoder(net_depth, conv_dim, img_dim, nc, z_dim)\n",
    "        self.beta = beta\n",
    "        self.use_cuda = use_cuda\n",
    "        if self.use_cuda:\n",
    "            self.cuda()\n",
    "    \n",
    "    def reparameterize(self, mu, log_var):\n",
    "        eps = torch.randn(mu.size(), requires_grad=False).cuda()\n",
    "        return mu + eps * torch.exp(log_var/2)\n",
    "    \n",
    "    def forward(self, x):\n",
    "        h = self.encoder(x)\n",
    "        mu, log_var = torch.chunk(h, 2, dim=1)\n",
    "        z = self.reparameterize(mu, log_var)\n",
    "        out = self.decoder(z)\n",
    "        return out, mu, log_var"
   ]
  },
  {
   "cell_type": "code",
   "execution_count": null,
   "metadata": {},
   "outputs": [],
   "source": []
  },
  {
   "cell_type": "code",
   "execution_count": 18,
   "metadata": {},
   "outputs": [
    {
     "ename": "AttributeError",
     "evalue": "type object 'Module' has no attribute '_module'",
     "output_type": "error",
     "traceback": [
      "\u001b[0;31m---------------------------------------------------------------------------\u001b[0m",
      "\u001b[0;31mAttributeError\u001b[0m                            Traceback (most recent call last)",
      "\u001b[0;32m<ipython-input-18-510a78182b82>\u001b[0m in \u001b[0;36m<module>\u001b[0;34m\u001b[0m\n\u001b[0;32m----> 1\u001b[0;31m \u001b[0mnn\u001b[0m\u001b[0;34m.\u001b[0m\u001b[0mModule\u001b[0m\u001b[0;34m.\u001b[0m\u001b[0m_module\u001b[0m\u001b[0;34m\u001b[0m\u001b[0;34m\u001b[0m\u001b[0m\n\u001b[0m",
      "\u001b[0;31mAttributeError\u001b[0m: type object 'Module' has no attribute '_module'"
     ]
    }
   ],
   "source": [
    "nn.Module._module"
   ]
  }
 ],
 "metadata": {
  "kernelspec": {
   "display_name": "Python 3",
   "language": "python",
   "name": "python3"
  },
  "language_info": {
   "codemirror_mode": {
    "name": "ipython",
    "version": 3
   },
   "file_extension": ".py",
   "mimetype": "text/x-python",
   "name": "python",
   "nbconvert_exporter": "python",
   "pygments_lexer": "ipython3",
   "version": "3.6.9"
  }
 },
 "nbformat": 4,
 "nbformat_minor": 2
}
