{
 "cells": [
  {
   "cell_type": "markdown",
   "metadata": {},
   "source": [
    "# Train a JointVAE model"
   ]
  },
  {
   "cell_type": "markdown",
   "metadata": {},
   "source": [
    "### Get MNIST data\n",
    "Build a simple JointVAE model on MNIST"
   ]
  },
  {
   "cell_type": "code",
   "execution_count": 1,
   "metadata": {},
   "outputs": [],
   "source": [
    "from dataloaders import get_mnist_dataloaders\n",
    "train_loader, test_loader = get_mnist_dataloaders(batch_size=64, path_to_data='/home/data/bvaa')"
   ]
  },
  {
   "cell_type": "markdown",
   "metadata": {},
   "source": [
    "### Define latent distribution of the model"
   ]
  },
  {
   "cell_type": "code",
   "execution_count": 2,
   "metadata": {},
   "outputs": [],
   "source": [
    "# Latent distribution will be joint distribution of 10 gaussian normal distributions\n",
    "# and one 10 dimensional Gumbel Softmax distribution\n",
    "latent_spec = {'cont': 10,\n",
    "               'disc': [10]}"
   ]
  },
  {
   "cell_type": "markdown",
   "metadata": {},
   "source": [
    "### Build a model"
   ]
  },
  {
   "cell_type": "code",
   "execution_count": 3,
   "metadata": {},
   "outputs": [],
   "source": [
    "from models import VAE\n",
    "\n",
    "model = VAE(latent_spec=latent_spec, img_size=(1, 32, 32), use_cuda=True).cuda()"
   ]
  },
  {
   "cell_type": "code",
   "execution_count": 4,
   "metadata": {},
   "outputs": [
    {
     "name": "stdout",
     "output_type": "stream",
     "text": [
      "VAE(\n",
      "  (img_to_features): Sequential(\n",
      "    (0): Conv2d(1, 32, kernel_size=(4, 4), stride=(2, 2), padding=(1, 1))\n",
      "    (1): ReLU()\n",
      "    (2): Conv2d(32, 64, kernel_size=(4, 4), stride=(2, 2), padding=(1, 1))\n",
      "    (3): ReLU()\n",
      "    (4): Conv2d(64, 64, kernel_size=(4, 4), stride=(2, 2), padding=(1, 1))\n",
      "    (5): ReLU()\n",
      "  )\n",
      "  (features_to_hidden): Sequential(\n",
      "    (0): Linear(in_features=1024, out_features=256, bias=True)\n",
      "    (1): ReLU()\n",
      "  )\n",
      "  (fc_mean): Linear(in_features=256, out_features=10, bias=True)\n",
      "  (fc_log_var): Linear(in_features=256, out_features=10, bias=True)\n",
      "  (fc_alphas): ModuleList(\n",
      "    (0): Linear(in_features=256, out_features=10, bias=True)\n",
      "  )\n",
      "  (latent_to_features): Sequential(\n",
      "    (0): Linear(in_features=20, out_features=256, bias=True)\n",
      "    (1): ReLU()\n",
      "    (2): Linear(in_features=256, out_features=1024, bias=True)\n",
      "    (3): ReLU()\n",
      "  )\n",
      "  (features_to_img): Sequential(\n",
      "    (0): ConvTranspose2d(64, 32, kernel_size=(4, 4), stride=(2, 2), padding=(1, 1))\n",
      "    (1): ReLU()\n",
      "    (2): ConvTranspose2d(32, 32, kernel_size=(4, 4), stride=(2, 2), padding=(1, 1))\n",
      "    (3): ReLU()\n",
      "    (4): ConvTranspose2d(32, 1, kernel_size=(4, 4), stride=(2, 2), padding=(1, 1))\n",
      "    (5): Sigmoid()\n",
      "  )\n",
      ")\n"
     ]
    }
   ],
   "source": [
    "print(model)"
   ]
  },
  {
   "cell_type": "markdown",
   "metadata": {},
   "source": [
    "### Train the model"
   ]
  },
  {
   "cell_type": "code",
   "execution_count": 5,
   "metadata": {},
   "outputs": [],
   "source": [
    "from torch import optim\n",
    "\n",
    "# Build optimizer\n",
    "optimizer = optim.Adam(model.parameters(), lr=5e-4)"
   ]
  },
  {
   "cell_type": "code",
   "execution_count": 6,
   "metadata": {},
   "outputs": [],
   "source": [
    "from training import Trainer\n",
    "\n",
    "# Define the capacities\n",
    "# Continuous channels\n",
    "cont_capacity = [0.0, 5.0, 25000, 30.0]  # Starting at a capacity of 0.0, increase this to 5.0\n",
    "                                         # over 25000 iterations with a gamma of 30.0\n",
    "# Discrete channels\n",
    "disc_capacity = [0.0, 5.0, 25000, 30.0]  # Starting at a capacity of 0.0, increase this to 5.0\n",
    "                                         # over 25000 iterations with a gamma of 30.0\n",
    "\n",
    "# Build a trainer\n",
    "trainer = Trainer(model, optimizer,\n",
    "                  cont_capacity=cont_capacity,\n",
    "                  disc_capacity=disc_capacity, use_cuda=True)"
   ]
  },
  {
   "cell_type": "code",
   "execution_count": 7,
   "metadata": {},
   "outputs": [],
   "source": [
    "# Build a visualizer which will be passed to trainer to visualize progress during training\n",
    "from visualize import Visualizer\n",
    "\n",
    "viz = Visualizer(model)"
   ]
  },
  {
   "cell_type": "code",
   "execution_count": 8,
   "metadata": {},
   "outputs": [
    {
     "name": "stdout",
     "output_type": "stream",
     "text": [
      "0/60000\tLoss: 641.004\n",
      "3200/60000\tLoss: 457.727\n",
      "6400/60000\tLoss: 288.575\n",
      "9600/60000\tLoss: 275.779\n",
      "12800/60000\tLoss: 271.650\n",
      "16000/60000\tLoss: 274.503\n",
      "19200/60000\tLoss: 271.731\n",
      "22400/60000\tLoss: 271.629\n",
      "25600/60000\tLoss: 272.618\n",
      "28800/60000\tLoss: 272.002\n",
      "32000/60000\tLoss: 268.881\n",
      "35200/60000\tLoss: 267.801\n",
      "38400/60000\tLoss: 267.617\n",
      "41600/60000\tLoss: 265.485\n",
      "44800/60000\tLoss: 265.394\n",
      "48000/60000\tLoss: 263.121\n",
      "51200/60000\tLoss: 262.307\n",
      "54400/60000\tLoss: 262.518\n",
      "57600/60000\tLoss: 261.393\n",
      "Epoch: 1 Average loss: 279.68\n",
      "0/60000\tLoss: 262.967\n",
      "3200/60000\tLoss: 260.003\n",
      "6400/60000\tLoss: 258.202\n",
      "9600/60000\tLoss: 258.348\n",
      "12800/60000\tLoss: 257.569\n",
      "16000/60000\tLoss: 258.106\n",
      "19200/60000\tLoss: 255.690\n",
      "22400/60000\tLoss: 255.107\n",
      "25600/60000\tLoss: 254.309\n",
      "28800/60000\tLoss: 255.720\n",
      "32000/60000\tLoss: 252.451\n",
      "35200/60000\tLoss: 254.802\n",
      "38400/60000\tLoss: 254.728\n",
      "41600/60000\tLoss: 251.667\n",
      "44800/60000\tLoss: 250.463\n",
      "48000/60000\tLoss: 250.038\n",
      "51200/60000\tLoss: 250.868\n",
      "54400/60000\tLoss: 249.529\n",
      "57600/60000\tLoss: 249.860\n",
      "Epoch: 2 Average loss: 254.21\n",
      "0/60000\tLoss: 233.844\n",
      "3200/60000\tLoss: 249.617\n",
      "6400/60000\tLoss: 249.440\n",
      "9600/60000\tLoss: 248.667\n",
      "12800/60000\tLoss: 246.675\n",
      "16000/60000\tLoss: 243.818\n",
      "19200/60000\tLoss: 243.852\n",
      "22400/60000\tLoss: 244.702\n",
      "25600/60000\tLoss: 243.838\n",
      "28800/60000\tLoss: 244.200\n",
      "32000/60000\tLoss: 244.735\n",
      "35200/60000\tLoss: 242.848\n",
      "38400/60000\tLoss: 244.586\n",
      "41600/60000\tLoss: 244.273\n",
      "44800/60000\tLoss: 243.809\n",
      "48000/60000\tLoss: 242.753\n",
      "51200/60000\tLoss: 240.989\n",
      "54400/60000\tLoss: 241.044\n",
      "57600/60000\tLoss: 243.141\n",
      "Epoch: 3 Average loss: 244.62\n",
      "0/60000\tLoss: 241.472\n",
      "3200/60000\tLoss: 239.083\n",
      "6400/60000\tLoss: 240.761\n",
      "9600/60000\tLoss: 237.951\n",
      "12800/60000\tLoss: 238.708\n",
      "16000/60000\tLoss: 238.663\n",
      "19200/60000\tLoss: 240.381\n",
      "22400/60000\tLoss: 236.099\n",
      "25600/60000\tLoss: 235.740\n",
      "28800/60000\tLoss: 236.962\n",
      "32000/60000\tLoss: 236.971\n",
      "35200/60000\tLoss: 236.414\n",
      "38400/60000\tLoss: 235.246\n",
      "41600/60000\tLoss: 234.645\n",
      "44800/60000\tLoss: 235.262\n",
      "48000/60000\tLoss: 235.532\n",
      "51200/60000\tLoss: 233.431\n",
      "54400/60000\tLoss: 231.594\n",
      "57600/60000\tLoss: 233.938\n",
      "Epoch: 4 Average loss: 236.45\n",
      "0/60000\tLoss: 245.951\n",
      "3200/60000\tLoss: 230.107\n",
      "6400/60000\tLoss: 230.954\n",
      "9600/60000\tLoss: 231.037\n",
      "12800/60000\tLoss: 229.952\n",
      "16000/60000\tLoss: 228.211\n",
      "19200/60000\tLoss: 227.939\n",
      "22400/60000\tLoss: 228.695\n",
      "25600/60000\tLoss: 229.021\n",
      "28800/60000\tLoss: 229.151\n",
      "32000/60000\tLoss: 225.611\n",
      "35200/60000\tLoss: 228.457\n",
      "38400/60000\tLoss: 227.487\n",
      "41600/60000\tLoss: 226.908\n",
      "44800/60000\tLoss: 224.986\n",
      "48000/60000\tLoss: 226.256\n",
      "51200/60000\tLoss: 224.126\n",
      "54400/60000\tLoss: 223.231\n",
      "57600/60000\tLoss: 222.530\n",
      "Epoch: 5 Average loss: 227.40\n",
      "0/60000\tLoss: 227.602\n",
      "3200/60000\tLoss: 222.744\n",
      "6400/60000\tLoss: 221.707\n",
      "9600/60000\tLoss: 223.607\n",
      "12800/60000\tLoss: 220.927\n",
      "16000/60000\tLoss: 221.091\n",
      "19200/60000\tLoss: 221.572\n",
      "22400/60000\tLoss: 219.625\n",
      "25600/60000\tLoss: 223.395\n",
      "28800/60000\tLoss: 219.931\n",
      "32000/60000\tLoss: 220.449\n",
      "35200/60000\tLoss: 218.315\n",
      "38400/60000\tLoss: 218.425\n",
      "41600/60000\tLoss: 218.521\n",
      "44800/60000\tLoss: 219.113\n",
      "48000/60000\tLoss: 217.719\n",
      "51200/60000\tLoss: 216.698\n",
      "54400/60000\tLoss: 216.492\n",
      "57600/60000\tLoss: 217.674\n",
      "Epoch: 6 Average loss: 219.88\n",
      "0/60000\tLoss: 213.284\n",
      "3200/60000\tLoss: 214.172\n",
      "6400/60000\tLoss: 213.744\n",
      "9600/60000\tLoss: 214.768\n",
      "12800/60000\tLoss: 215.327\n",
      "16000/60000\tLoss: 214.450\n",
      "19200/60000\tLoss: 214.358\n",
      "22400/60000\tLoss: 212.833\n",
      "25600/60000\tLoss: 211.942\n",
      "28800/60000\tLoss: 212.469\n",
      "32000/60000\tLoss: 212.513\n",
      "35200/60000\tLoss: 212.498\n",
      "38400/60000\tLoss: 211.641\n",
      "41600/60000\tLoss: 212.291\n",
      "44800/60000\tLoss: 210.947\n",
      "48000/60000\tLoss: 211.835\n",
      "51200/60000\tLoss: 208.823\n",
      "54400/60000\tLoss: 211.123\n",
      "57600/60000\tLoss: 211.208\n",
      "Epoch: 7 Average loss: 212.50\n",
      "0/60000\tLoss: 211.725\n",
      "3200/60000\tLoss: 205.917\n",
      "6400/60000\tLoss: 210.276\n",
      "9600/60000\tLoss: 207.746\n",
      "12800/60000\tLoss: 207.924\n",
      "16000/60000\tLoss: 208.769\n",
      "19200/60000\tLoss: 205.220\n",
      "22400/60000\tLoss: 206.528\n",
      "25600/60000\tLoss: 206.941\n",
      "28800/60000\tLoss: 205.709\n",
      "32000/60000\tLoss: 205.922\n",
      "35200/60000\tLoss: 206.622\n",
      "38400/60000\tLoss: 205.600\n",
      "41600/60000\tLoss: 204.795\n",
      "44800/60000\tLoss: 204.823\n",
      "48000/60000\tLoss: 206.651\n",
      "51200/60000\tLoss: 204.567\n",
      "54400/60000\tLoss: 204.065\n",
      "57600/60000\tLoss: 203.207\n",
      "Epoch: 8 Average loss: 206.21\n",
      "0/60000\tLoss: 206.745\n",
      "3200/60000\tLoss: 204.973\n",
      "6400/60000\tLoss: 202.033\n",
      "9600/60000\tLoss: 202.157\n",
      "12800/60000\tLoss: 202.765\n",
      "16000/60000\tLoss: 202.901\n",
      "19200/60000\tLoss: 201.659\n",
      "22400/60000\tLoss: 203.230\n",
      "25600/60000\tLoss: 201.471\n",
      "28800/60000\tLoss: 202.173\n",
      "32000/60000\tLoss: 201.093\n",
      "35200/60000\tLoss: 200.154\n",
      "38400/60000\tLoss: 199.579\n",
      "41600/60000\tLoss: 200.502\n",
      "44800/60000\tLoss: 200.677\n",
      "48000/60000\tLoss: 199.728\n",
      "51200/60000\tLoss: 200.042\n",
      "54400/60000\tLoss: 196.299\n",
      "57600/60000\tLoss: 200.317\n",
      "Epoch: 9 Average loss: 201.24\n",
      "0/60000\tLoss: 195.245\n",
      "3200/60000\tLoss: 200.366\n",
      "6400/60000\tLoss: 198.120\n",
      "9600/60000\tLoss: 198.464\n",
      "12800/60000\tLoss: 196.652\n",
      "16000/60000\tLoss: 196.400\n",
      "19200/60000\tLoss: 197.484\n",
      "22400/60000\tLoss: 198.002\n",
      "25600/60000\tLoss: 198.484\n",
      "28800/60000\tLoss: 198.335\n",
      "32000/60000\tLoss: 196.230\n",
      "35200/60000\tLoss: 197.692\n",
      "38400/60000\tLoss: 196.644\n",
      "41600/60000\tLoss: 195.490\n",
      "44800/60000\tLoss: 196.537\n",
      "48000/60000\tLoss: 197.647\n",
      "51200/60000\tLoss: 198.101\n",
      "54400/60000\tLoss: 194.955\n",
      "57600/60000\tLoss: 195.558\n"
     ]
    },
    {
     "name": "stderr",
     "output_type": "stream",
     "text": [
      "Lossy conversion from float32 to uint8. Range [0, 1]. Convert image to uint8 prior to saving to suppress this warning.\n",
      "Lossy conversion from float32 to uint8. Range [0, 1]. Convert image to uint8 prior to saving to suppress this warning.\n",
      "Lossy conversion from float32 to uint8. Range [0, 1]. Convert image to uint8 prior to saving to suppress this warning.\n",
      "Lossy conversion from float32 to uint8. Range [0, 1]. Convert image to uint8 prior to saving to suppress this warning.\n",
      "Lossy conversion from float32 to uint8. Range [0, 1]. Convert image to uint8 prior to saving to suppress this warning.\n",
      "Lossy conversion from float32 to uint8. Range [0, 1]. Convert image to uint8 prior to saving to suppress this warning.\n",
      "Lossy conversion from float32 to uint8. Range [0, 1]. Convert image to uint8 prior to saving to suppress this warning.\n",
      "Lossy conversion from float32 to uint8. Range [0, 1]. Convert image to uint8 prior to saving to suppress this warning.\n",
      "Lossy conversion from float32 to uint8. Range [0, 1]. Convert image to uint8 prior to saving to suppress this warning.\n",
      "Lossy conversion from float32 to uint8. Range [0, 1]. Convert image to uint8 prior to saving to suppress this warning.\n"
     ]
    },
    {
     "name": "stdout",
     "output_type": "stream",
     "text": [
      "Epoch: 10 Average loss: 197.41\n"
     ]
    }
   ],
   "source": [
    "# Train model for 10 epochs\n",
    "# Note this should really be a 100 epochs and trained on a GPU, but this is just to demo\n",
    "\n",
    "trainer.train(train_loader, epochs=10, save_training_gif=('./training.gif', viz))"
   ]
  },
  {
   "cell_type": "markdown",
   "metadata": {},
   "source": [
    "### Visualize"
   ]
  },
  {
   "cell_type": "code",
   "execution_count": 10,
   "metadata": {},
   "outputs": [],
   "source": [
    "examples = enumerate(test_loader)\n",
    "batch_idx, (example_data, example_targets) = next(examples)"
   ]
  },
  {
   "cell_type": "code",
   "execution_count": 12,
   "metadata": {},
   "outputs": [
    {
     "data": {
      "text/plain": [
       "(torch.Size([64, 1, 32, 32]), torch.Size([64]))"
      ]
     },
     "execution_count": 12,
     "metadata": {},
     "output_type": "execute_result"
    }
   ],
   "source": [
    "example_data.shape, example_targets.shape"
   ]
  },
  {
   "cell_type": "code",
   "execution_count": 59,
   "metadata": {},
   "outputs": [],
   "source": [
    "example_img = example_data[0,:,:,:].unsqueeze(0).cuda()\n",
    "output, l_dist = model(example_img)"
   ]
  },
  {
   "cell_type": "code",
   "execution_count": 66,
   "metadata": {},
   "outputs": [],
   "source": [
    "l_sample = model.reparameterize(l_dist)\n",
    "new_l_sample = l_sample"
   ]
  },
  {
   "cell_type": "code",
   "execution_count": 82,
   "metadata": {},
   "outputs": [],
   "source": [
    "new_l_sample = l_sample\n",
    "new_l_sample[0][6] = 100"
   ]
  },
  {
   "cell_type": "code",
   "execution_count": 83,
   "metadata": {},
   "outputs": [],
   "source": [
    "new_output = model.decode(l_sample)"
   ]
  },
  {
   "cell_type": "code",
   "execution_count": 84,
   "metadata": {},
   "outputs": [
    {
     "data": {
      "text/plain": [
       "<matplotlib.image.AxesImage at 0x7fb6255984a8>"
      ]
     },
     "execution_count": 84,
     "metadata": {},
     "output_type": "execute_result"
    },
    {
     "data": {
      "image/png": "[encoded data removed]",
      "text/plain": [
       "<Figure size 432x288 with 1 Axes>"
      ]
     },
     "metadata": {
      "needs_background": "light"
     },
     "output_type": "display_data"
    }
   ],
   "source": [
    "plt.imshow(new_output[0][0].detach().cpu().numpy(), cmap='gray', interpolation='none')"
   ]
  },
  {
   "cell_type": "code",
   "execution_count": 64,
   "metadata": {},
   "outputs": [
    {
     "data": {
      "text/plain": [
       "<matplotlib.image.AxesImage at 0x7fb625b79c18>"
      ]
     },
     "execution_count": 64,
     "metadata": {},
     "output_type": "execute_result"
    },
    {
     "data": {
      "image/png": "[encoded data removed]",
      "text/plain": [
       "<Figure size 432x288 with 1 Axes>"
      ]
     },
     "metadata": {
      "needs_background": "light"
     },
     "output_type": "display_data"
    }
   ],
   "source": [
    "plt.imshow(output[0][0].detach().cpu().numpy(), cmap='gray', interpolation='none')"
   ]
  },
  {
   "cell_type": "code",
   "execution_count": 65,
   "metadata": {},
   "outputs": [
    {
     "data": {
      "text/plain": [
       "<matplotlib.image.AxesImage at 0x7fb625b33780>"
      ]
     },
     "execution_count": 65,
     "metadata": {},
     "output_type": "execute_result"
    },
    {
     "data": {
      "image/png": "[encoded data removed]",
      "text/plain": [
       "<Figure size 432x288 with 1 Axes>"
      ]
     },
     "metadata": {
      "needs_background": "light"
     },
     "output_type": "display_data"
    }
   ],
   "source": [
    "plt.imshow(example_img[0][0].detach().cpu().numpy(), cmap='gray', interpolation='none')"
   ]
  },
  {
   "cell_type": "code",
   "execution_count": 9,
   "metadata": {},
   "outputs": [
    {
     "name": "stderr",
     "output_type": "stream",
     "text": [
      "/home/ujjwal/Desktop/BVAA/experiments/bvaa/JointVAE/visualize.py:41: UserWarning: volatile was removed and now has no effect. Use `with torch.no_grad():` instead.\n",
      "  input_data = Variable(data, volatile=True)\n"
     ]
    },
    {
     "ename": "TypeError",
     "evalue": "slice indices must be integers or None or have an __index__ method",
     "output_type": "error",
     "traceback": [
      "\u001b[0;31m---------------------------------------------------------------------------\u001b[0m",
      "\u001b[0;31mTypeError\u001b[0m                                 Traceback (most recent call last)",
      "\u001b[0;32m<ipython-input-9-77fc7d9a541b>\u001b[0m in \u001b[0;36m<module>\u001b[0;34m\u001b[0m\n\u001b[1;32m      8\u001b[0m \u001b[0;34m\u001b[0m\u001b[0m\n\u001b[1;32m      9\u001b[0m \u001b[0;31m# Reconstruct data using Joint-VAE model\u001b[0m\u001b[0;34m\u001b[0m\u001b[0;34m\u001b[0m\u001b[0;34m\u001b[0m\u001b[0m\n\u001b[0;32m---> 10\u001b[0;31m \u001b[0mrecon\u001b[0m \u001b[0;34m=\u001b[0m \u001b[0mviz\u001b[0m\u001b[0;34m.\u001b[0m\u001b[0mreconstructions\u001b[0m\u001b[0;34m(\u001b[0m\u001b[0mbatch\u001b[0m\u001b[0;34m)\u001b[0m\u001b[0;34m\u001b[0m\u001b[0;34m\u001b[0m\u001b[0m\n\u001b[0m\u001b[1;32m     11\u001b[0m \u001b[0;34m\u001b[0m\u001b[0m\n\u001b[1;32m     12\u001b[0m \u001b[0mplt\u001b[0m\u001b[0;34m.\u001b[0m\u001b[0mimshow\u001b[0m\u001b[0;34m(\u001b[0m\u001b[0mrecon\u001b[0m\u001b[0;34m.\u001b[0m\u001b[0mnumpy\u001b[0m\u001b[0;34m(\u001b[0m\u001b[0;34m)\u001b[0m\u001b[0;34m[\u001b[0m\u001b[0;36m0\u001b[0m\u001b[0;34m,\u001b[0m \u001b[0;34m:\u001b[0m\u001b[0;34m,\u001b[0m \u001b[0;34m:\u001b[0m\u001b[0;34m]\u001b[0m\u001b[0;34m,\u001b[0m \u001b[0mcmap\u001b[0m\u001b[0;34m=\u001b[0m\u001b[0;34m'gray'\u001b[0m\u001b[0;34m)\u001b[0m\u001b[0;34m\u001b[0m\u001b[0;34m\u001b[0m\u001b[0m\n",
      "\u001b[0;32m~/Desktop/BVAA/experiments/bvaa/JointVAE/visualize.py\u001b[0m in \u001b[0;36mreconstructions\u001b[0;34m(self, data, size, filename)\u001b[0m\n\u001b[1;32m     48\u001b[0m         \u001b[0;31m# reconstructions\u001b[0m\u001b[0;34m\u001b[0m\u001b[0;34m\u001b[0m\u001b[0;34m\u001b[0m\u001b[0m\n\u001b[1;32m     49\u001b[0m         \u001b[0mnum_images\u001b[0m \u001b[0;34m=\u001b[0m \u001b[0msize\u001b[0m\u001b[0;34m[\u001b[0m\u001b[0;36m0\u001b[0m\u001b[0;34m]\u001b[0m \u001b[0;34m*\u001b[0m \u001b[0msize\u001b[0m\u001b[0;34m[\u001b[0m\u001b[0;36m1\u001b[0m\u001b[0;34m]\u001b[0m \u001b[0;34m/\u001b[0m \u001b[0;36m2\u001b[0m\u001b[0;34m\u001b[0m\u001b[0;34m\u001b[0m\u001b[0m\n\u001b[0;32m---> 50\u001b[0;31m         \u001b[0moriginals\u001b[0m \u001b[0;34m=\u001b[0m \u001b[0minput_data\u001b[0m\u001b[0;34m[\u001b[0m\u001b[0;34m:\u001b[0m\u001b[0mnum_images\u001b[0m\u001b[0;34m]\u001b[0m\u001b[0;34m.\u001b[0m\u001b[0mcpu\u001b[0m\u001b[0;34m(\u001b[0m\u001b[0;34m)\u001b[0m\u001b[0;34m\u001b[0m\u001b[0;34m\u001b[0m\u001b[0m\n\u001b[0m\u001b[1;32m     51\u001b[0m         \u001b[0mreconstructions\u001b[0m \u001b[0;34m=\u001b[0m \u001b[0mrecon_data\u001b[0m\u001b[0;34m.\u001b[0m\u001b[0mview\u001b[0m\u001b[0;34m(\u001b[0m\u001b[0;34m-\u001b[0m\u001b[0;36m1\u001b[0m\u001b[0;34m,\u001b[0m \u001b[0;34m*\u001b[0m\u001b[0mself\u001b[0m\u001b[0;34m.\u001b[0m\u001b[0mmodel\u001b[0m\u001b[0;34m.\u001b[0m\u001b[0mimg_size\u001b[0m\u001b[0;34m)\u001b[0m\u001b[0;34m[\u001b[0m\u001b[0;34m:\u001b[0m\u001b[0mnum_images\u001b[0m\u001b[0;34m]\u001b[0m\u001b[0;34m.\u001b[0m\u001b[0mcpu\u001b[0m\u001b[0;34m(\u001b[0m\u001b[0;34m)\u001b[0m\u001b[0;34m\u001b[0m\u001b[0;34m\u001b[0m\u001b[0m\n\u001b[1;32m     52\u001b[0m         \u001b[0;31m# If there are fewer examples given than spaces available in grid,\u001b[0m\u001b[0;34m\u001b[0m\u001b[0;34m\u001b[0m\u001b[0;34m\u001b[0m\u001b[0m\n",
      "\u001b[0;31mTypeError\u001b[0m: slice indices must be integers or None or have an __index__ method"
     ]
    }
   ],
   "source": [
    "# Plot reconstructions\n",
    "%matplotlib inline\n",
    "import matplotlib.pyplot as plt\n",
    "\n",
    "# Get a batch of data\n",
    "for batch, labels in test_loader:\n",
    "    break\n",
    "\n",
    "# Reconstruct data using Joint-VAE model\n",
    "recon = viz.reconstructions(batch)\n",
    "\n",
    "plt.imshow(recon.numpy()[0, :, :], cmap='gray')"
   ]
  },
  {
   "cell_type": "code",
   "execution_count": null,
   "metadata": {},
   "outputs": [],
   "source": [
    "# Plot samples\n",
    "samples = viz.samples()\n",
    "plt.imshow(samples.numpy()[0, :, :], cmap='gray')"
   ]
  },
  {
   "cell_type": "code",
   "execution_count": null,
   "metadata": {},
   "outputs": [],
   "source": [
    "# Plot all traversals\n",
    "traversals = viz.all_latent_traversals(size=10)\n",
    "plt.imshow(traversals.numpy()[0, :, :], cmap='gray')"
   ]
  },
  {
   "cell_type": "code",
   "execution_count": null,
   "metadata": {},
   "outputs": [],
   "source": [
    "# Plot a grid of some traversals\n",
    "traversals = viz.latent_traversal_grid(cont_idx=2, cont_axis=1, disc_idx=0, disc_axis=0, size=(10, 10))\n",
    "plt.imshow(traversals.numpy()[0, :, :], cmap='gray')"
   ]
  },
  {
   "cell_type": "code",
   "execution_count": null,
   "metadata": {},
   "outputs": [],
   "source": []
  }
 ],
 "metadata": {
  "kernelspec": {
   "display_name": "Python 3",
   "language": "python",
   "name": "python3"
  },
  "language_info": {
   "codemirror_mode": {
    "name": "ipython",
    "version": 3
   },
   "file_extension": ".py",
   "mimetype": "text/x-python",
   "name": "python",
   "nbconvert_exporter": "python",
   "pygments_lexer": "ipython3",
   "version": "3.6.9"
  }
 },
 "nbformat": 4,
 "nbformat_minor": 2
}
