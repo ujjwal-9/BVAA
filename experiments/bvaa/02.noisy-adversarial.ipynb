{
  "cells": [
    {
      "cell_type": "code",
      "source": [
        "%matplotlib inline\n",
        "import os\n",
        "import torch\n",
        "import torch.nn as nn\n",
        "import torch.nn.functional as F\n",
        "import torchvision\n",
        "from torchvision.utils import save_image\n",
        "from datetime import datetime\n",
        "import matplotlib.pyplot as plt"
      ],
      "outputs": [],
      "execution_count": 1,
      "metadata": {}
    },
    {
      "cell_type": "code",
      "source": [
        "from timeit import default_timer\n",
        "from collections import defaultdict\n",
        "from tqdm import trange\n",
        "\n",
        "class Trainer():\n",
        "    def __init__(self, model, optimizer, loss_f, device, save_dir=\"results\", is_progress_bar=True):\n",
        "            self.device = device\n",
        "            self.model = model.to(device)\n",
        "            self.loss_f = loss_f\n",
        "            self.optimizer = optimizer\n",
        "            self.save_dir = save_dir\n",
        "            self.is_progress_bar = is_progress_bar\n",
        "            \n",
        "    def __call__(self, data_loader, epochs=10, checkpoint_every=10):\n",
        "        start = default_timer()\n",
        "        self.model.train()\n",
        "        for epoch in range(epochs):\n",
        "            storer = defaultdict(list)\n",
        "            mean_epoch_loss = self._train_epoch(data_loader, storer, epoch)\n",
        "            mean_epoch_loss = self._test_epoch(data_loader, storer, epoch)\n",
        "            with torch.no_grad():\n",
        "                sample = torch.randn(64, self.model.latent_dim).to(device)\n",
        "                sample = self.model.decoder(sample).cpu()  # make sure on cpu\n",
        "                save_image(sample.view(64, 1, 32, 32),\n",
        "                           './results/samples/' + str(epoch) + '.png')\n",
        "            \n",
        "    def _train_epoch(self, data_loader, storer, epoch):\n",
        "        epoch_loss = 0.\n",
        "        kwargs = dict(desc=\"Epoch {}\".format(epoch + 1), leave=False,\n",
        "                      disable=not self.is_progress_bar)\n",
        "        with trange(len(data_loader), **kwargs) as t:\n",
        "            for _, (data, _) in enumerate(data_loader):\n",
        "                iter_loss = self._train_iteration(data, storer)\n",
        "                epoch_loss += iter_loss\n",
        "                t.set_postfix(loss=iter_loss)\n",
        "                t.update()\n",
        "        mean_epoch_loss = epoch_loss / len(data_loader)\n",
        "        return mean_epoch_loss\n",
        "    \n",
        "    def _train_iteration(self, data, storer):\n",
        "        batch_size, channel, height, width = data.size()\n",
        "        data = data.to(self.device)\n",
        "        recon_batch, latent_dist, latent_sample = self.model(data)\n",
        "        loss = self.loss_f(data, recon_batch, latent_dist, self.model.training, \n",
        "                           storer, latent_sample=latent_sample)\n",
        "        self.optimizer.zero_grad()\n",
        "        loss.backward()\n",
        "        self.optimizer.step()\n",
        "            \n",
        "        return loss.item()\n",
        "    \n",
        "    def _test_epoch(self, data_loader, storer, epoch):\n",
        "        epoch_loss = 0.\n",
        "        kwargs = dict(desc=\"Epoch {}\".format(epoch + 1), leave=False,\n",
        "                      disable=not self.is_progress_bar)\n",
        "        with trange(len(data_loader), **kwargs) as t:\n",
        "            for _, (data, _) in enumerate(data_loader):\n",
        "                iter_loss = self._train_iteration(data, storer)\n",
        "                epoch_loss += iter_loss\n",
        "                t.set_postfix(loss=iter_loss)\n",
        "                t.update()\n",
        "        mean_epoch_loss = epoch_loss / len(data_loader)\n",
        "        return mean_epoch_loss\n",
        "    \n",
        "    def _test_iteration(self, data, storer):\n",
        "        batch_size, channel, height, width = data.size()\n",
        "        data = data.to(self.device)\n",
        "        recon_batch, latent_dist, latent_sample = self.model(data)\n",
        "        loss = self.loss_f(data, recon_batch, latent_dist, self.model.training, \n",
        "                               storer, latent_sample=latent_sample)\n",
        "            \n",
        "        return loss.item()"
      ],
      "outputs": [],
      "execution_count": 2,
      "metadata": {}
    },
    {
      "cell_type": "code",
      "source": [
        "LOSSES = [\"betaH\", \"betaB\"]\n",
        "RECON_DIST = [\"bernoulli\", \"laplace\", \"gaussian\"]"
      ],
      "outputs": [],
      "execution_count": 3,
      "metadata": {}
    },
    {
      "cell_type": "code",
      "source": [
        "from torchvision import datasets\n",
        "from torch.utils.data import DataLoader\n",
        "from torchvision import transforms\n",
        "\n",
        "batch_size = 64\n",
        "\n",
        "mnist_dataset = datasets.MNIST('../../data', \n",
        "                   train=True, \n",
        "                   download=True, \n",
        "                   transform=transforms.Compose([\n",
        "                       transforms.Resize(32),\n",
        "                       transforms.ToTensor()\n",
        "                   ]))\n",
        "\n",
        "mnist_dataset_test = datasets.MNIST('../../data', train=False, download=True, transform=transforms.Compose([\n",
        "                       transforms.Resize(32),\n",
        "                       transforms.ToTensor()\n",
        "                   ]))\n",
        "\n",
        "train_loader = DataLoader(mnist_dataset, batch_size=batch_size, shuffle=True)\n",
        "\n",
        "test_loader = DataLoader(mnist_dataset_test, batch_size=batch_size, shuffle=True)"
      ],
      "outputs": [],
      "execution_count": 4,
      "metadata": {}
    },
    {
      "cell_type": "code",
      "source": [
        "examples = enumerate(test_loader)\n",
        "batch_idx, (example_data, example_targets) = next(examples)"
      ],
      "outputs": [],
      "execution_count": 5,
      "metadata": {}
    },
    {
      "cell_type": "code",
      "source": [
        "from vae import VAE\n",
        "from encoder import Encoder\n",
        "from decoder import Decoder\n",
        "from losses import get_loss_fn\n",
        "from torch import optim\n",
        "\n",
        "latent_dim = 12\n",
        "img_size = [1,32,32]\n",
        "\n",
        "lr = 5e-4\n",
        "\n",
        "betaB_args = {\"rec_dist\": \"bernoulli\",\n",
        "              \"reg_anneal\": 10000, \n",
        "              \"betaH_B\": 4,\n",
        "              \"betaB_initC\": 0,\n",
        "              \"betaB_finC\": 25,\n",
        "              \"betaB_G\": 100\n",
        "             }\n",
        "\n",
        "device = torch.device(\"cuda\" if torch.cuda.is_available() else \"cpu\")\n",
        "loss_f = get_loss_fn(\"betaB\", n_data=len(train_loader.dataset), device=device, **betaB_args)\n",
        "\n",
        "encoder = Encoder(img_size, latent_dim)\n",
        "decoder = Decoder(img_size, latent_dim)\n",
        "\n",
        "generator_model = VAE(img_size, latent_dim, encoder, decoder).to(device)\n",
        "optimizer = optim.Adam(generator_model.parameters(), lr=lr)"
      ],
      "outputs": [],
      "execution_count": 6,
      "metadata": {}
    },
    {
      "cell_type": "code",
      "source": [
        "generator_model.load_state_dict(torch.load('test.pt'))\n",
        "# torch.save(trainer.model.state_dict(), 'test.pt')"
      ],
      "outputs": [
        {
          "output_type": "execute_result",
          "execution_count": 7,
          "data": {
            "text/plain": [
              "<All keys matched successfully>"
            ]
          },
          "metadata": {}
        }
      ],
      "execution_count": 7,
      "metadata": {}
    },
    {
      "cell_type": "code",
      "source": [
        "class Classifier(nn.Module):\n",
        "    def __init__(self):\n",
        "        super(Classifier, self).__init__()\n",
        "        self.conv1 = nn.Conv2d(1, 32, 3, 1)\n",
        "        self.conv2 = nn.Conv2d(32, 64, 3, 1)\n",
        "        self.dropout1 = nn.Dropout2d(0.25)\n",
        "        self.dropout2 = nn.Dropout2d(0.5)\n",
        "        self.fc1 = nn.Linear(9216, 128)\n",
        "        self.fc2 = nn.Linear(128, 10)\n",
        "\n",
        "    def forward(self, x):\n",
        "        x = self.conv1(x)\n",
        "        x = F.relu(x)\n",
        "        x = self.conv2(x)\n",
        "        x = F.max_pool2d(x, 2)\n",
        "        x = self.dropout1(x)\n",
        "        x = torch.flatten(x, 1)\n",
        "        x = self.fc1(x)\n",
        "        x = F.relu(x)\n",
        "        x = self.dropout2(x)\n",
        "        x = self.fc2(x)\n",
        "        output = F.log_softmax(x, dim=1)\n",
        "        return output\n",
        "\n",
        "classifier = Classifier()\n",
        "classifier.load_state_dict(torch.load('mnist_cnn.pt'))"
      ],
      "outputs": [
        {
          "output_type": "execute_result",
          "execution_count": 8,
          "data": {
            "text/plain": [
              "<All keys matched successfully>"
            ]
          },
          "metadata": {}
        }
      ],
      "execution_count": 8,
      "metadata": {}
    },
    {
      "cell_type": "code",
      "source": [
        "class AddNoise():\n",
        "    def __init__(self, shape, device, noise=None, percent_noise=0.1):\n",
        "        self.device = device\n",
        "        self.percent_noise = percent_noise\n",
        "        if noise is None:\n",
        "            self.noise = torch.randn(shape)\n",
        "        else:\n",
        "            self.noise = noise\n",
        "\n",
        "    def noisy(self, data):\n",
        "        x = self.noise.to(self.device) * self.percent_noise + data * (1 - self.percent_noise)\n",
        "        return x"
      ],
      "outputs": [],
      "execution_count": 65,
      "metadata": {}
    },
    {
      "cell_type": "code",
      "source": [
        "sample_noise = torch.randn(l_sample.shape)"
      ],
      "outputs": [],
      "execution_count": 66,
      "metadata": {}
    },
    {
      "cell_type": "code",
      "source": [
        "# i = 8\n",
        "# recon_img,l_dist,l_sample = generator_model(torch.FloatTensor(example_data[i]).unsqueeze(0).to(device))\n",
        "\n",
        "# noise = AddNoise(l_sample.shape, device, sample_noise, percent_noise=0.45)\n",
        "\n",
        "# l_sample_noised = noise.noisy(l_sample)\n",
        "\n",
        "# recon_noised = generator_model.decoder(l_sample_noised)\n",
        "\n",
        "# plt.imshow(recon_noised[0][0].detach().cpu().numpy(), cmap='gray', interpolation='none')\n",
        "\n",
        "# new_img_0 = F.upsample(recon_noised, (28,28), mode='bilinear')\n",
        "# print(classifier(new_img_0.cpu()))\n",
        "# torch.argmax(classifier(new_img_0.cpu()))"
      ],
      "outputs": [],
      "execution_count": 220,
      "metadata": {}
    },
    {
      "cell_type": "code",
      "source": [
        "plt.figure(figsize=(10,10))\n",
        "plt.subplot(1,3,1)\n",
        "plt.imshow(example_data[i][0].detach().cpu().numpy(), cmap='gray', interpolation='none')\n",
        "plt.title(\"{} -> {}\".format(example_targets[i].item(), torch.argmax(classifier(F.upsample(example_data[i].unsqueeze(0), (28,28), mode='bilinear').cpu())).item()))\n",
        "plt.subplot(1,3,2)\n",
        "plt.imshow(recon_img[0][0].detach().cpu().numpy(), cmap='gray', interpolation='none')\n",
        "plt.title(\"{} -> {}\".format(example_targets[i].item(), torch.argmax(classifier(F.upsample(recon_img, (28,28), mode='bilinear').cpu())).item()))\n",
        "plt.subplot(1,3,3)\n",
        "plt.imshow(recon_noised[0][0].detach().cpu().numpy(), cmap='gray', interpolation='none')\n",
        "plt.title(\"{} -> {}\".format(example_targets[i].item(), torch.argmax(classifier(F.upsample(recon_noised, (28,28), mode='bilinear').cpu())).item()))"
      ],
      "outputs": [
        {
          "output_type": "execute_result",
          "execution_count": 221,
          "data": {
            "text/plain": [
              "Text(0.5, 1.0, '1 -> 9')"
            ]
          },
          "metadata": {}
        },
        {
          "output_type": "display_data",
          "data": {
            "image/png": "[encoded data removed]",
            "text/plain": [
              "<Figure size 720x720 with 3 Axes>"
            ]
          },
          "metadata": {
            "needs_background": "light"
          }
        }
      ],
      "execution_count": 221,
      "metadata": {}
    },
    {
      "cell_type": "code",
      "source": [
        "def evaluate(i, percentage, sample_noise=sample_noise):\n",
        "    recon_img,l_dist,l_sample = generator_model(torch.FloatTensor(example_data[i]).unsqueeze(0).to(device))\n",
        "    noise = AddNoise(l_sample.shape, device, sample_noise, percent_noise=percentage)\n",
        "    l_sample_noised = noise.noisy(l_sample)\n",
        "    recon_noised = generator_model.decoder(l_sample_noised)\n",
        "    plt.figure(figsize=(10,10))\n",
        "    plt.subplot(1,3,1)\n",
        "    plt.imshow(example_data[i][0].detach().cpu().numpy(), cmap='gray', interpolation='none')\n",
        "    plt.title(\"{} -> {}\".format(example_targets[i].item(), torch.argmax(classifier(F.upsample(example_data[i].unsqueeze(0), (28,28), mode='bilinear').cpu())).item()))\n",
        "    plt.subplot(1,3,2)\n",
        "    plt.imshow(recon_img[0][0].detach().cpu().numpy(), cmap='gray', interpolation='none')\n",
        "    plt.title(\"{} -> {}\".format(example_targets[i].item(), torch.argmax(classifier(F.upsample(recon_img, (28,28), mode='bilinear').cpu())).item()))\n",
        "    plt.subplot(1,3,3)\n",
        "    plt.imshow(recon_noised[0][0].detach().cpu().numpy(), cmap='gray', interpolation='none')\n",
        "    plt.title(\"{} -> {}\".format(example_targets[i].item(), torch.argmax(classifier(F.upsample(recon_noised, (28,28), mode='bilinear').cpu())).item()))"
      ],
      "outputs": [],
      "execution_count": 196,
      "metadata": {}
    },
    {
      "cell_type": "code",
      "source": [
        "evaluate(9, 0.108)"
      ],
      "outputs": [
        {
          "output_type": "display_data",
          "data": {
            "image/png": "[encoded data removed]",
            "text/plain": [
              "<Figure size 720x720 with 3 Axes>"
            ]
          },
          "metadata": {
            "needs_background": "light"
          }
        }
      ],
      "execution_count": 198,
      "metadata": {}
    },
    {
      "cell_type": "code",
      "source": [
        "evaluate(8, 0.34)"
      ],
      "outputs": [
        {
          "output_type": "display_data",
          "data": {
            "image/png": "[encoded data removed]",
            "text/plain": [
              "<Figure size 720x720 with 3 Axes>"
            ]
          },
          "metadata": {
            "needs_background": "light"
          }
        }
      ],
      "execution_count": 230,
      "metadata": {}
    },
    {
      "cell_type": "code",
      "source": [
        "evaluate(8, 0.5)"
      ],
      "outputs": [
        {
          "output_type": "display_data",
          "data": {
            "image/png": "[encoded data removed]",
            "text/plain": [
              "<Figure size 720x720 with 3 Axes>"
            ]
          },
          "metadata": {
            "needs_background": "light"
          }
        }
      ],
      "execution_count": 225,
      "metadata": {}
    },
    {
      "cell_type": "code",
      "source": [
        "evaluate(11, 0.31)"
      ],
      "outputs": [
        {
          "output_type": "display_data",
          "data": {
            "image/png": "[encoded data removed]",
            "text/plain": [
              "<Figure size 720x720 with 3 Axes>"
            ]
          },
          "metadata": {
            "needs_background": "light"
          }
        }
      ],
      "execution_count": 209,
      "metadata": {}
    },
    {
      "cell_type": "code",
      "source": [
        "evaluate(13, 0.454)"
      ],
      "outputs": [
        {
          "output_type": "display_data",
          "data": {
            "image/png": "[encoded data removed]",
            "text/plain": [
              "<Figure size 720x720 with 3 Axes>"
            ]
          },
          "metadata": {
            "needs_background": "light"
          }
        }
      ],
      "execution_count": 219,
      "metadata": {}
    },
    {
      "cell_type": "code",
      "source": [
        "# new_img_0 = F.upsample(recon_noised, (28,28), mode='bilinear')\n",
        "# print(classifier(new_img_0.cpu()))\n",
        "# torch.argmax(classifier(new_img_0.cpu()))"
      ],
      "outputs": [],
      "execution_count": 173,
      "metadata": {}
    },
    {
      "cell_type": "code",
      "source": [
        "# new_img_1 = F.upsample(recon_img, (28,28), mode='bilinear')\n",
        "# print(classifier(new_img_1.cpu()))\n",
        "# torch.argmax(classifier(new_img_1.cpu()))"
      ],
      "outputs": [],
      "execution_count": 174,
      "metadata": {}
    },
    {
      "cell_type": "code",
      "source": [
        "# new_img_2 = example_data[i].unsqueeze(0)\n",
        "# new_img_2 = F.upsample(new_img_2, (28,28), mode='bilinear')\n",
        "# torch.argmax(classifier(new_img_2.cpu()))"
      ],
      "outputs": [],
      "execution_count": 175,
      "metadata": {}
    }
  ],
  "metadata": {
    "kernelspec": {
      "display_name": "Python 3",
      "language": "python",
      "name": "python3"
    },
    "language_info": {
      "codemirror_mode": {
        "name": "ipython",
        "version": 3
      },
      "file_extension": ".py",
      "mimetype": "text/x-python",
      "name": "python",
      "nbconvert_exporter": "python",
      "pygments_lexer": "ipython3",
      "version": "3.6.9"
    },
    "nteract": {
      "version": "0.21.0"
    }
  },
  "nbformat": 4,
  "nbformat_minor": 2
}