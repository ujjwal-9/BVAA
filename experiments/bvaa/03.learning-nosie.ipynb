{
 "cells": [
  {
   "cell_type": "code",
   "execution_count": 1,
   "metadata": {},
   "outputs": [],
   "source": [
    "%matplotlib inline\n",
    "import os\n",
    "import torch\n",
    "import torch.nn as nn\n",
    "import torch.nn.functional as F\n",
    "import torchvision\n",
    "from torchvision.utils import save_image\n",
    "from datetime import datetime\n",
    "import matplotlib.pyplot as plt\n",
    "import numpy as np\n",
    "from tqdm.notebook import tqdm"
   ]
  },
  {
   "cell_type": "code",
   "execution_count": 2,
   "metadata": {},
   "outputs": [],
   "source": [
    "torch.manual_seed(0)\n",
    "np.random.seed(0)\n",
    "torch.backends.cudnn.deterministic = True\n",
    "torch.backends.cudnn.benchmark = False"
   ]
  },
  {
   "cell_type": "code",
   "execution_count": 3,
   "metadata": {},
   "outputs": [],
   "source": [
    "from timeit import default_timer\n",
    "from collections import defaultdict\n",
    "from tqdm import trange\n",
    "\n",
    "class Trainer():\n",
    "    def __init__(self, model, optimizer, loss_f, device, save_dir=\"results\", is_progress_bar=True):\n",
    "            self.device = device\n",
    "            self.model = model.to(device)\n",
    "            self.loss_f = loss_f\n",
    "            self.optimizer = optimizer\n",
    "            self.save_dir = save_dir\n",
    "            self.is_progress_bar = is_progress_bar\n",
    "            \n",
    "    def __call__(self, data_loader, epochs=10, checkpoint_every=10):\n",
    "        start = default_timer()\n",
    "        self.model.train()\n",
    "        for epoch in range(epochs):\n",
    "            storer = defaultdict(list)\n",
    "            mean_epoch_loss = self._train_epoch(data_loader, storer, epoch)\n",
    "            mean_epoch_loss = self._test_epoch(data_loader, storer, epoch)\n",
    "            with torch.no_grad():\n",
    "                sample = torch.randn(64, self.model.latent_dim).to(device)\n",
    "                sample = self.model.decoder(sample).cpu()  # make sure on cpu\n",
    "                save_image(sample.view(64, 1, 32, 32),\n",
    "                           './results/samples/' + str(epoch) + '.png')\n",
    "            \n",
    "    def _train_epoch(self, data_loader, storer, epoch):\n",
    "        epoch_loss = 0.\n",
    "        kwargs = dict(desc=\"Epoch {}\".format(epoch + 1), leave=False,\n",
    "                      disable=not self.is_progress_bar)\n",
    "        with trange(len(data_loader), **kwargs) as t:\n",
    "            for _, (data, _) in enumerate(data_loader):\n",
    "                iter_loss = self._train_iteration(data, storer)\n",
    "                epoch_loss += iter_loss\n",
    "                t.set_postfix(loss=iter_loss)\n",
    "                t.update()\n",
    "        mean_epoch_loss = epoch_loss / len(data_loader)\n",
    "        return mean_epoch_loss\n",
    "    \n",
    "    def _train_iteration(self, data, storer):\n",
    "        batch_size, channel, height, width = data.size()\n",
    "        data = data.to(self.device)\n",
    "        recon_batch, latent_dist, latent_sample = self.model(data)\n",
    "        loss = self.loss_f(data, recon_batch, latent_dist, self.model.training, \n",
    "                           storer, latent_sample=latent_sample)\n",
    "        self.optimizer.zero_grad()\n",
    "        loss.backward()\n",
    "        self.optimizer.step()\n",
    "            \n",
    "        return loss.item()\n",
    "    \n",
    "    def _test_epoch(self, data_loader, storer, epoch):\n",
    "        epoch_loss = 0.\n",
    "        kwargs = dict(desc=\"Epoch {}\".format(epoch + 1), leave=False,\n",
    "                      disable=not self.is_progress_bar)\n",
    "        with trange(len(data_loader), **kwargs) as t:\n",
    "            for _, (data, _) in enumerate(data_loader):\n",
    "                iter_loss = self._train_iteration(data, storer)\n",
    "                epoch_loss += iter_loss\n",
    "                t.set_postfix(loss=iter_loss)\n",
    "                t.update()\n",
    "        mean_epoch_loss = epoch_loss / len(data_loader)\n",
    "        return mean_epoch_loss\n",
    "    \n",
    "    def _test_iteration(self, data, storer):\n",
    "        batch_size, channel, height, width = data.size()\n",
    "        data = data.to(self.device)\n",
    "        recon_batch, latent_dist, latent_sample = self.model(data)\n",
    "        loss = self.loss_f(data, recon_batch, latent_dist, self.model.training, \n",
    "                               storer, latent_sample=latent_sample)\n",
    "            \n",
    "        return loss.item()"
   ]
  },
  {
   "cell_type": "code",
   "execution_count": 4,
   "metadata": {},
   "outputs": [],
   "source": [
    "LOSSES = [\"betaH\", \"betaB\"]\n",
    "RECON_DIST = [\"bernoulli\", \"laplace\", \"gaussian\"]"
   ]
  },
  {
   "cell_type": "code",
   "execution_count": 5,
   "metadata": {},
   "outputs": [],
   "source": [
    "from torchvision import datasets\n",
    "from torch.utils.data import DataLoader\n",
    "from torchvision import transforms\n",
    "\n",
    "batch_size = 64\n",
    "\n",
    "mnist_dataset = datasets.MNIST('/home/data/bvaa', \n",
    "                   train=True, \n",
    "                   download=True, \n",
    "                   transform=transforms.Compose([\n",
    "                       transforms.Resize(32),\n",
    "                       transforms.ToTensor()\n",
    "                   ]))\n",
    "\n",
    "mnist_dataset_test = datasets.MNIST('/home/data/bvaa', train=False, download=True, transform=transforms.Compose([\n",
    "                       transforms.Resize(32),\n",
    "                       transforms.ToTensor()\n",
    "                   ]))\n",
    "\n",
    "train_loader = DataLoader(mnist_dataset, batch_size=batch_size, shuffle=True)\n",
    "\n",
    "test_loader = DataLoader(mnist_dataset_test, batch_size=batch_size, shuffle=True)"
   ]
  },
  {
   "cell_type": "code",
   "execution_count": 6,
   "metadata": {},
   "outputs": [],
   "source": [
    "examples = enumerate(test_loader)\n",
    "batch_idx, (example_data, example_targets) = next(examples)"
   ]
  },
  {
   "cell_type": "code",
   "execution_count": 7,
   "metadata": {},
   "outputs": [],
   "source": [
    "from vae import VAE\n",
    "from encoder import Encoder\n",
    "from decoder import Decoder\n",
    "from losses import get_loss_fn\n",
    "from torch import optim\n",
    "\n",
    "latent_dim = 12\n",
    "img_size = [1,32,32]\n",
    "\n",
    "lr = 5e-4\n",
    "\n",
    "betaB_args = {\"rec_dist\": \"bernoulli\",\n",
    "              \"reg_anneal\": 10000, \n",
    "              \"betaH_B\": 4,\n",
    "              \"betaB_initC\": 0,\n",
    "              \"betaB_finC\": 25,\n",
    "              \"betaB_G\": 100\n",
    "             }\n",
    "\n",
    "device = torch.device(\"cuda\" if torch.cuda.is_available() else \"cpu\")\n",
    "loss_f = get_loss_fn(\"betaB\", n_data=len(train_loader.dataset), device=device, **betaB_args)\n",
    "\n",
    "encoder = Encoder(img_size, latent_dim)\n",
    "decoder = Decoder(img_size, latent_dim)\n",
    "\n",
    "generator_model = VAE(img_size, latent_dim, encoder, decoder).to(device)\n",
    "optimizer = optim.Adam(generator_model.parameters(), lr=lr)"
   ]
  },
  {
   "cell_type": "code",
   "execution_count": null,
   "metadata": {},
   "outputs": [],
   "source": [
    "# trainer = Trainer(generator_model, optimizer, loss_f, device, logger=logger,\\\n",
    "#                   save_dir=exp_dir, is_progress_bar=False)\n",
    "# epochs = 100\n",
    "# checkpoint_every = 10\n",
    "# trainer(train_loader, epochs=epochs, checkpoint_every=checkpoint_every)\n",
    "# torch.save(trainer.model.state_dict(), 'test.pt')"
   ]
  },
  {
   "cell_type": "code",
   "execution_count": 8,
   "metadata": {},
   "outputs": [
    {
     "data": {
      "text/plain": [
       "<All keys matched successfully>"
      ]
     },
     "execution_count": 8,
     "metadata": {},
     "output_type": "execute_result"
    }
   ],
   "source": [
    "generator_model.load_state_dict(torch.load('models/test.pt'))\n",
    "# generator_model.eval()"
   ]
  },
  {
   "cell_type": "code",
   "execution_count": 9,
   "metadata": {},
   "outputs": [
    {
     "data": {
      "text/plain": [
       "<All keys matched successfully>"
      ]
     },
     "execution_count": 9,
     "metadata": {},
     "output_type": "execute_result"
    }
   ],
   "source": [
    "class Classifier(nn.Module):\n",
    "    def __init__(self):\n",
    "        super(Classifier, self).__init__()\n",
    "        self.conv1 = nn.Conv2d(1, 32, 3, 1)\n",
    "        self.conv2 = nn.Conv2d(32, 64, 3, 1)\n",
    "        self.dropout1 = nn.Dropout2d(0.25)\n",
    "        self.dropout2 = nn.Dropout2d(0.5)\n",
    "        self.fc1 = nn.Linear(9216, 128)\n",
    "        self.fc2 = nn.Linear(128, 10)\n",
    "\n",
    "    def forward(self, x):\n",
    "        x = self.conv1(x)\n",
    "        x = F.relu(x)\n",
    "        x = self.conv2(x)\n",
    "        x = F.max_pool2d(x, 2)\n",
    "        x = self.dropout1(x)\n",
    "        x = torch.flatten(x, 1)\n",
    "        x = self.fc1(x)\n",
    "        x = F.relu(x)\n",
    "        x = self.dropout2(x)\n",
    "        x = self.fc2(x)\n",
    "        output = F.softmax(x, dim=1)\n",
    "        return output\n",
    "\n",
    "classifier = Classifier()\n",
    "classifier.load_state_dict(torch.load('models/mnist_cnn_non_log.pt'))"
   ]
  },
  {
   "cell_type": "code",
   "execution_count": 11,
   "metadata": {},
   "outputs": [],
   "source": [
    "class AddNoise():\n",
    "    def __init__(self, shape, device, noise=None, percent_noise=0.1):\n",
    "        self.device = device\n",
    "        self.percent_noise = percent_noise\n",
    "        if noise is None:\n",
    "            self.noise = torch.randn(shape)\n",
    "        else:\n",
    "            self.noise = noise\n",
    "\n",
    "    def noisy(self, data):\n",
    "        x = self.noise.to(self.device) * self.percent_noise + data * (1 - self.percent_noise)\n",
    "        return x"
   ]
  },
  {
   "cell_type": "code",
   "execution_count": 12,
   "metadata": {},
   "outputs": [
    {
     "name": "stdout",
     "output_type": "stream",
     "text": [
      "Sample Noise for Testing: \n",
      " tensor([[ 1.4854, -1.3773,  0.3439, -0.6132,  1.4986, -1.8155,  0.6553, -2.3314,\n",
      "         -0.1148,  0.4514,  1.7648, -0.0290]])\n"
     ]
    }
   ],
   "source": [
    "sample_noise = torch.randn(torch.Size([1, 12]))\n",
    "backup_sample_noise = sample_noise\n",
    "print(\"Sample Noise for Testing: \\n\", sample_noise)"
   ]
  },
  {
   "cell_type": "code",
   "execution_count": 13,
   "metadata": {},
   "outputs": [],
   "source": [
    "decoder = generator_model.decoder"
   ]
  },
  {
   "cell_type": "code",
   "execution_count": 71,
   "metadata": {},
   "outputs": [
    {
     "data": {
      "text/plain": [
       "Attack(\n",
       "  (decoder): Decoder(\n",
       "    (lin1): Linear(in_features=12, out_features=256, bias=True)\n",
       "    (lin2): Linear(in_features=256, out_features=256, bias=True)\n",
       "    (lin3): Linear(in_features=256, out_features=512, bias=True)\n",
       "    (convT1): ConvTranspose2d(32, 32, kernel_size=(4, 4), stride=(2, 2), padding=(1, 1))\n",
       "    (convT2): ConvTranspose2d(32, 32, kernel_size=(4, 4), stride=(2, 2), padding=(1, 1))\n",
       "    (convT3): ConvTranspose2d(32, 1, kernel_size=(4, 4), stride=(2, 2), padding=(1, 1))\n",
       "  )\n",
       "  (classifier): Classifier(\n",
       "    (conv1): Conv2d(1, 32, kernel_size=(3, 3), stride=(1, 1))\n",
       "    (conv2): Conv2d(32, 64, kernel_size=(3, 3), stride=(1, 1))\n",
       "    (dropout1): Dropout2d(p=0.25, inplace=False)\n",
       "    (dropout2): Dropout2d(p=0.5, inplace=False)\n",
       "    (fc1): Linear(in_features=9216, out_features=128, bias=True)\n",
       "    (fc2): Linear(in_features=128, out_features=10, bias=True)\n",
       "  )\n",
       ")"
      ]
     },
     "execution_count": 71,
     "metadata": {},
     "output_type": "execute_result"
    }
   ],
   "source": [
    "class Attack(nn.Module):\n",
    "    def __init__(self, target, device=device, confidence=0.6, latent_dim=10, classifier=classifier, decoder=decoder, alpha=1e-4, noise=sample_noise):\n",
    "        super(Attack, self).__init__()\n",
    "        self.decoder = decoder.to(device)\n",
    "#         self.decoder.eval()\n",
    "        self.classifier = classifier.to(device)\n",
    "#         self.classifier.eval()\n",
    "        self.alpha = alpha\n",
    "        self.target = target\n",
    "        self.confidence = confidence\n",
    "        \n",
    "    def forward(self, x, noise):\n",
    "        \n",
    "        # original predictions\n",
    "        org = self.decoder(x)\n",
    "        org_pred = self.classifier(F.upsample(org, (28,28), mode='bilinear', align_corners=True))\n",
    "#         org_pred_label = torch.argmax(org_pred, dim=1)\n",
    "        \n",
    "        # noise addition\n",
    "        noised = torch.add((1 - self.alpha) * x, self.alpha * noise)\n",
    "        self.noise = noise\n",
    "        \n",
    "        # reconstructed image predictions\n",
    "        recon = self.decoder(noised)\n",
    "        recon_pred = self.classifier(F.upsample(recon, (28,28), mode='bilinear', align_corners=True))\n",
    "#         recon_pred_label = torch.argmax(pred, dim=1)\n",
    "        \n",
    "        # target soft labels\n",
    "#         alt_truth = torch.zeros(recon_pred.shape, dtype=torch.float64)\n",
    "#         alt_truth[:, self.target] = torch.FloatTensor([self.confidence]*recon_pred.shape[0])\n",
    "#         alt_truth[range(alt_truth.shape[0]), recon_pred_label] += torch.FloatTensor([1-self.confidence]*alt_truth.shape[0])\n",
    "        return org_pred, recon_pred\n",
    "    \n",
    "attack = Attack(target=2)\n",
    "attack.eval()"
   ]
  },
  {
   "cell_type": "code",
   "execution_count": 72,
   "metadata": {},
   "outputs": [
    {
     "data": {
      "text/plain": [
       "Translator(\n",
       "  (layers): ModuleList(\n",
       "    (0): Linear(in_features=10, out_features=512, bias=True)\n",
       "    (1): Linear(in_features=512, out_features=1024, bias=True)\n",
       "    (2): Linear(in_features=1024, out_features=2048, bias=True)\n",
       "    (3): Linear(in_features=2048, out_features=10, bias=True)\n",
       "  )\n",
       ")"
      ]
     },
     "execution_count": 72,
     "metadata": {},
     "output_type": "execute_result"
    }
   ],
   "source": [
    "# Constrained Translator\n",
    "class Translator(nn.Module):\n",
    "    def __init__(self, hidden_layers=[10, 512, 1024, 2048, 10], latent_dim=latent_dim):\n",
    "        super(Translator, self).__init__()\n",
    "        self.latent_dim = latent_dim\n",
    "        self.hidden_layers = hidden_layers\n",
    "        self.layers = []\n",
    "        \n",
    "        for i in range(len(self.hidden_layers)-1):\n",
    "            self.layers.append(nn.Linear(self.hidden_layers[i], self.hidden_layers[i+1]))\n",
    "        \n",
    "        self.layers = nn.ModuleList(self.layers)\n",
    "        \n",
    "    def forward(self, pred):\n",
    "        for layer in self.layers:\n",
    "            pred = layer(pred)\n",
    "        \n",
    "        return pred\n",
    "\n",
    "translator = Translator().to(device)\n",
    "translator.train()"
   ]
  },
  {
   "cell_type": "code",
   "execution_count": 15,
   "metadata": {},
   "outputs": [
    {
     "data": {
      "text/plain": [
       "tensor([[ 0.0000,  0.5960, -0.5329, -1.3138,  0.2355],\n",
       "        [ 0.8949,  0.0000, -1.3279, -0.1522,  0.1627],\n",
       "        [ 1.0288,  0.0804,  0.0000, -1.9471, -1.9165],\n",
       "        [ 0.1477,  0.0000,  0.2170,  1.6146,  0.4004]])"
      ]
     },
     "execution_count": 15,
     "metadata": {},
     "output_type": "execute_result"
    }
   ],
   "source": [
    "a = torch.randn((4,5))\n",
    "a[range(a.shape[0]), [0,1,2,1]] = torch.Tensor([0]*a.shape[0])\n",
    "a"
   ]
  },
  {
   "cell_type": "code",
   "execution_count": 75,
   "metadata": {},
   "outputs": [],
   "source": [
    "def create_logits(target_label, org_pred_label, target_pred, confidence=0.6):\n",
    "    logits = torch.zeros(target_pred.shape, dtype=torch.float64)\n",
    "    target_pred_labels = torch.argmax(target_pred, dim=1)\n",
    "#     print(logits.shape)\n",
    "    logits[:, target_pred_labels] = torch.DoubleTensor([1-confidence]*target_pred.shape[0])\n",
    "    logits[:, [target_label]*target_pred.shape[0]] += torch.DoubleTensor([confidence]*target_pred.shape[0])\n",
    "    return logits.to(device)\n",
    "\n",
    "class T_Loss(nn.Module):\n",
    "    def __init__(self, latent_dim=latent_dim):\n",
    "        super(T_Loss, self).__init__()\n",
    "        self.latent_dim = latent_dim\n",
    "    \n",
    "    def forward(self, org_pred, target_pred, target_label, loss_fn=\"ALoss\"):\n",
    "        self.batch_size = org_pred.shape[0]\n",
    "        if loss_fn is \"ALoss\":\n",
    "            loss = self.aloss(org_pred, recon_pred, target_label)\n",
    "        \n",
    "        return loss\n",
    "    \n",
    "    def aloss(self, org_pred, target_pred, target_label):\n",
    "        reconstruction_loss = F.mse_loss(target_pred, org_pred, reduction=\"sum\") / self.batch_size\n",
    "        org_pred_label = torch.argmax(org_pred, dim=1)\n",
    "        target_pred_label = torch.argmax(target_pred, dim=1)\n",
    "        soft_logits = create_logits(target_label, org_pred_label, target_pred)\n",
    "        gen_loss = F.binary_cross_entropy(target_pred, soft_logits.float())\n",
    "        return reconstruction_loss + gen_loss"
   ]
  },
  {
   "cell_type": "code",
   "execution_count": 76,
   "metadata": {},
   "outputs": [],
   "source": [
    "tloss = T_Loss().to(device)"
   ]
  },
  {
   "cell_type": "code",
   "execution_count": 77,
   "metadata": {},
   "outputs": [
    {
     "data": {
      "application/vnd.jupyter.widget-view+json": {
       "model_id": "31e42b9ebe474f6c90bd72c81299fc33",
       "version_major": 2,
       "version_minor": 0
      },
      "text/plain": [
       "HBox(children=(FloatProgress(value=0.0), HTML(value='')))"
      ]
     },
     "metadata": {},
     "output_type": "display_data"
    },
    {
     "name": "stdout",
     "output_type": "stream",
     "text": [
      "Train Epoch: 0\tLoss: 99.893390\n",
      "Train Epoch: 1\tLoss: 99.893390\n",
      "Train Epoch: 2\tLoss: 99.893390\n",
      "Train Epoch: 3\tLoss: 99.893390\n",
      "Train Epoch: 4\tLoss: 99.893390\n",
      "Train Epoch: 5\tLoss: 99.893390\n",
      "Train Epoch: 6\tLoss: 99.893390\n",
      "Train Epoch: 7\tLoss: 99.893390\n",
      "Train Epoch: 8\tLoss: 99.893390\n",
      "Train Epoch: 9\tLoss: 99.893390\n",
      "Train Epoch: 10\tLoss: 99.893390\n",
      "Train Epoch: 11\tLoss: 99.893390\n",
      "Train Epoch: 12\tLoss: 99.893390\n",
      "Train Epoch: 13\tLoss: 99.893390\n",
      "Train Epoch: 14\tLoss: 99.893390\n",
      "Train Epoch: 15\tLoss: 99.893390\n",
      "Train Epoch: 16\tLoss: 99.893390\n",
      "Train Epoch: 17\tLoss: 99.893390\n",
      "Train Epoch: 18\tLoss: 99.893390\n",
      "Train Epoch: 19\tLoss: 99.893390\n",
      "Train Epoch: 20\tLoss: 99.893390\n",
      "Train Epoch: 21\tLoss: 99.893390\n",
      "Train Epoch: 22\tLoss: 99.893390\n",
      "Train Epoch: 23\tLoss: 99.893390\n",
      "Train Epoch: 24\tLoss: 99.893390\n",
      "Train Epoch: 25\tLoss: 99.893390\n",
      "Train Epoch: 26\tLoss: 99.893390\n",
      "Train Epoch: 27\tLoss: 99.893390\n",
      "Train Epoch: 28\tLoss: 99.893390\n",
      "Train Epoch: 29\tLoss: 99.893390\n",
      "Train Epoch: 30\tLoss: 99.893390\n",
      "Train Epoch: 31\tLoss: 99.893390\n",
      "Train Epoch: 32\tLoss: 99.893390\n",
      "Train Epoch: 33\tLoss: 99.893390\n",
      "Train Epoch: 34\tLoss: 99.893390\n",
      "Train Epoch: 35\tLoss: 99.893390\n",
      "Train Epoch: 36\tLoss: 99.893390\n",
      "Train Epoch: 37\tLoss: 99.893390\n",
      "Train Epoch: 38\tLoss: 99.893390\n",
      "Train Epoch: 39\tLoss: 99.893390\n",
      "Train Epoch: 40\tLoss: 99.893390\n",
      "Train Epoch: 41\tLoss: 99.893390\n",
      "Train Epoch: 42\tLoss: 99.893390\n",
      "Train Epoch: 43\tLoss: 99.893390\n",
      "Train Epoch: 44\tLoss: 99.893390\n",
      "Train Epoch: 45\tLoss: 99.893390\n",
      "Train Epoch: 46\tLoss: 99.893390\n",
      "Train Epoch: 47\tLoss: 99.893390\n",
      "Train Epoch: 48\tLoss: 99.893390\n",
      "Train Epoch: 49\tLoss: 99.893390\n",
      "Train Epoch: 50\tLoss: 99.893390\n",
      "Train Epoch: 51\tLoss: 99.893390\n",
      "Train Epoch: 52\tLoss: 99.893390\n",
      "Train Epoch: 53\tLoss: 99.893390\n",
      "Train Epoch: 54\tLoss: 99.893390\n",
      "Train Epoch: 55\tLoss: 99.893390\n",
      "Train Epoch: 56\tLoss: 99.893390\n",
      "Train Epoch: 57\tLoss: 99.893390\n",
      "Train Epoch: 58\tLoss: 99.893390\n",
      "Train Epoch: 59\tLoss: 99.893390\n",
      "Train Epoch: 60\tLoss: 99.893390\n",
      "Train Epoch: 61\tLoss: 99.893390\n",
      "Train Epoch: 62\tLoss: 99.893390\n",
      "Train Epoch: 63\tLoss: 99.893390\n",
      "Train Epoch: 64\tLoss: 99.893390\n",
      "Train Epoch: 65\tLoss: 99.893390\n",
      "Train Epoch: 66\tLoss: 99.893390\n",
      "Train Epoch: 67\tLoss: 99.893390\n",
      "Train Epoch: 68\tLoss: 99.893390\n",
      "Train Epoch: 69\tLoss: 99.893390\n",
      "Train Epoch: 70\tLoss: 99.893390\n",
      "Train Epoch: 71\tLoss: 99.893390\n",
      "Train Epoch: 72\tLoss: 99.893390\n",
      "Train Epoch: 73\tLoss: 99.893390\n",
      "Train Epoch: 74\tLoss: 99.893390\n",
      "Train Epoch: 75\tLoss: 99.893390\n",
      "Train Epoch: 76\tLoss: 99.893390\n",
      "Train Epoch: 77\tLoss: 99.893390\n",
      "Train Epoch: 78\tLoss: 99.893390\n",
      "Train Epoch: 79\tLoss: 99.893390\n",
      "Train Epoch: 80\tLoss: 99.893390\n",
      "Train Epoch: 81\tLoss: 99.893390\n",
      "Train Epoch: 82\tLoss: 99.893390\n",
      "Train Epoch: 83\tLoss: 99.893390\n",
      "Train Epoch: 84\tLoss: 99.893390\n",
      "Train Epoch: 85\tLoss: 99.893390\n",
      "Train Epoch: 86\tLoss: 99.893390\n",
      "Train Epoch: 87\tLoss: 99.893390\n",
      "Train Epoch: 88\tLoss: 99.893390\n",
      "Train Epoch: 89\tLoss: 99.893390\n",
      "Train Epoch: 90\tLoss: 99.893390\n",
      "Train Epoch: 91\tLoss: 99.893390\n",
      "Train Epoch: 92\tLoss: 99.893390\n",
      "Train Epoch: 93\tLoss: 99.893390\n",
      "Train Epoch: 94\tLoss: 99.893390\n",
      "Train Epoch: 95\tLoss: 99.893390\n",
      "Train Epoch: 96\tLoss: 99.893390\n",
      "Train Epoch: 97\tLoss: 99.893390\n",
      "Train Epoch: 98\tLoss: 99.893390\n",
      "Train Epoch: 99\tLoss: 99.893390\n",
      "\n"
     ]
    }
   ],
   "source": [
    "\n",
    "attack_log_interval = 1\n",
    "alt_target = 2\n",
    "attack.eval()\n",
    "criterion = nn.BCELoss()\n",
    "optimizer_attack = optim.Adam(translator.parameters(), lr=1e-3)\n",
    "for epoch in tqdm(range(100)):\n",
    "    for batch_idx, (data, target) in enumerate(train_loader):\n",
    "        data = torch.FloatTensor(data).to(device)\n",
    "        \n",
    "#         sample_noise.requires_grad_(True)\n",
    "        \n",
    "        _, l_dist, l_sample = generator_model(data)\n",
    "        \n",
    "        org_pred, recon_pred = attack(l_sample, sample_noise.to(device))\n",
    "        target_pred = translator(recon_pred)\n",
    "        \n",
    "        loss = tloss(org_pred, target_pred, alt_target)\n",
    "        loss.backward()\n",
    "        optimizer_attack.step()\n",
    "#         noise_grad = torch.autograd.grad(loss, attack.noise, create_graph=True)\n",
    "#         noise_grad = sample_noise.grad.data\n",
    "        \n",
    "#         print(noise_grad)\n",
    "    \n",
    "    if (epoch+1) % attack_log_interval == 0:\n",
    "        print('Train Epoch: {}\\tLoss: {:.6f}'.format(\n",
    "            epoch, 100. * batch_idx / len(train_loader), loss.item()))\n",
    "        "
   ]
  },
  {
   "cell_type": "code",
   "execution_count": 216,
   "metadata": {},
   "outputs": [
    {
     "data": {
      "text/plain": [
       "tensor([1, 3, 0])"
      ]
     },
     "execution_count": 216,
     "metadata": {},
     "output_type": "execute_result"
    }
   ],
   "source": [
    "torch.empty(3, dtype=torch.long).random_(5)"
   ]
  },
  {
   "cell_type": "code",
   "execution_count": 226,
   "metadata": {},
   "outputs": [],
   "source": [
    "# target\n",
    "# target.reshape(64,1) == torch.arange(10).reshape(1, 10)).float()"
   ]
  },
  {
   "cell_type": "code",
   "execution_count": 13,
   "metadata": {},
   "outputs": [
    {
     "data": {
      "application/vnd.jupyter.widget-view+json": {
       "model_id": "ccc2135a318848f68ee7da7a7576a6ad",
       "version_major": 2,
       "version_minor": 0
      },
      "text/plain": [
       "HBox(children=(FloatProgress(value=0.0, max=100000.0), HTML(value='')))"
      ]
     },
     "metadata": {},
     "output_type": "display_data"
    },
    {
     "name": "stderr",
     "output_type": "stream",
     "text": [
      "/opt/miniconda3/envs/bvaa/lib/python3.6/site-packages/torch/nn/functional.py:2416: UserWarning: nn.functional.upsample is deprecated. Use nn.functional.interpolate instead.\n",
      "  warnings.warn(\"nn.functional.upsample is deprecated. Use nn.functional.interpolate instead.\")\n"
     ]
    },
    {
     "name": "stdout",
     "output_type": "stream",
     "text": [
      "\n"
     ]
    }
   ],
   "source": [
    "# noise_check = {}\n",
    "# for perc in tqdm(list(np.arange(0, 1, 0.00001))):\n",
    "#     recon_img = generator_model.decoder(perc*sample_noise.cuda())\n",
    "#     pred = classifier(F.upsample(recon_img, (28,28), mode='bilinear', align_corners=True).cpu())\n",
    "#     pred_label = torch.argmax(pred).item()\n",
    "#     if pred_label not in noise_check.keys():\n",
    "#         noise_check[pred_label] = [perc]\n",
    "#     else:\n",
    "#         noise_check[pred_label].append(perc)\n",
    "# #     plt.imshow(recon_img[0][0].detach().cpu().numpy(), cmap='gray', interpolation='none')\n",
    "# #     print(torch.argmax(classifier(F.upsample(recon_img, (28,28), mode='bilinear', align_corners=True).cpu())))"
   ]
  },
  {
   "cell_type": "code",
   "execution_count": 14,
   "metadata": {},
   "outputs": [
    {
     "data": {
      "text/plain": [
       "dict_keys([8, 7, 3, 9, 6, 5, 0, 1])"
      ]
     },
     "execution_count": 14,
     "metadata": {},
     "output_type": "execute_result"
    }
   ],
   "source": [
    "noise_check.keys()"
   ]
  },
  {
   "cell_type": "code",
   "execution_count": 15,
   "metadata": {},
   "outputs": [
    {
     "name": "stdout",
     "output_type": "stream",
     "text": [
      "8: 33186\n",
      "7: 1\n",
      "3: 11\n",
      "9: 3\n",
      "6: 49\n",
      "5: 66745\n",
      "0: 4\n",
      "1: 1\n"
     ]
    }
   ],
   "source": [
    "for key in noise_check.keys():\n",
    "    print(\"{}: {}\".format(key, len(noise_check[key])))"
   ]
  },
  {
   "cell_type": "code",
   "execution_count": 37,
   "metadata": {},
   "outputs": [
    {
     "name": "stdout",
     "output_type": "stream",
     "text": [
      "0.0-0.37484\n",
      "0.25843000000000005-0.99999\n"
     ]
    }
   ],
   "source": [
    "print(\"{}-{}\".format(noise_check[8][0], noise_check[8][-1]))\n",
    "print(\"{}-{}\".format(noise_check[5][0], noise_check[5][-1]))"
   ]
  },
  {
   "cell_type": "code",
   "execution_count": 30,
   "metadata": {},
   "outputs": [
    {
     "name": "stdout",
     "output_type": "stream",
     "text": [
      "tensor(8)\n"
     ]
    },
    {
     "name": "stderr",
     "output_type": "stream",
     "text": [
      "/opt/miniconda3/envs/bvaa/lib/python3.6/site-packages/torch/nn/functional.py:2416: UserWarning: nn.functional.upsample is deprecated. Use nn.functional.interpolate instead.\n",
      "  warnings.warn(\"nn.functional.upsample is deprecated. Use nn.functional.interpolate instead.\")\n"
     ]
    },
    {
     "data": {
      "text/plain": [
       "<matplotlib.image.AxesImage at 0x7f7cf5ccb9e8>"
      ]
     },
     "execution_count": 30,
     "metadata": {},
     "output_type": "execute_result"
    },
    {
     "data": {
      "image/png": "[encoded data removed]",
      "text/plain": [
       "<Figure size 432x288 with 1 Axes>"
      ]
     },
     "metadata": {
      "needs_background": "light"
     },
     "output_type": "display_data"
    }
   ],
   "source": [
    "recon_img = generator_model.decoder(0.005*sample_noise.cuda())\n",
    "pred = classifier(F.upsample(recon_img, (28,28), mode='bilinear', align_corners=True).cpu())\n",
    "print(torch.argmax(pred))\n",
    "plt.imshow(recon_img[0][0].detach().cpu().numpy(), cmap='gray', interpolation='none')"
   ]
  },
  {
   "cell_type": "code",
   "execution_count": 20,
   "metadata": {},
   "outputs": [],
   "source": [
    "def evaluate(i, percentage, sample_noise=sample_noise):\n",
    "    recon_img,l_dist,l_sample = generator_model(torch.FloatTensor(example_data[i]).unsqueeze(0).to(device))\n",
    "    noise = AddNoise(l_sample.shape, device, sample_noise, percent_noise=percentage)\n",
    "    l_sample_noised = noise.noisy(l_sample)\n",
    "    recon_noised = generator_model.decoder(l_sample_noised)\n",
    "    plt.figure(figsize=(10,10))\n",
    "    plt.subplot(1,3,1)\n",
    "    plt.imshow(example_data[i][0].detach().cpu().numpy(), cmap='gray', interpolation='none')\n",
    "    plt.title(\"{} -> {}\".format(example_targets[i].item(), torch.argmax(classifier(F.upsample(example_data[i].unsqueeze(0), (28,28), mode='bilinear').to(device))).item()))\n",
    "    plt.subplot(1,3,2)\n",
    "    plt.imshow(recon_img[0][0].detach().cpu().numpy(), cmap='gray', interpolation='none')\n",
    "    plt.title(\"{} -> {}\".format(example_targets[i].item(), torch.argmax(classifier(F.upsample(recon_img, (28,28), mode='bilinear').to(device))).item()))\n",
    "    plt.subplot(1,3,3)\n",
    "    plt.imshow(recon_noised[0][0].detach().cpu().numpy(), cmap='gray', interpolation='none')\n",
    "    plt.title(\"{} -> {}\".format(example_targets[i].item(), torch.argmax(classifier(F.upsample(recon_noised, (28,28), mode='bilinear').to(device))).item()))"
   ]
  },
  {
   "cell_type": "markdown",
   "metadata": {},
   "source": [
    "### Evaluation"
   ]
  },
  {
   "cell_type": "code",
   "execution_count": 21,
   "metadata": {},
   "outputs": [
    {
     "name": "stderr",
     "output_type": "stream",
     "text": [
      "/opt/miniconda3/envs/bvaa/lib/python3.6/site-packages/torch/nn/functional.py:2416: UserWarning: nn.functional.upsample is deprecated. Use nn.functional.interpolate instead.\n",
      "  warnings.warn(\"nn.functional.upsample is deprecated. Use nn.functional.interpolate instead.\")\n",
      "/opt/miniconda3/envs/bvaa/lib/python3.6/site-packages/torch/nn/functional.py:2506: UserWarning: Default upsampling behavior when mode=bilinear is changed to align_corners=False since 0.4.0. Please specify align_corners=True if the old behavior is desired. See the documentation of nn.Upsample for details.\n",
      "  \"See the documentation of nn.Upsample for details.\".format(mode))\n"
     ]
    },
    {
     "data": {
      "image/png": "[encoded data removed]",
      "text/plain": [
       "<Figure size 720x720 with 3 Axes>"
      ]
     },
     "metadata": {
      "needs_background": "light"
     },
     "output_type": "display_data"
    }
   ],
   "source": [
    "evaluate(9, 0)"
   ]
  },
  {
   "cell_type": "code",
   "execution_count": 22,
   "metadata": {},
   "outputs": [
    {
     "data": {
      "image/png": "[encoded data removed]",
      "text/plain": [
       "<Figure size 720x720 with 3 Axes>"
      ]
     },
     "metadata": {
      "needs_background": "light"
     },
     "output_type": "display_data"
    }
   ],
   "source": [
    "evaluate(8, 0.152)"
   ]
  },
  {
   "cell_type": "code",
   "execution_count": 21,
   "metadata": {},
   "outputs": [
    {
     "data": {
      "image/png": "[encoded data removed]",
      "text/plain": [
       "<Figure size 720x720 with 3 Axes>"
      ]
     },
     "metadata": {
      "needs_background": "light"
     },
     "output_type": "display_data"
    }
   ],
   "source": [
    "evaluate(18, 0.190)"
   ]
  },
  {
   "cell_type": "code",
   "execution_count": 22,
   "metadata": {},
   "outputs": [
    {
     "data": {
      "image/png": "[encoded data removed]",
      "text/plain": [
       "<Figure size 720x720 with 3 Axes>"
      ]
     },
     "metadata": {
      "needs_background": "light"
     },
     "output_type": "display_data"
    }
   ],
   "source": [
    "evaluate(11, 0.31)"
   ]
  },
  {
   "cell_type": "code",
   "execution_count": 23,
   "metadata": {},
   "outputs": [
    {
     "data": {
      "image/png": "[encoded data removed]",
      "text/plain": [
       "<Figure size 720x720 with 3 Axes>"
      ]
     },
     "metadata": {
      "needs_background": "light"
     },
     "output_type": "display_data"
    }
   ],
   "source": [
    "evaluate(13, 0.454)"
   ]
  }
 ],
 "metadata": {
  "kernelspec": {
   "display_name": "Python 3",
   "language": "python",
   "name": "python3"
  },
  "language_info": {
   "codemirror_mode": {
    "name": "ipython",
    "version": 3
   },
   "file_extension": ".py",
   "mimetype": "text/x-python",
   "name": "python",
   "nbconvert_exporter": "python",
   "pygments_lexer": "ipython3",
   "version": "3.6.9"
  }
 },
 "nbformat": 4,
 "nbformat_minor": 2
}
