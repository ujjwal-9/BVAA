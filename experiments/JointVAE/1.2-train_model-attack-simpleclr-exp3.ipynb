{
 "cells": [
  {
   "cell_type": "markdown",
   "metadata": {},
   "source": [
    "# Train a JointVAE model"
   ]
  },
  {
   "cell_type": "markdown",
   "metadata": {},
   "source": [
    "### Get MNIST data\n",
    "Build a simple JointVAE model on MNIST"
   ]
  },
  {
   "cell_type": "code",
   "execution_count": 1,
   "metadata": {},
   "outputs": [],
   "source": [
    "VAE_TRAIN = False\n",
    "FIND_DIST = False\n",
    "FOLDER = \"dist2\""
   ]
  },
  {
   "cell_type": "code",
   "execution_count": 2,
   "metadata": {},
   "outputs": [],
   "source": [
    "import torch\n",
    "import torch.nn as nn\n",
    "import torch.nn.functional as F\n",
    "import matplotlib.pyplot as plt"
   ]
  },
  {
   "cell_type": "code",
   "execution_count": 3,
   "metadata": {},
   "outputs": [],
   "source": [
    "from dataloaders import get_mnist_dataloaders_attack, get_mnist_dataloaders\n",
    "# train_loader, test_loader = get_mnist_dataloaders_attack(2, 5, train_batch_size=64, test_batch_size=64, path_to_data='/home/data/bvaa')\n",
    "train_loader, test_loader = get_mnist_dataloaders(batch_size=64, path_to_data='/home/data/bvaa')"
   ]
  },
  {
   "cell_type": "code",
   "execution_count": 4,
   "metadata": {},
   "outputs": [],
   "source": [
    "from torchvision import datasets, transforms\n",
    "all_transforms = transforms.Compose([\n",
    "        transforms.Resize(32),\n",
    "        transforms.ToTensor()\n",
    "    ])\n",
    "train_data = datasets.MNIST('/home/data/bvaa/', train=True, download=True,\n",
    "                                transform=all_transforms)"
   ]
  },
  {
   "cell_type": "markdown",
   "metadata": {},
   "source": [
    "### Define latent distribution of the model"
   ]
  },
  {
   "cell_type": "code",
   "execution_count": 5,
   "metadata": {},
   "outputs": [],
   "source": [
    "# Latent distribution will be joint distribution of 10 gaussian normal distributions\n",
    "# and one 10 dimensional Gumbel Softmax distribution\n",
    "latent_spec = {'cont': 15,\n",
    "               'disc': [15]}\n",
    "latent_dim = 30"
   ]
  },
  {
   "cell_type": "markdown",
   "metadata": {},
   "source": [
    "### Build a model"
   ]
  },
  {
   "cell_type": "code",
   "execution_count": 6,
   "metadata": {},
   "outputs": [],
   "source": [
    "from models import VAE\n",
    "\n",
    "model = VAE(latent_spec=latent_spec, img_size=(1, 32, 32), use_cuda=True).cuda()"
   ]
  },
  {
   "cell_type": "markdown",
   "metadata": {},
   "source": [
    "### Train the model"
   ]
  },
  {
   "cell_type": "code",
   "execution_count": 7,
   "metadata": {},
   "outputs": [],
   "source": [
    "from torch import optim\n",
    "\n",
    "# Build optimizer\n",
    "optimizer = optim.Adam(model.parameters(), lr=5e-4)"
   ]
  },
  {
   "cell_type": "code",
   "execution_count": 8,
   "metadata": {},
   "outputs": [
    {
     "data": {
      "text/plain": [
       "Classifier(\n",
       "  (conv1): Conv2d(1, 32, kernel_size=(3, 3), stride=(1, 1))\n",
       "  (conv2): Conv2d(32, 64, kernel_size=(3, 3), stride=(1, 1))\n",
       "  (dropout1): Dropout2d(p=0.25, inplace=False)\n",
       "  (dropout2): Dropout2d(p=0.5, inplace=False)\n",
       "  (fc1): Linear(in_features=9216, out_features=128, bias=True)\n",
       "  (fc2): Linear(in_features=128, out_features=10, bias=True)\n",
       ")"
      ]
     },
     "execution_count": 8,
     "metadata": {},
     "output_type": "execute_result"
    }
   ],
   "source": [
    "\n",
    "class Classifier(nn.Module):\n",
    "    def __init__(self):\n",
    "        super(Classifier, self).__init__()\n",
    "        self.conv1 = nn.Conv2d(1, 32, 3, 1)\n",
    "        self.conv2 = nn.Conv2d(32, 64, 3, 1)\n",
    "        self.dropout1 = nn.Dropout2d(0.25)\n",
    "        self.dropout2 = nn.Dropout2d(0.5)\n",
    "        self.fc1 = nn.Linear(9216, 128)\n",
    "        self.fc2 = nn.Linear(128, 10)\n",
    "\n",
    "    def forward(self, x):\n",
    "        x = self.conv1(x)\n",
    "        x = F.relu(x)\n",
    "        x = self.conv2(x)\n",
    "        x = F.max_pool2d(x, 2)\n",
    "        x = self.dropout1(x)\n",
    "        x = torch.flatten(x, 1)\n",
    "        x = self.fc1(x)\n",
    "        x = F.relu(x)\n",
    "        x = self.dropout2(x)\n",
    "        x = self.fc2(x)\n",
    "        output = F.softmax(x, dim=1)\n",
    "        return output\n",
    "\n",
    "classifier = Classifier().cuda()\n",
    "classifier.load_state_dict(torch.load('../VAE/models/mnist_cnn_non_log.pt'))\n",
    "classifier.eval()"
   ]
  },
  {
   "cell_type": "code",
   "execution_count": 9,
   "metadata": {},
   "outputs": [],
   "source": [
    "from training import Trainer\n",
    "\n",
    "# Define the capacities\n",
    "# Continuous channels\n",
    "cont_capacity = [0.0, 6.0, 25000, 30.0]  # Starting at a capacity of 0.0, increase this to 5.0\n",
    "                                         # over 25000 iterations with a gamma of 30.0\n",
    "# Discrete channels\n",
    "disc_capacity = [0.0, 6.0, 25000, 30.0]  # Starting at a capacity of 0.0, increase this to 5.0\n",
    "                                         # over 25000 iterations with a gamma of 30.0\n",
    "\n",
    "# Build a trainer\n",
    "trainer = Trainer(model, optimizer,\n",
    "                  cont_capacity=cont_capacity,\n",
    "                  disc_capacity=disc_capacity, use_cuda=True)"
   ]
  },
  {
   "cell_type": "code",
   "execution_count": 10,
   "metadata": {},
   "outputs": [],
   "source": [
    "# # Build a visualizer which will be passed to trainer to visualize progress during training\n",
    "# from visualize import Visualizer\n",
    "\n",
    "# viz = Visualizer(model)"
   ]
  },
  {
   "cell_type": "code",
   "execution_count": 11,
   "metadata": {},
   "outputs": [],
   "source": [
    "# Train model for 10 epochs\n",
    "# Note this should really be a 100 epochs and trained on a GPU, but this is just to demo\n",
    "\n",
    "# trainer.train(train_loader, epochs=100, save_training_gif=('./training.gif', viz))\n",
    "if VAE_TRAIN:\n",
    "    trainer.train(train_loader, epochs=100)\n",
    "    torch.save(model.state_dict(), 'models/vae_new.pth')\n",
    "else:\n",
    "    model.load_state_dict(torch.load('models/vae_new.pth'))\n",
    "    model.eval()"
   ]
  },
  {
   "cell_type": "code",
   "execution_count": 12,
   "metadata": {},
   "outputs": [],
   "source": [
    "for param in model.parameters():\n",
    "    param.requires_grad = False\n",
    "    \n",
    "for param in classifier.parameters():\n",
    "    param.requires_grad = False"
   ]
  },
  {
   "cell_type": "markdown",
   "metadata": {},
   "source": [
    "## Digits"
   ]
  },
  {
   "cell_type": "code",
   "execution_count": 13,
   "metadata": {},
   "outputs": [],
   "source": [
    "list_index = {}\n",
    "for i in range(len(train_data)):\n",
    "    index = train_data[i][1]\n",
    "    if index not in list_index.keys():\n",
    "        list_index[index] = [i]\n",
    "    else:\n",
    "        list_index[index].append(i)"
   ]
  },
  {
   "cell_type": "code",
   "execution_count": 14,
   "metadata": {},
   "outputs": [
    {
     "data": {
      "application/vnd.jupyter.widget-view+json": {
       "model_id": "ecaa0a64d3f34ab68923c275843a2b36",
       "version_major": 2,
       "version_minor": 0
      },
      "text/plain": [
       "HBox(children=(FloatProgress(value=0.0, max=10.0), HTML(value='')))"
      ]
     },
     "metadata": {},
     "output_type": "display_data"
    },
    {
     "name": "stdout",
     "output_type": "stream",
     "text": [
      "\n"
     ]
    }
   ],
   "source": [
    "from tqdm.notebook import tqdm\n",
    "l_sample_list = {}\n",
    "def get_average_latent_space(list_index):\n",
    "    for i in tqdm(list_index.keys()):\n",
    "        for j in list_index[i]:\n",
    "            output, l_dist = model(train_data[j][0].unsqueeze(0).cuda())\n",
    "            l_sample_x = model.reparameterize(l_dist)\n",
    "            if i not in l_sample_list.keys():\n",
    "                l_sample_list[i] = [l_sample_x]\n",
    "            else:\n",
    "                l_sample_list[i].append(l_sample_x)\n",
    "        l_sample_list[i] = {'mean':torch.mean(torch.stack(l_sample_list[i]), dim=0),\n",
    "                           'std':torch.std(torch.stack(l_sample_list[i]), dim=0)}\n",
    "        \n",
    "get_average_latent_space(list_index)"
   ]
  },
  {
   "cell_type": "code",
   "execution_count": 15,
   "metadata": {},
   "outputs": [],
   "source": [
    "import math\n",
    "def check_distribution(digit, plot=False):\n",
    "    alpha = torch.clamp(torch.randn(l_sample_list[digit]['std'].shape).cuda(), min=-0.8, max=0.8)\n",
    "    test_sample = l_sample_list[digit]['mean'] + F.normalize(alpha)*l_sample_list[digit]['std']\n",
    "    test = model.decode(test_sample)\n",
    "    preds = torch.argmax(classifier(F.upsample(test, (28,28), mode='bilinear', align_corners=True)))\n",
    "#     print(preds.item())\n",
    "    if plot:\n",
    "        plt.imshow(model.decode(test_sample)[0,0].cpu().detach().numpy(), cmap='gray', interpolation='none')\n",
    "    return test_sample"
   ]
  },
  {
   "cell_type": "code",
   "execution_count": 16,
   "metadata": {},
   "outputs": [],
   "source": [
    "def digits_add(digit1, digit2, alpha=1, plot=False):\n",
    "    l_1 = check_distribution(digit1)\n",
    "    l_2 = check_distribution(digit2)\n",
    "    if plot:\n",
    "        test = model.decode(l_1+alpha*l_2)\n",
    "        plt.imshow(test[0,0].cpu().detach().numpy(), cmap='gray', interpolation='none')\n",
    "        preds = classifier(F.upsample(test, (28,28), mode='bilinear', align_corners=True))\n",
    "        print(preds.dtype)\n",
    "        print(torch.argmax(preds).item())\n",
    "    return torch.norm(l_1-l_2), l_1, l_2"
   ]
  },
  {
   "cell_type": "code",
   "execution_count": 17,
   "metadata": {},
   "outputs": [],
   "source": [
    "def get_avg_dist(digit1, digit2, exp=10000):\n",
    "    cos = nn.CosineSimilarity(dim=1, eps=1e-6)\n",
    "    distance = []\n",
    "    similarity = []\n",
    "    for i in range(exp):\n",
    "        dist, l1, l2 = digits_add(digit1,digit2)\n",
    "        similar = cos(l1,l2)\n",
    "        distance.append(dist.item())\n",
    "        similarity.append(similar.item())\n",
    "    a = round(sum(distance)/len(distance),5)\n",
    "    b = round(sum(similarity)/len(similarity),5)\n",
    "    return a,b"
   ]
  },
  {
   "cell_type": "code",
   "execution_count": 18,
   "metadata": {},
   "outputs": [],
   "source": [
    "def digit_to_study(digit):\n",
    "    distance = {}\n",
    "    similarity = {}\n",
    "    for i in tqdm(range(10)):\n",
    "        distance[i], similarity[i] = get_avg_dist(digit,i)\n",
    "    return distance, similarity"
   ]
  },
  {
   "cell_type": "code",
   "execution_count": 19,
   "metadata": {},
   "outputs": [],
   "source": [
    "# get_avg_dist(1,3)"
   ]
  },
  {
   "cell_type": "code",
   "execution_count": 20,
   "metadata": {},
   "outputs": [],
   "source": [
    "# get_avg_dist(1,2)"
   ]
  },
  {
   "cell_type": "code",
   "execution_count": 21,
   "metadata": {},
   "outputs": [],
   "source": [
    "# get_avg_dist(2,3)"
   ]
  },
  {
   "cell_type": "code",
   "execution_count": 22,
   "metadata": {},
   "outputs": [
    {
     "name": "stdout",
     "output_type": "stream",
     "text": [
      "torch.float32\n",
      "2\n"
     ]
    },
    {
     "name": "stderr",
     "output_type": "stream",
     "text": [
      "/opt/miniconda3/envs/bvaa/lib/python3.6/site-packages/torch/nn/functional.py:2416: UserWarning: nn.functional.upsample is deprecated. Use nn.functional.interpolate instead.\n",
      "  warnings.warn(\"nn.functional.upsample is deprecated. Use nn.functional.interpolate instead.\")\n"
     ]
    },
    {
     "data": {
      "text/plain": [
       "(tensor(1.3718, device='cuda:0'),\n",
       " tensor([[ 3.3309e-01, -3.8314e-02, -6.5622e-02, -1.4633e-02, -6.5476e-03,\n",
       "           1.7618e-01, -1.0145e-01,  9.3876e-02,  1.5382e-02,  2.1972e-02,\n",
       "          -4.2854e-02,  3.1037e-01,  8.6930e-02, -1.3633e-01,  2.9071e-02,\n",
       "           1.7645e-01, -6.9900e-03,  9.1620e-01,  3.7423e-03, -3.1916e-03,\n",
       "           0.0000e+00,  1.6067e-02,  4.6149e-03, -5.0899e-03,  1.0491e-02,\n",
       "          -8.8939e-04, -6.6431e-03,  1.7275e-02,  5.4688e-03, -3.2309e-03]],\n",
       "        device='cuda:0'),\n",
       " tensor([[-1.7060e-01, -3.8732e-01, -7.7967e-02, -1.3907e-02, -8.0544e-03,\n",
       "           1.2041e-01, -8.5630e-02,  7.8320e-03,  2.5647e-02,  7.1336e-03,\n",
       "          -5.2860e-02, -2.1018e-01,  1.2110e-01,  1.5485e-01,  1.1197e-02,\n",
       "           3.5397e-01,  1.2906e-03,  1.5734e-02,  1.4710e-02, -1.0223e-02,\n",
       "           0.0000e+00,  1.0877e-02,  3.2934e-02,  1.6164e-03,  8.7062e-03,\n",
       "           3.3928e-03,  1.1256e-04, -7.9940e-03, -9.5443e-03,  5.3846e-01]],\n",
       "        device='cuda:0'))"
      ]
     },
     "execution_count": 22,
     "metadata": {},
     "output_type": "execute_result"
    },
    {
     "data": {
      "image/png": "[encoded data removed]",
      "text/plain": [
       "<Figure size 432x288 with 1 Axes>"
      ]
     },
     "metadata": {
      "needs_background": "light"
     },
     "output_type": "display_data"
    }
   ],
   "source": [
    "digits_add(2,3,0.56,True)"
   ]
  },
  {
   "cell_type": "code",
   "execution_count": 23,
   "metadata": {},
   "outputs": [],
   "source": [
    "# digits_add(1,3,0.3,True)"
   ]
  },
  {
   "cell_type": "code",
   "execution_count": 24,
   "metadata": {},
   "outputs": [],
   "source": [
    "# digits_add(1,2,True)"
   ]
  },
  {
   "cell_type": "code",
   "execution_count": 25,
   "metadata": {},
   "outputs": [],
   "source": [
    "# digit_to_study(1)"
   ]
  },
  {
   "cell_type": "code",
   "execution_count": 26,
   "metadata": {},
   "outputs": [],
   "source": [
    "# digit_to_study(2)"
   ]
  },
  {
   "cell_type": "code",
   "execution_count": 27,
   "metadata": {},
   "outputs": [],
   "source": [
    "# check_distribution(2)"
   ]
  },
  {
   "cell_type": "code",
   "execution_count": 28,
   "metadata": {},
   "outputs": [],
   "source": [
    "# if FIND_DIST is True:\n",
    "#     l_means = []\n",
    "#     l_stds = []\n",
    "#     for i in l_sample_list.keys():\n",
    "#         l_means.append(l_sample_list[i]['mean'])\n",
    "#         l_stds.append(l_sample_list[i]['std'])\n",
    "\n",
    "#     l_mean_tensor = torch.stack(l_means).squeeze(1)\n",
    "#     # print(l_mean_tensor.shape)\n",
    "\n",
    "#     l_std_tensor = torch.stack(l_stds).squeeze(1)\n",
    "#     # print(l_std_tensor.shape)\n",
    "\n",
    "#     torch.save(l_mean_tensor, 'tensor/latent_mean.pt')\n",
    "#     torch.save(l_std_tensor, 'tensor/latent_std.pt')\n",
    "\n",
    "# else:\n",
    "#     l_mean_tensor = torch.load('tensor/latent_mean.pt')\n",
    "#     l_std_tensor = torch.load('tensor/latent_std.pt')"
   ]
  },
  {
   "cell_type": "markdown",
   "metadata": {},
   "source": [
    "### Visualize"
   ]
  },
  {
   "cell_type": "code",
   "execution_count": 29,
   "metadata": {},
   "outputs": [],
   "source": [
    "examples = enumerate(test_loader)\n",
    "batch_idx, (example_data,target) = next(examples)"
   ]
  },
  {
   "cell_type": "code",
   "execution_count": 30,
   "metadata": {},
   "outputs": [],
   "source": [
    "def check(i, digit1, digit2):\n",
    "    \n",
    "    alpha = torch.clamp(torch.randn(l_sample_list[digit1]['std'].shape).cuda(), min=-1, max=1)\n",
    "    test_sample = l_sample_list[digit1]['mean'] + F.normalize(alpha)*l_sample_list[digit1]['std']\n",
    "    \n",
    "    alpha = torch.clamp(torch.randn(l_sample_list[digit2]['std'].shape).cuda(), min=-1, max=1)\n",
    "    test_sample += l_sample_list[digit2]['mean'] + F.normalize(alpha)*l_sample_list[digit2]['std']\n",
    "    \n",
    "    example_img = example_data[i,:,:,:].unsqueeze(0).cuda()\n",
    "    output, l_dist = model(example_img)\n",
    "    l_sample = model.reparameterize(l_dist)\n",
    "    test_sample = l_sample + 0.4*test_sample\n",
    "    test = model.decode(test_sample)\n",
    "    preds = torch.argmax(classifier(F.upsample(test, (28,28), mode='bilinear', align_corners=True)))\n",
    "    print(preds)\n",
    "    plt.imshow(model.decode(test_sample)[0,0].cpu().detach().numpy(), cmap='gray', interpolation='none')"
   ]
  },
  {
   "cell_type": "code",
   "execution_count": 31,
   "metadata": {},
   "outputs": [
    {
     "name": "stdout",
     "output_type": "stream",
     "text": [
      "tensor(1, device='cuda:0')\n"
     ]
    },
    {
     "data": {
      "image/png": "[encoded data removed]",
      "text/plain": [
       "<Figure size 432x288 with 1 Axes>"
      ]
     },
     "metadata": {
      "needs_background": "light"
     },
     "output_type": "display_data"
    }
   ],
   "source": [
    "check(2,1,7)"
   ]
  },
  {
   "cell_type": "code",
   "execution_count": 32,
   "metadata": {},
   "outputs": [],
   "source": [
    "# def plot_64(data):\n",
    "#     l_sample = None\n",
    "#     for i in range(data.shape[0]):\n",
    "#         output, l_dist_x = model(data[i,:,:,:].unsqueeze(0).cuda())\n",
    "#         l_sample_x = model.reparameterize(l_dist_x)\n",
    "#         if l_sample is None:\n",
    "#             l_sample = l_sample_x\n",
    "#         else:\n",
    "#             l_sample += l_sample_x\n",
    "#     l_sample = l_sample / data.shape[0]\n",
    "#     new_output = model.decode(l_sample)\n",
    "#     plt.imshow(new_output[0][0].detach().cpu().numpy(), cmap='gray', interpolation='none')\n",
    "#     pred = classifier(F.upsample(new_output, (28,28), mode='bilinear', align_corners=True))\n",
    "#     print(pred)\n",
    "#     print(torch.argmax(pred))\n",
    "#     return l_sample"
   ]
  },
  {
   "cell_type": "code",
   "execution_count": 33,
   "metadata": {},
   "outputs": [],
   "source": [
    "# def get_batch_avg(data):\n",
    "#     l_sample = None\n",
    "#     for i in range(data.shape[0]):\n",
    "#         output, l_dist_x = model(data[i,:,:,:].unsqueeze(0).cuda())\n",
    "#         l_sample_x = model.reparameterize(l_dist_x)\n",
    "#         if l_sample is None:\n",
    "#             l_sample = l_sample_x\n",
    "#         else:\n",
    "#             l_sample += l_sample_x\n",
    "#     l_sample = l_sample / data.shape[0]\n",
    "# #     new_output = model.decode(l_sample)\n",
    "# #     plt.imshow(new_output[0][0].detach().cpu().numpy(), cmap='gray', interpolation='none')\n",
    "# #     pred = classifier(F.upsample(new_output, (28,28), mode='bilinear', align_corners=True))\n",
    "# #     print(pred)\n",
    "# #     print(torch.argmax(pred))\n",
    "#     return l_sample"
   ]
  },
  {
   "cell_type": "code",
   "execution_count": 34,
   "metadata": {},
   "outputs": [],
   "source": [
    "# def plot_avg_mnist(img1, data):\n",
    "# #     new_l_sample = None\n",
    "# #     count = len(list_to_process)\n",
    "#     output, l_dist_x = model(img1.cuda())\n",
    "#     l_sample_x = model.reparameterize(l_dist_x)\n",
    "#     l_sample_y = get_batch_avg(data)\n",
    "# #     output, l_dist_y = model(img2.cuda())\n",
    "# #     l_sample_y = model.reparameterize(l_dist_y)\n",
    "    \n",
    "#     l_sample = 1*l_sample_x + 0.4*l_sample_y\n",
    "    \n",
    "#     new_output = model.decode(l_sample)\n",
    "# #     for i in list_to_process:\n",
    "# #         example_img = example_data[i,:,:,:].unsqueeze(0).cuda()\n",
    "# #         output, l_dist = model(example_img)\n",
    "# #         l_sample = model.reparameterize(l_dist)\n",
    "# #         if new_l_sample is None:\n",
    "# #             new_l_sample = l_sample\n",
    "# #         else:\n",
    "# #             new_l_sample += l_sample\n",
    "# #     new_l_sample = new_l_sample / count\n",
    "# #     new_output = model.decode(new_l_sample)\n",
    "#     plt.imshow(new_output[0][0].detach().cpu().numpy(), cmap='gray', interpolation='none')\n",
    "#     pred = classifier(F.upsample(new_output, (28,28), mode='bilinear', align_corners=True))\n",
    "#     print(pred)\n",
    "#     print(torch.argmax(pred))\n",
    "#     print(pred[0,2].item(), pred[0,5].item())"
   ]
  },
  {
   "cell_type": "code",
   "execution_count": 35,
   "metadata": {},
   "outputs": [],
   "source": [
    "# def plot_mnist(list_to_process):\n",
    "#     new_l_sample = None\n",
    "#     count = len(list_to_process)\n",
    "#     for i in list_to_process:\n",
    "#         example_img = example_data[i,:,:,:].unsqueeze(0).cuda()\n",
    "#         output, l_dist = model(example_img)\n",
    "#         l_sample = model.reparameterize(l_dist)\n",
    "#         if new_l_sample is None:\n",
    "#             new_l_sample = l_sample\n",
    "#         else:\n",
    "#             new_l_sample += l_sample\n",
    "#     new_l_sample = new_l_sample / count\n",
    "#     new_output = model.decode(new_l_sample)\n",
    "#     plt.imshow(new_output[0][0].detach().cpu().numpy(), cmap='gray', interpolation='none')"
   ]
  },
  {
   "cell_type": "code",
   "execution_count": 36,
   "metadata": {},
   "outputs": [],
   "source": [
    "# def check(i, j, alpha, beta):\n",
    "#     im1 = example_data[i,:,:,:].unsqueeze(0).cuda()\n",
    "#     im2 = example_data[j,:,:,:].unsqueeze(0).cuda()\n",
    "#     out1, l_dist1 = model(im1)\n",
    "#     out2, l_dist2 = model(im2)\n",
    "#     l_sample1 = model.reparameterize(l_dist1)\n",
    "#     l_sample2 = model.reparameterize(l_dist2)\n",
    "#     l_sample = alpha*l_sample1 + beta*l_sample2\n",
    "#     new_out = model.decode(l_sample)\n",
    "# #     new_out1 = model.decode(l_sample1)\n",
    "# #     new_out2 = model.decode(l_sample2)\n",
    "#     plt.figure(figsize=(10,15))\n",
    "#     plt.subplot(1,3,1)\n",
    "#     plt.imshow(example_data[i][0].detach().cpu().numpy(), cmap='gray', interpolation='none')\n",
    "#     plt.subplot(1,3,2)\n",
    "#     plt.imshow(example_data[j][0].detach().cpu().numpy(), cmap='gray', interpolation='none')\n",
    "#     plt.subplot(1,3,3)\n",
    "#     plt.imshow(new_out[0][0].detach().cpu().numpy(), cmap='gray', interpolation='none')\n",
    "#     print(torch.argmax(classifier(F.upsample(new_out, (28,28), mode='bilinear', align_corners=True))))"
   ]
  },
  {
   "cell_type": "code",
   "execution_count": 37,
   "metadata": {},
   "outputs": [],
   "source": [
    "# alpha=1\n",
    "# beta = 1.2\n",
    "# check(19,11, alpha, beta)"
   ]
  },
  {
   "cell_type": "code",
   "execution_count": 38,
   "metadata": {},
   "outputs": [],
   "source": [
    "# class Attack(nn.Module):\n",
    "#     def __init__(self, attack_digit=attack_digit, target_digit=target_digit, vae=model, classifier=classifier, avg_latent=l_sample_list):\n",
    "#         super(self, Attack).__init__()\n",
    "#         self.classifier = classifier\n",
    "#         self.classifier.eval()\n",
    "#         self.vae = vae\n",
    "#         self.vae.eval()\n",
    "#         self.avg_latent = avg_latent\n",
    "#         self.attack_digit = attack_digit\n",
    "#         self.target_digit = target_digit\n",
    "#         self.hidden_layers = hidden_layers\n",
    "#         self.hidden_layers.insert(0, latent_dim)\n",
    "#         self.hidden_layers.append(latent_dim)\n",
    "#         self.layers = []\n",
    "        \n",
    "#         for i in range(len(self.hidden_layers)-1):\n",
    "#             self.layers.append(nn.Linear(self.hidden_layers[i], self.hidden_layers[i+1]))\n",
    "        \n",
    "#         self.layers = nn.ModuleList(self.layers)\n",
    "        \n",
    "#     def forward(self, x, y):\n",
    "#         _, l_dist_x = self.vae(x)\n",
    "#         _, l_dist_y = self.vae(y)\n",
    "#         l_sample_x = self.vae.reparameterize(l_dist_x)\n",
    "#         l_sample_y = self.vae.reparameterize(l_dist_y)\n",
    "#         noised_sample = l_sample\n",
    "#         for layer in self.layers:\n",
    "#             noised_sample = layer(noised_sample)\n",
    "#         noised_images = self.vae.decoder(noised_sample)\n",
    "#         preds = self.classifier(F.upsample(noised_image, (28,28), mode='bilinear', align_corners=True))\n",
    "#         return x"
   ]
  },
  {
   "cell_type": "code",
   "execution_count": 39,
   "metadata": {},
   "outputs": [],
   "source": [
    "from math import exp\n",
    "\n",
    "def gaussian(window_size, sigma):\n",
    "    gauss = torch.Tensor([exp(-(x - window_size//2)**2/float(2*sigma**2)) for x in range(window_size)])\n",
    "    return gauss/gauss.sum()\n",
    "\n",
    "def create_window(window_size, channel):\n",
    "    _1D_window = gaussian(window_size, 1.5).unsqueeze(1)\n",
    "    _2D_window = _1D_window.mm(_1D_window.t()).float().unsqueeze(0).unsqueeze(0)\n",
    "    window = torch.Tensor(_2D_window.expand(channel, 1, window_size, window_size).contiguous())\n",
    "    return window\n",
    "\n",
    "def _ssim(img1, img2, window, window_size, channel, size_average = True):\n",
    "    mu1 = F.conv2d(img1, window, padding = window_size//2, groups = channel)\n",
    "    mu2 = F.conv2d(img2, window, padding = window_size//2, groups = channel)\n",
    "\n",
    "    mu1_sq = mu1.pow(2)\n",
    "    mu2_sq = mu2.pow(2)\n",
    "    mu1_mu2 = mu1*mu2\n",
    "\n",
    "    sigma1_sq = F.conv2d(img1*img1, window, padding = window_size//2, groups = channel) - mu1_sq\n",
    "    sigma2_sq = F.conv2d(img2*img2, window, padding = window_size//2, groups = channel) - mu2_sq\n",
    "    sigma12 = F.conv2d(img1*img2, window, padding = window_size//2, groups = channel) - mu1_mu2\n",
    "\n",
    "    C1 = 0.01**2\n",
    "    C2 = 0.03**2\n",
    "\n",
    "    ssim_map = ((2*mu1_mu2 + C1)*(2*sigma12 + C2))/((mu1_sq + mu2_sq + C1)*(sigma1_sq + sigma2_sq + C2))\n",
    "\n",
    "    if size_average:\n",
    "        return ssim_map.mean()\n",
    "    else:\n",
    "        return ssim_map.mean(1).mean(1).mean(1)\n",
    "\n",
    "class SSIM(nn.Module):\n",
    "    def __init__(self, window_size = 11, size_average = True):\n",
    "        super(SSIM, self).__init__()\n",
    "        self.window_size = window_size\n",
    "        self.size_average = size_average\n",
    "        self.channel = 1\n",
    "        self.window = create_window(window_size, self.channel)\n",
    "\n",
    "    def forward(self, img1, img2):\n",
    "        (_, channel, _, _) = img1.size()\n",
    "\n",
    "        if channel == self.channel and self.window.data.type() == img1.data.type():\n",
    "            window = self.window\n",
    "        else:\n",
    "            window = create_window(self.window_size, channel)\n",
    "            \n",
    "            if img1.is_cuda:\n",
    "                window = window.cuda(img1.get_device())\n",
    "            window = window.type_as(img1)\n",
    "            \n",
    "            self.window = window\n",
    "            self.channel = channel\n",
    "\n",
    "\n",
    "        return _ssim(img1, img2, window, self.window_size, channel, self.size_average)\n",
    "\n",
    "def ssim(img1, img2, window_size = 11, size_average = True):\n",
    "    (_, channel, _, _) = img1.size()\n",
    "    window = create_window(window_size, channel)\n",
    "    \n",
    "    if img1.is_cuda:\n",
    "        window = window.cuda(img1.get_device())\n",
    "    window = window.type_as(img1)\n",
    "    \n",
    "    return _ssim(img1, img2, window, window_size, channel, size_average)\n",
    "\n",
    "ssim_loss = SSIM(window_size = 5)"
   ]
  },
  {
   "cell_type": "code",
   "execution_count": 40,
   "metadata": {},
   "outputs": [],
   "source": [
    "use_cuda = True\n",
    "device = torch.device('cuda' if use_cuda else 'cpu')\n",
    "\n",
    "# Constrained Translator\n",
    "class Noise(nn.Module):\n",
    "    def __init__(self, hidden_layers=[50, 100, latent_dim], latent_dim=latent_dim):\n",
    "        super(Noise, self).__init__()\n",
    "        self.latent_dim = latent_dim\n",
    "        self.hidden_layers = hidden_layers\n",
    "        self.hidden_layers.insert(0, latent_dim)\n",
    "        self.layers = []\n",
    "        \n",
    "        for i in range(len(self.hidden_layers)-1):\n",
    "            self.layers.append(nn.Linear(self.hidden_layers[i], self.hidden_layers[i+1]))\n",
    "        \n",
    "        self.layers = nn.ModuleList(self.layers)\n",
    "        \n",
    "    def forward(self, x):\n",
    "        for layer in self.layers:\n",
    "            x = layer(x)\n",
    "        return x"
   ]
  },
  {
   "cell_type": "code",
   "execution_count": 41,
   "metadata": {},
   "outputs": [],
   "source": [
    "# Constrained Cofficients\n",
    "class Cofficients(nn.Module):\n",
    "    def __init__(self, hidden_layers=[40, 20, 10, 1], latent_dim=latent_dim):\n",
    "        super(Cofficients, self).__init__()\n",
    "        self.latent_dim = latent_dim\n",
    "        self.hidden_layers = hidden_layers\n",
    "        self.hidden_layers.insert(0, latent_dim)\n",
    "        self.layers = []\n",
    "        \n",
    "        for i in range(len(self.hidden_layers)-1):\n",
    "            self.layers.append(nn.Linear(self.hidden_layers[i], self.hidden_layers[i+1]))\n",
    "        \n",
    "        self.layers = nn.ModuleList(self.layers)\n",
    "        \n",
    "    def forward(self, x):\n",
    "        for layer in self.layers:\n",
    "            x = layer(x)\n",
    "        return x"
   ]
  },
  {
   "cell_type": "code",
   "execution_count": 42,
   "metadata": {},
   "outputs": [],
   "source": [
    "# import torch\n",
    "# use_cuda = True\n",
    "# device = torch.device('cuda' if use_cuda else 'cpu')\n",
    "\n",
    "\n",
    "# def create_logits(preds, device=device):\n",
    "#     preds = preds.cpu()\n",
    "#     logits = preds.cpu()\n",
    "    \n",
    "#     sorted_ = torch.argsort(preds, dim=1, descending=True)\n",
    "#     first = sorted_[:,0]\n",
    "#     second = sorted_[:,1]\n",
    "#     print(first)\n",
    "#     print(second)\n",
    "    \n",
    "#     p_first = preds.gather(1, first.view(-1,1))\n",
    "#     p_second = preds.gather(1, second.view(-1,1))\n",
    "#     means = torch.mean(torch.stack([p_first, p_second]), dim=0).squeeze(1)\n",
    "#     print(means)\n",
    "#     diff = 0.1*(first - second)\n",
    "#     print(diff)\n",
    "#     print((means-diff).shape)\n",
    "#     j = torch.arange(logits.size(0)).long()\n",
    "#     logits[j, first] = torch.FloatTensor(means - diff)\n",
    "#     logits[j, second] = torch.FloatTensor(means + diff)\n",
    "# #     print(logits[0])\n",
    "#     return logits.to(device), first, second\n",
    "\n",
    "# a = torch.randn((10,4)).cuda()\n",
    "# b = create_logits(a)"
   ]
  },
  {
   "cell_type": "code",
   "execution_count": 56,
   "metadata": {},
   "outputs": [],
   "source": [
    "# from skimage.metrics import structural_similarity as ssim\n",
    "\n",
    "use_cuda = True\n",
    "device = torch.device('cuda' if use_cuda else 'cpu')\n",
    "\n",
    "\n",
    "def create_logits(preds, device=device):\n",
    "    preds = preds.cpu()\n",
    "    logits = preds\n",
    "    \n",
    "    sorted_ = torch.argsort(preds, dim=1, descending=True)\n",
    "    first = sorted_[:,0]\n",
    "    second = sorted_[:,1]\n",
    "    \n",
    "    p_first = preds.gather(1, first.view(-1,1))\n",
    "    p_second = preds.gather(1, second.view(-1,1))\n",
    "    \n",
    "    means = torch.mean(torch.stack([p_first, p_second]), dim=0).squeeze(1)\n",
    "    diff = 0.1*(first - second)\n",
    "    \n",
    "    j = torch.arange(logits.size(0)).long()\n",
    "    \n",
    "    logits[j, first] = torch.FloatTensor(means - diff)\n",
    "    logits[j, second] = torch.FloatTensor(means + diff)\n",
    "    \n",
    "    return logits.to(device), first, second\n",
    "\n",
    "def structural(org_image, noised_image):\n",
    "    batch_size, channels, width, height = org_image.shape\n",
    "    loss1 = 0\n",
    "    for b_ in range(batch_size):\n",
    "        ch_loss = 0\n",
    "        for ch_ in range(channels):\n",
    "            ch_loss += 1-ssim(org_image[b_][ch_].detach().cpu().numpy(), noised_image[b_][ch_].detach().cpu().numpy())\n",
    "        loss1 += ch_loss/channels\n",
    "    return loss1\n",
    "            \n",
    "class T_Loss(nn.Module):\n",
    "    def __init__(self, alt_target, decoder=model.decode, classifier=classifier,\n",
    "                 latent_dim=latent_dim, l_samples=l_sample_list,\n",
    "                 classes=len(train_data.classes)):\n",
    "        super(T_Loss, self).__init__()\n",
    "        self.decoder = decoder\n",
    "        self.classifier = classifier\n",
    "#         self.means = means\n",
    "#         self.stds = stds\n",
    "        self.l_samples = l_samples\n",
    "        self.classes = classes\n",
    "        self.latent_dim = latent_dim\n",
    "        self.alt_target = alt_target\n",
    "        \n",
    "        \n",
    "    def forward(self, coffs, noises, org_x, targets):\n",
    "        \n",
    "        org_image = self.decoder(org_x)\n",
    "        \n",
    "        preds = self.classifier(F.upsample(org_image, (28,28), mode='bilinear', align_corners=True))\n",
    "        \n",
    "        alt_target, first, second = create_logits(preds)\n",
    "        \n",
    "        means = []\n",
    "        stds = []\n",
    "        \n",
    "        for key in second:\n",
    "            means.append(self.l_samples[key.item()]['mean'])\n",
    "            stds.append(self.l_samples[key.item()]['std'])\n",
    "        \n",
    "        means = torch.stack(means)\n",
    "        stds = torch.stack(stds)\n",
    "        noise_latent = means.squeeze(1) + torch.clamp(noises, min=-3, max=3) * stds.squeeze(1)\n",
    "        noise_latent = F.normalize(coffs) * noise_latent\n",
    "        \n",
    "        noised_sample = org_x + 0.6*noise_latent\n",
    "        \n",
    "        noised_image = self.decoder(noised_sample)\n",
    "        \n",
    "        preds = self.classifier(F.upsample(noised_image, (28,28), mode='bilinear', align_corners=True))\n",
    "        \n",
    "#         loss1 = ssim_loss(org_image, noised_image)\n",
    "        \n",
    "        loss2 = nn.BCELoss(reduction='sum')(preds, alt_target.float())\n",
    "        \n",
    "        loss3 = torch.norm(org_image-noised_image, p=2)  \n",
    "\n",
    "#         loss = 400*(1-loss1) + 0.5*loss2 + 20*loss3\n",
    "        loss = 0.5*loss2 + 20*loss3\n",
    "#         loss = loss2 + 20*loss3\n",
    "#         loss.requires_grad = True\n",
    "        \n",
    "        out_labels = preds.argmax(dim=1, keepdim=True)\n",
    "#         print(out_labels)\n",
    "#         print(torch.empty(out_labels.shape).fill_(target_label))\n",
    "#         print(preds)\n",
    "#         correct = out_labels.eq(torch.Tensor([target_label]*out_labels.shape[0]).to(device)).sum()\n",
    "#         print(out_labels.shape)\n",
    "#         print((out_labels.squeeze(1)==targets.cuda()).sum())\n",
    "        correct = (out_labels.squeeze(1)==targets.cuda()).sum()\n",
    "#         print(out_labels.shape)\n",
    "#         print(correct)\n",
    "#         print(torch.Tensor([target_label]*out_labels.shape[0]))\n",
    "#         print(out_labels)\n",
    "        return loss, correct.item()"
   ]
  },
  {
   "cell_type": "code",
   "execution_count": 61,
   "metadata": {},
   "outputs": [
    {
     "data": {
      "text/plain": [
       "T_Loss(\n",
       "  (classifier): Classifier(\n",
       "    (conv1): Conv2d(1, 32, kernel_size=(3, 3), stride=(1, 1))\n",
       "    (conv2): Conv2d(32, 64, kernel_size=(3, 3), stride=(1, 1))\n",
       "    (dropout1): Dropout2d(p=0.25, inplace=False)\n",
       "    (dropout2): Dropout2d(p=0.5, inplace=False)\n",
       "    (fc1): Linear(in_features=9216, out_features=128, bias=True)\n",
       "    (fc2): Linear(in_features=128, out_features=10, bias=True)\n",
       "  )\n",
       ")"
      ]
     },
     "execution_count": 61,
     "metadata": {},
     "output_type": "execute_result"
    }
   ],
   "source": [
    "alt_target = 5\n",
    "noise = Noise().to(device)\n",
    "cofficient = Cofficients().to(device)\n",
    "tloss = T_Loss(alt_target=5).to(device)\n",
    "tloss.eval()"
   ]
  },
  {
   "cell_type": "code",
   "execution_count": 62,
   "metadata": {},
   "outputs": [],
   "source": [
    "for param in noise.parameters():\n",
    "    param.requires_grad=True\n",
    "    \n",
    "for param in cofficient.parameters():\n",
    "    param.requires_grad=True"
   ]
  },
  {
   "cell_type": "code",
   "execution_count": 46,
   "metadata": {},
   "outputs": [],
   "source": [
    "# count_digit = 0\n",
    "# for i in range(len(train_data)):\n",
    "#     if train_data[i][1]==5:\n",
    "#         count_digit += 1\n",
    "# print(count_digit)"
   ]
  },
  {
   "cell_type": "code",
   "execution_count": null,
   "metadata": {},
   "outputs": [
    {
     "data": {
      "application/vnd.jupyter.widget-view+json": {
       "model_id": "da3b13e9482e412aa2956745f8868692",
       "version_major": 2,
       "version_minor": 0
      },
      "text/plain": [
       "HBox(children=(FloatProgress(value=0.0, max=150.0), HTML(value='')))"
      ]
     },
     "metadata": {},
     "output_type": "display_data"
    },
    {
     "name": "stdout",
     "output_type": "stream",
     "text": [
      "Train Epoch: 1\tLoss: 647.762249\tCorrect: 43501\n",
      "Train Epoch: 2\tLoss: 556.010368\tCorrect: 48396\n",
      "Train Epoch: 3\tLoss: 542.347683\tCorrect: 48833\n",
      "Train Epoch: 4\tLoss: 532.720365\tCorrect: 48768\n",
      "Train Epoch: 5\tLoss: 525.081668\tCorrect: 48585\n",
      "Train Epoch: 6\tLoss: 524.732426\tCorrect: 48222\n",
      "Train Epoch: 7\tLoss: 523.251293\tCorrect: 48170\n",
      "Train Epoch: 8\tLoss: 516.330376\tCorrect: 48623\n",
      "Train Epoch: 9\tLoss: 515.736216\tCorrect: 48497\n",
      "Train Epoch: 10\tLoss: 515.257098\tCorrect: 48313\n",
      "Train Epoch: 11\tLoss: 514.352359\tCorrect: 48591\n",
      "Train Epoch: 12\tLoss: 523.336765\tCorrect: 48001\n",
      "Train Epoch: 13\tLoss: 514.376433\tCorrect: 48328\n",
      "Train Epoch: 14\tLoss: 509.549922\tCorrect: 48643\n",
      "Train Epoch: 15\tLoss: 507.864562\tCorrect: 48681\n",
      "Train Epoch: 16\tLoss: 505.845902\tCorrect: 48724\n",
      "Train Epoch: 17\tLoss: 509.712556\tCorrect: 48434\n",
      "Train Epoch: 18\tLoss: 507.220670\tCorrect: 48710\n",
      "Train Epoch: 19\tLoss: 504.930542\tCorrect: 48743\n",
      "Train Epoch: 20\tLoss: 502.936244\tCorrect: 48717\n",
      "Train Epoch: 21\tLoss: 503.463399\tCorrect: 48783\n",
      "Train Epoch: 22\tLoss: 506.877240\tCorrect: 48502\n",
      "Train Epoch: 23\tLoss: 500.761214\tCorrect: 48865\n",
      "Train Epoch: 24\tLoss: 499.690953\tCorrect: 48740\n",
      "Train Epoch: 25\tLoss: 507.315242\tCorrect: 48373\n",
      "Train Epoch: 26\tLoss: 503.118296\tCorrect: 48514\n",
      "Train Epoch: 27\tLoss: 499.210952\tCorrect: 48795\n",
      "Train Epoch: 28\tLoss: 497.266452\tCorrect: 48718\n",
      "Train Epoch: 29\tLoss: 498.309427\tCorrect: 48645\n",
      "Train Epoch: 30\tLoss: 504.617851\tCorrect: 48495\n",
      "Train Epoch: 31\tLoss: 505.964263\tCorrect: 48263\n",
      "Train Epoch: 32\tLoss: 500.664295\tCorrect: 48452\n",
      "Train Epoch: 33\tLoss: 497.062141\tCorrect: 48616\n",
      "Train Epoch: 34\tLoss: 499.558675\tCorrect: 48516\n",
      "Train Epoch: 35\tLoss: 494.918224\tCorrect: 48832\n",
      "Train Epoch: 36\tLoss: 502.782494\tCorrect: 48308\n",
      "Train Epoch: 37\tLoss: 500.382593\tCorrect: 48531\n",
      "Train Epoch: 38\tLoss: 497.568457\tCorrect: 48706\n",
      "Train Epoch: 39\tLoss: 497.992967\tCorrect: 48853\n",
      "Train Epoch: 40\tLoss: 493.342164\tCorrect: 48936\n",
      "Train Epoch: 41\tLoss: 496.107744\tCorrect: 48680\n",
      "Train Epoch: 42\tLoss: 504.576104\tCorrect: 48091\n",
      "Train Epoch: 43\tLoss: 499.264549\tCorrect: 48481\n",
      "Train Epoch: 44\tLoss: 496.683690\tCorrect: 48571\n",
      "Train Epoch: 45\tLoss: 497.402483\tCorrect: 48628\n",
      "Train Epoch: 46\tLoss: 492.286312\tCorrect: 48864\n",
      "Train Epoch: 47\tLoss: 490.468220\tCorrect: 48885\n",
      "Train Epoch: 48\tLoss: 497.219415\tCorrect: 48644\n",
      "Train Epoch: 49\tLoss: 491.438389\tCorrect: 49022\n",
      "Train Epoch: 50\tLoss: 499.212488\tCorrect: 48492\n",
      "Train Epoch: 51\tLoss: 493.072612\tCorrect: 48781\n",
      "Train Epoch: 52\tLoss: 494.629162\tCorrect: 48642\n",
      "Train Epoch: 53\tLoss: 490.890916\tCorrect: 48977\n",
      "Train Epoch: 54\tLoss: 488.949940\tCorrect: 48922\n",
      "Train Epoch: 55\tLoss: 493.808114\tCorrect: 48792\n",
      "Train Epoch: 56\tLoss: 493.118507\tCorrect: 48812\n",
      "Train Epoch: 57\tLoss: 490.000122\tCorrect: 49110\n",
      "Train Epoch: 58\tLoss: 492.172550\tCorrect: 48758\n",
      "Train Epoch: 59\tLoss: 492.424653\tCorrect: 48744\n",
      "Train Epoch: 60\tLoss: 491.732169\tCorrect: 48777\n",
      "Train Epoch: 61\tLoss: 488.493048\tCorrect: 48971\n",
      "Train Epoch: 62\tLoss: 488.750441\tCorrect: 48898\n",
      "Train Epoch: 63\tLoss: 492.733163\tCorrect: 48871\n",
      "Train Epoch: 64\tLoss: 490.631474\tCorrect: 48932\n",
      "Train Epoch: 65\tLoss: 488.446036\tCorrect: 49092\n",
      "Train Epoch: 66\tLoss: 486.595735\tCorrect: 49094\n",
      "Train Epoch: 67\tLoss: 490.979491\tCorrect: 48811\n",
      "Train Epoch: 68\tLoss: 499.061845\tCorrect: 48477\n",
      "Train Epoch: 69\tLoss: 492.792456\tCorrect: 48643\n",
      "Train Epoch: 70\tLoss: 490.218996\tCorrect: 48805\n",
      "Train Epoch: 71\tLoss: 487.990222\tCorrect: 48990\n",
      "Train Epoch: 72\tLoss: 488.314495\tCorrect: 49032\n",
      "Train Epoch: 73\tLoss: 493.286339\tCorrect: 48621\n",
      "Train Epoch: 74\tLoss: 490.798707\tCorrect: 48729\n",
      "Train Epoch: 75\tLoss: 490.577382\tCorrect: 48770\n",
      "Train Epoch: 76\tLoss: 487.700985\tCorrect: 49144\n",
      "Train Epoch: 77\tLoss: 489.939342\tCorrect: 48696\n",
      "Train Epoch: 78\tLoss: 491.367733\tCorrect: 48818\n",
      "Train Epoch: 79\tLoss: 487.835784\tCorrect: 49017\n",
      "Train Epoch: 80\tLoss: 488.825827\tCorrect: 49060\n",
      "Train Epoch: 81\tLoss: 485.355146\tCorrect: 49232\n",
      "Train Epoch: 82\tLoss: 488.141168\tCorrect: 49025\n",
      "Train Epoch: 83\tLoss: 487.053177\tCorrect: 49230\n",
      "Train Epoch: 84\tLoss: 487.576003\tCorrect: 49304\n",
      "Train Epoch: 85\tLoss: 484.897856\tCorrect: 49492\n",
      "Train Epoch: 86\tLoss: 492.340313\tCorrect: 48816\n",
      "Train Epoch: 87\tLoss: 488.027554\tCorrect: 49128\n",
      "Train Epoch: 88\tLoss: 489.119012\tCorrect: 49193\n",
      "Train Epoch: 89\tLoss: 485.625790\tCorrect: 49495\n",
      "Train Epoch: 90\tLoss: 484.180779\tCorrect: 49512\n",
      "Train Epoch: 91\tLoss: 491.300393\tCorrect: 48840\n",
      "Train Epoch: 92\tLoss: 488.541240\tCorrect: 49105\n",
      "Train Epoch: 93\tLoss: 486.304280\tCorrect: 49494\n",
      "Train Epoch: 94\tLoss: 484.576086\tCorrect: 49481\n"
     ]
    }
   ],
   "source": [
    "from tqdm.notebook import tqdm\n",
    "attack_log_interval = 1\n",
    "\n",
    "noise.train()\n",
    "cofficient.train()\n",
    "\n",
    "optimizer1 = optim.Adam(noise.parameters(), lr=1e-4)\n",
    "# optimizer1 = torch.optim.SGD(noise.parameters(), lr=1e-4, momentum=0.9)\n",
    "\n",
    "# optimizer2 = torch.optim.SGD(cofficient.parameters(), lr=1e-4, momentum=0.9)\n",
    "optimizer2 = optim.Adam(cofficient.parameters(), lr=1e-4)\n",
    "\n",
    "\n",
    "# scheduler1 = torch.optim.lr_scheduler.CyclicLR(optimizer1, base_lr=1e-7, max_lr=0.1)\n",
    "# scheduler2 = torch.optim.lr_scheduler.CyclicLR(optimizer2, base_lr=1e-7, max_lr=0.1)\n",
    "\n",
    "for epoch in tqdm(range(150)):\n",
    "    epoch_loss = 0\n",
    "    epoch_correct = 0\n",
    "    for batch_idx, (data, target) in enumerate(train_loader):\n",
    "        \n",
    "        data = torch.FloatTensor(data).to(device)\n",
    "        _, l_dist = model(data)\n",
    "        l_sample = model.reparameterize(l_dist)\n",
    "        \n",
    "        n = noise(l_sample)\n",
    "        c = cofficient(l_sample)\n",
    "\n",
    "        optimizer1.zero_grad()\n",
    "        optimizer2.zero_grad()\n",
    "        \n",
    "        loss, correct = tloss(c, n, l_sample, target)\n",
    "\n",
    "        loss.backward()\n",
    "        \n",
    "        optimizer1.step()\n",
    "        optimizer2.step()\n",
    "\n",
    "#         scheduler1.step()\n",
    "#         scheduler2.step()\n",
    "\n",
    "        epoch_loss += loss.item()\n",
    "    \n",
    "        epoch_correct += correct\n",
    "        \n",
    "    if (epoch+1) % attack_log_interval == 0:\n",
    "        print('Train Epoch: {}\\tLoss: {:.6f}\\tCorrect: {}'.format(\n",
    "            epoch+1, epoch_loss/batch_idx, epoch_correct))"
   ]
  },
  {
   "cell_type": "code",
   "execution_count": null,
   "metadata": {},
   "outputs": [],
   "source": [
    "torch.save(noise, 'models/{}/noise.pt'.format(FOLDER))\n",
    "torch.save(cofficient, 'models/{}/coff.pt'.format(FOLDER))"
   ]
  },
  {
   "cell_type": "code",
   "execution_count": null,
   "metadata": {},
   "outputs": [],
   "source": [
    "noise.eval()\n",
    "cofficient.eval()\n",
    "total_correct = 0\n",
    "total_test = 0\n",
    "for batch_idx, (data, target) in enumerate(test_loader):\n",
    "    total_test += data.shape[0]\n",
    "    data = torch.FloatTensor(data).to(device)\n",
    "\n",
    "    _, l_dist = model(data)\n",
    "    l_sample = model.reparameterize(l_dist)\n",
    "    \n",
    "    noise_ = noise(l_sample)\n",
    "    coff_ = cofficient(l_sample)\n",
    "    \n",
    "    loss, correct = tloss(coff_, noise_, l_sample, alt_target)\n",
    "    total_correct += correct\n",
    "#     print(correct)\n",
    "#         loss.backward()\n",
    "#         optimizer.step()\n",
    "#         print(correct)\n",
    "#         epoch_loss += loss.item()\n",
    "    \n",
    "\n",
    "#     if (epoch+1) % attack_log_interval == 0:\n",
    "#         print('Train Epoch: \\tCorrect: {}'.format(\n",
    "#             epoch, epoch_correct))\n",
    "print(total_correct)\n",
    "print(\"Accuracy: \", 100*(total_correct/total_test))"
   ]
  },
  {
   "cell_type": "code",
   "execution_count": null,
   "metadata": {},
   "outputs": [],
   "source": [
    "def test(i, means=l_mean_tensor, stds=l_std_tensor, latent_dim=latent_dim, classes=len(train_data.classes)):\n",
    "    _, l_dist = model(example_data[i].unsqueeze_(0).to(device))\n",
    "    l_sample = model.reparameterize(l_dist)\n",
    "    noises = noise(l_sample)\n",
    "    coffs = cofficient(l_sample)\n",
    "#     print(coffs.shape)\n",
    "#     print(noises.shape)\n",
    "    noised_latent = means + noises.reshape(noises.shape[0], classes, latent_dim)*stds\n",
    "    noised_latent = coffs[:,:,None]*noised_latent\n",
    "#     print(noised_latent.shape)\n",
    "#     print(l_sample.shape)\n",
    "#     print(torch.transpose(coff[:,None].cuda()*avg_latent.T, 1, 2).sum(1).shape)\n",
    "#     noised_latent = l_sample + 2e-1*torch.transpose(coff[:,None].cuda()*avg_latent.T, 1, 2).sum(1)\n",
    "#     print(noised_latent.shape)\n",
    "#     print(noised_sample)\n",
    "#     print(l_sample)\n",
    "#     noised_sample = 1 * ((l_sample - l_sample.min())/(l_sample.max() - l_sample.min())) + 1e-2 * ((noised_sample - noised_sample.min())/(noised_sample.max() - noised_sample.min()))\n",
    "#     noised_sample = 1 * l_sample + 2e-2 * noised_sample\n",
    "#     noised_sample = l_sample + 1e-7 * noised_sample\n",
    "    final = model.decode(l_sample+1e-12*noised_latent.sum(dim=1))\n",
    "#     print(final.shape)\n",
    "    pred_org = torch.argmax(classifier(F.upsample(example_data[i,:,:,:].unsqueeze(0).cuda(), (28,28), mode='bilinear', align_corners=True)))\n",
    "    pred = torch.argmax(classifier(F.upsample(final, (28,28), mode='bilinear', align_corners=True)), dim=1)\n",
    "#     print(pred)\n",
    "    plt.figure(figsize=(10,10))\n",
    "    plt.subplot(1,2,1)\n",
    "    plt.imshow(example_data[i][0].detach().cpu().numpy(), cmap='gray', interpolation='none')\n",
    "    plt.subplot(1,2,2)\n",
    "    plt.imshow(final[0][0].detach().cpu().numpy(), cmap='gray', interpolation='none')\n",
    "    plt.title(\"Prediction: {}, {}\".format(pred_org.item(), pred.item()))"
   ]
  },
  {
   "cell_type": "code",
   "execution_count": null,
   "metadata": {},
   "outputs": [],
   "source": [
    "for i in range(64):\n",
    "    test(i)"
   ]
  },
  {
   "cell_type": "code",
   "execution_count": null,
   "metadata": {},
   "outputs": [],
   "source": [
    "torch.transpose(torch.clamp(coff[:,None].cuda(), min=-0.8, max=0.3)*self.avg_latent.T, 1, 2).sum(1)"
   ]
  }
 ],
 "metadata": {
  "kernelspec": {
   "display_name": "Python 3",
   "language": "python",
   "name": "python3"
  },
  "language_info": {
   "codemirror_mode": {
    "name": "ipython",
    "version": 3
   },
   "file_extension": ".py",
   "mimetype": "text/x-python",
   "name": "python",
   "nbconvert_exporter": "python",
   "pygments_lexer": "ipython3",
   "version": "3.6.9"
  }
 },
 "nbformat": 4,
 "nbformat_minor": 2
}
