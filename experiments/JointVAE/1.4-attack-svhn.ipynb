{
 "cells": [
  {
   "cell_type": "markdown",
   "metadata": {},
   "source": [
    "# Train a JointVAE model"
   ]
  },
  {
   "cell_type": "markdown",
   "metadata": {},
   "source": [
    "### Get MNIST data\n",
    "Build a simple JointVAE model on MNIST"
   ]
  },
  {
   "cell_type": "code",
   "execution_count": 1,
   "metadata": {},
   "outputs": [],
   "source": [
    "VAE_TRAIN = False\n",
    "FIND_DIST = False\n",
    "FOLDER = \"dist4-svhn\""
   ]
  },
  {
   "cell_type": "code",
   "execution_count": 2,
   "metadata": {},
   "outputs": [],
   "source": [
    "import torch\n",
    "import torch.nn as nn\n",
    "import torch.nn.functional as F\n",
    "import matplotlib.pyplot as plt"
   ]
  },
  {
   "cell_type": "code",
   "execution_count": 3,
   "metadata": {},
   "outputs": [
    {
     "name": "stdout",
     "output_type": "stream",
     "text": [
      "Using downloaded and verified file: /home/data/bvaa/train_32x32.mat\n",
      "Using downloaded and verified file: /home/data/bvaa/test_32x32.mat\n"
     ]
    }
   ],
   "source": [
    "from dataloaders import get_svhn_dataloader\n",
    "# train_loader, test_loader = get_mnist_dataloaders_attack(2, 5, train_batch_size=64, test_batch_size=64, path_to_data='/home/data/bvaa')\n",
    "train_loader, test_loader = get_svhn_dataloader(batch_size=32, path_to_data='/home/data/bvaa')"
   ]
  },
  {
   "cell_type": "code",
   "execution_count": 4,
   "metadata": {},
   "outputs": [
    {
     "name": "stdout",
     "output_type": "stream",
     "text": [
      "Using downloaded and verified file: /home/data/bvaa/train_32x32.mat\n"
     ]
    }
   ],
   "source": [
    "from torchvision import datasets, transforms\n",
    "all_transforms = transforms.Compose([\n",
    "        transforms.Resize(32),\n",
    "        transforms.ToTensor()\n",
    "    ])\n",
    "train_data = datasets.SVHN('/home/data/bvaa/', split='train', download=True,\n",
    "                                transform=all_transforms)"
   ]
  },
  {
   "cell_type": "code",
   "execution_count": 5,
   "metadata": {},
   "outputs": [
    {
     "data": {
      "text/plain": [
       "torch.Size([3, 32, 32])"
      ]
     },
     "execution_count": 5,
     "metadata": {},
     "output_type": "execute_result"
    }
   ],
   "source": [
    "train_data[1][0].shape"
   ]
  },
  {
   "cell_type": "markdown",
   "metadata": {},
   "source": [
    "### Define latent distribution of the model"
   ]
  },
  {
   "cell_type": "code",
   "execution_count": 6,
   "metadata": {},
   "outputs": [],
   "source": [
    "# Latent distribution will be joint distribution of 10 gaussian normal distributions\n",
    "# and one 10 dimensional Gumbel Softmax distribution\n",
    "latent_spec = {'cont': 32,\n",
    "               'disc': [10]}\n",
    "latent_dim = 42"
   ]
  },
  {
   "cell_type": "markdown",
   "metadata": {},
   "source": [
    "### Build a model"
   ]
  },
  {
   "cell_type": "markdown",
   "metadata": {},
   "source": [
    "### Train the model"
   ]
  },
  {
   "cell_type": "code",
   "execution_count": 7,
   "metadata": {},
   "outputs": [],
   "source": [
    "## Classifiers\n",
    "\n",
    "## Classifiers\n",
    "##########################\n",
    "### MODEL\n",
    "##########################\n",
    "\n",
    "\n",
    "def conv3x3(in_planes, out_planes, stride=1):\n",
    "    \"\"\"3x3 convolution with padding\"\"\"\n",
    "    return nn.Conv2d(in_planes, out_planes, kernel_size=3, stride=stride,\n",
    "                     padding=1, bias=False)\n",
    "\n",
    "\n",
    "class Bottleneck(nn.Module):\n",
    "    expansion = 4\n",
    "\n",
    "    def __init__(self, inplanes, planes, stride=1, downsample=None):\n",
    "        super(Bottleneck, self).__init__()\n",
    "        self.conv1 = nn.Conv2d(inplanes, planes, kernel_size=1, bias=False)\n",
    "        self.bn1 = nn.BatchNorm2d(planes)\n",
    "        self.conv2 = nn.Conv2d(planes, planes, kernel_size=3, stride=stride,\n",
    "                               padding=1, bias=False)\n",
    "        self.bn2 = nn.BatchNorm2d(planes)\n",
    "        self.conv3 = nn.Conv2d(planes, planes * 4, kernel_size=1, bias=False)\n",
    "        self.bn3 = nn.BatchNorm2d(planes * 4)\n",
    "        self.relu = nn.ReLU(inplace=True)\n",
    "        self.downsample = downsample\n",
    "        self.stride = stride\n",
    "\n",
    "    def forward(self, x):\n",
    "        residual = x\n",
    "\n",
    "        out = self.conv1(x)\n",
    "        out = self.bn1(out)\n",
    "        out = self.relu(out)\n",
    "\n",
    "        out = self.conv2(out)\n",
    "        out = self.bn2(out)\n",
    "        out = self.relu(out)\n",
    "\n",
    "        out = self.conv3(out)\n",
    "        out = self.bn3(out)\n",
    "\n",
    "        if self.downsample is not None:\n",
    "            residual = self.downsample(x)\n",
    "\n",
    "        out += residual\n",
    "        out = self.relu(out)\n",
    "\n",
    "        return out\n",
    "\n",
    "\n",
    "\n",
    "\n",
    "class ResNet(nn.Module):\n",
    "\n",
    "    def __init__(self, block, layers, num_classes, grayscale):\n",
    "        self.inplanes = 64\n",
    "        if grayscale:\n",
    "            in_dim = 1\n",
    "        else:\n",
    "            in_dim = 3\n",
    "        super(ResNet, self).__init__()\n",
    "        self.conv1 = nn.Conv2d(in_dim, 64, kernel_size=7, stride=2, padding=3,\n",
    "                               bias=False)\n",
    "        self.bn1 = nn.BatchNorm2d(64)\n",
    "        self.relu = nn.ReLU(inplace=True)\n",
    "        self.maxpool = nn.MaxPool2d(kernel_size=3, stride=2, padding=1)\n",
    "        self.layer1 = self._make_layer(block, 64, layers[0])\n",
    "        self.layer2 = self._make_layer(block, 128, layers[1], stride=2)\n",
    "        self.layer3 = self._make_layer(block, 256, layers[2], stride=2)\n",
    "        self.layer4 = self._make_layer(block, 512, layers[3], stride=2)\n",
    "        self.avgpool = nn.AvgPool2d(7, stride=1, padding=2)\n",
    "        self.fc = nn.Linear(512 * block.expansion, num_classes)\n",
    "\n",
    "        for m in self.modules():\n",
    "            if isinstance(m, nn.Conv2d):\n",
    "                n = m.kernel_size[0] * m.kernel_size[1] * m.out_channels\n",
    "                m.weight.data.normal_(0, (2. / n)**.5)\n",
    "            elif isinstance(m, nn.BatchNorm2d):\n",
    "                m.weight.data.fill_(1)\n",
    "                m.bias.data.zero_()\n",
    "\n",
    "    def _make_layer(self, block, planes, blocks, stride=1):\n",
    "        downsample = None\n",
    "        if stride != 1 or self.inplanes != planes * block.expansion:\n",
    "            downsample = nn.Sequential(\n",
    "                nn.Conv2d(self.inplanes, planes * block.expansion,\n",
    "                          kernel_size=1, stride=stride, bias=False),\n",
    "                nn.BatchNorm2d(planes * block.expansion),\n",
    "            )\n",
    "\n",
    "        layers = []\n",
    "        layers.append(block(self.inplanes, planes, stride, downsample))\n",
    "        self.inplanes = planes * block.expansion\n",
    "        for i in range(1, blocks):\n",
    "            layers.append(block(self.inplanes, planes))\n",
    "\n",
    "        return nn.Sequential(*layers)\n",
    "\n",
    "    def forward(self, x):\n",
    "        x = x.float()\n",
    "        x = self.conv1(x)\n",
    "        x = self.bn1(x)\n",
    "        x = self.relu(x)\n",
    "        x = self.maxpool(x)\n",
    "\n",
    "        x = self.layer1(x)\n",
    "        x = self.layer2(x)\n",
    "#         x = self.layer3(x)\n",
    "#         x = self.layer4(x)\n",
    "        \n",
    "        x = self.avgpool(x)\n",
    "        x = x.view(x.size(0), -1)\n",
    "#         print(\"x shape:\", x.shape)\n",
    "        logits = self.fc(x)\n",
    "        probas = F.softmax(logits, dim=1)\n",
    "        return logits, probas\n",
    "\n",
    "\n",
    "\n",
    "def resnet152(num_classes, grayscale):\n",
    "    \"\"\"Constructs a ResNet-152 model.\"\"\"\n",
    "    model = ResNet(block=Bottleneck, \n",
    "                   layers=[10, 9, 9, 3],\n",
    "                   num_classes=NUM_CLASSES,\n",
    "                   grayscale=grayscale)\n",
    "    return model\n",
    "\n",
    "\n",
    "\n",
    "\n",
    "## Add here"
   ]
  },
  {
   "cell_type": "code",
   "execution_count": 8,
   "metadata": {},
   "outputs": [],
   "source": [
    "# Hyperparameters\n",
    "RANDOM_SEED = 1\n",
    "LEARNING_RATE = 0.001\n",
    "NUM_EPOCHS = 10\n",
    "\n",
    "# Architecture\n",
    "NUM_FEATURES = 32*32\n",
    "NUM_CLASSES = 10\n",
    "BATCH_SIZE = 64\n",
    "DEVICE = 'cuda:0' # default GPU device\n",
    "GRAYSCALE = False"
   ]
  },
  {
   "cell_type": "code",
   "execution_count": 9,
   "metadata": {},
   "outputs": [],
   "source": [
    "torch.manual_seed(RANDOM_SEED)\n",
    "\n",
    "##########################\n",
    "### COST AND OPTIMIZER\n",
    "##########################\n",
    "\n",
    "classifier = resnet152(NUM_CLASSES, GRAYSCALE)\n",
    "classifier.to(DEVICE)\n",
    "\n",
    "optimizer = torch.optim.Adam(classifier.parameters(), lr=LEARNING_RATE)"
   ]
  },
  {
   "cell_type": "code",
   "execution_count": 12,
   "metadata": {},
   "outputs": [
    {
     "data": {
      "application/vnd.jupyter.widget-view+json": {
       "model_id": "001d5a85b7004730b4228e4b70bf26c9",
       "version_major": 2,
       "version_minor": 0
      },
      "text/plain": [
       "HBox(children=(FloatProgress(value=0.0), HTML(value='')))"
      ]
     },
     "metadata": {},
     "output_type": "display_data"
    },
    {
     "name": "stdout",
     "output_type": "stream",
     "text": [
      "Epoch: 001/010 | Batch 0000/1145 | Cost: 0.2857\n",
      "Epoch: 001/010 | Batch 0050/1145 | Cost: 0.4551\n",
      "Epoch: 001/010 | Batch 0100/1145 | Cost: 0.6002\n",
      "Epoch: 001/010 | Batch 0150/1145 | Cost: 0.3699\n",
      "Epoch: 001/010 | Batch 0200/1145 | Cost: 0.2608\n",
      "Epoch: 001/010 | Batch 0250/1145 | Cost: 0.3370\n",
      "Epoch: 001/010 | Batch 0300/1145 | Cost: 0.3138\n",
      "Epoch: 001/010 | Batch 0350/1145 | Cost: 0.6323\n",
      "Epoch: 001/010 | Batch 0400/1145 | Cost: 0.5089\n",
      "Epoch: 001/010 | Batch 0450/1145 | Cost: 0.3850\n",
      "Epoch: 001/010 | Batch 0500/1145 | Cost: 0.1920\n",
      "Epoch: 001/010 | Batch 0550/1145 | Cost: 0.1323\n",
      "Epoch: 001/010 | Batch 0600/1145 | Cost: 0.3998\n",
      "Epoch: 001/010 | Batch 0650/1145 | Cost: 0.4181\n",
      "Epoch: 001/010 | Batch 0700/1145 | Cost: 0.5412\n",
      "Epoch: 001/010 | Batch 0750/1145 | Cost: 0.2811\n",
      "Epoch: 001/010 | Batch 0800/1145 | Cost: 0.3566\n",
      "Epoch: 001/010 | Batch 0850/1145 | Cost: 0.2513\n",
      "Epoch: 001/010 | Batch 0900/1145 | Cost: 0.5659\n",
      "Epoch: 001/010 | Batch 0950/1145 | Cost: 0.2542\n",
      "Epoch: 001/010 | Batch 1000/1145 | Cost: 0.3592\n",
      "Epoch: 001/010 | Batch 1050/1145 | Cost: 0.4053\n",
      "Epoch: 001/010 | Batch 1100/1145 | Cost: 0.3460\n",
      "Epoch: 001/010 | Train: 91.204% | Valid: 91.073%\n",
      "Time elapsed: 0.86 min\n",
      "Epoch: 002/010 | Batch 0000/1145 | Cost: 0.3446\n",
      "Epoch: 002/010 | Batch 0050/1145 | Cost: 0.1840\n",
      "Epoch: 002/010 | Batch 0100/1145 | Cost: 0.3146\n",
      "Epoch: 002/010 | Batch 0150/1145 | Cost: 0.1822\n",
      "Epoch: 002/010 | Batch 0200/1145 | Cost: 0.3922\n",
      "Epoch: 002/010 | Batch 0250/1145 | Cost: 0.2120\n",
      "Epoch: 002/010 | Batch 0300/1145 | Cost: 0.3361\n",
      "Epoch: 002/010 | Batch 0350/1145 | Cost: 0.4157\n",
      "Epoch: 002/010 | Batch 0400/1145 | Cost: 0.2577\n",
      "Epoch: 002/010 | Batch 0450/1145 | Cost: 0.2359\n",
      "Epoch: 002/010 | Batch 0500/1145 | Cost: 0.3511\n",
      "Epoch: 002/010 | Batch 0550/1145 | Cost: 0.1893\n",
      "Epoch: 002/010 | Batch 0600/1145 | Cost: 0.3528\n",
      "Epoch: 002/010 | Batch 0650/1145 | Cost: 0.4204\n",
      "Epoch: 002/010 | Batch 0700/1145 | Cost: 0.3242\n",
      "Epoch: 002/010 | Batch 0750/1145 | Cost: 0.3030\n",
      "Epoch: 002/010 | Batch 0800/1145 | Cost: 0.3976\n",
      "Epoch: 002/010 | Batch 0850/1145 | Cost: 0.1881\n",
      "Epoch: 002/010 | Batch 0900/1145 | Cost: 0.1901\n",
      "Epoch: 002/010 | Batch 0950/1145 | Cost: 0.2274\n",
      "Epoch: 002/010 | Batch 1000/1145 | Cost: 0.2740\n",
      "Epoch: 002/010 | Batch 1050/1145 | Cost: 0.2781\n",
      "Epoch: 002/010 | Batch 1100/1145 | Cost: 0.5650\n",
      "Epoch: 002/010 | Train: 91.186% | Valid: 90.508%\n",
      "Time elapsed: 1.72 min\n",
      "Epoch: 003/010 | Batch 0000/1145 | Cost: 0.1822\n",
      "Epoch: 003/010 | Batch 0050/1145 | Cost: 0.1638\n",
      "Epoch: 003/010 | Batch 0100/1145 | Cost: 0.2870\n",
      "Epoch: 003/010 | Batch 0150/1145 | Cost: 0.3203\n",
      "Epoch: 003/010 | Batch 0200/1145 | Cost: 0.2736\n",
      "Epoch: 003/010 | Batch 0250/1145 | Cost: 0.5265\n",
      "Epoch: 003/010 | Batch 0300/1145 | Cost: 0.3615\n",
      "Epoch: 003/010 | Batch 0350/1145 | Cost: 0.2837\n",
      "Epoch: 003/010 | Batch 0400/1145 | Cost: 0.1715\n",
      "Epoch: 003/010 | Batch 0450/1145 | Cost: 0.2919\n",
      "Epoch: 003/010 | Batch 0500/1145 | Cost: 0.1295\n",
      "Epoch: 003/010 | Batch 0550/1145 | Cost: 0.3340\n",
      "Epoch: 003/010 | Batch 0600/1145 | Cost: 0.2764\n",
      "Epoch: 003/010 | Batch 0650/1145 | Cost: 0.4467\n",
      "Epoch: 003/010 | Batch 0700/1145 | Cost: 0.1902\n",
      "Epoch: 003/010 | Batch 0750/1145 | Cost: 0.4498\n",
      "Epoch: 003/010 | Batch 0800/1145 | Cost: 0.2669\n",
      "Epoch: 003/010 | Batch 0850/1145 | Cost: 0.2164\n",
      "Epoch: 003/010 | Batch 0900/1145 | Cost: 0.2393\n",
      "Epoch: 003/010 | Batch 0950/1145 | Cost: 0.1770\n",
      "Epoch: 003/010 | Batch 1000/1145 | Cost: 0.2263\n",
      "Epoch: 003/010 | Batch 1050/1145 | Cost: 0.2889\n",
      "Epoch: 003/010 | Batch 1100/1145 | Cost: 0.1173\n",
      "Epoch: 003/010 | Train: 92.817% | Valid: 91.203%\n",
      "Time elapsed: 2.58 min\n",
      "Epoch: 004/010 | Batch 0000/1145 | Cost: 0.2014\n",
      "Epoch: 004/010 | Batch 0050/1145 | Cost: 0.1605\n",
      "Epoch: 004/010 | Batch 0100/1145 | Cost: 0.1735\n",
      "Epoch: 004/010 | Batch 0150/1145 | Cost: 0.1348\n",
      "Epoch: 004/010 | Batch 0200/1145 | Cost: 0.1098\n",
      "Epoch: 004/010 | Batch 0250/1145 | Cost: 0.1583\n",
      "Epoch: 004/010 | Batch 0300/1145 | Cost: 0.1906\n",
      "Epoch: 004/010 | Batch 0350/1145 | Cost: 0.2827\n",
      "Epoch: 004/010 | Batch 0400/1145 | Cost: 0.2973\n",
      "Epoch: 004/010 | Batch 0450/1145 | Cost: 0.1100\n",
      "Epoch: 004/010 | Batch 0500/1145 | Cost: 0.1371\n",
      "Epoch: 004/010 | Batch 0550/1145 | Cost: 0.3443\n",
      "Epoch: 004/010 | Batch 0600/1145 | Cost: 0.1059\n",
      "Epoch: 004/010 | Batch 0650/1145 | Cost: 0.2233\n",
      "Epoch: 004/010 | Batch 0700/1145 | Cost: 0.4186\n",
      "Epoch: 004/010 | Batch 0750/1145 | Cost: 0.2539\n",
      "Epoch: 004/010 | Batch 0800/1145 | Cost: 0.0980\n",
      "Epoch: 004/010 | Batch 0850/1145 | Cost: 0.5145\n",
      "Epoch: 004/010 | Batch 0900/1145 | Cost: 0.1634\n",
      "Epoch: 004/010 | Batch 0950/1145 | Cost: 0.2707\n",
      "Epoch: 004/010 | Batch 1000/1145 | Cost: 0.2132\n",
      "Epoch: 004/010 | Batch 1050/1145 | Cost: 0.3158\n",
      "Epoch: 004/010 | Batch 1100/1145 | Cost: 0.2241\n",
      "Epoch: 004/010 | Train: 93.262% | Valid: 91.614%\n",
      "Time elapsed: 3.47 min\n",
      "Epoch: 005/010 | Batch 0000/1145 | Cost: 0.1276\n",
      "Epoch: 005/010 | Batch 0050/1145 | Cost: 0.3139\n",
      "Epoch: 005/010 | Batch 0100/1145 | Cost: 0.1188\n",
      "Epoch: 005/010 | Batch 0150/1145 | Cost: 0.2614\n",
      "Epoch: 005/010 | Batch 0200/1145 | Cost: 0.3021\n",
      "Epoch: 005/010 | Batch 0250/1145 | Cost: 0.1195\n",
      "Epoch: 005/010 | Batch 0300/1145 | Cost: 0.2456\n",
      "Epoch: 005/010 | Batch 0350/1145 | Cost: 0.2180\n",
      "Epoch: 005/010 | Batch 0400/1145 | Cost: 0.3470\n",
      "Epoch: 005/010 | Batch 0450/1145 | Cost: 0.3562\n",
      "Epoch: 005/010 | Batch 0500/1145 | Cost: 0.3261\n",
      "Epoch: 005/010 | Batch 0550/1145 | Cost: 0.1927\n",
      "Epoch: 005/010 | Batch 0600/1145 | Cost: 0.0538\n",
      "Epoch: 005/010 | Batch 0650/1145 | Cost: 0.3037\n",
      "Epoch: 005/010 | Batch 0700/1145 | Cost: 0.1481\n",
      "Epoch: 005/010 | Batch 0750/1145 | Cost: 0.1905\n",
      "Epoch: 005/010 | Batch 0800/1145 | Cost: 0.1733\n",
      "Epoch: 005/010 | Batch 0850/1145 | Cost: 0.2063\n",
      "Epoch: 005/010 | Batch 0900/1145 | Cost: 0.1931\n",
      "Epoch: 005/010 | Batch 0950/1145 | Cost: 0.2956\n",
      "Epoch: 005/010 | Batch 1000/1145 | Cost: 0.2088\n",
      "Epoch: 005/010 | Batch 1050/1145 | Cost: 0.1947\n",
      "Epoch: 005/010 | Batch 1100/1145 | Cost: 0.3722\n",
      "Epoch: 005/010 | Train: 94.186% | Valid: 92.448%\n",
      "Time elapsed: 4.38 min\n",
      "Epoch: 006/010 | Batch 0000/1145 | Cost: 0.1875\n",
      "Epoch: 006/010 | Batch 0050/1145 | Cost: 0.1326\n",
      "Epoch: 006/010 | Batch 0100/1145 | Cost: 0.0800\n",
      "Epoch: 006/010 | Batch 0150/1145 | Cost: 0.2697\n",
      "Epoch: 006/010 | Batch 0200/1145 | Cost: 0.2223\n",
      "Epoch: 006/010 | Batch 0250/1145 | Cost: 0.1299\n",
      "Epoch: 006/010 | Batch 0300/1145 | Cost: 0.2655\n",
      "Epoch: 006/010 | Batch 0350/1145 | Cost: 0.4508\n",
      "Epoch: 006/010 | Batch 0400/1145 | Cost: 0.1247\n",
      "Epoch: 006/010 | Batch 0450/1145 | Cost: 0.4615\n",
      "Epoch: 006/010 | Batch 0500/1145 | Cost: 0.2745\n",
      "Epoch: 006/010 | Batch 0550/1145 | Cost: 0.1852\n",
      "Epoch: 006/010 | Batch 0600/1145 | Cost: 0.1282\n",
      "Epoch: 006/010 | Batch 0650/1145 | Cost: 0.2151\n",
      "Epoch: 006/010 | Batch 0700/1145 | Cost: 0.1331\n",
      "Epoch: 006/010 | Batch 0750/1145 | Cost: 0.3833\n",
      "Epoch: 006/010 | Batch 0800/1145 | Cost: 0.0816\n",
      "Epoch: 006/010 | Batch 0850/1145 | Cost: 0.2274\n",
      "Epoch: 006/010 | Batch 0900/1145 | Cost: 0.1442\n",
      "Epoch: 006/010 | Batch 0950/1145 | Cost: 0.2250\n",
      "Epoch: 006/010 | Batch 1000/1145 | Cost: 0.2600\n",
      "Epoch: 006/010 | Batch 1050/1145 | Cost: 0.1584\n",
      "Epoch: 006/010 | Batch 1100/1145 | Cost: 0.0855\n",
      "Epoch: 006/010 | Train: 94.772% | Valid: 92.317%\n",
      "Time elapsed: 5.34 min\n",
      "Epoch: 007/010 | Batch 0000/1145 | Cost: 0.0590\n",
      "Epoch: 007/010 | Batch 0050/1145 | Cost: 0.1353\n",
      "Epoch: 007/010 | Batch 0100/1145 | Cost: 0.2655\n",
      "Epoch: 007/010 | Batch 0150/1145 | Cost: 0.0968\n",
      "Epoch: 007/010 | Batch 0200/1145 | Cost: 0.0822\n",
      "Epoch: 007/010 | Batch 0250/1145 | Cost: 0.0858\n",
      "Epoch: 007/010 | Batch 0300/1145 | Cost: 0.2073\n",
      "Epoch: 007/010 | Batch 0350/1145 | Cost: 0.1656\n",
      "Epoch: 007/010 | Batch 0400/1145 | Cost: 0.1168\n",
      "Epoch: 007/010 | Batch 0450/1145 | Cost: 0.0768\n",
      "Epoch: 007/010 | Batch 0500/1145 | Cost: 0.0743\n",
      "Epoch: 007/010 | Batch 0550/1145 | Cost: 0.1372\n",
      "Epoch: 007/010 | Batch 0600/1145 | Cost: 0.0363\n",
      "Epoch: 007/010 | Batch 0650/1145 | Cost: 0.3140\n",
      "Epoch: 007/010 | Batch 0700/1145 | Cost: 0.1193\n",
      "Epoch: 007/010 | Batch 0750/1145 | Cost: 0.2500\n",
      "Epoch: 007/010 | Batch 0800/1145 | Cost: 0.0874\n",
      "Epoch: 007/010 | Batch 0850/1145 | Cost: 0.3345\n",
      "Epoch: 007/010 | Batch 0900/1145 | Cost: 0.1076\n",
      "Epoch: 007/010 | Batch 0950/1145 | Cost: 0.1816\n",
      "Epoch: 007/010 | Batch 1000/1145 | Cost: 0.0767\n",
      "Epoch: 007/010 | Batch 1050/1145 | Cost: 0.1115\n",
      "Epoch: 007/010 | Batch 1100/1145 | Cost: 0.0269\n",
      "Epoch: 007/010 | Train: 96.077% | Valid: 94.015%\n",
      "Time elapsed: 6.28 min\n",
      "Epoch: 008/010 | Batch 0000/1145 | Cost: 0.1460\n"
     ]
    },
    {
     "name": "stdout",
     "output_type": "stream",
     "text": [
      "Epoch: 008/010 | Batch 0050/1145 | Cost: 0.1702\n",
      "Epoch: 008/010 | Batch 0100/1145 | Cost: 0.0221\n",
      "Epoch: 008/010 | Batch 0150/1145 | Cost: 0.0794\n",
      "Epoch: 008/010 | Batch 0200/1145 | Cost: 0.1104\n",
      "Epoch: 008/010 | Batch 0250/1145 | Cost: 0.0902\n",
      "Epoch: 008/010 | Batch 0300/1145 | Cost: 0.0454\n",
      "Epoch: 008/010 | Batch 0350/1145 | Cost: 0.0857\n",
      "Epoch: 008/010 | Batch 0400/1145 | Cost: 0.1321\n",
      "Epoch: 008/010 | Batch 0450/1145 | Cost: 0.0447\n",
      "Epoch: 008/010 | Batch 0500/1145 | Cost: 0.1113\n",
      "Epoch: 008/010 | Batch 0550/1145 | Cost: 0.1763\n",
      "Epoch: 008/010 | Batch 0600/1145 | Cost: 0.2245\n",
      "Epoch: 008/010 | Batch 0650/1145 | Cost: 0.0413\n",
      "Epoch: 008/010 | Batch 0700/1145 | Cost: 0.1285\n",
      "Epoch: 008/010 | Batch 0750/1145 | Cost: 0.0784\n",
      "Epoch: 008/010 | Batch 0800/1145 | Cost: 0.1127\n",
      "Epoch: 008/010 | Batch 0850/1145 | Cost: 0.1762\n",
      "Epoch: 008/010 | Batch 0900/1145 | Cost: 0.2882\n",
      "Epoch: 008/010 | Batch 0950/1145 | Cost: 0.1435\n",
      "Epoch: 008/010 | Batch 1000/1145 | Cost: 0.0952\n",
      "Epoch: 008/010 | Batch 1050/1145 | Cost: 0.2313\n",
      "Epoch: 008/010 | Batch 1100/1145 | Cost: 0.1715\n",
      "Epoch: 008/010 | Train: 97.087% | Valid: 94.157%\n",
      "Time elapsed: 7.22 min\n",
      "Epoch: 009/010 | Batch 0000/1145 | Cost: 0.0450\n",
      "Epoch: 009/010 | Batch 0050/1145 | Cost: 0.0443\n",
      "Epoch: 009/010 | Batch 0100/1145 | Cost: 0.1268\n",
      "Epoch: 009/010 | Batch 0150/1145 | Cost: 0.1452\n",
      "Epoch: 009/010 | Batch 0200/1145 | Cost: 0.0575\n",
      "Epoch: 009/010 | Batch 0250/1145 | Cost: 0.0958\n",
      "Epoch: 009/010 | Batch 0300/1145 | Cost: 0.0330\n",
      "Epoch: 009/010 | Batch 0350/1145 | Cost: 0.2537\n",
      "Epoch: 009/010 | Batch 0400/1145 | Cost: 0.0631\n",
      "Epoch: 009/010 | Batch 0450/1145 | Cost: 0.0795\n",
      "Epoch: 009/010 | Batch 0500/1145 | Cost: 0.0837\n",
      "Epoch: 009/010 | Batch 0550/1145 | Cost: 0.0893\n",
      "Epoch: 009/010 | Batch 0600/1145 | Cost: 0.1741\n",
      "Epoch: 009/010 | Batch 0650/1145 | Cost: 0.1555\n",
      "Epoch: 009/010 | Batch 0700/1145 | Cost: 0.3425\n",
      "Epoch: 009/010 | Batch 0750/1145 | Cost: 0.3722\n",
      "Epoch: 009/010 | Batch 0800/1145 | Cost: 0.2672\n",
      "Epoch: 009/010 | Batch 0850/1145 | Cost: 0.1454\n",
      "Epoch: 009/010 | Batch 0900/1145 | Cost: 0.2153\n",
      "Epoch: 009/010 | Batch 0950/1145 | Cost: 0.1365\n",
      "Epoch: 009/010 | Batch 1000/1145 | Cost: 0.1482\n",
      "Epoch: 009/010 | Batch 1050/1145 | Cost: 0.2555\n",
      "Epoch: 009/010 | Batch 1100/1145 | Cost: 0.0340\n",
      "Epoch: 009/010 | Train: 95.232% | Valid: 93.062%\n",
      "Time elapsed: 8.16 min\n",
      "Epoch: 010/010 | Batch 0000/1145 | Cost: 0.0473\n",
      "Epoch: 010/010 | Batch 0050/1145 | Cost: 0.1319\n",
      "Epoch: 010/010 | Batch 0100/1145 | Cost: 0.0809\n",
      "Epoch: 010/010 | Batch 0150/1145 | Cost: 0.1079\n",
      "Epoch: 010/010 | Batch 0200/1145 | Cost: 0.0558\n",
      "Epoch: 010/010 | Batch 0250/1145 | Cost: 0.1530\n",
      "Epoch: 010/010 | Batch 0300/1145 | Cost: 0.1172\n",
      "Epoch: 010/010 | Batch 0350/1145 | Cost: 0.1107\n",
      "Epoch: 010/010 | Batch 0400/1145 | Cost: 0.1243\n",
      "Epoch: 010/010 | Batch 0450/1145 | Cost: 0.1281\n",
      "Epoch: 010/010 | Batch 0500/1145 | Cost: 0.0298\n",
      "Epoch: 010/010 | Batch 0550/1145 | Cost: 0.0595\n",
      "Epoch: 010/010 | Batch 0600/1145 | Cost: 0.0341\n",
      "Epoch: 010/010 | Batch 0650/1145 | Cost: 0.0670\n",
      "Epoch: 010/010 | Batch 0700/1145 | Cost: 0.0162\n",
      "Epoch: 010/010 | Batch 0750/1145 | Cost: 0.2036\n",
      "Epoch: 010/010 | Batch 0800/1145 | Cost: 0.0694\n",
      "Epoch: 010/010 | Batch 0850/1145 | Cost: 0.0476\n",
      "Epoch: 010/010 | Batch 0900/1145 | Cost: 0.1165\n",
      "Epoch: 010/010 | Batch 0950/1145 | Cost: 0.2824\n",
      "Epoch: 010/010 | Batch 1000/1145 | Cost: 0.1313\n",
      "Epoch: 010/010 | Batch 1050/1145 | Cost: 0.0825\n",
      "Epoch: 010/010 | Batch 1100/1145 | Cost: 0.0872\n",
      "Epoch: 010/010 | Train: 98.146% | Valid: 94.042%\n",
      "Time elapsed: 9.09 min\n",
      "Epoch: 011/010 | Batch 0000/1145 | Cost: 0.0633\n",
      "Epoch: 011/010 | Batch 0050/1145 | Cost: 0.0420\n",
      "Epoch: 011/010 | Batch 0100/1145 | Cost: 0.0151\n",
      "Epoch: 011/010 | Batch 0150/1145 | Cost: 0.0490\n",
      "Epoch: 011/010 | Batch 0200/1145 | Cost: 0.0925\n",
      "Epoch: 011/010 | Batch 0250/1145 | Cost: 0.1457\n",
      "Epoch: 011/010 | Batch 0300/1145 | Cost: 0.0684\n",
      "Epoch: 011/010 | Batch 0350/1145 | Cost: 0.0307\n",
      "Epoch: 011/010 | Batch 0400/1145 | Cost: 0.0453\n",
      "Epoch: 011/010 | Batch 0450/1145 | Cost: 0.1938\n",
      "Epoch: 011/010 | Batch 0500/1145 | Cost: 0.0673\n",
      "Epoch: 011/010 | Batch 0550/1145 | Cost: 0.1411\n",
      "Epoch: 011/010 | Batch 0600/1145 | Cost: 0.1598\n",
      "Epoch: 011/010 | Batch 0650/1145 | Cost: 0.0156\n",
      "Epoch: 011/010 | Batch 0700/1145 | Cost: 0.1093\n",
      "Epoch: 011/010 | Batch 0750/1145 | Cost: 0.0802\n",
      "Epoch: 011/010 | Batch 0800/1145 | Cost: 0.2991\n",
      "Epoch: 011/010 | Batch 0850/1145 | Cost: 0.1855\n",
      "Epoch: 011/010 | Batch 0900/1145 | Cost: 0.0992\n",
      "Epoch: 011/010 | Batch 0950/1145 | Cost: 0.1091\n",
      "Epoch: 011/010 | Batch 1000/1145 | Cost: 0.0291\n",
      "Epoch: 011/010 | Batch 1050/1145 | Cost: 0.1204\n",
      "Epoch: 011/010 | Batch 1100/1145 | Cost: 0.0537\n",
      "Epoch: 011/010 | Train: 97.988% | Valid: 93.543%\n",
      "Time elapsed: 10.06 min\n",
      "Epoch: 012/010 | Batch 0000/1145 | Cost: 0.0700\n",
      "Epoch: 012/010 | Batch 0050/1145 | Cost: 0.0209\n",
      "Epoch: 012/010 | Batch 0100/1145 | Cost: 0.0640\n",
      "Epoch: 012/010 | Batch 0150/1145 | Cost: 0.0760\n",
      "Epoch: 012/010 | Batch 0200/1145 | Cost: 0.0468\n",
      "Epoch: 012/010 | Batch 0250/1145 | Cost: 0.0209\n",
      "Epoch: 012/010 | Batch 0300/1145 | Cost: 0.0635\n",
      "Epoch: 012/010 | Batch 0350/1145 | Cost: 0.0574\n",
      "Epoch: 012/010 | Batch 0400/1145 | Cost: 0.1299\n",
      "Epoch: 012/010 | Batch 0450/1145 | Cost: 0.1164\n",
      "Epoch: 012/010 | Batch 0500/1145 | Cost: 0.1871\n",
      "Epoch: 012/010 | Batch 0550/1145 | Cost: 0.1061\n",
      "Epoch: 012/010 | Batch 0600/1145 | Cost: 0.1645\n",
      "Epoch: 012/010 | Batch 0650/1145 | Cost: 0.0419\n",
      "Epoch: 012/010 | Batch 0700/1145 | Cost: 0.0518\n",
      "Epoch: 012/010 | Batch 0750/1145 | Cost: 0.0707\n",
      "Epoch: 012/010 | Batch 0800/1145 | Cost: 0.1234\n",
      "Epoch: 012/010 | Batch 0850/1145 | Cost: 0.0622\n",
      "Epoch: 012/010 | Batch 0900/1145 | Cost: 0.0875\n",
      "Epoch: 012/010 | Batch 0950/1145 | Cost: 0.1529\n",
      "Epoch: 012/010 | Batch 1000/1145 | Cost: 0.0293\n",
      "Epoch: 012/010 | Batch 1050/1145 | Cost: 0.1232\n",
      "Epoch: 012/010 | Batch 1100/1145 | Cost: 0.1167\n",
      "Epoch: 012/010 | Train: 97.051% | Valid: 92.559%\n",
      "Time elapsed: 10.98 min\n",
      "Epoch: 013/010 | Batch 0000/1145 | Cost: 0.0073\n",
      "Epoch: 013/010 | Batch 0050/1145 | Cost: 0.0988\n",
      "Epoch: 013/010 | Batch 0100/1145 | Cost: 0.0565\n",
      "Epoch: 013/010 | Batch 0150/1145 | Cost: 0.0348\n",
      "Epoch: 013/010 | Batch 0200/1145 | Cost: 0.0362\n",
      "Epoch: 013/010 | Batch 0250/1145 | Cost: 0.0070\n",
      "Epoch: 013/010 | Batch 0300/1145 | Cost: 0.0947\n",
      "Epoch: 013/010 | Batch 0350/1145 | Cost: 0.0611\n",
      "Epoch: 013/010 | Batch 0400/1145 | Cost: 0.0475\n",
      "Epoch: 013/010 | Batch 0450/1145 | Cost: 0.1682\n",
      "Epoch: 013/010 | Batch 0500/1145 | Cost: 0.0210\n",
      "Epoch: 013/010 | Batch 0550/1145 | Cost: 0.1264\n",
      "Epoch: 013/010 | Batch 0600/1145 | Cost: 0.0367\n",
      "Epoch: 013/010 | Batch 0650/1145 | Cost: 0.0635\n",
      "Epoch: 013/010 | Batch 0700/1145 | Cost: 0.0181\n",
      "Epoch: 013/010 | Batch 0750/1145 | Cost: 0.0204\n",
      "Epoch: 013/010 | Batch 0800/1145 | Cost: 0.0483\n",
      "Epoch: 013/010 | Batch 0850/1145 | Cost: 0.1148\n",
      "Epoch: 013/010 | Batch 0900/1145 | Cost: 0.1143\n",
      "Epoch: 013/010 | Batch 0950/1145 | Cost: 0.0335\n",
      "Epoch: 013/010 | Batch 1000/1145 | Cost: 0.0162\n",
      "Epoch: 013/010 | Batch 1050/1145 | Cost: 0.1025\n",
      "Epoch: 013/010 | Batch 1100/1145 | Cost: 0.0550\n",
      "Epoch: 013/010 | Train: 98.384% | Valid: 93.689%\n",
      "Time elapsed: 11.87 min\n",
      "Epoch: 014/010 | Batch 0000/1145 | Cost: 0.0054\n",
      "Epoch: 014/010 | Batch 0050/1145 | Cost: 0.0138\n",
      "Epoch: 014/010 | Batch 0100/1145 | Cost: 0.0138\n",
      "Epoch: 014/010 | Batch 0150/1145 | Cost: 0.0712\n",
      "Epoch: 014/010 | Batch 0200/1145 | Cost: 0.1236\n",
      "Epoch: 014/010 | Batch 0250/1145 | Cost: 0.0447\n",
      "Epoch: 014/010 | Batch 0300/1145 | Cost: 0.1043\n",
      "Epoch: 014/010 | Batch 0350/1145 | Cost: 0.0227\n",
      "Epoch: 014/010 | Batch 0400/1145 | Cost: 0.0525\n",
      "Epoch: 014/010 | Batch 0450/1145 | Cost: 0.0401\n",
      "Epoch: 014/010 | Batch 0500/1145 | Cost: 0.1304\n",
      "Epoch: 014/010 | Batch 0550/1145 | Cost: 0.0846\n",
      "Epoch: 014/010 | Batch 0600/1145 | Cost: 0.0196\n",
      "Epoch: 014/010 | Batch 0650/1145 | Cost: 0.0960\n",
      "Epoch: 014/010 | Batch 0700/1145 | Cost: 0.0333\n",
      "Epoch: 014/010 | Batch 0750/1145 | Cost: 0.0207\n",
      "Epoch: 014/010 | Batch 0800/1145 | Cost: 0.1786\n",
      "Epoch: 014/010 | Batch 0850/1145 | Cost: 0.0267\n",
      "Epoch: 014/010 | Batch 0900/1145 | Cost: 0.0694\n",
      "Epoch: 014/010 | Batch 0950/1145 | Cost: 0.0074\n",
      "Epoch: 014/010 | Batch 1000/1145 | Cost: 0.0025\n",
      "Epoch: 014/010 | Batch 1050/1145 | Cost: 0.0465\n",
      "Epoch: 014/010 | Batch 1100/1145 | Cost: 0.1327\n",
      "Epoch: 014/010 | Train: 98.847% | Valid: 93.854%\n",
      "Time elapsed: 12.78 min\n",
      "Epoch: 015/010 | Batch 0000/1145 | Cost: 0.0149\n"
     ]
    },
    {
     "name": "stdout",
     "output_type": "stream",
     "text": [
      "Epoch: 015/010 | Batch 0050/1145 | Cost: 0.0509\n",
      "Epoch: 015/010 | Batch 0100/1145 | Cost: 0.0076\n",
      "Epoch: 015/010 | Batch 0150/1145 | Cost: 0.0353\n",
      "Epoch: 015/010 | Batch 0200/1145 | Cost: 0.0009\n",
      "Epoch: 015/010 | Batch 0250/1145 | Cost: 0.0196\n",
      "Epoch: 015/010 | Batch 0300/1145 | Cost: 0.0572\n",
      "Epoch: 015/010 | Batch 0350/1145 | Cost: 0.0536\n",
      "Epoch: 015/010 | Batch 0400/1145 | Cost: 0.0661\n",
      "Epoch: 015/010 | Batch 0450/1145 | Cost: 0.0449\n",
      "Epoch: 015/010 | Batch 0500/1145 | Cost: 0.0318\n",
      "Epoch: 015/010 | Batch 0550/1145 | Cost: 0.0863\n",
      "Epoch: 015/010 | Batch 0600/1145 | Cost: 0.0242\n",
      "Epoch: 015/010 | Batch 0650/1145 | Cost: 0.0727\n",
      "Epoch: 015/010 | Batch 0700/1145 | Cost: 0.1321\n",
      "Epoch: 015/010 | Batch 0750/1145 | Cost: 0.0430\n",
      "Epoch: 015/010 | Batch 0800/1145 | Cost: 0.0512\n",
      "Epoch: 015/010 | Batch 0850/1145 | Cost: 0.0017\n",
      "Epoch: 015/010 | Batch 0900/1145 | Cost: 0.0017\n",
      "Epoch: 015/010 | Batch 0950/1145 | Cost: 0.0263\n",
      "Epoch: 015/010 | Batch 1000/1145 | Cost: 0.1184\n",
      "Epoch: 015/010 | Batch 1050/1145 | Cost: 0.0113\n",
      "Epoch: 015/010 | Batch 1100/1145 | Cost: 0.0352\n",
      "Epoch: 015/010 | Train: 98.489% | Valid: 93.477%\n",
      "Time elapsed: 13.69 min\n",
      "Epoch: 016/010 | Batch 0000/1145 | Cost: 0.0369\n",
      "Epoch: 016/010 | Batch 0050/1145 | Cost: 0.0139\n",
      "Epoch: 016/010 | Batch 0100/1145 | Cost: 0.0016\n",
      "Epoch: 016/010 | Batch 0150/1145 | Cost: 0.0658\n",
      "Epoch: 016/010 | Batch 0200/1145 | Cost: 0.0305\n",
      "Epoch: 016/010 | Batch 0250/1145 | Cost: 0.0128\n",
      "Epoch: 016/010 | Batch 0300/1145 | Cost: 0.0783\n",
      "Epoch: 016/010 | Batch 0350/1145 | Cost: 0.0693\n",
      "Epoch: 016/010 | Batch 0400/1145 | Cost: 0.0443\n",
      "Epoch: 016/010 | Batch 0450/1145 | Cost: 0.0346\n",
      "Epoch: 016/010 | Batch 0500/1145 | Cost: 0.0330\n",
      "Epoch: 016/010 | Batch 0550/1145 | Cost: 0.0428\n",
      "Epoch: 016/010 | Batch 0600/1145 | Cost: 0.0039\n",
      "Epoch: 016/010 | Batch 0650/1145 | Cost: 0.0236\n",
      "Epoch: 016/010 | Batch 0700/1145 | Cost: 0.1209\n",
      "Epoch: 016/010 | Batch 0750/1145 | Cost: 0.0057\n",
      "Epoch: 016/010 | Batch 0800/1145 | Cost: 0.1296\n",
      "Epoch: 016/010 | Batch 0850/1145 | Cost: 0.0322\n",
      "Epoch: 016/010 | Batch 0900/1145 | Cost: 0.0624\n",
      "Epoch: 016/010 | Batch 0950/1145 | Cost: 0.0252\n",
      "Epoch: 016/010 | Batch 1000/1145 | Cost: 0.0647\n",
      "Epoch: 016/010 | Batch 1050/1145 | Cost: 0.0114\n",
      "Epoch: 016/010 | Batch 1100/1145 | Cost: 0.0357\n",
      "Epoch: 016/010 | Train: 97.988% | Valid: 92.863%\n",
      "Time elapsed: 14.60 min\n",
      "Epoch: 017/010 | Batch 0000/1145 | Cost: 0.0371\n",
      "Epoch: 017/010 | Batch 0050/1145 | Cost: 0.0072\n",
      "Epoch: 017/010 | Batch 0100/1145 | Cost: 0.0296\n",
      "Epoch: 017/010 | Batch 0150/1145 | Cost: 0.0005\n",
      "Epoch: 017/010 | Batch 0200/1145 | Cost: 0.0056\n",
      "Epoch: 017/010 | Batch 0250/1145 | Cost: 0.0864\n",
      "Epoch: 017/010 | Batch 0300/1145 | Cost: 0.0028\n",
      "Epoch: 017/010 | Batch 0350/1145 | Cost: 0.0124\n",
      "Epoch: 017/010 | Batch 0400/1145 | Cost: 0.1459\n",
      "Epoch: 017/010 | Batch 0450/1145 | Cost: 0.0189\n",
      "Epoch: 017/010 | Batch 0500/1145 | Cost: 0.0833\n",
      "Epoch: 017/010 | Batch 0550/1145 | Cost: 0.0876\n",
      "Epoch: 017/010 | Batch 0600/1145 | Cost: 0.0139\n",
      "Epoch: 017/010 | Batch 0650/1145 | Cost: 0.0190\n",
      "Epoch: 017/010 | Batch 0700/1145 | Cost: 0.0232\n",
      "Epoch: 017/010 | Batch 0750/1145 | Cost: 0.0046\n",
      "Epoch: 017/010 | Batch 0800/1145 | Cost: 0.0031\n",
      "Epoch: 017/010 | Batch 0850/1145 | Cost: 0.0380\n",
      "Epoch: 017/010 | Batch 0900/1145 | Cost: 0.0118\n",
      "Epoch: 017/010 | Batch 0950/1145 | Cost: 0.0555\n",
      "Epoch: 017/010 | Batch 1000/1145 | Cost: 0.0100\n",
      "Epoch: 017/010 | Batch 1050/1145 | Cost: 0.0228\n",
      "Epoch: 017/010 | Batch 1100/1145 | Cost: 0.0395\n",
      "Epoch: 017/010 | Train: 98.765% | Valid: 93.708%\n",
      "Time elapsed: 15.52 min\n",
      "Epoch: 018/010 | Batch 0000/1145 | Cost: 0.0127\n",
      "Epoch: 018/010 | Batch 0050/1145 | Cost: 0.0179\n",
      "Epoch: 018/010 | Batch 0100/1145 | Cost: 0.0177\n",
      "Epoch: 018/010 | Batch 0150/1145 | Cost: 0.0155\n",
      "Epoch: 018/010 | Batch 0200/1145 | Cost: 0.0057\n",
      "Epoch: 018/010 | Batch 0250/1145 | Cost: 0.0137\n",
      "Epoch: 018/010 | Batch 0300/1145 | Cost: 0.0006\n",
      "Epoch: 018/010 | Batch 0350/1145 | Cost: 0.0102\n",
      "Epoch: 018/010 | Batch 0400/1145 | Cost: 0.0304\n",
      "Epoch: 018/010 | Batch 0450/1145 | Cost: 0.0173\n",
      "Epoch: 018/010 | Batch 0500/1145 | Cost: 0.0030\n",
      "Epoch: 018/010 | Batch 0550/1145 | Cost: 0.0108\n",
      "Epoch: 018/010 | Batch 0600/1145 | Cost: 0.1051\n",
      "Epoch: 018/010 | Batch 0650/1145 | Cost: 0.0982\n",
      "Epoch: 018/010 | Batch 0700/1145 | Cost: 0.0341\n",
      "Epoch: 018/010 | Batch 0750/1145 | Cost: 0.0380\n",
      "Epoch: 018/010 | Batch 0800/1145 | Cost: 0.1439\n",
      "Epoch: 018/010 | Batch 0850/1145 | Cost: 0.0170\n",
      "Epoch: 018/010 | Batch 0900/1145 | Cost: 0.0054\n",
      "Epoch: 018/010 | Batch 0950/1145 | Cost: 0.0046\n",
      "Epoch: 018/010 | Batch 1000/1145 | Cost: 0.0084\n",
      "Epoch: 018/010 | Batch 1050/1145 | Cost: 0.0661\n",
      "Epoch: 018/010 | Batch 1100/1145 | Cost: 0.0096\n",
      "Epoch: 018/010 | Train: 99.147% | Valid: 93.742%\n",
      "Time elapsed: 16.43 min\n",
      "Epoch: 019/010 | Batch 0000/1145 | Cost: 0.0263\n",
      "Epoch: 019/010 | Batch 0050/1145 | Cost: 0.0089\n",
      "Epoch: 019/010 | Batch 0100/1145 | Cost: 0.0186\n",
      "Epoch: 019/010 | Batch 0150/1145 | Cost: 0.0056\n",
      "Epoch: 019/010 | Batch 0200/1145 | Cost: 0.0023\n",
      "Epoch: 019/010 | Batch 0250/1145 | Cost: 0.0169\n",
      "Epoch: 019/010 | Batch 0300/1145 | Cost: 0.0140\n",
      "Epoch: 019/010 | Batch 0350/1145 | Cost: 0.0488\n",
      "Epoch: 019/010 | Batch 0400/1145 | Cost: 0.0066\n",
      "Epoch: 019/010 | Batch 0450/1145 | Cost: 0.0048\n",
      "Epoch: 019/010 | Batch 0500/1145 | Cost: 0.1128\n",
      "Epoch: 019/010 | Batch 0550/1145 | Cost: 0.0335\n",
      "Epoch: 019/010 | Batch 0600/1145 | Cost: 0.0199\n",
      "Epoch: 019/010 | Batch 0650/1145 | Cost: 0.0066\n",
      "Epoch: 019/010 | Batch 0700/1145 | Cost: 0.0072\n",
      "Epoch: 019/010 | Batch 0750/1145 | Cost: 0.0581\n",
      "Epoch: 019/010 | Batch 0800/1145 | Cost: 0.0863\n",
      "Epoch: 019/010 | Batch 0850/1145 | Cost: 0.0207\n",
      "Epoch: 019/010 | Batch 0900/1145 | Cost: 0.0050\n",
      "Epoch: 019/010 | Batch 0950/1145 | Cost: 0.0289\n",
      "Epoch: 019/010 | Batch 1000/1145 | Cost: 0.0719\n",
      "Epoch: 019/010 | Batch 1050/1145 | Cost: 0.1382\n",
      "Epoch: 019/010 | Batch 1100/1145 | Cost: 0.0383\n",
      "Epoch: 019/010 | Train: 99.010% | Valid: 93.931%\n",
      "Time elapsed: 17.34 min\n",
      "Epoch: 020/010 | Batch 0000/1145 | Cost: 0.0129\n",
      "Epoch: 020/010 | Batch 0050/1145 | Cost: 0.0013\n",
      "Epoch: 020/010 | Batch 0100/1145 | Cost: 0.0244\n",
      "Epoch: 020/010 | Batch 0150/1145 | Cost: 0.0063\n",
      "Epoch: 020/010 | Batch 0200/1145 | Cost: 0.0970\n",
      "Epoch: 020/010 | Batch 0250/1145 | Cost: 0.0296\n",
      "Epoch: 020/010 | Batch 0300/1145 | Cost: 0.0076\n",
      "Epoch: 020/010 | Batch 0350/1145 | Cost: 0.0013\n",
      "Epoch: 020/010 | Batch 0400/1145 | Cost: 0.0190\n",
      "Epoch: 020/010 | Batch 0450/1145 | Cost: 0.0047\n",
      "Epoch: 020/010 | Batch 0500/1145 | Cost: 0.0433\n",
      "Epoch: 020/010 | Batch 0550/1145 | Cost: 0.0488\n",
      "Epoch: 020/010 | Batch 0600/1145 | Cost: 0.1103\n",
      "Epoch: 020/010 | Batch 0650/1145 | Cost: 0.0358\n",
      "Epoch: 020/010 | Batch 0700/1145 | Cost: 0.0035\n",
      "Epoch: 020/010 | Batch 0750/1145 | Cost: 0.0518\n",
      "Epoch: 020/010 | Batch 0800/1145 | Cost: 0.0557\n",
      "Epoch: 020/010 | Batch 0850/1145 | Cost: 0.1700\n",
      "Epoch: 020/010 | Batch 0900/1145 | Cost: 0.0205\n",
      "Epoch: 020/010 | Batch 0950/1145 | Cost: 0.0036\n",
      "Epoch: 020/010 | Batch 1000/1145 | Cost: 0.0546\n",
      "Epoch: 020/010 | Batch 1050/1145 | Cost: 0.0685\n",
      "Epoch: 020/010 | Batch 1100/1145 | Cost: 0.0102\n",
      "Epoch: 020/010 | Train: 99.334% | Valid: 94.176%\n",
      "Time elapsed: 18.25 min\n",
      "Epoch: 021/010 | Batch 0000/1145 | Cost: 0.0109\n",
      "Epoch: 021/010 | Batch 0050/1145 | Cost: 0.0020\n",
      "Epoch: 021/010 | Batch 0100/1145 | Cost: 0.0529\n",
      "Epoch: 021/010 | Batch 0150/1145 | Cost: 0.0007\n",
      "Epoch: 021/010 | Batch 0200/1145 | Cost: 0.0062\n",
      "Epoch: 021/010 | Batch 0250/1145 | Cost: 0.0067\n",
      "Epoch: 021/010 | Batch 0300/1145 | Cost: 0.0865\n",
      "Epoch: 021/010 | Batch 0350/1145 | Cost: 0.0007\n",
      "Epoch: 021/010 | Batch 0400/1145 | Cost: 0.0029\n",
      "Epoch: 021/010 | Batch 0450/1145 | Cost: 0.1071\n",
      "Epoch: 021/010 | Batch 0500/1145 | Cost: 0.0094\n",
      "Epoch: 021/010 | Batch 0550/1145 | Cost: 0.0105\n",
      "Epoch: 021/010 | Batch 0600/1145 | Cost: 0.0066\n",
      "Epoch: 021/010 | Batch 0650/1145 | Cost: 0.0062\n",
      "Epoch: 021/010 | Batch 0700/1145 | Cost: 0.0236\n",
      "Epoch: 021/010 | Batch 0750/1145 | Cost: 0.0275\n",
      "Epoch: 021/010 | Batch 0800/1145 | Cost: 0.0456\n",
      "Epoch: 021/010 | Batch 0850/1145 | Cost: 0.0188\n",
      "Epoch: 021/010 | Batch 0900/1145 | Cost: 0.0339\n",
      "Epoch: 021/010 | Batch 0950/1145 | Cost: 0.0663\n",
      "Epoch: 021/010 | Batch 1000/1145 | Cost: 0.0582\n",
      "Epoch: 021/010 | Batch 1050/1145 | Cost: 0.1057\n",
      "Epoch: 021/010 | Batch 1100/1145 | Cost: 0.0866\n",
      "Epoch: 021/010 | Train: 98.735% | Valid: 94.130%\n",
      "Time elapsed: 19.17 min\n",
      "Epoch: 022/010 | Batch 0000/1145 | Cost: 0.0069\n"
     ]
    },
    {
     "name": "stdout",
     "output_type": "stream",
     "text": [
      "Epoch: 022/010 | Batch 0050/1145 | Cost: 0.0021\n",
      "Epoch: 022/010 | Batch 0100/1145 | Cost: 0.0307\n",
      "Epoch: 022/010 | Batch 0150/1145 | Cost: 0.0109\n",
      "Epoch: 022/010 | Batch 0200/1145 | Cost: 0.0021\n",
      "Epoch: 022/010 | Batch 0250/1145 | Cost: 0.0491\n",
      "Epoch: 022/010 | Batch 0300/1145 | Cost: 0.0033\n",
      "Epoch: 022/010 | Batch 0350/1145 | Cost: 0.0016\n",
      "Epoch: 022/010 | Batch 0400/1145 | Cost: 0.0247\n",
      "Epoch: 022/010 | Batch 0450/1145 | Cost: 0.0344\n",
      "Epoch: 022/010 | Batch 0500/1145 | Cost: 0.0426\n",
      "Epoch: 022/010 | Batch 0550/1145 | Cost: 0.0784\n",
      "Epoch: 022/010 | Batch 0600/1145 | Cost: 0.0798\n",
      "Epoch: 022/010 | Batch 0650/1145 | Cost: 0.0298\n",
      "Epoch: 022/010 | Batch 0700/1145 | Cost: 0.0018\n",
      "Epoch: 022/010 | Batch 0750/1145 | Cost: 0.0033\n",
      "Epoch: 022/010 | Batch 0800/1145 | Cost: 0.0423\n",
      "Epoch: 022/010 | Batch 0850/1145 | Cost: 0.0009\n",
      "Epoch: 022/010 | Batch 0900/1145 | Cost: 0.0115\n",
      "Epoch: 022/010 | Batch 0950/1145 | Cost: 0.0439\n",
      "Epoch: 022/010 | Batch 1000/1145 | Cost: 0.0548\n",
      "Epoch: 022/010 | Batch 1050/1145 | Cost: 0.0960\n",
      "Epoch: 022/010 | Batch 1100/1145 | Cost: 0.0788\n",
      "Epoch: 022/010 | Train: 99.533% | Valid: 94.522%\n",
      "Time elapsed: 20.09 min\n",
      "Epoch: 023/010 | Batch 0000/1145 | Cost: 0.0082\n",
      "Epoch: 023/010 | Batch 0050/1145 | Cost: 0.0050\n",
      "Epoch: 023/010 | Batch 0100/1145 | Cost: 0.0083\n",
      "Epoch: 023/010 | Batch 0150/1145 | Cost: 0.0052\n",
      "Epoch: 023/010 | Batch 0200/1145 | Cost: 0.0075\n",
      "Epoch: 023/010 | Batch 0250/1145 | Cost: 0.0160\n",
      "Epoch: 023/010 | Batch 0300/1145 | Cost: 0.0040\n",
      "Epoch: 023/010 | Batch 0350/1145 | Cost: 0.0772\n",
      "Epoch: 023/010 | Batch 0400/1145 | Cost: 0.0017\n",
      "Epoch: 023/010 | Batch 0450/1145 | Cost: 0.0129\n",
      "Epoch: 023/010 | Batch 0500/1145 | Cost: 0.1576\n",
      "Epoch: 023/010 | Batch 0550/1145 | Cost: 0.0019\n",
      "Epoch: 023/010 | Batch 0600/1145 | Cost: 0.0864\n",
      "Epoch: 023/010 | Batch 0650/1145 | Cost: 0.0074\n",
      "Epoch: 023/010 | Batch 0700/1145 | Cost: 0.0174\n",
      "Epoch: 023/010 | Batch 0750/1145 | Cost: 0.0317\n",
      "Epoch: 023/010 | Batch 0800/1145 | Cost: 0.0636\n",
      "Epoch: 023/010 | Batch 0850/1145 | Cost: 0.0176\n",
      "Epoch: 023/010 | Batch 0900/1145 | Cost: 0.1296\n",
      "Epoch: 023/010 | Batch 0950/1145 | Cost: 0.1130\n",
      "Epoch: 023/010 | Batch 1000/1145 | Cost: 0.0146\n",
      "Epoch: 023/010 | Batch 1050/1145 | Cost: 0.0243\n",
      "Epoch: 023/010 | Batch 1100/1145 | Cost: 0.0185\n",
      "Epoch: 023/010 | Train: 98.649% | Valid: 93.685%\n",
      "Time elapsed: 21.01 min\n",
      "Epoch: 024/010 | Batch 0000/1145 | Cost: 0.0539\n",
      "Epoch: 024/010 | Batch 0050/1145 | Cost: 0.0346\n",
      "Epoch: 024/010 | Batch 0100/1145 | Cost: 0.0019\n",
      "Epoch: 024/010 | Batch 0150/1145 | Cost: 0.0078\n",
      "Epoch: 024/010 | Batch 0200/1145 | Cost: 0.0029\n",
      "Epoch: 024/010 | Batch 0250/1145 | Cost: 0.0025\n",
      "Epoch: 024/010 | Batch 0300/1145 | Cost: 0.0059\n",
      "Epoch: 024/010 | Batch 0350/1145 | Cost: 0.0375\n",
      "Epoch: 024/010 | Batch 0400/1145 | Cost: 0.0010\n",
      "Epoch: 024/010 | Batch 0450/1145 | Cost: 0.1695\n",
      "Epoch: 024/010 | Batch 0500/1145 | Cost: 0.0089\n",
      "Epoch: 024/010 | Batch 0550/1145 | Cost: 0.0018\n",
      "Epoch: 024/010 | Batch 0600/1145 | Cost: 0.0044\n",
      "Epoch: 024/010 | Batch 0650/1145 | Cost: 0.0445\n",
      "Epoch: 024/010 | Batch 0700/1145 | Cost: 0.0482\n",
      "Epoch: 024/010 | Batch 0750/1145 | Cost: 0.0097\n",
      "Epoch: 024/010 | Batch 0800/1145 | Cost: 0.0985\n",
      "Epoch: 024/010 | Batch 0850/1145 | Cost: 0.0404\n",
      "Epoch: 024/010 | Batch 0900/1145 | Cost: 0.0352\n",
      "Epoch: 024/010 | Batch 0950/1145 | Cost: 0.0487\n",
      "Epoch: 024/010 | Batch 1000/1145 | Cost: 0.0141\n",
      "Epoch: 024/010 | Batch 1050/1145 | Cost: 0.0174\n",
      "Epoch: 024/010 | Batch 1100/1145 | Cost: 0.0179\n",
      "Epoch: 024/010 | Train: 99.253% | Valid: 93.619%\n",
      "Time elapsed: 21.93 min\n",
      "Epoch: 025/010 | Batch 0000/1145 | Cost: 0.0072\n",
      "Epoch: 025/010 | Batch 0050/1145 | Cost: 0.0049\n",
      "Epoch: 025/010 | Batch 0100/1145 | Cost: 0.0057\n",
      "Epoch: 025/010 | Batch 0150/1145 | Cost: 0.0026\n",
      "Epoch: 025/010 | Batch 0200/1145 | Cost: 0.0008\n",
      "Epoch: 025/010 | Batch 0250/1145 | Cost: 0.0012\n",
      "Epoch: 025/010 | Batch 0300/1145 | Cost: 0.0091\n",
      "Epoch: 025/010 | Batch 0350/1145 | Cost: 0.0070\n",
      "Epoch: 025/010 | Batch 0400/1145 | Cost: 0.0140\n",
      "Epoch: 025/010 | Batch 0450/1145 | Cost: 0.0182\n",
      "Epoch: 025/010 | Batch 0500/1145 | Cost: 0.0062\n",
      "Epoch: 025/010 | Batch 0550/1145 | Cost: 0.0182\n",
      "Epoch: 025/010 | Batch 0600/1145 | Cost: 0.0189\n",
      "Epoch: 025/010 | Batch 0650/1145 | Cost: 0.0669\n",
      "Epoch: 025/010 | Batch 0700/1145 | Cost: 0.0413\n",
      "Epoch: 025/010 | Batch 0750/1145 | Cost: 0.1845\n",
      "Epoch: 025/010 | Batch 0800/1145 | Cost: 0.0204\n",
      "Epoch: 025/010 | Batch 0850/1145 | Cost: 0.0248\n",
      "Epoch: 025/010 | Batch 0900/1145 | Cost: 0.0355\n",
      "Epoch: 025/010 | Batch 0950/1145 | Cost: 0.0224\n",
      "Epoch: 025/010 | Batch 1000/1145 | Cost: 0.0051\n",
      "Epoch: 025/010 | Batch 1050/1145 | Cost: 0.0029\n",
      "Epoch: 025/010 | Batch 1100/1145 | Cost: 0.0151\n",
      "Epoch: 025/010 | Train: 99.563% | Valid: 94.338%\n",
      "Time elapsed: 22.83 min\n",
      "Epoch: 026/010 | Batch 0000/1145 | Cost: 0.0066\n",
      "Epoch: 026/010 | Batch 0050/1145 | Cost: 0.0122\n",
      "Epoch: 026/010 | Batch 0100/1145 | Cost: 0.0003\n",
      "Epoch: 026/010 | Batch 0150/1145 | Cost: 0.0036\n",
      "Epoch: 026/010 | Batch 0200/1145 | Cost: 0.0016\n",
      "Epoch: 026/010 | Batch 0250/1145 | Cost: 0.0169\n",
      "Epoch: 026/010 | Batch 0300/1145 | Cost: 0.0554\n",
      "Epoch: 026/010 | Batch 0350/1145 | Cost: 0.0029\n",
      "Epoch: 026/010 | Batch 0400/1145 | Cost: 0.0220\n",
      "Epoch: 026/010 | Batch 0450/1145 | Cost: 0.0171\n",
      "Epoch: 026/010 | Batch 0500/1145 | Cost: 0.0020\n",
      "Epoch: 026/010 | Batch 0550/1145 | Cost: 0.0058\n",
      "Epoch: 026/010 | Batch 0600/1145 | Cost: 0.0016\n",
      "Epoch: 026/010 | Batch 0650/1145 | Cost: 0.0116\n",
      "Epoch: 026/010 | Batch 0700/1145 | Cost: 0.0089\n",
      "Epoch: 026/010 | Batch 0750/1145 | Cost: 0.0006\n",
      "Epoch: 026/010 | Batch 0800/1145 | Cost: 0.0027\n",
      "Epoch: 026/010 | Batch 0850/1145 | Cost: 0.0285\n",
      "Epoch: 026/010 | Batch 0900/1145 | Cost: 0.0871\n",
      "Epoch: 026/010 | Batch 0950/1145 | Cost: 0.0020\n",
      "Epoch: 026/010 | Batch 1000/1145 | Cost: 0.0083\n",
      "Epoch: 026/010 | Batch 1050/1145 | Cost: 0.0008\n",
      "Epoch: 026/010 | Batch 1100/1145 | Cost: 0.0055\n",
      "Epoch: 026/010 | Train: 99.762% | Valid: 94.499%\n",
      "Time elapsed: 23.74 min\n",
      "Epoch: 027/010 | Batch 0000/1145 | Cost: 0.0643\n",
      "Epoch: 027/010 | Batch 0050/1145 | Cost: 0.0562\n",
      "Epoch: 027/010 | Batch 0100/1145 | Cost: 0.0364\n",
      "Epoch: 027/010 | Batch 0150/1145 | Cost: 0.0002\n",
      "Epoch: 027/010 | Batch 0200/1145 | Cost: 0.0050\n",
      "Epoch: 027/010 | Batch 0250/1145 | Cost: 0.0045\n",
      "Epoch: 027/010 | Batch 0300/1145 | Cost: 0.0045\n",
      "Epoch: 027/010 | Batch 0350/1145 | Cost: 0.0055\n",
      "Epoch: 027/010 | Batch 0400/1145 | Cost: 0.0699\n",
      "Epoch: 027/010 | Batch 0450/1145 | Cost: 0.0364\n",
      "Epoch: 027/010 | Batch 0500/1145 | Cost: 0.0460\n",
      "Epoch: 027/010 | Batch 0550/1145 | Cost: 0.0103\n",
      "Epoch: 027/010 | Batch 0600/1145 | Cost: 0.1182\n",
      "Epoch: 027/010 | Batch 0650/1145 | Cost: 0.0022\n",
      "Epoch: 027/010 | Batch 0700/1145 | Cost: 0.0489\n",
      "Epoch: 027/010 | Batch 0750/1145 | Cost: 0.0008\n",
      "Epoch: 027/010 | Batch 0800/1145 | Cost: 0.0036\n",
      "Epoch: 027/010 | Batch 0850/1145 | Cost: 0.0189\n",
      "Epoch: 027/010 | Batch 0900/1145 | Cost: 0.0006\n",
      "Epoch: 027/010 | Batch 0950/1145 | Cost: 0.1006\n",
      "Epoch: 027/010 | Batch 1000/1145 | Cost: 0.0622\n",
      "Epoch: 027/010 | Batch 1050/1145 | Cost: 0.0076\n",
      "Epoch: 027/010 | Batch 1100/1145 | Cost: 0.0013\n",
      "Epoch: 027/010 | Train: 99.492% | Valid: 94.150%\n",
      "Time elapsed: 24.66 min\n",
      "Epoch: 028/010 | Batch 0000/1145 | Cost: 0.0005\n",
      "Epoch: 028/010 | Batch 0050/1145 | Cost: 0.0093\n",
      "Epoch: 028/010 | Batch 0100/1145 | Cost: 0.0171\n",
      "Epoch: 028/010 | Batch 0150/1145 | Cost: 0.0024\n",
      "Epoch: 028/010 | Batch 0200/1145 | Cost: 0.0757\n",
      "Epoch: 028/010 | Batch 0250/1145 | Cost: 0.0016\n",
      "Epoch: 028/010 | Batch 0300/1145 | Cost: 0.0001\n",
      "Epoch: 028/010 | Batch 0350/1145 | Cost: 0.0033\n",
      "Epoch: 028/010 | Batch 0400/1145 | Cost: 0.0109\n",
      "Epoch: 028/010 | Batch 0450/1145 | Cost: 0.0159\n",
      "Epoch: 028/010 | Batch 0500/1145 | Cost: 0.0078\n",
      "Epoch: 028/010 | Batch 0550/1145 | Cost: 0.0055\n",
      "Epoch: 028/010 | Batch 0600/1145 | Cost: 0.0817\n",
      "Epoch: 028/010 | Batch 0650/1145 | Cost: 0.0002\n",
      "Epoch: 028/010 | Batch 0700/1145 | Cost: 0.0519\n",
      "Epoch: 028/010 | Batch 0750/1145 | Cost: 0.0378\n",
      "Epoch: 028/010 | Batch 0800/1145 | Cost: 0.0011\n",
      "Epoch: 028/010 | Batch 0850/1145 | Cost: 0.0577\n",
      "Epoch: 028/010 | Batch 0900/1145 | Cost: 0.0053\n",
      "Epoch: 028/010 | Batch 0950/1145 | Cost: 0.0540\n",
      "Epoch: 028/010 | Batch 1000/1145 | Cost: 0.0276\n",
      "Epoch: 028/010 | Batch 1050/1145 | Cost: 0.1104\n",
      "Epoch: 028/010 | Batch 1100/1145 | Cost: 0.0910\n",
      "Epoch: 028/010 | Train: 99.550% | Valid: 94.315%\n",
      "Time elapsed: 25.60 min\n",
      "Epoch: 029/010 | Batch 0000/1145 | Cost: 0.0096\n"
     ]
    },
    {
     "name": "stdout",
     "output_type": "stream",
     "text": [
      "Epoch: 029/010 | Batch 0050/1145 | Cost: 0.0003\n",
      "Epoch: 029/010 | Batch 0100/1145 | Cost: 0.0083\n",
      "Epoch: 029/010 | Batch 0150/1145 | Cost: 0.0206\n",
      "Epoch: 029/010 | Batch 0200/1145 | Cost: 0.0011\n",
      "Epoch: 029/010 | Batch 0250/1145 | Cost: 0.0043\n",
      "Epoch: 029/010 | Batch 0300/1145 | Cost: 0.0115\n",
      "Epoch: 029/010 | Batch 0350/1145 | Cost: 0.0006\n",
      "Epoch: 029/010 | Batch 0400/1145 | Cost: 0.0011\n",
      "Epoch: 029/010 | Batch 0450/1145 | Cost: 0.0006\n",
      "Epoch: 029/010 | Batch 0500/1145 | Cost: 0.0004\n",
      "Epoch: 029/010 | Batch 0550/1145 | Cost: 0.0022\n",
      "Epoch: 029/010 | Batch 0600/1145 | Cost: 0.0234\n",
      "Epoch: 029/010 | Batch 0650/1145 | Cost: 0.0023\n",
      "Epoch: 029/010 | Batch 0700/1145 | Cost: 0.0167\n",
      "Epoch: 029/010 | Batch 0750/1145 | Cost: 0.0191\n",
      "Epoch: 029/010 | Batch 0800/1145 | Cost: 0.0669\n",
      "Epoch: 029/010 | Batch 0850/1145 | Cost: 0.0095\n",
      "Epoch: 029/010 | Batch 0900/1145 | Cost: 0.0069\n",
      "Epoch: 029/010 | Batch 0950/1145 | Cost: 0.0066\n",
      "Epoch: 029/010 | Batch 1000/1145 | Cost: 0.0130\n",
      "Epoch: 029/010 | Batch 1050/1145 | Cost: 0.0380\n",
      "Epoch: 029/010 | Batch 1100/1145 | Cost: 0.0151\n",
      "Epoch: 029/010 | Train: 99.496% | Valid: 93.646%\n",
      "Time elapsed: 26.54 min\n",
      "Epoch: 030/010 | Batch 0000/1145 | Cost: 0.0016\n",
      "Epoch: 030/010 | Batch 0050/1145 | Cost: 0.0808\n",
      "Epoch: 030/010 | Batch 0100/1145 | Cost: 0.0042\n",
      "Epoch: 030/010 | Batch 0150/1145 | Cost: 0.0119\n",
      "Epoch: 030/010 | Batch 0200/1145 | Cost: 0.0247\n",
      "Epoch: 030/010 | Batch 0250/1145 | Cost: 0.0037\n",
      "Epoch: 030/010 | Batch 0300/1145 | Cost: 0.0005\n",
      "Epoch: 030/010 | Batch 0350/1145 | Cost: 0.0030\n",
      "Epoch: 030/010 | Batch 0400/1145 | Cost: 0.0071\n",
      "Epoch: 030/010 | Batch 0450/1145 | Cost: 0.0033\n",
      "Epoch: 030/010 | Batch 0500/1145 | Cost: 0.0191\n",
      "Epoch: 030/010 | Batch 0550/1145 | Cost: 0.1083\n",
      "Epoch: 030/010 | Batch 0600/1145 | Cost: 0.0015\n",
      "Epoch: 030/010 | Batch 0650/1145 | Cost: 0.0011\n",
      "Epoch: 030/010 | Batch 0700/1145 | Cost: 0.0087\n",
      "Epoch: 030/010 | Batch 0750/1145 | Cost: 0.0164\n",
      "Epoch: 030/010 | Batch 0800/1145 | Cost: 0.0249\n",
      "Epoch: 030/010 | Batch 0850/1145 | Cost: 0.0013\n",
      "Epoch: 030/010 | Batch 0900/1145 | Cost: 0.0295\n",
      "Epoch: 030/010 | Batch 0950/1145 | Cost: 0.0267\n",
      "Epoch: 030/010 | Batch 1000/1145 | Cost: 0.0499\n",
      "Epoch: 030/010 | Batch 1050/1145 | Cost: 0.0078\n",
      "Epoch: 030/010 | Batch 1100/1145 | Cost: 0.0284\n",
      "Epoch: 030/010 | Train: 99.541% | Valid: 94.153%\n",
      "Time elapsed: 27.48 min\n",
      "Epoch: 031/010 | Batch 0000/1145 | Cost: 0.0033\n",
      "Epoch: 031/010 | Batch 0050/1145 | Cost: 0.0005\n",
      "Epoch: 031/010 | Batch 0100/1145 | Cost: 0.0001\n",
      "Epoch: 031/010 | Batch 0150/1145 | Cost: 0.0057\n",
      "Epoch: 031/010 | Batch 0200/1145 | Cost: 0.0012\n",
      "Epoch: 031/010 | Batch 0250/1145 | Cost: 0.0637\n",
      "Epoch: 031/010 | Batch 0300/1145 | Cost: 0.0036\n",
      "Epoch: 031/010 | Batch 0350/1145 | Cost: 0.0023\n",
      "Epoch: 031/010 | Batch 0400/1145 | Cost: 0.0145\n",
      "Epoch: 031/010 | Batch 0450/1145 | Cost: 0.0235\n",
      "Epoch: 031/010 | Batch 0500/1145 | Cost: 0.0138\n",
      "Epoch: 031/010 | Batch 0550/1145 | Cost: 0.0068\n",
      "Epoch: 031/010 | Batch 0600/1145 | Cost: 0.0319\n",
      "Epoch: 031/010 | Batch 0650/1145 | Cost: 0.0365\n",
      "Epoch: 031/010 | Batch 0700/1145 | Cost: 0.0004\n",
      "Epoch: 031/010 | Batch 0750/1145 | Cost: 0.0011\n",
      "Epoch: 031/010 | Batch 0800/1145 | Cost: 0.0026\n",
      "Epoch: 031/010 | Batch 0850/1145 | Cost: 0.0253\n",
      "Epoch: 031/010 | Batch 0900/1145 | Cost: 0.0003\n",
      "Epoch: 031/010 | Batch 0950/1145 | Cost: 0.0584\n",
      "Epoch: 031/010 | Batch 1000/1145 | Cost: 0.0211\n",
      "Epoch: 031/010 | Batch 1050/1145 | Cost: 0.0624\n",
      "Epoch: 031/010 | Batch 1100/1145 | Cost: 0.0134\n",
      "Epoch: 031/010 | Train: 99.444% | Valid: 93.612%\n",
      "Time elapsed: 28.43 min\n",
      "Epoch: 032/010 | Batch 0000/1145 | Cost: 0.0403\n",
      "Epoch: 032/010 | Batch 0050/1145 | Cost: 0.0405\n",
      "Epoch: 032/010 | Batch 0100/1145 | Cost: 0.0166\n",
      "Epoch: 032/010 | Batch 0150/1145 | Cost: 0.0027\n",
      "Epoch: 032/010 | Batch 0200/1145 | Cost: 0.0035\n",
      "Epoch: 032/010 | Batch 0250/1145 | Cost: 0.0168\n",
      "Epoch: 032/010 | Batch 0300/1145 | Cost: 0.0305\n",
      "Epoch: 032/010 | Batch 0350/1145 | Cost: 0.0113\n",
      "Epoch: 032/010 | Batch 0400/1145 | Cost: 0.0025\n",
      "Epoch: 032/010 | Batch 0450/1145 | Cost: 0.0013\n",
      "Epoch: 032/010 | Batch 0500/1145 | Cost: 0.0007\n",
      "Epoch: 032/010 | Batch 0550/1145 | Cost: 0.0287\n",
      "Epoch: 032/010 | Batch 0600/1145 | Cost: 0.0003\n",
      "Epoch: 032/010 | Batch 0650/1145 | Cost: 0.0091\n",
      "Epoch: 032/010 | Batch 0700/1145 | Cost: 0.0037\n",
      "Epoch: 032/010 | Batch 0750/1145 | Cost: 0.0123\n",
      "Epoch: 032/010 | Batch 0800/1145 | Cost: 0.0109\n",
      "Epoch: 032/010 | Batch 0850/1145 | Cost: 0.0029\n",
      "Epoch: 032/010 | Batch 0900/1145 | Cost: 0.0254\n",
      "Epoch: 032/010 | Batch 0950/1145 | Cost: 0.0413\n",
      "Epoch: 032/010 | Batch 1000/1145 | Cost: 0.0938\n",
      "Epoch: 032/010 | Batch 1050/1145 | Cost: 0.0048\n",
      "Epoch: 032/010 | Batch 1100/1145 | Cost: 0.0018\n",
      "Epoch: 032/010 | Train: 99.565% | Valid: 93.900%\n",
      "Time elapsed: 29.36 min\n",
      "Epoch: 033/010 | Batch 0000/1145 | Cost: 0.0053\n",
      "Epoch: 033/010 | Batch 0050/1145 | Cost: 0.0289\n",
      "Epoch: 033/010 | Batch 0100/1145 | Cost: 0.0005\n",
      "Epoch: 033/010 | Batch 0150/1145 | Cost: 0.0146\n",
      "Epoch: 033/010 | Batch 0200/1145 | Cost: 0.0113\n",
      "Epoch: 033/010 | Batch 0250/1145 | Cost: 0.0036\n",
      "Epoch: 033/010 | Batch 0300/1145 | Cost: 0.0099\n",
      "Epoch: 033/010 | Batch 0350/1145 | Cost: 0.0098\n"
     ]
    },
    {
     "ename": "KeyboardInterrupt",
     "evalue": "",
     "output_type": "error",
     "traceback": [
      "\u001b[0;31m---------------------------------------------------------------------------\u001b[0m",
      "\u001b[0;31mKeyboardInterrupt\u001b[0m                         Traceback (most recent call last)",
      "\u001b[0;32m<ipython-input-12-ec2272198cc0>\u001b[0m in \u001b[0;36m<module>\u001b[0;34m\u001b[0m\n\u001b[1;32m     31\u001b[0m         \u001b[0moptimizer\u001b[0m\u001b[0;34m.\u001b[0m\u001b[0mzero_grad\u001b[0m\u001b[0;34m(\u001b[0m\u001b[0;34m)\u001b[0m\u001b[0;34m\u001b[0m\u001b[0;34m\u001b[0m\u001b[0m\n\u001b[1;32m     32\u001b[0m \u001b[0;34m\u001b[0m\u001b[0m\n\u001b[0;32m---> 33\u001b[0;31m         \u001b[0mcost\u001b[0m\u001b[0;34m.\u001b[0m\u001b[0mbackward\u001b[0m\u001b[0;34m(\u001b[0m\u001b[0;34m)\u001b[0m\u001b[0;34m\u001b[0m\u001b[0;34m\u001b[0m\u001b[0m\n\u001b[0m\u001b[1;32m     34\u001b[0m \u001b[0;34m\u001b[0m\u001b[0m\n\u001b[1;32m     35\u001b[0m         \u001b[0;31m### UPDATE MODEL PARAMETERS\u001b[0m\u001b[0;34m\u001b[0m\u001b[0;34m\u001b[0m\u001b[0;34m\u001b[0m\u001b[0m\n",
      "\u001b[0;32m/opt/miniconda3/envs/bvaa/lib/python3.6/site-packages/torch/tensor.py\u001b[0m in \u001b[0;36mbackward\u001b[0;34m(self, gradient, retain_graph, create_graph)\u001b[0m\n\u001b[1;32m    193\u001b[0m                 \u001b[0mproducts\u001b[0m\u001b[0;34m.\u001b[0m \u001b[0mDefaults\u001b[0m \u001b[0mto\u001b[0m\u001b[0;31m \u001b[0m\u001b[0;31m`\u001b[0m\u001b[0;31m`\u001b[0m\u001b[0;32mFalse\u001b[0m\u001b[0;31m`\u001b[0m\u001b[0;31m`\u001b[0m\u001b[0;34m.\u001b[0m\u001b[0;34m\u001b[0m\u001b[0;34m\u001b[0m\u001b[0m\n\u001b[1;32m    194\u001b[0m         \"\"\"\n\u001b[0;32m--> 195\u001b[0;31m         \u001b[0mtorch\u001b[0m\u001b[0;34m.\u001b[0m\u001b[0mautograd\u001b[0m\u001b[0;34m.\u001b[0m\u001b[0mbackward\u001b[0m\u001b[0;34m(\u001b[0m\u001b[0mself\u001b[0m\u001b[0;34m,\u001b[0m \u001b[0mgradient\u001b[0m\u001b[0;34m,\u001b[0m \u001b[0mretain_graph\u001b[0m\u001b[0;34m,\u001b[0m \u001b[0mcreate_graph\u001b[0m\u001b[0;34m)\u001b[0m\u001b[0;34m\u001b[0m\u001b[0;34m\u001b[0m\u001b[0m\n\u001b[0m\u001b[1;32m    196\u001b[0m \u001b[0;34m\u001b[0m\u001b[0m\n\u001b[1;32m    197\u001b[0m     \u001b[0;32mdef\u001b[0m \u001b[0mregister_hook\u001b[0m\u001b[0;34m(\u001b[0m\u001b[0mself\u001b[0m\u001b[0;34m,\u001b[0m \u001b[0mhook\u001b[0m\u001b[0;34m)\u001b[0m\u001b[0;34m:\u001b[0m\u001b[0;34m\u001b[0m\u001b[0;34m\u001b[0m\u001b[0m\n",
      "\u001b[0;32m/opt/miniconda3/envs/bvaa/lib/python3.6/site-packages/torch/autograd/__init__.py\u001b[0m in \u001b[0;36mbackward\u001b[0;34m(tensors, grad_tensors, retain_graph, create_graph, grad_variables)\u001b[0m\n\u001b[1;32m     97\u001b[0m     Variable._execution_engine.run_backward(\n\u001b[1;32m     98\u001b[0m         \u001b[0mtensors\u001b[0m\u001b[0;34m,\u001b[0m \u001b[0mgrad_tensors\u001b[0m\u001b[0;34m,\u001b[0m \u001b[0mretain_graph\u001b[0m\u001b[0;34m,\u001b[0m \u001b[0mcreate_graph\u001b[0m\u001b[0;34m,\u001b[0m\u001b[0;34m\u001b[0m\u001b[0;34m\u001b[0m\u001b[0m\n\u001b[0;32m---> 99\u001b[0;31m         allow_unreachable=True)  # allow_unreachable flag\n\u001b[0m\u001b[1;32m    100\u001b[0m \u001b[0;34m\u001b[0m\u001b[0m\n\u001b[1;32m    101\u001b[0m \u001b[0;34m\u001b[0m\u001b[0m\n",
      "\u001b[0;31mKeyboardInterrupt\u001b[0m: "
     ]
    }
   ],
   "source": [
    "# import time\n",
    "\n",
    "# from tqdm.notebook import tqdm\n",
    "\n",
    "# def compute_accuracy(model, data_loader, device):\n",
    "#     correct_pred, num_examples = 0, 0\n",
    "#     for i, (features, targets) in enumerate(data_loader):\n",
    "            \n",
    "#         features = features.to(device)\n",
    "#         targets = targets.to(device)\n",
    "\n",
    "#         logits, probas = model(features)\n",
    "#         _, predicted_labels = torch.max(probas, 1)\n",
    "#         num_examples += targets.size(0)\n",
    "#         correct_pred += (predicted_labels == targets).sum()\n",
    "#     return correct_pred.float()/num_examples * 100\n",
    "    \n",
    "\n",
    "# start_time = time.time()\n",
    "# for epoch in tqdm(range(100)):\n",
    "    \n",
    "#     classifier.train()\n",
    "#     for batch_idx, (features, targets) in enumerate(train_loader):\n",
    "        \n",
    "#         features = features.to(DEVICE)\n",
    "#         targets = targets.to(DEVICE)\n",
    "            \n",
    "#         ### FORWARD AND BACK PROP\n",
    "#         logits, probas = classifier(features)\n",
    "#         cost = F.cross_entropy(logits, targets)\n",
    "#         optimizer.zero_grad()\n",
    "        \n",
    "#         cost.backward()\n",
    "        \n",
    "#         ### UPDATE MODEL PARAMETERS\n",
    "#         optimizer.step()\n",
    "        \n",
    "#         ### LOGGING\n",
    "#         if not batch_idx % 50:\n",
    "#             print ('Epoch: %03d/%03d | Batch %04d/%04d | Cost: %.4f' \n",
    "#                    %(epoch+1, NUM_EPOCHS, batch_idx, \n",
    "#                      len(train_loader), cost))\n",
    "\n",
    "        \n",
    "\n",
    "#     classifier.eval()\n",
    "#     with torch.set_grad_enabled(False): # save memory during inference\n",
    "#         print('Epoch: %03d/%03d | Train: %.3f%% | Valid: %.3f%%' % (\n",
    "#               epoch+1, NUM_EPOCHS, \n",
    "#               compute_accuracy(classifier, train_loader, device=DEVICE),\n",
    "#               compute_accuracy(classifier, test_loader, device=DEVICE)))\n",
    "        \n",
    "#     print('Time elapsed: %.2f min' % ((time.time() - start_time)/60))\n",
    "    \n",
    "# print('Total Training Time: %.2f min' % ((time.time() - start_time)/60))"
   ]
  },
  {
   "cell_type": "code",
   "execution_count": 13,
   "metadata": {},
   "outputs": [],
   "source": [
    "# torch.save(classifier.state_dict(), './models/svhn/classifier.pt')"
   ]
  },
  {
   "cell_type": "code",
   "execution_count": 10,
   "metadata": {},
   "outputs": [
    {
     "data": {
      "text/plain": [
       "ResNet(\n",
       "  (conv1): Conv2d(3, 64, kernel_size=(7, 7), stride=(2, 2), padding=(3, 3), bias=False)\n",
       "  (bn1): BatchNorm2d(64, eps=1e-05, momentum=0.1, affine=True, track_running_stats=True)\n",
       "  (relu): ReLU(inplace=True)\n",
       "  (maxpool): MaxPool2d(kernel_size=3, stride=2, padding=1, dilation=1, ceil_mode=False)\n",
       "  (layer1): Sequential(\n",
       "    (0): Bottleneck(\n",
       "      (conv1): Conv2d(64, 64, kernel_size=(1, 1), stride=(1, 1), bias=False)\n",
       "      (bn1): BatchNorm2d(64, eps=1e-05, momentum=0.1, affine=True, track_running_stats=True)\n",
       "      (conv2): Conv2d(64, 64, kernel_size=(3, 3), stride=(1, 1), padding=(1, 1), bias=False)\n",
       "      (bn2): BatchNorm2d(64, eps=1e-05, momentum=0.1, affine=True, track_running_stats=True)\n",
       "      (conv3): Conv2d(64, 256, kernel_size=(1, 1), stride=(1, 1), bias=False)\n",
       "      (bn3): BatchNorm2d(256, eps=1e-05, momentum=0.1, affine=True, track_running_stats=True)\n",
       "      (relu): ReLU(inplace=True)\n",
       "      (downsample): Sequential(\n",
       "        (0): Conv2d(64, 256, kernel_size=(1, 1), stride=(1, 1), bias=False)\n",
       "        (1): BatchNorm2d(256, eps=1e-05, momentum=0.1, affine=True, track_running_stats=True)\n",
       "      )\n",
       "    )\n",
       "    (1): Bottleneck(\n",
       "      (conv1): Conv2d(256, 64, kernel_size=(1, 1), stride=(1, 1), bias=False)\n",
       "      (bn1): BatchNorm2d(64, eps=1e-05, momentum=0.1, affine=True, track_running_stats=True)\n",
       "      (conv2): Conv2d(64, 64, kernel_size=(3, 3), stride=(1, 1), padding=(1, 1), bias=False)\n",
       "      (bn2): BatchNorm2d(64, eps=1e-05, momentum=0.1, affine=True, track_running_stats=True)\n",
       "      (conv3): Conv2d(64, 256, kernel_size=(1, 1), stride=(1, 1), bias=False)\n",
       "      (bn3): BatchNorm2d(256, eps=1e-05, momentum=0.1, affine=True, track_running_stats=True)\n",
       "      (relu): ReLU(inplace=True)\n",
       "    )\n",
       "    (2): Bottleneck(\n",
       "      (conv1): Conv2d(256, 64, kernel_size=(1, 1), stride=(1, 1), bias=False)\n",
       "      (bn1): BatchNorm2d(64, eps=1e-05, momentum=0.1, affine=True, track_running_stats=True)\n",
       "      (conv2): Conv2d(64, 64, kernel_size=(3, 3), stride=(1, 1), padding=(1, 1), bias=False)\n",
       "      (bn2): BatchNorm2d(64, eps=1e-05, momentum=0.1, affine=True, track_running_stats=True)\n",
       "      (conv3): Conv2d(64, 256, kernel_size=(1, 1), stride=(1, 1), bias=False)\n",
       "      (bn3): BatchNorm2d(256, eps=1e-05, momentum=0.1, affine=True, track_running_stats=True)\n",
       "      (relu): ReLU(inplace=True)\n",
       "    )\n",
       "    (3): Bottleneck(\n",
       "      (conv1): Conv2d(256, 64, kernel_size=(1, 1), stride=(1, 1), bias=False)\n",
       "      (bn1): BatchNorm2d(64, eps=1e-05, momentum=0.1, affine=True, track_running_stats=True)\n",
       "      (conv2): Conv2d(64, 64, kernel_size=(3, 3), stride=(1, 1), padding=(1, 1), bias=False)\n",
       "      (bn2): BatchNorm2d(64, eps=1e-05, momentum=0.1, affine=True, track_running_stats=True)\n",
       "      (conv3): Conv2d(64, 256, kernel_size=(1, 1), stride=(1, 1), bias=False)\n",
       "      (bn3): BatchNorm2d(256, eps=1e-05, momentum=0.1, affine=True, track_running_stats=True)\n",
       "      (relu): ReLU(inplace=True)\n",
       "    )\n",
       "    (4): Bottleneck(\n",
       "      (conv1): Conv2d(256, 64, kernel_size=(1, 1), stride=(1, 1), bias=False)\n",
       "      (bn1): BatchNorm2d(64, eps=1e-05, momentum=0.1, affine=True, track_running_stats=True)\n",
       "      (conv2): Conv2d(64, 64, kernel_size=(3, 3), stride=(1, 1), padding=(1, 1), bias=False)\n",
       "      (bn2): BatchNorm2d(64, eps=1e-05, momentum=0.1, affine=True, track_running_stats=True)\n",
       "      (conv3): Conv2d(64, 256, kernel_size=(1, 1), stride=(1, 1), bias=False)\n",
       "      (bn3): BatchNorm2d(256, eps=1e-05, momentum=0.1, affine=True, track_running_stats=True)\n",
       "      (relu): ReLU(inplace=True)\n",
       "    )\n",
       "    (5): Bottleneck(\n",
       "      (conv1): Conv2d(256, 64, kernel_size=(1, 1), stride=(1, 1), bias=False)\n",
       "      (bn1): BatchNorm2d(64, eps=1e-05, momentum=0.1, affine=True, track_running_stats=True)\n",
       "      (conv2): Conv2d(64, 64, kernel_size=(3, 3), stride=(1, 1), padding=(1, 1), bias=False)\n",
       "      (bn2): BatchNorm2d(64, eps=1e-05, momentum=0.1, affine=True, track_running_stats=True)\n",
       "      (conv3): Conv2d(64, 256, kernel_size=(1, 1), stride=(1, 1), bias=False)\n",
       "      (bn3): BatchNorm2d(256, eps=1e-05, momentum=0.1, affine=True, track_running_stats=True)\n",
       "      (relu): ReLU(inplace=True)\n",
       "    )\n",
       "    (6): Bottleneck(\n",
       "      (conv1): Conv2d(256, 64, kernel_size=(1, 1), stride=(1, 1), bias=False)\n",
       "      (bn1): BatchNorm2d(64, eps=1e-05, momentum=0.1, affine=True, track_running_stats=True)\n",
       "      (conv2): Conv2d(64, 64, kernel_size=(3, 3), stride=(1, 1), padding=(1, 1), bias=False)\n",
       "      (bn2): BatchNorm2d(64, eps=1e-05, momentum=0.1, affine=True, track_running_stats=True)\n",
       "      (conv3): Conv2d(64, 256, kernel_size=(1, 1), stride=(1, 1), bias=False)\n",
       "      (bn3): BatchNorm2d(256, eps=1e-05, momentum=0.1, affine=True, track_running_stats=True)\n",
       "      (relu): ReLU(inplace=True)\n",
       "    )\n",
       "    (7): Bottleneck(\n",
       "      (conv1): Conv2d(256, 64, kernel_size=(1, 1), stride=(1, 1), bias=False)\n",
       "      (bn1): BatchNorm2d(64, eps=1e-05, momentum=0.1, affine=True, track_running_stats=True)\n",
       "      (conv2): Conv2d(64, 64, kernel_size=(3, 3), stride=(1, 1), padding=(1, 1), bias=False)\n",
       "      (bn2): BatchNorm2d(64, eps=1e-05, momentum=0.1, affine=True, track_running_stats=True)\n",
       "      (conv3): Conv2d(64, 256, kernel_size=(1, 1), stride=(1, 1), bias=False)\n",
       "      (bn3): BatchNorm2d(256, eps=1e-05, momentum=0.1, affine=True, track_running_stats=True)\n",
       "      (relu): ReLU(inplace=True)\n",
       "    )\n",
       "    (8): Bottleneck(\n",
       "      (conv1): Conv2d(256, 64, kernel_size=(1, 1), stride=(1, 1), bias=False)\n",
       "      (bn1): BatchNorm2d(64, eps=1e-05, momentum=0.1, affine=True, track_running_stats=True)\n",
       "      (conv2): Conv2d(64, 64, kernel_size=(3, 3), stride=(1, 1), padding=(1, 1), bias=False)\n",
       "      (bn2): BatchNorm2d(64, eps=1e-05, momentum=0.1, affine=True, track_running_stats=True)\n",
       "      (conv3): Conv2d(64, 256, kernel_size=(1, 1), stride=(1, 1), bias=False)\n",
       "      (bn3): BatchNorm2d(256, eps=1e-05, momentum=0.1, affine=True, track_running_stats=True)\n",
       "      (relu): ReLU(inplace=True)\n",
       "    )\n",
       "    (9): Bottleneck(\n",
       "      (conv1): Conv2d(256, 64, kernel_size=(1, 1), stride=(1, 1), bias=False)\n",
       "      (bn1): BatchNorm2d(64, eps=1e-05, momentum=0.1, affine=True, track_running_stats=True)\n",
       "      (conv2): Conv2d(64, 64, kernel_size=(3, 3), stride=(1, 1), padding=(1, 1), bias=False)\n",
       "      (bn2): BatchNorm2d(64, eps=1e-05, momentum=0.1, affine=True, track_running_stats=True)\n",
       "      (conv3): Conv2d(64, 256, kernel_size=(1, 1), stride=(1, 1), bias=False)\n",
       "      (bn3): BatchNorm2d(256, eps=1e-05, momentum=0.1, affine=True, track_running_stats=True)\n",
       "      (relu): ReLU(inplace=True)\n",
       "    )\n",
       "  )\n",
       "  (layer2): Sequential(\n",
       "    (0): Bottleneck(\n",
       "      (conv1): Conv2d(256, 128, kernel_size=(1, 1), stride=(1, 1), bias=False)\n",
       "      (bn1): BatchNorm2d(128, eps=1e-05, momentum=0.1, affine=True, track_running_stats=True)\n",
       "      (conv2): Conv2d(128, 128, kernel_size=(3, 3), stride=(2, 2), padding=(1, 1), bias=False)\n",
       "      (bn2): BatchNorm2d(128, eps=1e-05, momentum=0.1, affine=True, track_running_stats=True)\n",
       "      (conv3): Conv2d(128, 512, kernel_size=(1, 1), stride=(1, 1), bias=False)\n",
       "      (bn3): BatchNorm2d(512, eps=1e-05, momentum=0.1, affine=True, track_running_stats=True)\n",
       "      (relu): ReLU(inplace=True)\n",
       "      (downsample): Sequential(\n",
       "        (0): Conv2d(256, 512, kernel_size=(1, 1), stride=(2, 2), bias=False)\n",
       "        (1): BatchNorm2d(512, eps=1e-05, momentum=0.1, affine=True, track_running_stats=True)\n",
       "      )\n",
       "    )\n",
       "    (1): Bottleneck(\n",
       "      (conv1): Conv2d(512, 128, kernel_size=(1, 1), stride=(1, 1), bias=False)\n",
       "      (bn1): BatchNorm2d(128, eps=1e-05, momentum=0.1, affine=True, track_running_stats=True)\n",
       "      (conv2): Conv2d(128, 128, kernel_size=(3, 3), stride=(1, 1), padding=(1, 1), bias=False)\n",
       "      (bn2): BatchNorm2d(128, eps=1e-05, momentum=0.1, affine=True, track_running_stats=True)\n",
       "      (conv3): Conv2d(128, 512, kernel_size=(1, 1), stride=(1, 1), bias=False)\n",
       "      (bn3): BatchNorm2d(512, eps=1e-05, momentum=0.1, affine=True, track_running_stats=True)\n",
       "      (relu): ReLU(inplace=True)\n",
       "    )\n",
       "    (2): Bottleneck(\n",
       "      (conv1): Conv2d(512, 128, kernel_size=(1, 1), stride=(1, 1), bias=False)\n",
       "      (bn1): BatchNorm2d(128, eps=1e-05, momentum=0.1, affine=True, track_running_stats=True)\n",
       "      (conv2): Conv2d(128, 128, kernel_size=(3, 3), stride=(1, 1), padding=(1, 1), bias=False)\n",
       "      (bn2): BatchNorm2d(128, eps=1e-05, momentum=0.1, affine=True, track_running_stats=True)\n",
       "      (conv3): Conv2d(128, 512, kernel_size=(1, 1), stride=(1, 1), bias=False)\n",
       "      (bn3): BatchNorm2d(512, eps=1e-05, momentum=0.1, affine=True, track_running_stats=True)\n",
       "      (relu): ReLU(inplace=True)\n",
       "    )\n",
       "    (3): Bottleneck(\n",
       "      (conv1): Conv2d(512, 128, kernel_size=(1, 1), stride=(1, 1), bias=False)\n",
       "      (bn1): BatchNorm2d(128, eps=1e-05, momentum=0.1, affine=True, track_running_stats=True)\n",
       "      (conv2): Conv2d(128, 128, kernel_size=(3, 3), stride=(1, 1), padding=(1, 1), bias=False)\n",
       "      (bn2): BatchNorm2d(128, eps=1e-05, momentum=0.1, affine=True, track_running_stats=True)\n",
       "      (conv3): Conv2d(128, 512, kernel_size=(1, 1), stride=(1, 1), bias=False)\n",
       "      (bn3): BatchNorm2d(512, eps=1e-05, momentum=0.1, affine=True, track_running_stats=True)\n",
       "      (relu): ReLU(inplace=True)\n",
       "    )\n",
       "    (4): Bottleneck(\n",
       "      (conv1): Conv2d(512, 128, kernel_size=(1, 1), stride=(1, 1), bias=False)\n",
       "      (bn1): BatchNorm2d(128, eps=1e-05, momentum=0.1, affine=True, track_running_stats=True)\n",
       "      (conv2): Conv2d(128, 128, kernel_size=(3, 3), stride=(1, 1), padding=(1, 1), bias=False)\n",
       "      (bn2): BatchNorm2d(128, eps=1e-05, momentum=0.1, affine=True, track_running_stats=True)\n",
       "      (conv3): Conv2d(128, 512, kernel_size=(1, 1), stride=(1, 1), bias=False)\n",
       "      (bn3): BatchNorm2d(512, eps=1e-05, momentum=0.1, affine=True, track_running_stats=True)\n",
       "      (relu): ReLU(inplace=True)\n",
       "    )\n",
       "    (5): Bottleneck(\n",
       "      (conv1): Conv2d(512, 128, kernel_size=(1, 1), stride=(1, 1), bias=False)\n",
       "      (bn1): BatchNorm2d(128, eps=1e-05, momentum=0.1, affine=True, track_running_stats=True)\n",
       "      (conv2): Conv2d(128, 128, kernel_size=(3, 3), stride=(1, 1), padding=(1, 1), bias=False)\n",
       "      (bn2): BatchNorm2d(128, eps=1e-05, momentum=0.1, affine=True, track_running_stats=True)\n",
       "      (conv3): Conv2d(128, 512, kernel_size=(1, 1), stride=(1, 1), bias=False)\n",
       "      (bn3): BatchNorm2d(512, eps=1e-05, momentum=0.1, affine=True, track_running_stats=True)\n",
       "      (relu): ReLU(inplace=True)\n",
       "    )\n",
       "    (6): Bottleneck(\n",
       "      (conv1): Conv2d(512, 128, kernel_size=(1, 1), stride=(1, 1), bias=False)\n",
       "      (bn1): BatchNorm2d(128, eps=1e-05, momentum=0.1, affine=True, track_running_stats=True)\n",
       "      (conv2): Conv2d(128, 128, kernel_size=(3, 3), stride=(1, 1), padding=(1, 1), bias=False)\n",
       "      (bn2): BatchNorm2d(128, eps=1e-05, momentum=0.1, affine=True, track_running_stats=True)\n",
       "      (conv3): Conv2d(128, 512, kernel_size=(1, 1), stride=(1, 1), bias=False)\n",
       "      (bn3): BatchNorm2d(512, eps=1e-05, momentum=0.1, affine=True, track_running_stats=True)\n",
       "      (relu): ReLU(inplace=True)\n",
       "    )\n",
       "    (7): Bottleneck(\n",
       "      (conv1): Conv2d(512, 128, kernel_size=(1, 1), stride=(1, 1), bias=False)\n",
       "      (bn1): BatchNorm2d(128, eps=1e-05, momentum=0.1, affine=True, track_running_stats=True)\n",
       "      (conv2): Conv2d(128, 128, kernel_size=(3, 3), stride=(1, 1), padding=(1, 1), bias=False)\n",
       "      (bn2): BatchNorm2d(128, eps=1e-05, momentum=0.1, affine=True, track_running_stats=True)\n",
       "      (conv3): Conv2d(128, 512, kernel_size=(1, 1), stride=(1, 1), bias=False)\n",
       "      (bn3): BatchNorm2d(512, eps=1e-05, momentum=0.1, affine=True, track_running_stats=True)\n",
       "      (relu): ReLU(inplace=True)\n",
       "    )\n",
       "    (8): Bottleneck(\n",
       "      (conv1): Conv2d(512, 128, kernel_size=(1, 1), stride=(1, 1), bias=False)\n",
       "      (bn1): BatchNorm2d(128, eps=1e-05, momentum=0.1, affine=True, track_running_stats=True)\n",
       "      (conv2): Conv2d(128, 128, kernel_size=(3, 3), stride=(1, 1), padding=(1, 1), bias=False)\n",
       "      (bn2): BatchNorm2d(128, eps=1e-05, momentum=0.1, affine=True, track_running_stats=True)\n",
       "      (conv3): Conv2d(128, 512, kernel_size=(1, 1), stride=(1, 1), bias=False)\n",
       "      (bn3): BatchNorm2d(512, eps=1e-05, momentum=0.1, affine=True, track_running_stats=True)\n",
       "      (relu): ReLU(inplace=True)\n",
       "    )\n",
       "  )\n",
       "  (layer3): Sequential(\n",
       "    (0): Bottleneck(\n",
       "      (conv1): Conv2d(512, 256, kernel_size=(1, 1), stride=(1, 1), bias=False)\n",
       "      (bn1): BatchNorm2d(256, eps=1e-05, momentum=0.1, affine=True, track_running_stats=True)\n",
       "      (conv2): Conv2d(256, 256, kernel_size=(3, 3), stride=(2, 2), padding=(1, 1), bias=False)\n",
       "      (bn2): BatchNorm2d(256, eps=1e-05, momentum=0.1, affine=True, track_running_stats=True)\n",
       "      (conv3): Conv2d(256, 1024, kernel_size=(1, 1), stride=(1, 1), bias=False)\n",
       "      (bn3): BatchNorm2d(1024, eps=1e-05, momentum=0.1, affine=True, track_running_stats=True)\n",
       "      (relu): ReLU(inplace=True)\n",
       "      (downsample): Sequential(\n",
       "        (0): Conv2d(512, 1024, kernel_size=(1, 1), stride=(2, 2), bias=False)\n",
       "        (1): BatchNorm2d(1024, eps=1e-05, momentum=0.1, affine=True, track_running_stats=True)\n",
       "      )\n",
       "    )\n",
       "    (1): Bottleneck(\n",
       "      (conv1): Conv2d(1024, 256, kernel_size=(1, 1), stride=(1, 1), bias=False)\n",
       "      (bn1): BatchNorm2d(256, eps=1e-05, momentum=0.1, affine=True, track_running_stats=True)\n",
       "      (conv2): Conv2d(256, 256, kernel_size=(3, 3), stride=(1, 1), padding=(1, 1), bias=False)\n",
       "      (bn2): BatchNorm2d(256, eps=1e-05, momentum=0.1, affine=True, track_running_stats=True)\n",
       "      (conv3): Conv2d(256, 1024, kernel_size=(1, 1), stride=(1, 1), bias=False)\n",
       "      (bn3): BatchNorm2d(1024, eps=1e-05, momentum=0.1, affine=True, track_running_stats=True)\n",
       "      (relu): ReLU(inplace=True)\n",
       "    )\n",
       "    (2): Bottleneck(\n",
       "      (conv1): Conv2d(1024, 256, kernel_size=(1, 1), stride=(1, 1), bias=False)\n",
       "      (bn1): BatchNorm2d(256, eps=1e-05, momentum=0.1, affine=True, track_running_stats=True)\n",
       "      (conv2): Conv2d(256, 256, kernel_size=(3, 3), stride=(1, 1), padding=(1, 1), bias=False)\n",
       "      (bn2): BatchNorm2d(256, eps=1e-05, momentum=0.1, affine=True, track_running_stats=True)\n",
       "      (conv3): Conv2d(256, 1024, kernel_size=(1, 1), stride=(1, 1), bias=False)\n",
       "      (bn3): BatchNorm2d(1024, eps=1e-05, momentum=0.1, affine=True, track_running_stats=True)\n",
       "      (relu): ReLU(inplace=True)\n",
       "    )\n",
       "    (3): Bottleneck(\n",
       "      (conv1): Conv2d(1024, 256, kernel_size=(1, 1), stride=(1, 1), bias=False)\n",
       "      (bn1): BatchNorm2d(256, eps=1e-05, momentum=0.1, affine=True, track_running_stats=True)\n",
       "      (conv2): Conv2d(256, 256, kernel_size=(3, 3), stride=(1, 1), padding=(1, 1), bias=False)\n",
       "      (bn2): BatchNorm2d(256, eps=1e-05, momentum=0.1, affine=True, track_running_stats=True)\n",
       "      (conv3): Conv2d(256, 1024, kernel_size=(1, 1), stride=(1, 1), bias=False)\n",
       "      (bn3): BatchNorm2d(1024, eps=1e-05, momentum=0.1, affine=True, track_running_stats=True)\n",
       "      (relu): ReLU(inplace=True)\n",
       "    )\n",
       "    (4): Bottleneck(\n",
       "      (conv1): Conv2d(1024, 256, kernel_size=(1, 1), stride=(1, 1), bias=False)\n",
       "      (bn1): BatchNorm2d(256, eps=1e-05, momentum=0.1, affine=True, track_running_stats=True)\n",
       "      (conv2): Conv2d(256, 256, kernel_size=(3, 3), stride=(1, 1), padding=(1, 1), bias=False)\n",
       "      (bn2): BatchNorm2d(256, eps=1e-05, momentum=0.1, affine=True, track_running_stats=True)\n",
       "      (conv3): Conv2d(256, 1024, kernel_size=(1, 1), stride=(1, 1), bias=False)\n",
       "      (bn3): BatchNorm2d(1024, eps=1e-05, momentum=0.1, affine=True, track_running_stats=True)\n",
       "      (relu): ReLU(inplace=True)\n",
       "    )\n",
       "    (5): Bottleneck(\n",
       "      (conv1): Conv2d(1024, 256, kernel_size=(1, 1), stride=(1, 1), bias=False)\n",
       "      (bn1): BatchNorm2d(256, eps=1e-05, momentum=0.1, affine=True, track_running_stats=True)\n",
       "      (conv2): Conv2d(256, 256, kernel_size=(3, 3), stride=(1, 1), padding=(1, 1), bias=False)\n",
       "      (bn2): BatchNorm2d(256, eps=1e-05, momentum=0.1, affine=True, track_running_stats=True)\n",
       "      (conv3): Conv2d(256, 1024, kernel_size=(1, 1), stride=(1, 1), bias=False)\n",
       "      (bn3): BatchNorm2d(1024, eps=1e-05, momentum=0.1, affine=True, track_running_stats=True)\n",
       "      (relu): ReLU(inplace=True)\n",
       "    )\n",
       "    (6): Bottleneck(\n",
       "      (conv1): Conv2d(1024, 256, kernel_size=(1, 1), stride=(1, 1), bias=False)\n",
       "      (bn1): BatchNorm2d(256, eps=1e-05, momentum=0.1, affine=True, track_running_stats=True)\n",
       "      (conv2): Conv2d(256, 256, kernel_size=(3, 3), stride=(1, 1), padding=(1, 1), bias=False)\n",
       "      (bn2): BatchNorm2d(256, eps=1e-05, momentum=0.1, affine=True, track_running_stats=True)\n",
       "      (conv3): Conv2d(256, 1024, kernel_size=(1, 1), stride=(1, 1), bias=False)\n",
       "      (bn3): BatchNorm2d(1024, eps=1e-05, momentum=0.1, affine=True, track_running_stats=True)\n",
       "      (relu): ReLU(inplace=True)\n",
       "    )\n",
       "    (7): Bottleneck(\n",
       "      (conv1): Conv2d(1024, 256, kernel_size=(1, 1), stride=(1, 1), bias=False)\n",
       "      (bn1): BatchNorm2d(256, eps=1e-05, momentum=0.1, affine=True, track_running_stats=True)\n",
       "      (conv2): Conv2d(256, 256, kernel_size=(3, 3), stride=(1, 1), padding=(1, 1), bias=False)\n",
       "      (bn2): BatchNorm2d(256, eps=1e-05, momentum=0.1, affine=True, track_running_stats=True)\n",
       "      (conv3): Conv2d(256, 1024, kernel_size=(1, 1), stride=(1, 1), bias=False)\n",
       "      (bn3): BatchNorm2d(1024, eps=1e-05, momentum=0.1, affine=True, track_running_stats=True)\n",
       "      (relu): ReLU(inplace=True)\n",
       "    )\n",
       "    (8): Bottleneck(\n",
       "      (conv1): Conv2d(1024, 256, kernel_size=(1, 1), stride=(1, 1), bias=False)\n",
       "      (bn1): BatchNorm2d(256, eps=1e-05, momentum=0.1, affine=True, track_running_stats=True)\n",
       "      (conv2): Conv2d(256, 256, kernel_size=(3, 3), stride=(1, 1), padding=(1, 1), bias=False)\n",
       "      (bn2): BatchNorm2d(256, eps=1e-05, momentum=0.1, affine=True, track_running_stats=True)\n",
       "      (conv3): Conv2d(256, 1024, kernel_size=(1, 1), stride=(1, 1), bias=False)\n",
       "      (bn3): BatchNorm2d(1024, eps=1e-05, momentum=0.1, affine=True, track_running_stats=True)\n",
       "      (relu): ReLU(inplace=True)\n",
       "    )\n",
       "  )\n",
       "  (layer4): Sequential(\n",
       "    (0): Bottleneck(\n",
       "      (conv1): Conv2d(1024, 512, kernel_size=(1, 1), stride=(1, 1), bias=False)\n",
       "      (bn1): BatchNorm2d(512, eps=1e-05, momentum=0.1, affine=True, track_running_stats=True)\n",
       "      (conv2): Conv2d(512, 512, kernel_size=(3, 3), stride=(2, 2), padding=(1, 1), bias=False)\n",
       "      (bn2): BatchNorm2d(512, eps=1e-05, momentum=0.1, affine=True, track_running_stats=True)\n",
       "      (conv3): Conv2d(512, 2048, kernel_size=(1, 1), stride=(1, 1), bias=False)\n",
       "      (bn3): BatchNorm2d(2048, eps=1e-05, momentum=0.1, affine=True, track_running_stats=True)\n",
       "      (relu): ReLU(inplace=True)\n",
       "      (downsample): Sequential(\n",
       "        (0): Conv2d(1024, 2048, kernel_size=(1, 1), stride=(2, 2), bias=False)\n",
       "        (1): BatchNorm2d(2048, eps=1e-05, momentum=0.1, affine=True, track_running_stats=True)\n",
       "      )\n",
       "    )\n",
       "    (1): Bottleneck(\n",
       "      (conv1): Conv2d(2048, 512, kernel_size=(1, 1), stride=(1, 1), bias=False)\n",
       "      (bn1): BatchNorm2d(512, eps=1e-05, momentum=0.1, affine=True, track_running_stats=True)\n",
       "      (conv2): Conv2d(512, 512, kernel_size=(3, 3), stride=(1, 1), padding=(1, 1), bias=False)\n",
       "      (bn2): BatchNorm2d(512, eps=1e-05, momentum=0.1, affine=True, track_running_stats=True)\n",
       "      (conv3): Conv2d(512, 2048, kernel_size=(1, 1), stride=(1, 1), bias=False)\n",
       "      (bn3): BatchNorm2d(2048, eps=1e-05, momentum=0.1, affine=True, track_running_stats=True)\n",
       "      (relu): ReLU(inplace=True)\n",
       "    )\n",
       "    (2): Bottleneck(\n",
       "      (conv1): Conv2d(2048, 512, kernel_size=(1, 1), stride=(1, 1), bias=False)\n",
       "      (bn1): BatchNorm2d(512, eps=1e-05, momentum=0.1, affine=True, track_running_stats=True)\n",
       "      (conv2): Conv2d(512, 512, kernel_size=(3, 3), stride=(1, 1), padding=(1, 1), bias=False)\n",
       "      (bn2): BatchNorm2d(512, eps=1e-05, momentum=0.1, affine=True, track_running_stats=True)\n",
       "      (conv3): Conv2d(512, 2048, kernel_size=(1, 1), stride=(1, 1), bias=False)\n",
       "      (bn3): BatchNorm2d(2048, eps=1e-05, momentum=0.1, affine=True, track_running_stats=True)\n",
       "      (relu): ReLU(inplace=True)\n",
       "    )\n",
       "  )\n",
       "  (avgpool): AvgPool2d(kernel_size=7, stride=1, padding=2)\n",
       "  (fc): Linear(in_features=2048, out_features=10, bias=True)\n",
       ")"
      ]
     },
     "execution_count": 10,
     "metadata": {},
     "output_type": "execute_result"
    }
   ],
   "source": [
    "classifier = resnet152(NUM_CLASSES, GRAYSCALE)\n",
    "classifier.to(DEVICE)\n",
    "\n",
    "classifier.load_state_dict(torch.load('models/svhn/classifier.pt'))\n",
    "classifier.eval()"
   ]
  },
  {
   "cell_type": "code",
   "execution_count": 11,
   "metadata": {},
   "outputs": [],
   "source": [
    "from training import Trainer\n",
    "from models import VAE\n",
    "from torch import optim\n",
    "model = VAE(latent_spec=latent_spec, img_size=(3, 32, 32), use_cuda=True).cuda()\n",
    "# Define the capacities\n",
    "# Continuous channels\n",
    "cont_capacity =  [0.0, 50.0, 75000, 50.0]  # Starting at a capacity of 0.0, increase this to 5.0\n",
    "                                         # over 25000 iterations with a gamma of 30.0\n",
    "# Discrete channels\n",
    "disc_capacity = [0.0, 10.0, 75000, 50.0]  # Starting at a capacity of 0.0, increase this to 5.0\n",
    "                                         # over 25000 iterations with a gamma of 30.0\n",
    "\n",
    "# Build optimizer\n",
    "optimizer = optim.Adam(model.parameters(), lr=0.0001)    \n",
    "    \n",
    "# Build a trainer\n",
    "trainer = Trainer(model, optimizer,\n",
    "                  cont_capacity=cont_capacity,\n",
    "                  disc_capacity=disc_capacity, use_cuda=True)"
   ]
  },
  {
   "cell_type": "code",
   "execution_count": null,
   "metadata": {},
   "outputs": [],
   "source": [
    "# # Build a visualizer which will be passed to trainer to visualize progress during training\n",
    "# from visualize import Visualizer\n",
    "\n",
    "# viz = Visualizer(model)"
   ]
  },
  {
   "cell_type": "code",
   "execution_count": 12,
   "metadata": {},
   "outputs": [],
   "source": [
    "# Train model for 10 epochs\n",
    "# Note this should really be a 100 epochs and trained on a GPU, but this is just to demo\n",
    "\n",
    "# trainer.train(train_loader, epochs=100, save_training_gif=('./training.gif', viz))\n",
    "if VAE_TRAIN:\n",
    "#     model.load_state_dict(torch.load('models/vae_svhn.pth'))\n",
    "    trainer.train(train_loader, epochs=601)\n",
    "#     torch.save(model.state_dict(), 'models/vae_svhn.pth')\n",
    "else:\n",
    "    model.load_state_dict(torch.load('models/vae_svhn.pth'))\n",
    "    model.eval()"
   ]
  },
  {
   "cell_type": "code",
   "execution_count": 13,
   "metadata": {},
   "outputs": [],
   "source": [
    "for param in model.parameters():\n",
    "    param.requires_grad = False\n",
    "    \n",
    "for param in classifier.parameters():\n",
    "    param.requires_grad = False"
   ]
  },
  {
   "cell_type": "code",
   "execution_count": 14,
   "metadata": {},
   "outputs": [],
   "source": [
    "from madry_celeba import WideResNet\n",
    "classifier2 = WideResNet(depth=28, num_classes=10, widen_factor=10, dropRate=0.0)\n",
    "classifier2.load_state_dict(torch.load('models/svhn/model_9.pt'))\n",
    "\n",
    "for param in classifier2.parameters():\n",
    "    param.requires_grad = False"
   ]
  },
  {
   "cell_type": "markdown",
   "metadata": {},
   "source": [
    "## Digits"
   ]
  },
  {
   "cell_type": "code",
   "execution_count": 15,
   "metadata": {},
   "outputs": [],
   "source": [
    "list_index = {}\n",
    "for i in range(len(train_data)):\n",
    "    index = train_data[i][1]\n",
    "    if index not in list_index.keys():\n",
    "        list_index[index] = [i]\n",
    "    else:\n",
    "        list_index[index].append(i)"
   ]
  },
  {
   "cell_type": "code",
   "execution_count": 16,
   "metadata": {},
   "outputs": [
    {
     "data": {
      "application/vnd.jupyter.widget-view+json": {
       "model_id": "c3fb878bb73e4d84be5b7b2e18761c65",
       "version_major": 2,
       "version_minor": 0
      },
      "text/plain": [
       "HBox(children=(FloatProgress(value=0.0, max=10.0), HTML(value='')))"
      ]
     },
     "metadata": {},
     "output_type": "display_data"
    },
    {
     "name": "stdout",
     "output_type": "stream",
     "text": [
      "\n"
     ]
    }
   ],
   "source": [
    "from tqdm.notebook import tqdm\n",
    "l_sample_list = {}\n",
    "def get_average_latent_space(list_index):\n",
    "    for i in tqdm(list_index.keys()):\n",
    "        for j in list_index[i]:\n",
    "            output, l_dist = model(train_data[j][0].unsqueeze(0).cuda())\n",
    "            l_sample_x = model.reparameterize(l_dist)\n",
    "            if i not in l_sample_list.keys():\n",
    "                l_sample_list[i] = [l_sample_x]\n",
    "            else:\n",
    "                l_sample_list[i].append(l_sample_x)\n",
    "        l_sample_list[i] = {'mean':torch.mean(torch.stack(l_sample_list[i]), dim=0),\n",
    "                           'std':torch.std(torch.stack(l_sample_list[i]), dim=0)}\n",
    "        \n",
    "get_average_latent_space(list_index)"
   ]
  },
  {
   "cell_type": "code",
   "execution_count": 17,
   "metadata": {},
   "outputs": [],
   "source": [
    "del train_data"
   ]
  },
  {
   "cell_type": "code",
   "execution_count": 18,
   "metadata": {},
   "outputs": [],
   "source": [
    "import math\n",
    "def check_distribution(digit, std=[-0.8, 0.8], plot=False):\n",
    "    alpha = torch.clamp(torch.randn(l_sample_list[digit]['std'].shape).cuda(), min=std[0], max=std[1])\n",
    "    test_sample = l_sample_list[digit]['mean'] + F.normalize(alpha)*l_sample_list[digit]['std']\n",
    "    test = model.decode(test_sample)\n",
    "#     preds = torch.argmax(classifier(F.upsample(test, (28,28), mode='bilinear', align_corners=True)))\n",
    "#     print(preds.item())\n",
    "    if plot:\n",
    "        plt.imshow(test[0].permute(1, 2, 0).cpu().detach().numpy(), interpolation='none')\n",
    "    return test_sample"
   ]
  },
  {
   "cell_type": "code",
   "execution_count": 20,
   "metadata": {},
   "outputs": [
    {
     "data": {
      "text/plain": [
       "tensor([[-9.6770e-03,  2.2431e-03, -1.4064e-01,  4.7290e-03, -1.5325e-03,\n",
       "         -5.4306e-04, -6.1996e-03, -1.2273e-02, -1.1801e-02, -2.3024e-02,\n",
       "          7.8816e-03, -4.4976e-04, -8.3027e-03, -3.0561e-03,  7.2458e-03,\n",
       "         -3.3396e-04, -6.8621e-03, -2.6508e-03,  7.0998e-03, -1.5230e-02,\n",
       "         -3.4221e-02, -1.1752e-03,  1.8335e-03, -5.2676e-03, -6.7055e-03,\n",
       "          1.6348e-04,  1.6910e-04, -8.2884e-04,  4.3377e-04,  1.0721e-01,\n",
       "         -2.2499e-04, -4.5180e-04,  1.0000e+00,  0.0000e+00,  0.0000e+00,\n",
       "          0.0000e+00,  0.0000e+00,  0.0000e+00,  0.0000e+00,  0.0000e+00,\n",
       "          0.0000e+00,  0.0000e+00]], device='cuda:0')"
      ]
     },
     "execution_count": 20,
     "metadata": {},
     "output_type": "execute_result"
    },
    {
     "data": {
      "image/png": "[encoded data removed]",
      "text/plain": [
       "<Figure size 432x288 with 1 Axes>"
      ]
     },
     "metadata": {
      "needs_background": "light"
     },
     "output_type": "display_data"
    }
   ],
   "source": [
    "check_distribution(7, std=[-3,3], plot=True)"
   ]
  },
  {
   "cell_type": "code",
   "execution_count": 21,
   "metadata": {},
   "outputs": [],
   "source": [
    "def digits_add(digit1, digit2, alpha=1, plot=False):\n",
    "    l_1 = check_distribution(digit1)\n",
    "    l_2 = check_distribution(digit2)\n",
    "    if plot:\n",
    "        test = model.decode(l_1+alpha*l_2)\n",
    "        plt.imshow(test[0,0].cpu().detach().numpy(), cmap='gray', interpolation='none')\n",
    "        preds = classifier(F.upsample(test, (28,28), mode='bilinear', align_corners=True))\n",
    "        print(preds.dtype)\n",
    "        print(torch.argmax(preds).item())\n",
    "    return torch.norm(l_1-l_2), l_1, l_2"
   ]
  },
  {
   "cell_type": "code",
   "execution_count": 22,
   "metadata": {},
   "outputs": [],
   "source": [
    "def get_avg_dist(digit1, digit2, exp=10000):\n",
    "    cos = nn.CosineSimilarity(dim=1, eps=1e-6)\n",
    "    distance = []\n",
    "    similarity = []\n",
    "    for i in range(exp):\n",
    "        dist, l1, l2 = digits_add(digit1,digit2)\n",
    "        similar = cos(l1,l2)\n",
    "        distance.append(dist.item())\n",
    "        similarity.append(similar.item())\n",
    "    a = round(sum(distance)/len(distance),5)\n",
    "    b = round(sum(similarity)/len(similarity),5)\n",
    "    return a,b"
   ]
  },
  {
   "cell_type": "code",
   "execution_count": 23,
   "metadata": {},
   "outputs": [],
   "source": [
    "def digit_to_study(digit):\n",
    "    distance = {}\n",
    "    similarity = {}\n",
    "    for i in tqdm(range(10)):\n",
    "        distance[i], similarity[i] = get_avg_dist(digit,i)\n",
    "    return distance, similarity"
   ]
  },
  {
   "cell_type": "code",
   "execution_count": null,
   "metadata": {},
   "outputs": [],
   "source": [
    "# get_avg_dist(1,3)"
   ]
  },
  {
   "cell_type": "code",
   "execution_count": null,
   "metadata": {},
   "outputs": [],
   "source": [
    "# get_avg_dist(1,2)"
   ]
  },
  {
   "cell_type": "code",
   "execution_count": null,
   "metadata": {},
   "outputs": [],
   "source": [
    "# get_avg_dist(2,3)"
   ]
  },
  {
   "cell_type": "code",
   "execution_count": null,
   "metadata": {},
   "outputs": [],
   "source": [
    "digits_add(2,3,0.56,True)"
   ]
  },
  {
   "cell_type": "code",
   "execution_count": null,
   "metadata": {},
   "outputs": [],
   "source": [
    "# digits_add(1,3,0.3,True)"
   ]
  },
  {
   "cell_type": "code",
   "execution_count": null,
   "metadata": {},
   "outputs": [],
   "source": [
    "# digits_add(1,2,True)"
   ]
  },
  {
   "cell_type": "code",
   "execution_count": null,
   "metadata": {},
   "outputs": [],
   "source": [
    "# digit_to_study(1)"
   ]
  },
  {
   "cell_type": "code",
   "execution_count": null,
   "metadata": {},
   "outputs": [],
   "source": [
    "# digit_to_study(2)"
   ]
  },
  {
   "cell_type": "code",
   "execution_count": null,
   "metadata": {},
   "outputs": [],
   "source": [
    "# check_distribution(2)"
   ]
  },
  {
   "cell_type": "code",
   "execution_count": null,
   "metadata": {},
   "outputs": [],
   "source": [
    "# if FIND_DIST is True:\n",
    "#     l_means = []\n",
    "#     l_stds = []\n",
    "#     for i in l_sample_list.keys():\n",
    "#         l_means.append(l_sample_list[i]['mean'])\n",
    "#         l_stds.append(l_sample_list[i]['std'])\n",
    "\n",
    "#     l_mean_tensor = torch.stack(l_means).squeeze(1)\n",
    "#     # print(l_mean_tensor.shape)\n",
    "\n",
    "#     l_std_tensor = torch.stack(l_stds).squeeze(1)\n",
    "#     # print(l_std_tensor.shape)\n",
    "\n",
    "#     torch.save(l_mean_tensor, 'tensor/latent_mean.pt')\n",
    "#     torch.save(l_std_tensor, 'tensor/latent_std.pt')\n",
    "\n",
    "# else:\n",
    "#     l_mean_tensor = torch.load('tensor/latent_mean.pt')\n",
    "#     l_std_tensor = torch.load('tensor/latent_std.pt')"
   ]
  },
  {
   "cell_type": "markdown",
   "metadata": {},
   "source": [
    "### Visualize"
   ]
  },
  {
   "cell_type": "code",
   "execution_count": 53,
   "metadata": {},
   "outputs": [],
   "source": [
    "examples = enumerate(test_loader)\n",
    "batch_idx, (example_data,target) = next(examples)"
   ]
  },
  {
   "cell_type": "code",
   "execution_count": 24,
   "metadata": {},
   "outputs": [],
   "source": [
    "def check(i, digit1, digit2):\n",
    "    \n",
    "    alpha = torch.clamp(torch.randn(l_sample_list[digit1]['std'].shape).cuda(), min=-1, max=1)\n",
    "    test_sample = l_sample_list[digit1]['mean'] + F.normalize(alpha)*l_sample_list[digit1]['std']\n",
    "    \n",
    "    alpha = torch.clamp(torch.randn(l_sample_list[digit2]['std'].shape).cuda(), min=-1, max=1)\n",
    "    test_sample += l_sample_list[digit2]['mean'] + F.normalize(alpha)*l_sample_list[digit2]['std']\n",
    "    \n",
    "    example_img = example_data[i,:,:,:].unsqueeze(0).cuda()\n",
    "    output, l_dist = model(example_img)\n",
    "    l_sample = model.reparameterize(l_dist)\n",
    "    test_sample = l_sample + 0.4*test_sample\n",
    "    test = model.decode(test_sample)\n",
    "#     preds = torch.argmax(classifier(F.upsample(test, (28,28), mode='bilinear', align_corners=True)))\n",
    "#     print(preds)\n",
    "    plt.imshow(model.decode(test_sample)[0,0].cpu().detach().numpy(), cmap='gray', interpolation='none')"
   ]
  },
  {
   "cell_type": "code",
   "execution_count": 25,
   "metadata": {},
   "outputs": [
    {
     "ename": "NameError",
     "evalue": "name 'example_data' is not defined",
     "output_type": "error",
     "traceback": [
      "\u001b[0;31m---------------------------------------------------------------------------\u001b[0m",
      "\u001b[0;31mNameError\u001b[0m                                 Traceback (most recent call last)",
      "\u001b[0;32m<ipython-input-25-b5cc3e54d04d>\u001b[0m in \u001b[0;36m<module>\u001b[0;34m\u001b[0m\n\u001b[0;32m----> 1\u001b[0;31m \u001b[0mcheck\u001b[0m\u001b[0;34m(\u001b[0m\u001b[0;36m2\u001b[0m\u001b[0;34m,\u001b[0m\u001b[0;36m3\u001b[0m\u001b[0;34m,\u001b[0m\u001b[0;36m1\u001b[0m\u001b[0;34m)\u001b[0m\u001b[0;34m\u001b[0m\u001b[0;34m\u001b[0m\u001b[0m\n\u001b[0m",
      "\u001b[0;32m<ipython-input-24-4756e80dbe57>\u001b[0m in \u001b[0;36mcheck\u001b[0;34m(i, digit1, digit2)\u001b[0m\n\u001b[1;32m      7\u001b[0m     \u001b[0mtest_sample\u001b[0m \u001b[0;34m+=\u001b[0m \u001b[0ml_sample_list\u001b[0m\u001b[0;34m[\u001b[0m\u001b[0mdigit2\u001b[0m\u001b[0;34m]\u001b[0m\u001b[0;34m[\u001b[0m\u001b[0;34m'mean'\u001b[0m\u001b[0;34m]\u001b[0m \u001b[0;34m+\u001b[0m \u001b[0mF\u001b[0m\u001b[0;34m.\u001b[0m\u001b[0mnormalize\u001b[0m\u001b[0;34m(\u001b[0m\u001b[0malpha\u001b[0m\u001b[0;34m)\u001b[0m\u001b[0;34m*\u001b[0m\u001b[0ml_sample_list\u001b[0m\u001b[0;34m[\u001b[0m\u001b[0mdigit2\u001b[0m\u001b[0;34m]\u001b[0m\u001b[0;34m[\u001b[0m\u001b[0;34m'std'\u001b[0m\u001b[0;34m]\u001b[0m\u001b[0;34m\u001b[0m\u001b[0;34m\u001b[0m\u001b[0m\n\u001b[1;32m      8\u001b[0m \u001b[0;34m\u001b[0m\u001b[0m\n\u001b[0;32m----> 9\u001b[0;31m     \u001b[0mexample_img\u001b[0m \u001b[0;34m=\u001b[0m \u001b[0mexample_data\u001b[0m\u001b[0;34m[\u001b[0m\u001b[0mi\u001b[0m\u001b[0;34m,\u001b[0m\u001b[0;34m:\u001b[0m\u001b[0;34m,\u001b[0m\u001b[0;34m:\u001b[0m\u001b[0;34m,\u001b[0m\u001b[0;34m:\u001b[0m\u001b[0;34m]\u001b[0m\u001b[0;34m.\u001b[0m\u001b[0munsqueeze\u001b[0m\u001b[0;34m(\u001b[0m\u001b[0;36m0\u001b[0m\u001b[0;34m)\u001b[0m\u001b[0;34m.\u001b[0m\u001b[0mcuda\u001b[0m\u001b[0;34m(\u001b[0m\u001b[0;34m)\u001b[0m\u001b[0;34m\u001b[0m\u001b[0;34m\u001b[0m\u001b[0m\n\u001b[0m\u001b[1;32m     10\u001b[0m     \u001b[0moutput\u001b[0m\u001b[0;34m,\u001b[0m \u001b[0ml_dist\u001b[0m \u001b[0;34m=\u001b[0m \u001b[0mmodel\u001b[0m\u001b[0;34m(\u001b[0m\u001b[0mexample_img\u001b[0m\u001b[0;34m)\u001b[0m\u001b[0;34m\u001b[0m\u001b[0;34m\u001b[0m\u001b[0m\n\u001b[1;32m     11\u001b[0m     \u001b[0ml_sample\u001b[0m \u001b[0;34m=\u001b[0m \u001b[0mmodel\u001b[0m\u001b[0;34m.\u001b[0m\u001b[0mreparameterize\u001b[0m\u001b[0;34m(\u001b[0m\u001b[0ml_dist\u001b[0m\u001b[0;34m)\u001b[0m\u001b[0;34m\u001b[0m\u001b[0;34m\u001b[0m\u001b[0m\n",
      "\u001b[0;31mNameError\u001b[0m: name 'example_data' is not defined"
     ]
    }
   ],
   "source": [
    "check(2,3,1)"
   ]
  },
  {
   "cell_type": "code",
   "execution_count": 58,
   "metadata": {},
   "outputs": [],
   "source": [
    "def plot_mnist(list_to_process):\n",
    "    new_l_sample = None\n",
    "    count = len(list_to_process)\n",
    "    for i in list_to_process:\n",
    "        example_img = example_data[i,:,:,:].unsqueeze(0).cuda()\n",
    "        output, l_dist = model(example_img)\n",
    "        l_sample = model.reparameterize(l_dist)\n",
    "        if new_l_sample is None:\n",
    "            new_l_sample = l_sample\n",
    "        else:\n",
    "            new_l_sample += l_sample\n",
    "    new_l_sample = new_l_sample / count\n",
    "    new_output = model.decode(new_l_sample)\n",
    "    plt.imshow(new_output[0][0].detach().cpu().numpy(), cmap='gray', interpolation='none')"
   ]
  },
  {
   "cell_type": "code",
   "execution_count": 157,
   "metadata": {},
   "outputs": [
    {
     "data": {
      "text/plain": [
       "<matplotlib.image.AxesImage at 0x7f49ad91d9b0>"
      ]
     },
     "execution_count": 157,
     "metadata": {},
     "output_type": "execute_result"
    },
    {
     "data": {
      "image/png": "[encoded data removed]",
      "text/plain": [
       "<Figure size 432x288 with 1 Axes>"
      ]
     },
     "metadata": {
      "needs_background": "light"
     },
     "output_type": "display_data"
    }
   ],
   "source": [
    "plt.imshow(example_data[17].permute(1,2,0).numpy())"
   ]
  },
  {
   "cell_type": "code",
   "execution_count": 158,
   "metadata": {},
   "outputs": [
    {
     "data": {
      "image/png": "[encoded data removed]",
      "text/plain": [
       "<Figure size 432x288 with 1 Axes>"
      ]
     },
     "metadata": {
      "needs_background": "light"
     },
     "output_type": "display_data"
    }
   ],
   "source": [
    "plot_mnist([17])"
   ]
  },
  {
   "cell_type": "code",
   "execution_count": 26,
   "metadata": {},
   "outputs": [],
   "source": [
    "from math import exp\n",
    "\n",
    "def gaussian(window_size, sigma):\n",
    "    gauss = torch.Tensor([exp(-(x - window_size//2)**2/float(2*sigma**2)) for x in range(window_size)])\n",
    "    return gauss/gauss.sum()\n",
    "\n",
    "def create_window(window_size, channel):\n",
    "    _1D_window = gaussian(window_size, 1.5).unsqueeze(1)\n",
    "    _2D_window = _1D_window.mm(_1D_window.t()).float().unsqueeze(0).unsqueeze(0)\n",
    "    window = torch.Tensor(_2D_window.expand(channel, 1, window_size, window_size).contiguous())\n",
    "    return window\n",
    "\n",
    "def _ssim(img1, img2, window, window_size, channel, size_average = True):\n",
    "    mu1 = F.conv2d(img1, window, padding = window_size//2, groups = channel)\n",
    "    mu2 = F.conv2d(img2, window, padding = window_size//2, groups = channel)\n",
    "\n",
    "    mu1_sq = mu1.pow(2)\n",
    "    mu2_sq = mu2.pow(2)\n",
    "    mu1_mu2 = mu1*mu2\n",
    "\n",
    "    sigma1_sq = F.conv2d(img1*img1, window, padding = window_size//2, groups = channel) - mu1_sq\n",
    "    sigma2_sq = F.conv2d(img2*img2, window, padding = window_size//2, groups = channel) - mu2_sq\n",
    "    sigma12 = F.conv2d(img1*img2, window, padding = window_size//2, groups = channel) - mu1_mu2\n",
    "\n",
    "    C1 = 0.01**2\n",
    "    C2 = 0.03**2\n",
    "\n",
    "    ssim_map = ((2*mu1_mu2 + C1)*(2*sigma12 + C2))/((mu1_sq + mu2_sq + C1)*(sigma1_sq + sigma2_sq + C2))\n",
    "\n",
    "    if size_average:\n",
    "        return ssim_map.mean()\n",
    "    else:\n",
    "        return ssim_map.mean(1).mean(1).mean(1)\n",
    "\n",
    "class SSIM(nn.Module):\n",
    "    def __init__(self, window_size = 11, size_average = True):\n",
    "        super(SSIM, self).__init__()\n",
    "        self.window_size = window_size\n",
    "        self.size_average = size_average\n",
    "        self.channel = 1\n",
    "        self.window = create_window(window_size, self.channel)\n",
    "\n",
    "    def forward(self, img1, img2):\n",
    "        (_, channel, _, _) = img1.size()\n",
    "\n",
    "        if channel == self.channel and self.window.data.type() == img1.data.type():\n",
    "            window = self.window\n",
    "        else:\n",
    "            window = create_window(self.window_size, channel)\n",
    "            \n",
    "            if img1.is_cuda:\n",
    "                window = window.cuda(img1.get_device())\n",
    "            window = window.type_as(img1)\n",
    "            \n",
    "            self.window = window\n",
    "            self.channel = channel\n",
    "\n",
    "\n",
    "        return _ssim(img1, img2, window, self.window_size, channel, self.size_average)\n",
    "\n",
    "def ssim(img1, img2, window_size = 11, size_average = True):\n",
    "    (_, channel, _, _) = img1.size()\n",
    "    window = create_window(window_size, channel)\n",
    "    \n",
    "    if img1.is_cuda:\n",
    "        window = window.cuda(img1.get_device())\n",
    "    window = window.type_as(img1)\n",
    "    \n",
    "    return _ssim(img1, img2, window, window_size, channel, size_average)\n",
    "\n",
    "ssim_loss = SSIM(window_size = 5)"
   ]
  },
  {
   "cell_type": "code",
   "execution_count": 27,
   "metadata": {},
   "outputs": [],
   "source": [
    "use_cuda = True\n",
    "device = torch.device('cuda' if use_cuda else 'cpu')\n",
    "\n",
    "# Constrained Translator\n",
    "class Noise(nn.Module):\n",
    "    def __init__(self, hidden_layers=[50, 100, latent_dim], latent_dim=latent_dim):\n",
    "        super(Noise, self).__init__()\n",
    "        self.latent_dim = latent_dim\n",
    "        self.hidden_layers = hidden_layers\n",
    "        self.hidden_layers.insert(0, latent_dim)\n",
    "        self.layers = []\n",
    "        \n",
    "        for i in range(len(self.hidden_layers)-1):\n",
    "            self.layers.append(nn.Linear(self.hidden_layers[i], self.hidden_layers[i+1]))\n",
    "        \n",
    "        self.layers = nn.ModuleList(self.layers)\n",
    "        \n",
    "    def forward(self, x):\n",
    "        for layer in self.layers:\n",
    "            x = layer(x)\n",
    "        return x"
   ]
  },
  {
   "cell_type": "code",
   "execution_count": 28,
   "metadata": {},
   "outputs": [],
   "source": [
    "# Constrained Cofficients\n",
    "class Cofficients(nn.Module):\n",
    "    def __init__(self, hidden_layers=[40, 20, 10, 1], latent_dim=latent_dim):\n",
    "        super(Cofficients, self).__init__()\n",
    "        self.latent_dim = latent_dim\n",
    "        self.hidden_layers = hidden_layers\n",
    "        self.hidden_layers.insert(0, latent_dim)\n",
    "        self.layers = []\n",
    "        \n",
    "        for i in range(len(self.hidden_layers)-1):\n",
    "            self.layers.append(nn.Linear(self.hidden_layers[i], self.hidden_layers[i+1]))\n",
    "        \n",
    "        self.layers = nn.ModuleList(self.layers)\n",
    "        \n",
    "    def forward(self, x):\n",
    "        for layer in self.layers:\n",
    "            x = layer(x)\n",
    "        return x"
   ]
  },
  {
   "cell_type": "code",
   "execution_count": 29,
   "metadata": {},
   "outputs": [],
   "source": [
    "# from skimage.metrics import structural_similarity as ssim\n",
    "\n",
    "use_cuda = True\n",
    "device = torch.device('cuda' if use_cuda else 'cpu')\n",
    "\n",
    "\n",
    "def create_logits(preds, device=device):\n",
    "#     print(preds)\n",
    "    preds = preds.cpu()\n",
    "    logits = preds\n",
    "    \n",
    "    sorted_ = torch.argsort(preds, dim=1, descending=True)\n",
    "    first = sorted_[:,0]\n",
    "    second = sorted_[:,1]\n",
    "    \n",
    "    p_first = preds.gather(1, first.view(-1,1))\n",
    "    p_second = preds.gather(1, second.view(-1,1))\n",
    "#     print(p_first.shape)\n",
    "    \n",
    "    means = torch.mean(torch.stack([p_first, p_second]), dim=0).squeeze(1)\n",
    "#     print(means.shape)\n",
    "    diff = 0.5*(p_first - p_second).squeeze(1)\n",
    "#     print(diff.shape)\n",
    "    j = torch.arange(logits.size(0)).long()\n",
    "    \n",
    "    logits[j, first] = torch.FloatTensor(means - diff)\n",
    "    logits[j, second] = torch.FloatTensor(means + diff)\n",
    "    \n",
    "    return logits.to(device), first, second\n",
    "\n",
    "def structural(org_image, noised_image):\n",
    "    batch_size, channels, width, height = org_image.shape\n",
    "    loss1 = 0\n",
    "    for b_ in range(batch_size):\n",
    "        ch_loss = 0\n",
    "        for ch_ in range(channels):\n",
    "            ch_loss += 1-ssim(org_image[b_][ch_].detach().cpu().numpy(), noised_image[b_][ch_].detach().cpu().numpy())\n",
    "        loss1 += ch_loss/channels\n",
    "    return loss1\n",
    "            \n",
    "class T_Loss(nn.Module):\n",
    "    def __init__(self, classifier=classifier, classifier2=classifier2, decoder=model.decode,\n",
    "                 latent_dim=latent_dim, l_samples=l_sample_list,\n",
    "                 classes=10):\n",
    "        super(T_Loss, self).__init__()\n",
    "        self.decoder = decoder\n",
    "        self.classifier = classifier\n",
    "#         self.means = means\n",
    "#         self.stds = stds\n",
    "        self.l_samples = l_samples\n",
    "        self.classes = classes\n",
    "        self.latent_dim = latent_dim\n",
    "        self.classifier2 = classifier2\n",
    "        \n",
    "        \n",
    "    def forward(self, coffs, noises, org_x, targets, alpha=0.6, beta=1, train=True):\n",
    "        \n",
    "        org_image = self.decoder(org_x)\n",
    "        _,preds = self.classifier(F.upsample(org_image, (32,32), mode='bilinear', align_corners=True))\n",
    "        \n",
    "        alt_target, first, second = create_logits(preds)\n",
    "        \n",
    "        means = []\n",
    "        stds = []\n",
    "        \n",
    "        for key in second:\n",
    "            means.append(self.l_samples[key.item()]['mean'])\n",
    "            stds.append(self.l_samples[key.item()]['std'])\n",
    "        \n",
    "        means = torch.stack(means)\n",
    "        stds = torch.stack(stds)\n",
    "        noised_latent = means.squeeze(1) + torch.clamp(noises, min=-5, max=5) * stds.squeeze(1)\n",
    "        \n",
    "        noised_latent = torch.clamp(coffs, min=-3, max=3) * noised_latent\n",
    "#         noise_latent = F.normalize(coffs) * noise_latent\n",
    "        \n",
    "        noised_sample = beta * org_x + alpha * noised_latent\n",
    "        \n",
    "        noised_image = self.decoder(noised_sample)\n",
    "        if train:\n",
    "            _,preds = self.classifier(F.upsample(noised_image, (32,32), mode='bilinear', align_corners=True))\n",
    "#         loss = 0.8*loss2 + 20*loss3\n",
    "#         loss = loss2 + 20*loss3\n",
    "            loss1 = ssim_loss(org_image, noised_image)\n",
    "#             print(preds.shape)\n",
    "#             print(alt_target.shape)\n",
    "            alt_target.requires_grad = True\n",
    "            loss2 = nn.BCELoss(reduction='sum')(preds, alt_target.float().detach())\n",
    "\n",
    "            loss3 = torch.norm(org_image-noised_image, p=2)  \n",
    "\n",
    "            loss = 500*(1-loss1) + loss2 + 30*loss3  \n",
    "        else:\n",
    "            preds = self.classifier2(F.upsample(noised_image, (32,32), mode='bilinear', align_corners=True))\n",
    "            loss = 0\n",
    "\n",
    "  \n",
    "        \n",
    "        out_labels = preds.argmax(dim=1, keepdim=True)\n",
    "\n",
    "        correct = (out_labels.squeeze(1)==targets.cuda()).sum()\n",
    "\n",
    "        return loss, correct.item()"
   ]
  },
  {
   "cell_type": "code",
   "execution_count": 30,
   "metadata": {},
   "outputs": [
    {
     "data": {
      "text/plain": [
       "T_Loss(\n",
       "  (classifier): ResNet(\n",
       "    (conv1): Conv2d(3, 64, kernel_size=(7, 7), stride=(2, 2), padding=(3, 3), bias=False)\n",
       "    (bn1): BatchNorm2d(64, eps=1e-05, momentum=0.1, affine=True, track_running_stats=True)\n",
       "    (relu): ReLU(inplace=True)\n",
       "    (maxpool): MaxPool2d(kernel_size=3, stride=2, padding=1, dilation=1, ceil_mode=False)\n",
       "    (layer1): Sequential(\n",
       "      (0): Bottleneck(\n",
       "        (conv1): Conv2d(64, 64, kernel_size=(1, 1), stride=(1, 1), bias=False)\n",
       "        (bn1): BatchNorm2d(64, eps=1e-05, momentum=0.1, affine=True, track_running_stats=True)\n",
       "        (conv2): Conv2d(64, 64, kernel_size=(3, 3), stride=(1, 1), padding=(1, 1), bias=False)\n",
       "        (bn2): BatchNorm2d(64, eps=1e-05, momentum=0.1, affine=True, track_running_stats=True)\n",
       "        (conv3): Conv2d(64, 256, kernel_size=(1, 1), stride=(1, 1), bias=False)\n",
       "        (bn3): BatchNorm2d(256, eps=1e-05, momentum=0.1, affine=True, track_running_stats=True)\n",
       "        (relu): ReLU(inplace=True)\n",
       "        (downsample): Sequential(\n",
       "          (0): Conv2d(64, 256, kernel_size=(1, 1), stride=(1, 1), bias=False)\n",
       "          (1): BatchNorm2d(256, eps=1e-05, momentum=0.1, affine=True, track_running_stats=True)\n",
       "        )\n",
       "      )\n",
       "      (1): Bottleneck(\n",
       "        (conv1): Conv2d(256, 64, kernel_size=(1, 1), stride=(1, 1), bias=False)\n",
       "        (bn1): BatchNorm2d(64, eps=1e-05, momentum=0.1, affine=True, track_running_stats=True)\n",
       "        (conv2): Conv2d(64, 64, kernel_size=(3, 3), stride=(1, 1), padding=(1, 1), bias=False)\n",
       "        (bn2): BatchNorm2d(64, eps=1e-05, momentum=0.1, affine=True, track_running_stats=True)\n",
       "        (conv3): Conv2d(64, 256, kernel_size=(1, 1), stride=(1, 1), bias=False)\n",
       "        (bn3): BatchNorm2d(256, eps=1e-05, momentum=0.1, affine=True, track_running_stats=True)\n",
       "        (relu): ReLU(inplace=True)\n",
       "      )\n",
       "      (2): Bottleneck(\n",
       "        (conv1): Conv2d(256, 64, kernel_size=(1, 1), stride=(1, 1), bias=False)\n",
       "        (bn1): BatchNorm2d(64, eps=1e-05, momentum=0.1, affine=True, track_running_stats=True)\n",
       "        (conv2): Conv2d(64, 64, kernel_size=(3, 3), stride=(1, 1), padding=(1, 1), bias=False)\n",
       "        (bn2): BatchNorm2d(64, eps=1e-05, momentum=0.1, affine=True, track_running_stats=True)\n",
       "        (conv3): Conv2d(64, 256, kernel_size=(1, 1), stride=(1, 1), bias=False)\n",
       "        (bn3): BatchNorm2d(256, eps=1e-05, momentum=0.1, affine=True, track_running_stats=True)\n",
       "        (relu): ReLU(inplace=True)\n",
       "      )\n",
       "      (3): Bottleneck(\n",
       "        (conv1): Conv2d(256, 64, kernel_size=(1, 1), stride=(1, 1), bias=False)\n",
       "        (bn1): BatchNorm2d(64, eps=1e-05, momentum=0.1, affine=True, track_running_stats=True)\n",
       "        (conv2): Conv2d(64, 64, kernel_size=(3, 3), stride=(1, 1), padding=(1, 1), bias=False)\n",
       "        (bn2): BatchNorm2d(64, eps=1e-05, momentum=0.1, affine=True, track_running_stats=True)\n",
       "        (conv3): Conv2d(64, 256, kernel_size=(1, 1), stride=(1, 1), bias=False)\n",
       "        (bn3): BatchNorm2d(256, eps=1e-05, momentum=0.1, affine=True, track_running_stats=True)\n",
       "        (relu): ReLU(inplace=True)\n",
       "      )\n",
       "      (4): Bottleneck(\n",
       "        (conv1): Conv2d(256, 64, kernel_size=(1, 1), stride=(1, 1), bias=False)\n",
       "        (bn1): BatchNorm2d(64, eps=1e-05, momentum=0.1, affine=True, track_running_stats=True)\n",
       "        (conv2): Conv2d(64, 64, kernel_size=(3, 3), stride=(1, 1), padding=(1, 1), bias=False)\n",
       "        (bn2): BatchNorm2d(64, eps=1e-05, momentum=0.1, affine=True, track_running_stats=True)\n",
       "        (conv3): Conv2d(64, 256, kernel_size=(1, 1), stride=(1, 1), bias=False)\n",
       "        (bn3): BatchNorm2d(256, eps=1e-05, momentum=0.1, affine=True, track_running_stats=True)\n",
       "        (relu): ReLU(inplace=True)\n",
       "      )\n",
       "      (5): Bottleneck(\n",
       "        (conv1): Conv2d(256, 64, kernel_size=(1, 1), stride=(1, 1), bias=False)\n",
       "        (bn1): BatchNorm2d(64, eps=1e-05, momentum=0.1, affine=True, track_running_stats=True)\n",
       "        (conv2): Conv2d(64, 64, kernel_size=(3, 3), stride=(1, 1), padding=(1, 1), bias=False)\n",
       "        (bn2): BatchNorm2d(64, eps=1e-05, momentum=0.1, affine=True, track_running_stats=True)\n",
       "        (conv3): Conv2d(64, 256, kernel_size=(1, 1), stride=(1, 1), bias=False)\n",
       "        (bn3): BatchNorm2d(256, eps=1e-05, momentum=0.1, affine=True, track_running_stats=True)\n",
       "        (relu): ReLU(inplace=True)\n",
       "      )\n",
       "      (6): Bottleneck(\n",
       "        (conv1): Conv2d(256, 64, kernel_size=(1, 1), stride=(1, 1), bias=False)\n",
       "        (bn1): BatchNorm2d(64, eps=1e-05, momentum=0.1, affine=True, track_running_stats=True)\n",
       "        (conv2): Conv2d(64, 64, kernel_size=(3, 3), stride=(1, 1), padding=(1, 1), bias=False)\n",
       "        (bn2): BatchNorm2d(64, eps=1e-05, momentum=0.1, affine=True, track_running_stats=True)\n",
       "        (conv3): Conv2d(64, 256, kernel_size=(1, 1), stride=(1, 1), bias=False)\n",
       "        (bn3): BatchNorm2d(256, eps=1e-05, momentum=0.1, affine=True, track_running_stats=True)\n",
       "        (relu): ReLU(inplace=True)\n",
       "      )\n",
       "      (7): Bottleneck(\n",
       "        (conv1): Conv2d(256, 64, kernel_size=(1, 1), stride=(1, 1), bias=False)\n",
       "        (bn1): BatchNorm2d(64, eps=1e-05, momentum=0.1, affine=True, track_running_stats=True)\n",
       "        (conv2): Conv2d(64, 64, kernel_size=(3, 3), stride=(1, 1), padding=(1, 1), bias=False)\n",
       "        (bn2): BatchNorm2d(64, eps=1e-05, momentum=0.1, affine=True, track_running_stats=True)\n",
       "        (conv3): Conv2d(64, 256, kernel_size=(1, 1), stride=(1, 1), bias=False)\n",
       "        (bn3): BatchNorm2d(256, eps=1e-05, momentum=0.1, affine=True, track_running_stats=True)\n",
       "        (relu): ReLU(inplace=True)\n",
       "      )\n",
       "      (8): Bottleneck(\n",
       "        (conv1): Conv2d(256, 64, kernel_size=(1, 1), stride=(1, 1), bias=False)\n",
       "        (bn1): BatchNorm2d(64, eps=1e-05, momentum=0.1, affine=True, track_running_stats=True)\n",
       "        (conv2): Conv2d(64, 64, kernel_size=(3, 3), stride=(1, 1), padding=(1, 1), bias=False)\n",
       "        (bn2): BatchNorm2d(64, eps=1e-05, momentum=0.1, affine=True, track_running_stats=True)\n",
       "        (conv3): Conv2d(64, 256, kernel_size=(1, 1), stride=(1, 1), bias=False)\n",
       "        (bn3): BatchNorm2d(256, eps=1e-05, momentum=0.1, affine=True, track_running_stats=True)\n",
       "        (relu): ReLU(inplace=True)\n",
       "      )\n",
       "      (9): Bottleneck(\n",
       "        (conv1): Conv2d(256, 64, kernel_size=(1, 1), stride=(1, 1), bias=False)\n",
       "        (bn1): BatchNorm2d(64, eps=1e-05, momentum=0.1, affine=True, track_running_stats=True)\n",
       "        (conv2): Conv2d(64, 64, kernel_size=(3, 3), stride=(1, 1), padding=(1, 1), bias=False)\n",
       "        (bn2): BatchNorm2d(64, eps=1e-05, momentum=0.1, affine=True, track_running_stats=True)\n",
       "        (conv3): Conv2d(64, 256, kernel_size=(1, 1), stride=(1, 1), bias=False)\n",
       "        (bn3): BatchNorm2d(256, eps=1e-05, momentum=0.1, affine=True, track_running_stats=True)\n",
       "        (relu): ReLU(inplace=True)\n",
       "      )\n",
       "    )\n",
       "    (layer2): Sequential(\n",
       "      (0): Bottleneck(\n",
       "        (conv1): Conv2d(256, 128, kernel_size=(1, 1), stride=(1, 1), bias=False)\n",
       "        (bn1): BatchNorm2d(128, eps=1e-05, momentum=0.1, affine=True, track_running_stats=True)\n",
       "        (conv2): Conv2d(128, 128, kernel_size=(3, 3), stride=(2, 2), padding=(1, 1), bias=False)\n",
       "        (bn2): BatchNorm2d(128, eps=1e-05, momentum=0.1, affine=True, track_running_stats=True)\n",
       "        (conv3): Conv2d(128, 512, kernel_size=(1, 1), stride=(1, 1), bias=False)\n",
       "        (bn3): BatchNorm2d(512, eps=1e-05, momentum=0.1, affine=True, track_running_stats=True)\n",
       "        (relu): ReLU(inplace=True)\n",
       "        (downsample): Sequential(\n",
       "          (0): Conv2d(256, 512, kernel_size=(1, 1), stride=(2, 2), bias=False)\n",
       "          (1): BatchNorm2d(512, eps=1e-05, momentum=0.1, affine=True, track_running_stats=True)\n",
       "        )\n",
       "      )\n",
       "      (1): Bottleneck(\n",
       "        (conv1): Conv2d(512, 128, kernel_size=(1, 1), stride=(1, 1), bias=False)\n",
       "        (bn1): BatchNorm2d(128, eps=1e-05, momentum=0.1, affine=True, track_running_stats=True)\n",
       "        (conv2): Conv2d(128, 128, kernel_size=(3, 3), stride=(1, 1), padding=(1, 1), bias=False)\n",
       "        (bn2): BatchNorm2d(128, eps=1e-05, momentum=0.1, affine=True, track_running_stats=True)\n",
       "        (conv3): Conv2d(128, 512, kernel_size=(1, 1), stride=(1, 1), bias=False)\n",
       "        (bn3): BatchNorm2d(512, eps=1e-05, momentum=0.1, affine=True, track_running_stats=True)\n",
       "        (relu): ReLU(inplace=True)\n",
       "      )\n",
       "      (2): Bottleneck(\n",
       "        (conv1): Conv2d(512, 128, kernel_size=(1, 1), stride=(1, 1), bias=False)\n",
       "        (bn1): BatchNorm2d(128, eps=1e-05, momentum=0.1, affine=True, track_running_stats=True)\n",
       "        (conv2): Conv2d(128, 128, kernel_size=(3, 3), stride=(1, 1), padding=(1, 1), bias=False)\n",
       "        (bn2): BatchNorm2d(128, eps=1e-05, momentum=0.1, affine=True, track_running_stats=True)\n",
       "        (conv3): Conv2d(128, 512, kernel_size=(1, 1), stride=(1, 1), bias=False)\n",
       "        (bn3): BatchNorm2d(512, eps=1e-05, momentum=0.1, affine=True, track_running_stats=True)\n",
       "        (relu): ReLU(inplace=True)\n",
       "      )\n",
       "      (3): Bottleneck(\n",
       "        (conv1): Conv2d(512, 128, kernel_size=(1, 1), stride=(1, 1), bias=False)\n",
       "        (bn1): BatchNorm2d(128, eps=1e-05, momentum=0.1, affine=True, track_running_stats=True)\n",
       "        (conv2): Conv2d(128, 128, kernel_size=(3, 3), stride=(1, 1), padding=(1, 1), bias=False)\n",
       "        (bn2): BatchNorm2d(128, eps=1e-05, momentum=0.1, affine=True, track_running_stats=True)\n",
       "        (conv3): Conv2d(128, 512, kernel_size=(1, 1), stride=(1, 1), bias=False)\n",
       "        (bn3): BatchNorm2d(512, eps=1e-05, momentum=0.1, affine=True, track_running_stats=True)\n",
       "        (relu): ReLU(inplace=True)\n",
       "      )\n",
       "      (4): Bottleneck(\n",
       "        (conv1): Conv2d(512, 128, kernel_size=(1, 1), stride=(1, 1), bias=False)\n",
       "        (bn1): BatchNorm2d(128, eps=1e-05, momentum=0.1, affine=True, track_running_stats=True)\n",
       "        (conv2): Conv2d(128, 128, kernel_size=(3, 3), stride=(1, 1), padding=(1, 1), bias=False)\n",
       "        (bn2): BatchNorm2d(128, eps=1e-05, momentum=0.1, affine=True, track_running_stats=True)\n",
       "        (conv3): Conv2d(128, 512, kernel_size=(1, 1), stride=(1, 1), bias=False)\n",
       "        (bn3): BatchNorm2d(512, eps=1e-05, momentum=0.1, affine=True, track_running_stats=True)\n",
       "        (relu): ReLU(inplace=True)\n",
       "      )\n",
       "      (5): Bottleneck(\n",
       "        (conv1): Conv2d(512, 128, kernel_size=(1, 1), stride=(1, 1), bias=False)\n",
       "        (bn1): BatchNorm2d(128, eps=1e-05, momentum=0.1, affine=True, track_running_stats=True)\n",
       "        (conv2): Conv2d(128, 128, kernel_size=(3, 3), stride=(1, 1), padding=(1, 1), bias=False)\n",
       "        (bn2): BatchNorm2d(128, eps=1e-05, momentum=0.1, affine=True, track_running_stats=True)\n",
       "        (conv3): Conv2d(128, 512, kernel_size=(1, 1), stride=(1, 1), bias=False)\n",
       "        (bn3): BatchNorm2d(512, eps=1e-05, momentum=0.1, affine=True, track_running_stats=True)\n",
       "        (relu): ReLU(inplace=True)\n",
       "      )\n",
       "      (6): Bottleneck(\n",
       "        (conv1): Conv2d(512, 128, kernel_size=(1, 1), stride=(1, 1), bias=False)\n",
       "        (bn1): BatchNorm2d(128, eps=1e-05, momentum=0.1, affine=True, track_running_stats=True)\n",
       "        (conv2): Conv2d(128, 128, kernel_size=(3, 3), stride=(1, 1), padding=(1, 1), bias=False)\n",
       "        (bn2): BatchNorm2d(128, eps=1e-05, momentum=0.1, affine=True, track_running_stats=True)\n",
       "        (conv3): Conv2d(128, 512, kernel_size=(1, 1), stride=(1, 1), bias=False)\n",
       "        (bn3): BatchNorm2d(512, eps=1e-05, momentum=0.1, affine=True, track_running_stats=True)\n",
       "        (relu): ReLU(inplace=True)\n",
       "      )\n",
       "      (7): Bottleneck(\n",
       "        (conv1): Conv2d(512, 128, kernel_size=(1, 1), stride=(1, 1), bias=False)\n",
       "        (bn1): BatchNorm2d(128, eps=1e-05, momentum=0.1, affine=True, track_running_stats=True)\n",
       "        (conv2): Conv2d(128, 128, kernel_size=(3, 3), stride=(1, 1), padding=(1, 1), bias=False)\n",
       "        (bn2): BatchNorm2d(128, eps=1e-05, momentum=0.1, affine=True, track_running_stats=True)\n",
       "        (conv3): Conv2d(128, 512, kernel_size=(1, 1), stride=(1, 1), bias=False)\n",
       "        (bn3): BatchNorm2d(512, eps=1e-05, momentum=0.1, affine=True, track_running_stats=True)\n",
       "        (relu): ReLU(inplace=True)\n",
       "      )\n",
       "      (8): Bottleneck(\n",
       "        (conv1): Conv2d(512, 128, kernel_size=(1, 1), stride=(1, 1), bias=False)\n",
       "        (bn1): BatchNorm2d(128, eps=1e-05, momentum=0.1, affine=True, track_running_stats=True)\n",
       "        (conv2): Conv2d(128, 128, kernel_size=(3, 3), stride=(1, 1), padding=(1, 1), bias=False)\n",
       "        (bn2): BatchNorm2d(128, eps=1e-05, momentum=0.1, affine=True, track_running_stats=True)\n",
       "        (conv3): Conv2d(128, 512, kernel_size=(1, 1), stride=(1, 1), bias=False)\n",
       "        (bn3): BatchNorm2d(512, eps=1e-05, momentum=0.1, affine=True, track_running_stats=True)\n",
       "        (relu): ReLU(inplace=True)\n",
       "      )\n",
       "    )\n",
       "    (layer3): Sequential(\n",
       "      (0): Bottleneck(\n",
       "        (conv1): Conv2d(512, 256, kernel_size=(1, 1), stride=(1, 1), bias=False)\n",
       "        (bn1): BatchNorm2d(256, eps=1e-05, momentum=0.1, affine=True, track_running_stats=True)\n",
       "        (conv2): Conv2d(256, 256, kernel_size=(3, 3), stride=(2, 2), padding=(1, 1), bias=False)\n",
       "        (bn2): BatchNorm2d(256, eps=1e-05, momentum=0.1, affine=True, track_running_stats=True)\n",
       "        (conv3): Conv2d(256, 1024, kernel_size=(1, 1), stride=(1, 1), bias=False)\n",
       "        (bn3): BatchNorm2d(1024, eps=1e-05, momentum=0.1, affine=True, track_running_stats=True)\n",
       "        (relu): ReLU(inplace=True)\n",
       "        (downsample): Sequential(\n",
       "          (0): Conv2d(512, 1024, kernel_size=(1, 1), stride=(2, 2), bias=False)\n",
       "          (1): BatchNorm2d(1024, eps=1e-05, momentum=0.1, affine=True, track_running_stats=True)\n",
       "        )\n",
       "      )\n",
       "      (1): Bottleneck(\n",
       "        (conv1): Conv2d(1024, 256, kernel_size=(1, 1), stride=(1, 1), bias=False)\n",
       "        (bn1): BatchNorm2d(256, eps=1e-05, momentum=0.1, affine=True, track_running_stats=True)\n",
       "        (conv2): Conv2d(256, 256, kernel_size=(3, 3), stride=(1, 1), padding=(1, 1), bias=False)\n",
       "        (bn2): BatchNorm2d(256, eps=1e-05, momentum=0.1, affine=True, track_running_stats=True)\n",
       "        (conv3): Conv2d(256, 1024, kernel_size=(1, 1), stride=(1, 1), bias=False)\n",
       "        (bn3): BatchNorm2d(1024, eps=1e-05, momentum=0.1, affine=True, track_running_stats=True)\n",
       "        (relu): ReLU(inplace=True)\n",
       "      )\n",
       "      (2): Bottleneck(\n",
       "        (conv1): Conv2d(1024, 256, kernel_size=(1, 1), stride=(1, 1), bias=False)\n",
       "        (bn1): BatchNorm2d(256, eps=1e-05, momentum=0.1, affine=True, track_running_stats=True)\n",
       "        (conv2): Conv2d(256, 256, kernel_size=(3, 3), stride=(1, 1), padding=(1, 1), bias=False)\n",
       "        (bn2): BatchNorm2d(256, eps=1e-05, momentum=0.1, affine=True, track_running_stats=True)\n",
       "        (conv3): Conv2d(256, 1024, kernel_size=(1, 1), stride=(1, 1), bias=False)\n",
       "        (bn3): BatchNorm2d(1024, eps=1e-05, momentum=0.1, affine=True, track_running_stats=True)\n",
       "        (relu): ReLU(inplace=True)\n",
       "      )\n",
       "      (3): Bottleneck(\n",
       "        (conv1): Conv2d(1024, 256, kernel_size=(1, 1), stride=(1, 1), bias=False)\n",
       "        (bn1): BatchNorm2d(256, eps=1e-05, momentum=0.1, affine=True, track_running_stats=True)\n",
       "        (conv2): Conv2d(256, 256, kernel_size=(3, 3), stride=(1, 1), padding=(1, 1), bias=False)\n",
       "        (bn2): BatchNorm2d(256, eps=1e-05, momentum=0.1, affine=True, track_running_stats=True)\n",
       "        (conv3): Conv2d(256, 1024, kernel_size=(1, 1), stride=(1, 1), bias=False)\n",
       "        (bn3): BatchNorm2d(1024, eps=1e-05, momentum=0.1, affine=True, track_running_stats=True)\n",
       "        (relu): ReLU(inplace=True)\n",
       "      )\n",
       "      (4): Bottleneck(\n",
       "        (conv1): Conv2d(1024, 256, kernel_size=(1, 1), stride=(1, 1), bias=False)\n",
       "        (bn1): BatchNorm2d(256, eps=1e-05, momentum=0.1, affine=True, track_running_stats=True)\n",
       "        (conv2): Conv2d(256, 256, kernel_size=(3, 3), stride=(1, 1), padding=(1, 1), bias=False)\n",
       "        (bn2): BatchNorm2d(256, eps=1e-05, momentum=0.1, affine=True, track_running_stats=True)\n",
       "        (conv3): Conv2d(256, 1024, kernel_size=(1, 1), stride=(1, 1), bias=False)\n",
       "        (bn3): BatchNorm2d(1024, eps=1e-05, momentum=0.1, affine=True, track_running_stats=True)\n",
       "        (relu): ReLU(inplace=True)\n",
       "      )\n",
       "      (5): Bottleneck(\n",
       "        (conv1): Conv2d(1024, 256, kernel_size=(1, 1), stride=(1, 1), bias=False)\n",
       "        (bn1): BatchNorm2d(256, eps=1e-05, momentum=0.1, affine=True, track_running_stats=True)\n",
       "        (conv2): Conv2d(256, 256, kernel_size=(3, 3), stride=(1, 1), padding=(1, 1), bias=False)\n",
       "        (bn2): BatchNorm2d(256, eps=1e-05, momentum=0.1, affine=True, track_running_stats=True)\n",
       "        (conv3): Conv2d(256, 1024, kernel_size=(1, 1), stride=(1, 1), bias=False)\n",
       "        (bn3): BatchNorm2d(1024, eps=1e-05, momentum=0.1, affine=True, track_running_stats=True)\n",
       "        (relu): ReLU(inplace=True)\n",
       "      )\n",
       "      (6): Bottleneck(\n",
       "        (conv1): Conv2d(1024, 256, kernel_size=(1, 1), stride=(1, 1), bias=False)\n",
       "        (bn1): BatchNorm2d(256, eps=1e-05, momentum=0.1, affine=True, track_running_stats=True)\n",
       "        (conv2): Conv2d(256, 256, kernel_size=(3, 3), stride=(1, 1), padding=(1, 1), bias=False)\n",
       "        (bn2): BatchNorm2d(256, eps=1e-05, momentum=0.1, affine=True, track_running_stats=True)\n",
       "        (conv3): Conv2d(256, 1024, kernel_size=(1, 1), stride=(1, 1), bias=False)\n",
       "        (bn3): BatchNorm2d(1024, eps=1e-05, momentum=0.1, affine=True, track_running_stats=True)\n",
       "        (relu): ReLU(inplace=True)\n",
       "      )\n",
       "      (7): Bottleneck(\n",
       "        (conv1): Conv2d(1024, 256, kernel_size=(1, 1), stride=(1, 1), bias=False)\n",
       "        (bn1): BatchNorm2d(256, eps=1e-05, momentum=0.1, affine=True, track_running_stats=True)\n",
       "        (conv2): Conv2d(256, 256, kernel_size=(3, 3), stride=(1, 1), padding=(1, 1), bias=False)\n",
       "        (bn2): BatchNorm2d(256, eps=1e-05, momentum=0.1, affine=True, track_running_stats=True)\n",
       "        (conv3): Conv2d(256, 1024, kernel_size=(1, 1), stride=(1, 1), bias=False)\n",
       "        (bn3): BatchNorm2d(1024, eps=1e-05, momentum=0.1, affine=True, track_running_stats=True)\n",
       "        (relu): ReLU(inplace=True)\n",
       "      )\n",
       "      (8): Bottleneck(\n",
       "        (conv1): Conv2d(1024, 256, kernel_size=(1, 1), stride=(1, 1), bias=False)\n",
       "        (bn1): BatchNorm2d(256, eps=1e-05, momentum=0.1, affine=True, track_running_stats=True)\n",
       "        (conv2): Conv2d(256, 256, kernel_size=(3, 3), stride=(1, 1), padding=(1, 1), bias=False)\n",
       "        (bn2): BatchNorm2d(256, eps=1e-05, momentum=0.1, affine=True, track_running_stats=True)\n",
       "        (conv3): Conv2d(256, 1024, kernel_size=(1, 1), stride=(1, 1), bias=False)\n",
       "        (bn3): BatchNorm2d(1024, eps=1e-05, momentum=0.1, affine=True, track_running_stats=True)\n",
       "        (relu): ReLU(inplace=True)\n",
       "      )\n",
       "    )\n",
       "    (layer4): Sequential(\n",
       "      (0): Bottleneck(\n",
       "        (conv1): Conv2d(1024, 512, kernel_size=(1, 1), stride=(1, 1), bias=False)\n",
       "        (bn1): BatchNorm2d(512, eps=1e-05, momentum=0.1, affine=True, track_running_stats=True)\n",
       "        (conv2): Conv2d(512, 512, kernel_size=(3, 3), stride=(2, 2), padding=(1, 1), bias=False)\n",
       "        (bn2): BatchNorm2d(512, eps=1e-05, momentum=0.1, affine=True, track_running_stats=True)\n",
       "        (conv3): Conv2d(512, 2048, kernel_size=(1, 1), stride=(1, 1), bias=False)\n",
       "        (bn3): BatchNorm2d(2048, eps=1e-05, momentum=0.1, affine=True, track_running_stats=True)\n",
       "        (relu): ReLU(inplace=True)\n",
       "        (downsample): Sequential(\n",
       "          (0): Conv2d(1024, 2048, kernel_size=(1, 1), stride=(2, 2), bias=False)\n",
       "          (1): BatchNorm2d(2048, eps=1e-05, momentum=0.1, affine=True, track_running_stats=True)\n",
       "        )\n",
       "      )\n",
       "      (1): Bottleneck(\n",
       "        (conv1): Conv2d(2048, 512, kernel_size=(1, 1), stride=(1, 1), bias=False)\n",
       "        (bn1): BatchNorm2d(512, eps=1e-05, momentum=0.1, affine=True, track_running_stats=True)\n",
       "        (conv2): Conv2d(512, 512, kernel_size=(3, 3), stride=(1, 1), padding=(1, 1), bias=False)\n",
       "        (bn2): BatchNorm2d(512, eps=1e-05, momentum=0.1, affine=True, track_running_stats=True)\n",
       "        (conv3): Conv2d(512, 2048, kernel_size=(1, 1), stride=(1, 1), bias=False)\n",
       "        (bn3): BatchNorm2d(2048, eps=1e-05, momentum=0.1, affine=True, track_running_stats=True)\n",
       "        (relu): ReLU(inplace=True)\n",
       "      )\n",
       "      (2): Bottleneck(\n",
       "        (conv1): Conv2d(2048, 512, kernel_size=(1, 1), stride=(1, 1), bias=False)\n",
       "        (bn1): BatchNorm2d(512, eps=1e-05, momentum=0.1, affine=True, track_running_stats=True)\n",
       "        (conv2): Conv2d(512, 512, kernel_size=(3, 3), stride=(1, 1), padding=(1, 1), bias=False)\n",
       "        (bn2): BatchNorm2d(512, eps=1e-05, momentum=0.1, affine=True, track_running_stats=True)\n",
       "        (conv3): Conv2d(512, 2048, kernel_size=(1, 1), stride=(1, 1), bias=False)\n",
       "        (bn3): BatchNorm2d(2048, eps=1e-05, momentum=0.1, affine=True, track_running_stats=True)\n",
       "        (relu): ReLU(inplace=True)\n",
       "      )\n",
       "    )\n",
       "    (avgpool): AvgPool2d(kernel_size=7, stride=1, padding=2)\n",
       "    (fc): Linear(in_features=2048, out_features=10, bias=True)\n",
       "  )\n",
       "  (classifier2): WideResNet(\n",
       "    (conv1): Conv2d(3, 16, kernel_size=(3, 3), stride=(1, 1), padding=(1, 1), bias=False)\n",
       "    (block1): NetworkBlock(\n",
       "      (layer): Sequential(\n",
       "        (0): BasicBlock(\n",
       "          (bn1): BatchNorm2d(16, eps=1e-05, momentum=0.1, affine=True, track_running_stats=True)\n",
       "          (relu1): ReLU(inplace=True)\n",
       "          (conv1): Conv2d(16, 160, kernel_size=(3, 3), stride=(1, 1), padding=(1, 1), bias=False)\n",
       "          (bn2): BatchNorm2d(160, eps=1e-05, momentum=0.1, affine=True, track_running_stats=True)\n",
       "          (relu2): ReLU(inplace=True)\n",
       "          (conv2): Conv2d(160, 160, kernel_size=(3, 3), stride=(1, 1), padding=(1, 1), bias=False)\n",
       "          (poolpadShortcut): Sequential(\n",
       "            (0): AvgPool2d(kernel_size=1, stride=1, padding=0)\n",
       "            (1): ChannelPadding()\n",
       "          )\n",
       "        )\n",
       "        (1): BasicBlock(\n",
       "          (bn1): BatchNorm2d(160, eps=1e-05, momentum=0.1, affine=True, track_running_stats=True)\n",
       "          (relu1): ReLU(inplace=True)\n",
       "          (conv1): Conv2d(160, 160, kernel_size=(3, 3), stride=(1, 1), padding=(1, 1), bias=False)\n",
       "          (bn2): BatchNorm2d(160, eps=1e-05, momentum=0.1, affine=True, track_running_stats=True)\n",
       "          (relu2): ReLU(inplace=True)\n",
       "          (conv2): Conv2d(160, 160, kernel_size=(3, 3), stride=(1, 1), padding=(1, 1), bias=False)\n",
       "          (poolpadShortcut): Sequential(\n",
       "            (0): AvgPool2d(kernel_size=1, stride=1, padding=0)\n",
       "            (1): ChannelPadding()\n",
       "          )\n",
       "        )\n",
       "        (2): BasicBlock(\n",
       "          (bn1): BatchNorm2d(160, eps=1e-05, momentum=0.1, affine=True, track_running_stats=True)\n",
       "          (relu1): ReLU(inplace=True)\n",
       "          (conv1): Conv2d(160, 160, kernel_size=(3, 3), stride=(1, 1), padding=(1, 1), bias=False)\n",
       "          (bn2): BatchNorm2d(160, eps=1e-05, momentum=0.1, affine=True, track_running_stats=True)\n",
       "          (relu2): ReLU(inplace=True)\n",
       "          (conv2): Conv2d(160, 160, kernel_size=(3, 3), stride=(1, 1), padding=(1, 1), bias=False)\n",
       "          (poolpadShortcut): Sequential(\n",
       "            (0): AvgPool2d(kernel_size=1, stride=1, padding=0)\n",
       "            (1): ChannelPadding()\n",
       "          )\n",
       "        )\n",
       "        (3): BasicBlock(\n",
       "          (bn1): BatchNorm2d(160, eps=1e-05, momentum=0.1, affine=True, track_running_stats=True)\n",
       "          (relu1): ReLU(inplace=True)\n",
       "          (conv1): Conv2d(160, 160, kernel_size=(3, 3), stride=(1, 1), padding=(1, 1), bias=False)\n",
       "          (bn2): BatchNorm2d(160, eps=1e-05, momentum=0.1, affine=True, track_running_stats=True)\n",
       "          (relu2): ReLU(inplace=True)\n",
       "          (conv2): Conv2d(160, 160, kernel_size=(3, 3), stride=(1, 1), padding=(1, 1), bias=False)\n",
       "          (poolpadShortcut): Sequential(\n",
       "            (0): AvgPool2d(kernel_size=1, stride=1, padding=0)\n",
       "            (1): ChannelPadding()\n",
       "          )\n",
       "        )\n",
       "      )\n",
       "    )\n",
       "    (block2): NetworkBlock(\n",
       "      (layer): Sequential(\n",
       "        (0): BasicBlock(\n",
       "          (bn1): BatchNorm2d(160, eps=1e-05, momentum=0.1, affine=True, track_running_stats=True)\n",
       "          (relu1): ReLU(inplace=True)\n",
       "          (conv1): Conv2d(160, 320, kernel_size=(3, 3), stride=(2, 2), padding=(1, 1), bias=False)\n",
       "          (bn2): BatchNorm2d(320, eps=1e-05, momentum=0.1, affine=True, track_running_stats=True)\n",
       "          (relu2): ReLU(inplace=True)\n",
       "          (conv2): Conv2d(320, 320, kernel_size=(3, 3), stride=(1, 1), padding=(1, 1), bias=False)\n",
       "          (poolpadShortcut): Sequential(\n",
       "            (0): AvgPool2d(kernel_size=2, stride=2, padding=0)\n",
       "            (1): ChannelPadding()\n",
       "          )\n",
       "        )\n",
       "        (1): BasicBlock(\n",
       "          (bn1): BatchNorm2d(320, eps=1e-05, momentum=0.1, affine=True, track_running_stats=True)\n",
       "          (relu1): ReLU(inplace=True)\n",
       "          (conv1): Conv2d(320, 320, kernel_size=(3, 3), stride=(1, 1), padding=(1, 1), bias=False)\n",
       "          (bn2): BatchNorm2d(320, eps=1e-05, momentum=0.1, affine=True, track_running_stats=True)\n",
       "          (relu2): ReLU(inplace=True)\n",
       "          (conv2): Conv2d(320, 320, kernel_size=(3, 3), stride=(1, 1), padding=(1, 1), bias=False)\n",
       "          (poolpadShortcut): Sequential(\n",
       "            (0): AvgPool2d(kernel_size=1, stride=1, padding=0)\n",
       "            (1): ChannelPadding()\n",
       "          )\n",
       "        )\n",
       "        (2): BasicBlock(\n",
       "          (bn1): BatchNorm2d(320, eps=1e-05, momentum=0.1, affine=True, track_running_stats=True)\n",
       "          (relu1): ReLU(inplace=True)\n",
       "          (conv1): Conv2d(320, 320, kernel_size=(3, 3), stride=(1, 1), padding=(1, 1), bias=False)\n",
       "          (bn2): BatchNorm2d(320, eps=1e-05, momentum=0.1, affine=True, track_running_stats=True)\n",
       "          (relu2): ReLU(inplace=True)\n",
       "          (conv2): Conv2d(320, 320, kernel_size=(3, 3), stride=(1, 1), padding=(1, 1), bias=False)\n",
       "          (poolpadShortcut): Sequential(\n",
       "            (0): AvgPool2d(kernel_size=1, stride=1, padding=0)\n",
       "            (1): ChannelPadding()\n",
       "          )\n",
       "        )\n",
       "        (3): BasicBlock(\n",
       "          (bn1): BatchNorm2d(320, eps=1e-05, momentum=0.1, affine=True, track_running_stats=True)\n",
       "          (relu1): ReLU(inplace=True)\n",
       "          (conv1): Conv2d(320, 320, kernel_size=(3, 3), stride=(1, 1), padding=(1, 1), bias=False)\n",
       "          (bn2): BatchNorm2d(320, eps=1e-05, momentum=0.1, affine=True, track_running_stats=True)\n",
       "          (relu2): ReLU(inplace=True)\n",
       "          (conv2): Conv2d(320, 320, kernel_size=(3, 3), stride=(1, 1), padding=(1, 1), bias=False)\n",
       "          (poolpadShortcut): Sequential(\n",
       "            (0): AvgPool2d(kernel_size=1, stride=1, padding=0)\n",
       "            (1): ChannelPadding()\n",
       "          )\n",
       "        )\n",
       "      )\n",
       "    )\n",
       "    (block3): NetworkBlock(\n",
       "      (layer): Sequential(\n",
       "        (0): BasicBlock(\n",
       "          (bn1): BatchNorm2d(320, eps=1e-05, momentum=0.1, affine=True, track_running_stats=True)\n",
       "          (relu1): ReLU(inplace=True)\n",
       "          (conv1): Conv2d(320, 640, kernel_size=(3, 3), stride=(2, 2), padding=(1, 1), bias=False)\n",
       "          (bn2): BatchNorm2d(640, eps=1e-05, momentum=0.1, affine=True, track_running_stats=True)\n",
       "          (relu2): ReLU(inplace=True)\n",
       "          (conv2): Conv2d(640, 640, kernel_size=(3, 3), stride=(1, 1), padding=(1, 1), bias=False)\n",
       "          (poolpadShortcut): Sequential(\n",
       "            (0): AvgPool2d(kernel_size=2, stride=2, padding=0)\n",
       "            (1): ChannelPadding()\n",
       "          )\n",
       "        )\n",
       "        (1): BasicBlock(\n",
       "          (bn1): BatchNorm2d(640, eps=1e-05, momentum=0.1, affine=True, track_running_stats=True)\n",
       "          (relu1): ReLU(inplace=True)\n",
       "          (conv1): Conv2d(640, 640, kernel_size=(3, 3), stride=(1, 1), padding=(1, 1), bias=False)\n",
       "          (bn2): BatchNorm2d(640, eps=1e-05, momentum=0.1, affine=True, track_running_stats=True)\n",
       "          (relu2): ReLU(inplace=True)\n",
       "          (conv2): Conv2d(640, 640, kernel_size=(3, 3), stride=(1, 1), padding=(1, 1), bias=False)\n",
       "          (poolpadShortcut): Sequential(\n",
       "            (0): AvgPool2d(kernel_size=1, stride=1, padding=0)\n",
       "            (1): ChannelPadding()\n",
       "          )\n",
       "        )\n",
       "        (2): BasicBlock(\n",
       "          (bn1): BatchNorm2d(640, eps=1e-05, momentum=0.1, affine=True, track_running_stats=True)\n",
       "          (relu1): ReLU(inplace=True)\n",
       "          (conv1): Conv2d(640, 640, kernel_size=(3, 3), stride=(1, 1), padding=(1, 1), bias=False)\n",
       "          (bn2): BatchNorm2d(640, eps=1e-05, momentum=0.1, affine=True, track_running_stats=True)\n",
       "          (relu2): ReLU(inplace=True)\n",
       "          (conv2): Conv2d(640, 640, kernel_size=(3, 3), stride=(1, 1), padding=(1, 1), bias=False)\n",
       "          (poolpadShortcut): Sequential(\n",
       "            (0): AvgPool2d(kernel_size=1, stride=1, padding=0)\n",
       "            (1): ChannelPadding()\n",
       "          )\n",
       "        )\n",
       "        (3): BasicBlock(\n",
       "          (bn1): BatchNorm2d(640, eps=1e-05, momentum=0.1, affine=True, track_running_stats=True)\n",
       "          (relu1): ReLU(inplace=True)\n",
       "          (conv1): Conv2d(640, 640, kernel_size=(3, 3), stride=(1, 1), padding=(1, 1), bias=False)\n",
       "          (bn2): BatchNorm2d(640, eps=1e-05, momentum=0.1, affine=True, track_running_stats=True)\n",
       "          (relu2): ReLU(inplace=True)\n",
       "          (conv2): Conv2d(640, 640, kernel_size=(3, 3), stride=(1, 1), padding=(1, 1), bias=False)\n",
       "          (poolpadShortcut): Sequential(\n",
       "            (0): AvgPool2d(kernel_size=1, stride=1, padding=0)\n",
       "            (1): ChannelPadding()\n",
       "          )\n",
       "        )\n",
       "      )\n",
       "    )\n",
       "    (bn1): BatchNorm2d(640, eps=1e-05, momentum=0.1, affine=True, track_running_stats=True)\n",
       "    (relu): ReLU(inplace=True)\n",
       "    (fc): Linear(in_features=640, out_features=10, bias=True)\n",
       "  )\n",
       ")"
      ]
     },
     "execution_count": 30,
     "metadata": {},
     "output_type": "execute_result"
    }
   ],
   "source": [
    "# alt_target = 5\n",
    "noise = Noise().to(device)\n",
    "cofficient = Cofficients().to(device)\n",
    "\n",
    "for param in noise.parameters():\n",
    "    param.requires_grad=True\n",
    "    \n",
    "for param in cofficient.parameters():\n",
    "    param.requires_grad=True\n",
    "\n",
    "tloss = T_Loss().to(device)\n",
    "tloss.eval()"
   ]
  },
  {
   "cell_type": "code",
   "execution_count": null,
   "metadata": {},
   "outputs": [],
   "source": [
    "# count_digit = 0\n",
    "# for i in range(len(train_data)):\n",
    "#     if train_data[i][1]==5:\n",
    "#         count_digit += 1\n",
    "# print(count_digit)"
   ]
  },
  {
   "cell_type": "code",
   "execution_count": 33,
   "metadata": {},
   "outputs": [
    {
     "data": {
      "application/vnd.jupyter.widget-view+json": {
       "model_id": "972e2ea4b83b40528e1b90dd5f421525",
       "version_major": 2,
       "version_minor": 0
      },
      "text/plain": [
       "HBox(children=(FloatProgress(value=0.0, max=150.0), HTML(value='')))"
      ]
     },
     "metadata": {},
     "output_type": "display_data"
    },
    {
     "data": {
      "application/vnd.jupyter.widget-view+json": {
       "model_id": "b6573f9df558473ca11e249c6895981b",
       "version_major": 2,
       "version_minor": 0
      },
      "text/plain": [
       "HBox(children=(FloatProgress(value=1.0, bar_style='info', max=1.0), HTML(value='')))"
      ]
     },
     "metadata": {},
     "output_type": "display_data"
    },
    {
     "name": "stdout",
     "output_type": "stream",
     "text": [
      "\n",
      "Train Epoch: 1\tLoss: 1235.839130\tCorrect: 8064\n"
     ]
    },
    {
     "data": {
      "application/vnd.jupyter.widget-view+json": {
       "model_id": "192ac2f44a5545828ab074defa5f4c86",
       "version_major": 2,
       "version_minor": 0
      },
      "text/plain": [
       "HBox(children=(FloatProgress(value=1.0, bar_style='info', max=1.0), HTML(value='')))"
      ]
     },
     "metadata": {},
     "output_type": "display_data"
    },
    {
     "name": "stdout",
     "output_type": "stream",
     "text": [
      "\n",
      "Train Epoch: 2\tLoss: 974.545830\tCorrect: 9720\n"
     ]
    },
    {
     "data": {
      "application/vnd.jupyter.widget-view+json": {
       "model_id": "192bb6651faa42c2928c546f2a872697",
       "version_major": 2,
       "version_minor": 0
      },
      "text/plain": [
       "HBox(children=(FloatProgress(value=1.0, bar_style='info', max=1.0), HTML(value='')))"
      ]
     },
     "metadata": {},
     "output_type": "display_data"
    },
    {
     "name": "stdout",
     "output_type": "stream",
     "text": [
      "\n",
      "Train Epoch: 3\tLoss: 891.624383\tCorrect: 9579\n"
     ]
    },
    {
     "data": {
      "application/vnd.jupyter.widget-view+json": {
       "model_id": "6627aad0c1aa4b2b94a811037bdd7fa2",
       "version_major": 2,
       "version_minor": 0
      },
      "text/plain": [
       "HBox(children=(FloatProgress(value=1.0, bar_style='info', max=1.0), HTML(value='')))"
      ]
     },
     "metadata": {},
     "output_type": "display_data"
    },
    {
     "name": "stdout",
     "output_type": "stream",
     "text": [
      "\n",
      "Train Epoch: 4\tLoss: 1747.885981\tCorrect: 8099\n"
     ]
    },
    {
     "data": {
      "application/vnd.jupyter.widget-view+json": {
       "model_id": "f006761f6ff84679b4b4dd2d04e097ba",
       "version_major": 2,
       "version_minor": 0
      },
      "text/plain": [
       "HBox(children=(FloatProgress(value=1.0, bar_style='info', max=1.0), HTML(value='')))"
      ]
     },
     "metadata": {},
     "output_type": "display_data"
    },
    {
     "name": "stdout",
     "output_type": "stream",
     "text": [
      "\n",
      "Train Epoch: 5\tLoss: 2803.044294\tCorrect: 6448\n"
     ]
    },
    {
     "data": {
      "application/vnd.jupyter.widget-view+json": {
       "model_id": "f5f6002690de4d65811a0da9b962c8f7",
       "version_major": 2,
       "version_minor": 0
      },
      "text/plain": [
       "HBox(children=(FloatProgress(value=1.0, bar_style='info', max=1.0), HTML(value='')))"
      ]
     },
     "metadata": {},
     "output_type": "display_data"
    },
    {
     "name": "stdout",
     "output_type": "stream",
     "text": [
      "\n",
      "Train Epoch: 6\tLoss: 1759.652865\tCorrect: 5882\n"
     ]
    },
    {
     "data": {
      "application/vnd.jupyter.widget-view+json": {
       "model_id": "b4c63473df0d4d9e90e22dc273e204b8",
       "version_major": 2,
       "version_minor": 0
      },
      "text/plain": [
       "HBox(children=(FloatProgress(value=1.0, bar_style='info', max=1.0), HTML(value='')))"
      ]
     },
     "metadata": {},
     "output_type": "display_data"
    },
    {
     "name": "stdout",
     "output_type": "stream",
     "text": [
      "\n",
      "Train Epoch: 7\tLoss: 1419.683222\tCorrect: 6064\n"
     ]
    },
    {
     "data": {
      "application/vnd.jupyter.widget-view+json": {
       "model_id": "3a329a12416041e787394e98058b1093",
       "version_major": 2,
       "version_minor": 0
      },
      "text/plain": [
       "HBox(children=(FloatProgress(value=1.0, bar_style='info', max=1.0), HTML(value='')))"
      ]
     },
     "metadata": {},
     "output_type": "display_data"
    },
    {
     "name": "stdout",
     "output_type": "stream",
     "text": [
      "\n",
      "Train Epoch: 8\tLoss: 1125.448903\tCorrect: 9245\n"
     ]
    },
    {
     "data": {
      "application/vnd.jupyter.widget-view+json": {
       "model_id": "0ecc59b1c8e343df903bf3592feb7028",
       "version_major": 2,
       "version_minor": 0
      },
      "text/plain": [
       "HBox(children=(FloatProgress(value=1.0, bar_style='info', max=1.0), HTML(value='')))"
      ]
     },
     "metadata": {},
     "output_type": "display_data"
    },
    {
     "name": "stdout",
     "output_type": "stream",
     "text": [
      "\n",
      "Train Epoch: 9\tLoss: 1020.215222\tCorrect: 9928\n"
     ]
    },
    {
     "data": {
      "application/vnd.jupyter.widget-view+json": {
       "model_id": "e453b98b22154087b8496086606f24c3",
       "version_major": 2,
       "version_minor": 0
      },
      "text/plain": [
       "HBox(children=(FloatProgress(value=1.0, bar_style='info', max=1.0), HTML(value='')))"
      ]
     },
     "metadata": {},
     "output_type": "display_data"
    },
    {
     "name": "stdout",
     "output_type": "stream",
     "text": [
      "\n",
      "Train Epoch: 10\tLoss: 947.751501\tCorrect: 10553\n"
     ]
    },
    {
     "data": {
      "application/vnd.jupyter.widget-view+json": {
       "model_id": "9fa449dbd9da46f4965484f0444edc1a",
       "version_major": 2,
       "version_minor": 0
      },
      "text/plain": [
       "HBox(children=(FloatProgress(value=1.0, bar_style='info', max=1.0), HTML(value='')))"
      ]
     },
     "metadata": {},
     "output_type": "display_data"
    },
    {
     "name": "stdout",
     "output_type": "stream",
     "text": [
      "\n",
      "Train Epoch: 11\tLoss: 900.445591\tCorrect: 10297\n"
     ]
    },
    {
     "data": {
      "application/vnd.jupyter.widget-view+json": {
       "model_id": "ec17c10319324c4e95cd360311cd1692",
       "version_major": 2,
       "version_minor": 0
      },
      "text/plain": [
       "HBox(children=(FloatProgress(value=1.0, bar_style='info', max=1.0), HTML(value='')))"
      ]
     },
     "metadata": {},
     "output_type": "display_data"
    },
    {
     "name": "stdout",
     "output_type": "stream",
     "text": [
      "\n",
      "Train Epoch: 12\tLoss: 894.681014\tCorrect: 10309\n"
     ]
    },
    {
     "data": {
      "application/vnd.jupyter.widget-view+json": {
       "model_id": "e5c4bfe0f45d498a8cf1ee7128a84143",
       "version_major": 2,
       "version_minor": 0
      },
      "text/plain": [
       "HBox(children=(FloatProgress(value=1.0, bar_style='info', max=1.0), HTML(value='')))"
      ]
     },
     "metadata": {},
     "output_type": "display_data"
    },
    {
     "name": "stdout",
     "output_type": "stream",
     "text": [
      "\n",
      "Train Epoch: 13\tLoss: 900.743320\tCorrect: 10972\n"
     ]
    },
    {
     "data": {
      "application/vnd.jupyter.widget-view+json": {
       "model_id": "962fdce36bd14032bb30b1b6e933f4d7",
       "version_major": 2,
       "version_minor": 0
      },
      "text/plain": [
       "HBox(children=(FloatProgress(value=1.0, bar_style='info', max=1.0), HTML(value='')))"
      ]
     },
     "metadata": {},
     "output_type": "display_data"
    },
    {
     "name": "stdout",
     "output_type": "stream",
     "text": [
      "\n",
      "Train Epoch: 14\tLoss: 875.783031\tCorrect: 10584\n"
     ]
    },
    {
     "data": {
      "application/vnd.jupyter.widget-view+json": {
       "model_id": "e55036c525e14ac2a811628bcc8714f2",
       "version_major": 2,
       "version_minor": 0
      },
      "text/plain": [
       "HBox(children=(FloatProgress(value=1.0, bar_style='info', max=1.0), HTML(value='')))"
      ]
     },
     "metadata": {},
     "output_type": "display_data"
    },
    {
     "name": "stdout",
     "output_type": "stream",
     "text": [
      "\n",
      "Train Epoch: 15\tLoss: 929.031192\tCorrect: 9581\n"
     ]
    },
    {
     "data": {
      "application/vnd.jupyter.widget-view+json": {
       "model_id": "4539e5c1feab467c9dcbe7a9ce8cfc1d",
       "version_major": 2,
       "version_minor": 0
      },
      "text/plain": [
       "HBox(children=(FloatProgress(value=1.0, bar_style='info', max=1.0), HTML(value='')))"
      ]
     },
     "metadata": {},
     "output_type": "display_data"
    },
    {
     "name": "stdout",
     "output_type": "stream",
     "text": [
      "\n",
      "Train Epoch: 16\tLoss: 911.232814\tCorrect: 10179\n"
     ]
    },
    {
     "data": {
      "application/vnd.jupyter.widget-view+json": {
       "model_id": "25098352555940438fc6cd82564fdf1d",
       "version_major": 2,
       "version_minor": 0
      },
      "text/plain": [
       "HBox(children=(FloatProgress(value=1.0, bar_style='info', max=1.0), HTML(value='')))"
      ]
     },
     "metadata": {},
     "output_type": "display_data"
    },
    {
     "name": "stdout",
     "output_type": "stream",
     "text": [
      "\n",
      "Train Epoch: 17\tLoss: 894.692599\tCorrect: 11058\n"
     ]
    },
    {
     "data": {
      "application/vnd.jupyter.widget-view+json": {
       "model_id": "79579b0df986499cb1f9e0ee0d964dd5",
       "version_major": 2,
       "version_minor": 0
      },
      "text/plain": [
       "HBox(children=(FloatProgress(value=1.0, bar_style='info', max=1.0), HTML(value='')))"
      ]
     },
     "metadata": {},
     "output_type": "display_data"
    },
    {
     "name": "stdout",
     "output_type": "stream",
     "text": [
      "\n",
      "Train Epoch: 18\tLoss: 892.658772\tCorrect: 10792\n"
     ]
    },
    {
     "data": {
      "application/vnd.jupyter.widget-view+json": {
       "model_id": "5ebae2e5b76c46b89af4cf5ad13ed262",
       "version_major": 2,
       "version_minor": 0
      },
      "text/plain": [
       "HBox(children=(FloatProgress(value=1.0, bar_style='info', max=1.0), HTML(value='')))"
      ]
     },
     "metadata": {},
     "output_type": "display_data"
    },
    {
     "name": "stdout",
     "output_type": "stream",
     "text": [
      "\n",
      "Train Epoch: 19\tLoss: 856.973338\tCorrect: 10702\n"
     ]
    },
    {
     "data": {
      "application/vnd.jupyter.widget-view+json": {
       "model_id": "0fafc7ecafd44d528b2f080e7be71adc",
       "version_major": 2,
       "version_minor": 0
      },
      "text/plain": [
       "HBox(children=(FloatProgress(value=1.0, bar_style='info', max=1.0), HTML(value='')))"
      ]
     },
     "metadata": {},
     "output_type": "display_data"
    },
    {
     "name": "stdout",
     "output_type": "stream",
     "text": [
      "\n",
      "Train Epoch: 20\tLoss: 841.379912\tCorrect: 10544\n"
     ]
    },
    {
     "data": {
      "application/vnd.jupyter.widget-view+json": {
       "model_id": "6f1d1cec88e846e9a499a3059fc817a8",
       "version_major": 2,
       "version_minor": 0
      },
      "text/plain": [
       "HBox(children=(FloatProgress(value=1.0, bar_style='info', max=1.0), HTML(value='')))"
      ]
     },
     "metadata": {},
     "output_type": "display_data"
    },
    {
     "name": "stdout",
     "output_type": "stream",
     "text": [
      "\n",
      "Train Epoch: 21\tLoss: 878.079887\tCorrect: 10716\n"
     ]
    },
    {
     "data": {
      "application/vnd.jupyter.widget-view+json": {
       "model_id": "d54d500737ed4164a2e043a8794afd91",
       "version_major": 2,
       "version_minor": 0
      },
      "text/plain": [
       "HBox(children=(FloatProgress(value=1.0, bar_style='info', max=1.0), HTML(value='')))"
      ]
     },
     "metadata": {},
     "output_type": "display_data"
    },
    {
     "name": "stdout",
     "output_type": "stream",
     "text": [
      "\n",
      "Train Epoch: 22\tLoss: 866.865868\tCorrect: 11052\n"
     ]
    },
    {
     "data": {
      "application/vnd.jupyter.widget-view+json": {
       "model_id": "c00140cb417646489eb2a21ee761707b",
       "version_major": 2,
       "version_minor": 0
      },
      "text/plain": [
       "HBox(children=(FloatProgress(value=1.0, bar_style='info', max=1.0), HTML(value='')))"
      ]
     },
     "metadata": {},
     "output_type": "display_data"
    },
    {
     "name": "stdout",
     "output_type": "stream",
     "text": [
      "\n",
      "Train Epoch: 23\tLoss: 866.752599\tCorrect: 10962\n"
     ]
    },
    {
     "data": {
      "application/vnd.jupyter.widget-view+json": {
       "model_id": "f56223a44f0d40cba8a8afe4ce6cb2b8",
       "version_major": 2,
       "version_minor": 0
      },
      "text/plain": [
       "HBox(children=(FloatProgress(value=1.0, bar_style='info', max=1.0), HTML(value='')))"
      ]
     },
     "metadata": {},
     "output_type": "display_data"
    },
    {
     "name": "stdout",
     "output_type": "stream",
     "text": [
      "\n",
      "Train Epoch: 24\tLoss: 887.461938\tCorrect: 10573\n"
     ]
    },
    {
     "data": {
      "application/vnd.jupyter.widget-view+json": {
       "model_id": "eb729c4950de49368befce7c0e482627",
       "version_major": 2,
       "version_minor": 0
      },
      "text/plain": [
       "HBox(children=(FloatProgress(value=1.0, bar_style='info', max=1.0), HTML(value='')))"
      ]
     },
     "metadata": {},
     "output_type": "display_data"
    },
    {
     "name": "stdout",
     "output_type": "stream",
     "text": [
      "\n",
      "Train Epoch: 25\tLoss: 861.982062\tCorrect: 11176\n"
     ]
    },
    {
     "data": {
      "application/vnd.jupyter.widget-view+json": {
       "model_id": "a8155fc031ce4acc99b8864622386fd6",
       "version_major": 2,
       "version_minor": 0
      },
      "text/plain": [
       "HBox(children=(FloatProgress(value=1.0, bar_style='info', max=1.0), HTML(value='')))"
      ]
     },
     "metadata": {},
     "output_type": "display_data"
    },
    {
     "name": "stdout",
     "output_type": "stream",
     "text": [
      "\n",
      "Train Epoch: 26\tLoss: 838.484958\tCorrect: 10734\n"
     ]
    },
    {
     "data": {
      "application/vnd.jupyter.widget-view+json": {
       "model_id": "3393bee38d6d4672a80e71c50a27666b",
       "version_major": 2,
       "version_minor": 0
      },
      "text/plain": [
       "HBox(children=(FloatProgress(value=1.0, bar_style='info', max=1.0), HTML(value='')))"
      ]
     },
     "metadata": {},
     "output_type": "display_data"
    },
    {
     "name": "stdout",
     "output_type": "stream",
     "text": [
      "\n",
      "Train Epoch: 27\tLoss: 872.438819\tCorrect: 10190\n"
     ]
    },
    {
     "data": {
      "application/vnd.jupyter.widget-view+json": {
       "model_id": "638a16a9fdfd4d23adf3ad7a76f2a4a4",
       "version_major": 2,
       "version_minor": 0
      },
      "text/plain": [
       "HBox(children=(FloatProgress(value=1.0, bar_style='info', max=1.0), HTML(value='')))"
      ]
     },
     "metadata": {},
     "output_type": "display_data"
    },
    {
     "name": "stdout",
     "output_type": "stream",
     "text": [
      "\n",
      "Train Epoch: 28\tLoss: 880.630135\tCorrect: 11200\n"
     ]
    },
    {
     "data": {
      "application/vnd.jupyter.widget-view+json": {
       "model_id": "647641522cd94c789b17277832d5e269",
       "version_major": 2,
       "version_minor": 0
      },
      "text/plain": [
       "HBox(children=(FloatProgress(value=1.0, bar_style='info', max=1.0), HTML(value='')))"
      ]
     },
     "metadata": {},
     "output_type": "display_data"
    },
    {
     "name": "stdout",
     "output_type": "stream",
     "text": [
      "\n",
      "Train Epoch: 29\tLoss: 831.284654\tCorrect: 11261\n"
     ]
    },
    {
     "data": {
      "application/vnd.jupyter.widget-view+json": {
       "model_id": "042e102a320e4c4295a2239c5b427aed",
       "version_major": 2,
       "version_minor": 0
      },
      "text/plain": [
       "HBox(children=(FloatProgress(value=1.0, bar_style='info', max=1.0), HTML(value='')))"
      ]
     },
     "metadata": {},
     "output_type": "display_data"
    },
    {
     "name": "stdout",
     "output_type": "stream",
     "text": [
      "\n",
      "Train Epoch: 30\tLoss: 815.578004\tCorrect: 11001\n"
     ]
    },
    {
     "data": {
      "application/vnd.jupyter.widget-view+json": {
       "model_id": "f1213e5afef046e3bd9be20b19f5e656",
       "version_major": 2,
       "version_minor": 0
      },
      "text/plain": [
       "HBox(children=(FloatProgress(value=1.0, bar_style='info', max=1.0), HTML(value='')))"
      ]
     },
     "metadata": {},
     "output_type": "display_data"
    },
    {
     "name": "stdout",
     "output_type": "stream",
     "text": [
      "\n",
      "Train Epoch: 31\tLoss: 823.678119\tCorrect: 11257\n"
     ]
    },
    {
     "data": {
      "application/vnd.jupyter.widget-view+json": {
       "model_id": "96dd33509c16434d8d0298217d4ad185",
       "version_major": 2,
       "version_minor": 0
      },
      "text/plain": [
       "HBox(children=(FloatProgress(value=1.0, bar_style='info', max=1.0), HTML(value='')))"
      ]
     },
     "metadata": {},
     "output_type": "display_data"
    },
    {
     "name": "stdout",
     "output_type": "stream",
     "text": [
      "\n",
      "Train Epoch: 32\tLoss: 832.512534\tCorrect: 11516\n"
     ]
    },
    {
     "data": {
      "application/vnd.jupyter.widget-view+json": {
       "model_id": "e757a363c4d540199d98ec3920d0ae8f",
       "version_major": 2,
       "version_minor": 0
      },
      "text/plain": [
       "HBox(children=(FloatProgress(value=1.0, bar_style='info', max=1.0), HTML(value='')))"
      ]
     },
     "metadata": {},
     "output_type": "display_data"
    },
    {
     "name": "stdout",
     "output_type": "stream",
     "text": [
      "\n",
      "Train Epoch: 33\tLoss: 823.916888\tCorrect: 11339\n"
     ]
    },
    {
     "data": {
      "application/vnd.jupyter.widget-view+json": {
       "model_id": "052820ac6c00427e856b909fd234dd07",
       "version_major": 2,
       "version_minor": 0
      },
      "text/plain": [
       "HBox(children=(FloatProgress(value=1.0, bar_style='info', max=1.0), HTML(value='')))"
      ]
     },
     "metadata": {},
     "output_type": "display_data"
    },
    {
     "ename": "KeyboardInterrupt",
     "evalue": "",
     "output_type": "error",
     "traceback": [
      "\u001b[0;31m---------------------------------------------------------------------------\u001b[0m",
      "\u001b[0;31mKeyboardInterrupt\u001b[0m                         Traceback (most recent call last)",
      "\u001b[0;32m<ipython-input-33-9df960487a74>\u001b[0m in \u001b[0;36m<module>\u001b[0;34m\u001b[0m\n\u001b[1;32m     30\u001b[0m         \u001b[0moptimizer2\u001b[0m\u001b[0;34m.\u001b[0m\u001b[0mzero_grad\u001b[0m\u001b[0;34m(\u001b[0m\u001b[0;34m)\u001b[0m\u001b[0;34m\u001b[0m\u001b[0;34m\u001b[0m\u001b[0m\n\u001b[1;32m     31\u001b[0m \u001b[0;34m\u001b[0m\u001b[0m\n\u001b[0;32m---> 32\u001b[0;31m         \u001b[0mloss\u001b[0m\u001b[0;34m,\u001b[0m \u001b[0mcorrect\u001b[0m \u001b[0;34m=\u001b[0m \u001b[0mtloss\u001b[0m\u001b[0;34m(\u001b[0m\u001b[0mc\u001b[0m\u001b[0;34m,\u001b[0m \u001b[0mn\u001b[0m\u001b[0;34m,\u001b[0m \u001b[0ml_sample\u001b[0m\u001b[0;34m,\u001b[0m \u001b[0mtarget\u001b[0m\u001b[0;34m,\u001b[0m \u001b[0malpha\u001b[0m\u001b[0;34m=\u001b[0m\u001b[0;36m1\u001b[0m\u001b[0;34m,\u001b[0m \u001b[0mbeta\u001b[0m\u001b[0;34m=\u001b[0m\u001b[0;36m0\u001b[0m\u001b[0;34m)\u001b[0m\u001b[0;34m\u001b[0m\u001b[0;34m\u001b[0m\u001b[0m\n\u001b[0m\u001b[1;32m     33\u001b[0m \u001b[0;34m\u001b[0m\u001b[0m\n\u001b[1;32m     34\u001b[0m         \u001b[0mloss\u001b[0m\u001b[0;34m.\u001b[0m\u001b[0mbackward\u001b[0m\u001b[0;34m(\u001b[0m\u001b[0;34m)\u001b[0m\u001b[0;34m\u001b[0m\u001b[0;34m\u001b[0m\u001b[0m\n",
      "\u001b[0;32m/opt/miniconda3/envs/bvaa/lib/python3.6/site-packages/torch/nn/modules/module.py\u001b[0m in \u001b[0;36m__call__\u001b[0;34m(self, *input, **kwargs)\u001b[0m\n\u001b[1;32m    530\u001b[0m             \u001b[0mresult\u001b[0m \u001b[0;34m=\u001b[0m \u001b[0mself\u001b[0m\u001b[0;34m.\u001b[0m\u001b[0m_slow_forward\u001b[0m\u001b[0;34m(\u001b[0m\u001b[0;34m*\u001b[0m\u001b[0minput\u001b[0m\u001b[0;34m,\u001b[0m \u001b[0;34m**\u001b[0m\u001b[0mkwargs\u001b[0m\u001b[0;34m)\u001b[0m\u001b[0;34m\u001b[0m\u001b[0;34m\u001b[0m\u001b[0m\n\u001b[1;32m    531\u001b[0m         \u001b[0;32melse\u001b[0m\u001b[0;34m:\u001b[0m\u001b[0;34m\u001b[0m\u001b[0;34m\u001b[0m\u001b[0m\n\u001b[0;32m--> 532\u001b[0;31m             \u001b[0mresult\u001b[0m \u001b[0;34m=\u001b[0m \u001b[0mself\u001b[0m\u001b[0;34m.\u001b[0m\u001b[0mforward\u001b[0m\u001b[0;34m(\u001b[0m\u001b[0;34m*\u001b[0m\u001b[0minput\u001b[0m\u001b[0;34m,\u001b[0m \u001b[0;34m**\u001b[0m\u001b[0mkwargs\u001b[0m\u001b[0;34m)\u001b[0m\u001b[0;34m\u001b[0m\u001b[0;34m\u001b[0m\u001b[0m\n\u001b[0m\u001b[1;32m    533\u001b[0m         \u001b[0;32mfor\u001b[0m \u001b[0mhook\u001b[0m \u001b[0;32min\u001b[0m \u001b[0mself\u001b[0m\u001b[0;34m.\u001b[0m\u001b[0m_forward_hooks\u001b[0m\u001b[0;34m.\u001b[0m\u001b[0mvalues\u001b[0m\u001b[0;34m(\u001b[0m\u001b[0;34m)\u001b[0m\u001b[0;34m:\u001b[0m\u001b[0;34m\u001b[0m\u001b[0;34m\u001b[0m\u001b[0m\n\u001b[1;32m    534\u001b[0m             \u001b[0mhook_result\u001b[0m \u001b[0;34m=\u001b[0m \u001b[0mhook\u001b[0m\u001b[0;34m(\u001b[0m\u001b[0mself\u001b[0m\u001b[0;34m,\u001b[0m \u001b[0minput\u001b[0m\u001b[0;34m,\u001b[0m \u001b[0mresult\u001b[0m\u001b[0;34m)\u001b[0m\u001b[0;34m\u001b[0m\u001b[0;34m\u001b[0m\u001b[0m\n",
      "\u001b[0;32m<ipython-input-29-937f4e441c8b>\u001b[0m in \u001b[0;36mforward\u001b[0;34m(self, coffs, noises, org_x, targets, alpha, beta, train)\u001b[0m\n\u001b[1;32m     79\u001b[0m         \u001b[0mnoised_image\u001b[0m \u001b[0;34m=\u001b[0m \u001b[0mself\u001b[0m\u001b[0;34m.\u001b[0m\u001b[0mdecoder\u001b[0m\u001b[0;34m(\u001b[0m\u001b[0mnoised_sample\u001b[0m\u001b[0;34m)\u001b[0m\u001b[0;34m\u001b[0m\u001b[0;34m\u001b[0m\u001b[0m\n\u001b[1;32m     80\u001b[0m         \u001b[0;32mif\u001b[0m \u001b[0mtrain\u001b[0m\u001b[0;34m:\u001b[0m\u001b[0;34m\u001b[0m\u001b[0;34m\u001b[0m\u001b[0m\n\u001b[0;32m---> 81\u001b[0;31m             \u001b[0m_\u001b[0m\u001b[0;34m,\u001b[0m\u001b[0mpreds\u001b[0m \u001b[0;34m=\u001b[0m \u001b[0mself\u001b[0m\u001b[0;34m.\u001b[0m\u001b[0mclassifier\u001b[0m\u001b[0;34m(\u001b[0m\u001b[0mF\u001b[0m\u001b[0;34m.\u001b[0m\u001b[0mupsample\u001b[0m\u001b[0;34m(\u001b[0m\u001b[0mnoised_image\u001b[0m\u001b[0;34m,\u001b[0m \u001b[0;34m(\u001b[0m\u001b[0;36m32\u001b[0m\u001b[0;34m,\u001b[0m\u001b[0;36m32\u001b[0m\u001b[0;34m)\u001b[0m\u001b[0;34m,\u001b[0m \u001b[0mmode\u001b[0m\u001b[0;34m=\u001b[0m\u001b[0;34m'bilinear'\u001b[0m\u001b[0;34m,\u001b[0m \u001b[0malign_corners\u001b[0m\u001b[0;34m=\u001b[0m\u001b[0;32mTrue\u001b[0m\u001b[0;34m)\u001b[0m\u001b[0;34m)\u001b[0m\u001b[0;34m\u001b[0m\u001b[0;34m\u001b[0m\u001b[0m\n\u001b[0m\u001b[1;32m     82\u001b[0m \u001b[0;31m#         loss = 0.8*loss2 + 20*loss3\u001b[0m\u001b[0;34m\u001b[0m\u001b[0;34m\u001b[0m\u001b[0;34m\u001b[0m\u001b[0m\n\u001b[1;32m     83\u001b[0m \u001b[0;31m#         loss = loss2 + 20*loss3\u001b[0m\u001b[0;34m\u001b[0m\u001b[0;34m\u001b[0m\u001b[0;34m\u001b[0m\u001b[0m\n",
      "\u001b[0;32m/opt/miniconda3/envs/bvaa/lib/python3.6/site-packages/torch/nn/modules/module.py\u001b[0m in \u001b[0;36m__call__\u001b[0;34m(self, *input, **kwargs)\u001b[0m\n\u001b[1;32m    530\u001b[0m             \u001b[0mresult\u001b[0m \u001b[0;34m=\u001b[0m \u001b[0mself\u001b[0m\u001b[0;34m.\u001b[0m\u001b[0m_slow_forward\u001b[0m\u001b[0;34m(\u001b[0m\u001b[0;34m*\u001b[0m\u001b[0minput\u001b[0m\u001b[0;34m,\u001b[0m \u001b[0;34m**\u001b[0m\u001b[0mkwargs\u001b[0m\u001b[0;34m)\u001b[0m\u001b[0;34m\u001b[0m\u001b[0;34m\u001b[0m\u001b[0m\n\u001b[1;32m    531\u001b[0m         \u001b[0;32melse\u001b[0m\u001b[0;34m:\u001b[0m\u001b[0;34m\u001b[0m\u001b[0;34m\u001b[0m\u001b[0m\n\u001b[0;32m--> 532\u001b[0;31m             \u001b[0mresult\u001b[0m \u001b[0;34m=\u001b[0m \u001b[0mself\u001b[0m\u001b[0;34m.\u001b[0m\u001b[0mforward\u001b[0m\u001b[0;34m(\u001b[0m\u001b[0;34m*\u001b[0m\u001b[0minput\u001b[0m\u001b[0;34m,\u001b[0m \u001b[0;34m**\u001b[0m\u001b[0mkwargs\u001b[0m\u001b[0;34m)\u001b[0m\u001b[0;34m\u001b[0m\u001b[0;34m\u001b[0m\u001b[0m\n\u001b[0m\u001b[1;32m    533\u001b[0m         \u001b[0;32mfor\u001b[0m \u001b[0mhook\u001b[0m \u001b[0;32min\u001b[0m \u001b[0mself\u001b[0m\u001b[0;34m.\u001b[0m\u001b[0m_forward_hooks\u001b[0m\u001b[0;34m.\u001b[0m\u001b[0mvalues\u001b[0m\u001b[0;34m(\u001b[0m\u001b[0;34m)\u001b[0m\u001b[0;34m:\u001b[0m\u001b[0;34m\u001b[0m\u001b[0;34m\u001b[0m\u001b[0m\n\u001b[1;32m    534\u001b[0m             \u001b[0mhook_result\u001b[0m \u001b[0;34m=\u001b[0m \u001b[0mhook\u001b[0m\u001b[0;34m(\u001b[0m\u001b[0mself\u001b[0m\u001b[0;34m,\u001b[0m \u001b[0minput\u001b[0m\u001b[0;34m,\u001b[0m \u001b[0mresult\u001b[0m\u001b[0;34m)\u001b[0m\u001b[0;34m\u001b[0m\u001b[0;34m\u001b[0m\u001b[0m\n",
      "\u001b[0;32m<ipython-input-7-9904b8846cf4>\u001b[0m in \u001b[0;36mforward\u001b[0;34m(self, x)\u001b[0m\n\u001b[1;32m    108\u001b[0m \u001b[0;34m\u001b[0m\u001b[0m\n\u001b[1;32m    109\u001b[0m         \u001b[0mx\u001b[0m \u001b[0;34m=\u001b[0m \u001b[0mself\u001b[0m\u001b[0;34m.\u001b[0m\u001b[0mlayer1\u001b[0m\u001b[0;34m(\u001b[0m\u001b[0mx\u001b[0m\u001b[0;34m)\u001b[0m\u001b[0;34m\u001b[0m\u001b[0;34m\u001b[0m\u001b[0m\n\u001b[0;32m--> 110\u001b[0;31m         \u001b[0mx\u001b[0m \u001b[0;34m=\u001b[0m \u001b[0mself\u001b[0m\u001b[0;34m.\u001b[0m\u001b[0mlayer2\u001b[0m\u001b[0;34m(\u001b[0m\u001b[0mx\u001b[0m\u001b[0;34m)\u001b[0m\u001b[0;34m\u001b[0m\u001b[0;34m\u001b[0m\u001b[0m\n\u001b[0m\u001b[1;32m    111\u001b[0m \u001b[0;31m#         x = self.layer3(x)\u001b[0m\u001b[0;34m\u001b[0m\u001b[0;34m\u001b[0m\u001b[0;34m\u001b[0m\u001b[0m\n\u001b[1;32m    112\u001b[0m \u001b[0;31m#         x = self.layer4(x)\u001b[0m\u001b[0;34m\u001b[0m\u001b[0;34m\u001b[0m\u001b[0;34m\u001b[0m\u001b[0m\n",
      "\u001b[0;32m/opt/miniconda3/envs/bvaa/lib/python3.6/site-packages/torch/nn/modules/module.py\u001b[0m in \u001b[0;36m__call__\u001b[0;34m(self, *input, **kwargs)\u001b[0m\n\u001b[1;32m    530\u001b[0m             \u001b[0mresult\u001b[0m \u001b[0;34m=\u001b[0m \u001b[0mself\u001b[0m\u001b[0;34m.\u001b[0m\u001b[0m_slow_forward\u001b[0m\u001b[0;34m(\u001b[0m\u001b[0;34m*\u001b[0m\u001b[0minput\u001b[0m\u001b[0;34m,\u001b[0m \u001b[0;34m**\u001b[0m\u001b[0mkwargs\u001b[0m\u001b[0;34m)\u001b[0m\u001b[0;34m\u001b[0m\u001b[0;34m\u001b[0m\u001b[0m\n\u001b[1;32m    531\u001b[0m         \u001b[0;32melse\u001b[0m\u001b[0;34m:\u001b[0m\u001b[0;34m\u001b[0m\u001b[0;34m\u001b[0m\u001b[0m\n\u001b[0;32m--> 532\u001b[0;31m             \u001b[0mresult\u001b[0m \u001b[0;34m=\u001b[0m \u001b[0mself\u001b[0m\u001b[0;34m.\u001b[0m\u001b[0mforward\u001b[0m\u001b[0;34m(\u001b[0m\u001b[0;34m*\u001b[0m\u001b[0minput\u001b[0m\u001b[0;34m,\u001b[0m \u001b[0;34m**\u001b[0m\u001b[0mkwargs\u001b[0m\u001b[0;34m)\u001b[0m\u001b[0;34m\u001b[0m\u001b[0;34m\u001b[0m\u001b[0m\n\u001b[0m\u001b[1;32m    533\u001b[0m         \u001b[0;32mfor\u001b[0m \u001b[0mhook\u001b[0m \u001b[0;32min\u001b[0m \u001b[0mself\u001b[0m\u001b[0;34m.\u001b[0m\u001b[0m_forward_hooks\u001b[0m\u001b[0;34m.\u001b[0m\u001b[0mvalues\u001b[0m\u001b[0;34m(\u001b[0m\u001b[0;34m)\u001b[0m\u001b[0;34m:\u001b[0m\u001b[0;34m\u001b[0m\u001b[0;34m\u001b[0m\u001b[0m\n\u001b[1;32m    534\u001b[0m             \u001b[0mhook_result\u001b[0m \u001b[0;34m=\u001b[0m \u001b[0mhook\u001b[0m\u001b[0;34m(\u001b[0m\u001b[0mself\u001b[0m\u001b[0;34m,\u001b[0m \u001b[0minput\u001b[0m\u001b[0;34m,\u001b[0m \u001b[0mresult\u001b[0m\u001b[0;34m)\u001b[0m\u001b[0;34m\u001b[0m\u001b[0;34m\u001b[0m\u001b[0m\n",
      "\u001b[0;32m/opt/miniconda3/envs/bvaa/lib/python3.6/site-packages/torch/nn/modules/container.py\u001b[0m in \u001b[0;36mforward\u001b[0;34m(self, input)\u001b[0m\n\u001b[1;32m     98\u001b[0m     \u001b[0;32mdef\u001b[0m \u001b[0mforward\u001b[0m\u001b[0;34m(\u001b[0m\u001b[0mself\u001b[0m\u001b[0;34m,\u001b[0m \u001b[0minput\u001b[0m\u001b[0;34m)\u001b[0m\u001b[0;34m:\u001b[0m\u001b[0;34m\u001b[0m\u001b[0;34m\u001b[0m\u001b[0m\n\u001b[1;32m     99\u001b[0m         \u001b[0;32mfor\u001b[0m \u001b[0mmodule\u001b[0m \u001b[0;32min\u001b[0m \u001b[0mself\u001b[0m\u001b[0;34m:\u001b[0m\u001b[0;34m\u001b[0m\u001b[0;34m\u001b[0m\u001b[0m\n\u001b[0;32m--> 100\u001b[0;31m             \u001b[0minput\u001b[0m \u001b[0;34m=\u001b[0m \u001b[0mmodule\u001b[0m\u001b[0;34m(\u001b[0m\u001b[0minput\u001b[0m\u001b[0;34m)\u001b[0m\u001b[0;34m\u001b[0m\u001b[0;34m\u001b[0m\u001b[0m\n\u001b[0m\u001b[1;32m    101\u001b[0m         \u001b[0;32mreturn\u001b[0m \u001b[0minput\u001b[0m\u001b[0;34m\u001b[0m\u001b[0;34m\u001b[0m\u001b[0m\n\u001b[1;32m    102\u001b[0m \u001b[0;34m\u001b[0m\u001b[0m\n",
      "\u001b[0;32m/opt/miniconda3/envs/bvaa/lib/python3.6/site-packages/torch/nn/modules/module.py\u001b[0m in \u001b[0;36m__call__\u001b[0;34m(self, *input, **kwargs)\u001b[0m\n\u001b[1;32m    530\u001b[0m             \u001b[0mresult\u001b[0m \u001b[0;34m=\u001b[0m \u001b[0mself\u001b[0m\u001b[0;34m.\u001b[0m\u001b[0m_slow_forward\u001b[0m\u001b[0;34m(\u001b[0m\u001b[0;34m*\u001b[0m\u001b[0minput\u001b[0m\u001b[0;34m,\u001b[0m \u001b[0;34m**\u001b[0m\u001b[0mkwargs\u001b[0m\u001b[0;34m)\u001b[0m\u001b[0;34m\u001b[0m\u001b[0;34m\u001b[0m\u001b[0m\n\u001b[1;32m    531\u001b[0m         \u001b[0;32melse\u001b[0m\u001b[0;34m:\u001b[0m\u001b[0;34m\u001b[0m\u001b[0;34m\u001b[0m\u001b[0m\n\u001b[0;32m--> 532\u001b[0;31m             \u001b[0mresult\u001b[0m \u001b[0;34m=\u001b[0m \u001b[0mself\u001b[0m\u001b[0;34m.\u001b[0m\u001b[0mforward\u001b[0m\u001b[0;34m(\u001b[0m\u001b[0;34m*\u001b[0m\u001b[0minput\u001b[0m\u001b[0;34m,\u001b[0m \u001b[0;34m**\u001b[0m\u001b[0mkwargs\u001b[0m\u001b[0;34m)\u001b[0m\u001b[0;34m\u001b[0m\u001b[0;34m\u001b[0m\u001b[0m\n\u001b[0m\u001b[1;32m    533\u001b[0m         \u001b[0;32mfor\u001b[0m \u001b[0mhook\u001b[0m \u001b[0;32min\u001b[0m \u001b[0mself\u001b[0m\u001b[0;34m.\u001b[0m\u001b[0m_forward_hooks\u001b[0m\u001b[0;34m.\u001b[0m\u001b[0mvalues\u001b[0m\u001b[0;34m(\u001b[0m\u001b[0;34m)\u001b[0m\u001b[0;34m:\u001b[0m\u001b[0;34m\u001b[0m\u001b[0;34m\u001b[0m\u001b[0m\n\u001b[1;32m    534\u001b[0m             \u001b[0mhook_result\u001b[0m \u001b[0;34m=\u001b[0m \u001b[0mhook\u001b[0m\u001b[0;34m(\u001b[0m\u001b[0mself\u001b[0m\u001b[0;34m,\u001b[0m \u001b[0minput\u001b[0m\u001b[0;34m,\u001b[0m \u001b[0mresult\u001b[0m\u001b[0;34m)\u001b[0m\u001b[0;34m\u001b[0m\u001b[0;34m\u001b[0m\u001b[0m\n",
      "\u001b[0;32m<ipython-input-7-9904b8846cf4>\u001b[0m in \u001b[0;36mforward\u001b[0;34m(self, x)\u001b[0m\n\u001b[1;32m     29\u001b[0m         \u001b[0mself\u001b[0m\u001b[0;34m.\u001b[0m\u001b[0mstride\u001b[0m \u001b[0;34m=\u001b[0m \u001b[0mstride\u001b[0m\u001b[0;34m\u001b[0m\u001b[0;34m\u001b[0m\u001b[0m\n\u001b[1;32m     30\u001b[0m \u001b[0;34m\u001b[0m\u001b[0m\n\u001b[0;32m---> 31\u001b[0;31m     \u001b[0;32mdef\u001b[0m \u001b[0mforward\u001b[0m\u001b[0;34m(\u001b[0m\u001b[0mself\u001b[0m\u001b[0;34m,\u001b[0m \u001b[0mx\u001b[0m\u001b[0;34m)\u001b[0m\u001b[0;34m:\u001b[0m\u001b[0;34m\u001b[0m\u001b[0;34m\u001b[0m\u001b[0m\n\u001b[0m\u001b[1;32m     32\u001b[0m         \u001b[0mresidual\u001b[0m \u001b[0;34m=\u001b[0m \u001b[0mx\u001b[0m\u001b[0;34m\u001b[0m\u001b[0;34m\u001b[0m\u001b[0m\n\u001b[1;32m     33\u001b[0m \u001b[0;34m\u001b[0m\u001b[0m\n",
      "\u001b[0;31mKeyboardInterrupt\u001b[0m: "
     ]
    }
   ],
   "source": [
    "from tqdm.notebook import tqdm\n",
    "attack_log_interval = 1\n",
    "\n",
    "noise.train()\n",
    "cofficient.train()\n",
    "\n",
    "optimizer1 = optim.Adam(noise.parameters(), lr=1e-4)\n",
    "# optimizer1 = torch.optim.SGD(noise.parameters(), lr=1e-4, momentum=0.9)\n",
    "\n",
    "# optimizer2 = torch.optim.SGD(cofficient.parameters(), lr=1e-4, momentum=0.9)\n",
    "optimizer2 = optim.Adam(cofficient.parameters(), lr=1e-4)\n",
    "\n",
    "\n",
    "# scheduler1 = torch.optim.lr_scheduler.CyclicLR(optimizer1, base_lr=1e-7, max_lr=0.1)\n",
    "# scheduler2 = torch.optim.lr_scheduler.CyclicLR(optimizer2, base_lr=1e-7, max_lr=0.1)\n",
    "\n",
    "for epoch in tqdm(range(150)):\n",
    "    epoch_loss = 0\n",
    "    epoch_correct = 0\n",
    "    for batch_idx, (data, target) in tqdm(enumerate(train_loader)):\n",
    "#         print(target)\n",
    "        data = torch.FloatTensor(data).to(device)\n",
    "        _, l_dist = model(data)\n",
    "        l_sample = model.reparameterize(l_dist)\n",
    "        \n",
    "        n = noise(l_sample)\n",
    "        c = cofficient(l_sample)\n",
    "\n",
    "        optimizer1.zero_grad()\n",
    "        optimizer2.zero_grad()\n",
    "        \n",
    "        loss, correct = tloss(c, n, l_sample, target, alpha=1, beta=0)\n",
    "\n",
    "        loss.backward()\n",
    "        \n",
    "        optimizer1.step()\n",
    "        optimizer2.step()\n",
    "\n",
    "#         scheduler1.step()\n",
    "#         scheduler2.step()\n",
    "\n",
    "        epoch_loss += loss.item()\n",
    "    \n",
    "        epoch_correct += correct\n",
    "        \n",
    "    if (epoch+1) % attack_log_interval == 0:\n",
    "        print('Train Epoch: {}\\tLoss: {:.6f}\\tCorrect: {}'.format(\n",
    "            epoch+1, epoch_loss/batch_idx, epoch_correct))"
   ]
  },
  {
   "cell_type": "code",
   "execution_count": 34,
   "metadata": {},
   "outputs": [],
   "source": [
    "torch.save(noise.state_dict(), 'models/{}/noise.pt'.format(FOLDER))\n",
    "torch.save(cofficient.state_dict(), 'models/{}/coff.pt'.format(FOLDER))"
   ]
  },
  {
   "cell_type": "code",
   "execution_count": 72,
   "metadata": {},
   "outputs": [
    {
     "ename": "RuntimeError",
     "evalue": "Error(s) in loading state_dict for Noise:\n\tMissing key(s) in state_dict: \"layers.5.weight\", \"layers.5.bias\", \"layers.6.weight\", \"layers.6.bias\", \"layers.7.weight\", \"layers.7.bias\". \n\tsize mismatch for layers.2.weight: copying a param with shape torch.Size([50, 42]) from checkpoint, the shape in current model is torch.Size([42, 42]).\n\tsize mismatch for layers.2.bias: copying a param with shape torch.Size([50]) from checkpoint, the shape in current model is torch.Size([42]).\n\tsize mismatch for layers.3.weight: copying a param with shape torch.Size([100, 50]) from checkpoint, the shape in current model is torch.Size([42, 42]).\n\tsize mismatch for layers.3.bias: copying a param with shape torch.Size([100]) from checkpoint, the shape in current model is torch.Size([42]).\n\tsize mismatch for layers.4.weight: copying a param with shape torch.Size([42, 100]) from checkpoint, the shape in current model is torch.Size([42, 42]).",
     "output_type": "error",
     "traceback": [
      "\u001b[0;31m---------------------------------------------------------------------------\u001b[0m",
      "\u001b[0;31mRuntimeError\u001b[0m                              Traceback (most recent call last)",
      "\u001b[0;32m<ipython-input-72-5a7ddc53313c>\u001b[0m in \u001b[0;36m<module>\u001b[0;34m\u001b[0m\n\u001b[1;32m      2\u001b[0m \u001b[0mcofficient2\u001b[0m \u001b[0;34m=\u001b[0m \u001b[0mCofficients\u001b[0m\u001b[0;34m(\u001b[0m\u001b[0;34m)\u001b[0m\u001b[0;34m.\u001b[0m\u001b[0mto\u001b[0m\u001b[0;34m(\u001b[0m\u001b[0mdevice\u001b[0m\u001b[0;34m)\u001b[0m\u001b[0;34m\u001b[0m\u001b[0;34m\u001b[0m\u001b[0m\n\u001b[1;32m      3\u001b[0m \u001b[0;34m\u001b[0m\u001b[0m\n\u001b[0;32m----> 4\u001b[0;31m \u001b[0mnoise2\u001b[0m\u001b[0;34m.\u001b[0m\u001b[0mload_state_dict\u001b[0m\u001b[0;34m(\u001b[0m\u001b[0mtorch\u001b[0m\u001b[0;34m.\u001b[0m\u001b[0mload\u001b[0m\u001b[0;34m(\u001b[0m\u001b[0;34m'models/{}/noise.pt'\u001b[0m\u001b[0;34m.\u001b[0m\u001b[0mformat\u001b[0m\u001b[0;34m(\u001b[0m\u001b[0mFOLDER\u001b[0m\u001b[0;34m)\u001b[0m\u001b[0;34m)\u001b[0m\u001b[0;34m)\u001b[0m\u001b[0;34m\u001b[0m\u001b[0;34m\u001b[0m\u001b[0m\n\u001b[0m\u001b[1;32m      5\u001b[0m \u001b[0mcofficient2\u001b[0m\u001b[0;34m.\u001b[0m\u001b[0mload_state_dict\u001b[0m\u001b[0;34m(\u001b[0m\u001b[0mtorch\u001b[0m\u001b[0;34m.\u001b[0m\u001b[0mload\u001b[0m\u001b[0;34m(\u001b[0m\u001b[0;34m'models/{}/coff.pt'\u001b[0m\u001b[0;34m.\u001b[0m\u001b[0mformat\u001b[0m\u001b[0;34m(\u001b[0m\u001b[0mFOLDER\u001b[0m\u001b[0;34m)\u001b[0m\u001b[0;34m)\u001b[0m\u001b[0;34m)\u001b[0m\u001b[0;34m\u001b[0m\u001b[0;34m\u001b[0m\u001b[0m\n",
      "\u001b[0;32m/opt/miniconda3/envs/bvaa/lib/python3.6/site-packages/torch/nn/modules/module.py\u001b[0m in \u001b[0;36mload_state_dict\u001b[0;34m(self, state_dict, strict)\u001b[0m\n\u001b[1;32m    828\u001b[0m         \u001b[0;32mif\u001b[0m \u001b[0mlen\u001b[0m\u001b[0;34m(\u001b[0m\u001b[0merror_msgs\u001b[0m\u001b[0;34m)\u001b[0m \u001b[0;34m>\u001b[0m \u001b[0;36m0\u001b[0m\u001b[0;34m:\u001b[0m\u001b[0;34m\u001b[0m\u001b[0;34m\u001b[0m\u001b[0m\n\u001b[1;32m    829\u001b[0m             raise RuntimeError('Error(s) in loading state_dict for {}:\\n\\t{}'.format(\n\u001b[0;32m--> 830\u001b[0;31m                                self.__class__.__name__, \"\\n\\t\".join(error_msgs)))\n\u001b[0m\u001b[1;32m    831\u001b[0m         \u001b[0;32mreturn\u001b[0m \u001b[0m_IncompatibleKeys\u001b[0m\u001b[0;34m(\u001b[0m\u001b[0mmissing_keys\u001b[0m\u001b[0;34m,\u001b[0m \u001b[0munexpected_keys\u001b[0m\u001b[0;34m)\u001b[0m\u001b[0;34m\u001b[0m\u001b[0;34m\u001b[0m\u001b[0m\n\u001b[1;32m    832\u001b[0m \u001b[0;34m\u001b[0m\u001b[0m\n",
      "\u001b[0;31mRuntimeError\u001b[0m: Error(s) in loading state_dict for Noise:\n\tMissing key(s) in state_dict: \"layers.5.weight\", \"layers.5.bias\", \"layers.6.weight\", \"layers.6.bias\", \"layers.7.weight\", \"layers.7.bias\". \n\tsize mismatch for layers.2.weight: copying a param with shape torch.Size([50, 42]) from checkpoint, the shape in current model is torch.Size([42, 42]).\n\tsize mismatch for layers.2.bias: copying a param with shape torch.Size([50]) from checkpoint, the shape in current model is torch.Size([42]).\n\tsize mismatch for layers.3.weight: copying a param with shape torch.Size([100, 50]) from checkpoint, the shape in current model is torch.Size([42, 42]).\n\tsize mismatch for layers.3.bias: copying a param with shape torch.Size([100]) from checkpoint, the shape in current model is torch.Size([42]).\n\tsize mismatch for layers.4.weight: copying a param with shape torch.Size([42, 100]) from checkpoint, the shape in current model is torch.Size([42, 42])."
     ]
    }
   ],
   "source": [
    "# noise1 = Noise().to(device)\n",
    "# cofficient2 = Cofficients().to(device)\n",
    "\n",
    "# noise2.load_state_dict(torch.load('models/{}/noise.pt'.format(FOLDER)))\n",
    "# cofficient2.load_state_dict(torch.load('models/{}/coff.pt'.format(FOLDER)))"
   ]
  },
  {
   "cell_type": "code",
   "execution_count": 35,
   "metadata": {},
   "outputs": [
    {
     "name": "stdout",
     "output_type": "stream",
     "text": [
      "3854\n",
      "Accuracy:  14.804855562384759\n"
     ]
    }
   ],
   "source": [
    "noise.eval()\n",
    "cofficient.eval()\n",
    "total_correct = 0\n",
    "total_test = 0\n",
    "for batch_idx, (data, target) in enumerate(test_loader):\n",
    "    total_test += data.shape[0]\n",
    "#     print(data.shape)\n",
    "    data = torch.FloatTensor(data).to(device)\n",
    "\n",
    "    _, l_dist = model(data)\n",
    "    l_sample = model.reparameterize(l_dist)\n",
    "    \n",
    "    noise_ = noise(l_sample)\n",
    "    coff_ = cofficient(l_sample)\n",
    "    \n",
    "    loss, correct = tloss(coff_, noise_, l_sample, target, 1, 0, train=False)\n",
    "    total_correct += correct\n",
    "#     print(correct)\n",
    "#         loss.backward()\n",
    "#         optimizer.step()\n",
    "#         print(correct)\n",
    "#         epoch_loss += loss.item()\n",
    "    \n",
    "\n",
    "#     if (epoch+1) % attack_log_interval == 0:\n",
    "#         print('Train Epoch: \\tCorrect: {}'.format(\n",
    "#             epoch, epoch_correct))\n",
    "print(total_correct)\n",
    "print(\"Accuracy: \", 100*(total_correct/total_test))"
   ]
  },
  {
   "cell_type": "code",
   "execution_count": 41,
   "metadata": {},
   "outputs": [],
   "source": [
    "def check(i, alpha=0.6, beta=1):\n",
    "    _, l_dist = model(example_data[i].unsqueeze_(0).to(device))\n",
    "    l_sample = model.reparameterize(l_dist)\n",
    "\n",
    "    _,org_preds = classifier(F.upsample(model.decode(l_sample), (32,32), mode='bilinear', align_corners=True))\n",
    "#     print(\"original: \", torch.argmax(org_preds, dim=1))\n",
    "\n",
    "    noises = noise(l_sample)\n",
    "    coffs = cofficient(l_sample)\n",
    "\n",
    "    d = torch.argsort(org_preds, dim=1, descending=True)\n",
    "\n",
    "    noised_latent = l_sample_list[d[0,1].item()]['mean'].squeeze(1) + torch.clamp(noises, min=-5, max=5) * l_sample_list[d[0,1].item()]['std'].squeeze(1)\n",
    "    \n",
    "    noised_latent = torch.clamp(coffs, min=-3, max=3) * noised_latent\n",
    "#     noised_latent = F.normalize(coffs) * noised_latent\n",
    "\n",
    "    noised_sample = beta * l_sample + alpha * noised_latent\n",
    "\n",
    "    noised_image = model.decode(noised_sample)\n",
    "    _,fake_preds = classifier(F.upsample(noised_image, (32,32), mode='bilinear', align_corners=True))\n",
    "#     fake_preds = classifier2(F.upsample(noised_image, (32,32), mode='bilinear', align_corners=True))\n",
    "#     print(\"noised: \", torch.argmax(fake_preds, dim=1))\n",
    "\n",
    "    plt.figure(figsize=(10,10))\n",
    "    plt.subplot(1,2,1)\n",
    "    plt.imshow(example_data[i].permute(1,2,0).detach().cpu().numpy(), interpolation='none')\n",
    "    plt.title(\"org:{}\".format(torch.argmax(org_preds, dim=1)))\n",
    "    plt.subplot(1,2,2)\n",
    "    plt.imshow(noised_image[0].permute(1,2,0).detach().cpu().numpy(), interpolation='none')\n",
    "    plt.title(\"fake:{}\".format(torch.argmax(fake_preds, dim=1)))"
   ]
  },
  {
   "cell_type": "code",
   "execution_count": 37,
   "metadata": {},
   "outputs": [],
   "source": [
    "examples = enumerate(test_loader)\n",
    "batch_idx, (example_data,target) = next(examples)"
   ]
  },
  {
   "cell_type": "code",
   "execution_count": 42,
   "metadata": {},
   "outputs": [
    {
     "name": "stderr",
     "output_type": "stream",
     "text": [
      "/opt/miniconda3/envs/bvaa/lib/python3.6/site-packages/ipykernel_launcher.py:25: RuntimeWarning: More than 20 figures have been opened. Figures created through the pyplot interface (`matplotlib.pyplot.figure`) are retained until explicitly closed and may consume too much memory. (To control this warning, see the rcParam `figure.max_open_warning`).\n"
     ]
    },
    {
     "data": {
      "image/png": "[encoded data removed]",
      "text/plain": [
       "<Figure size 720x720 with 2 Axes>"
      ]
     },
     "metadata": {
      "needs_background": "light"
     },
     "output_type": "display_data"
    },
    {
     "data": {
      "image/png": "[encoded data removed]",
      "text/plain": [
       "<Figure size 720x720 with 2 Axes>"
      ]
     },
     "metadata": {
      "needs_background": "light"
     },
     "output_type": "display_data"
    },
    {
     "data": {
      "image/png": "[encoded data removed]",
      "text/plain": [
       "<Figure size 720x720 with 2 Axes>"
      ]
     },
     "metadata": {
      "needs_background": "light"
     },
     "output_type": "display_data"
    },
    {
     "data": {
      "image/png": "[encoded data removed]",
      "text/plain": [
       "<Figure size 720x720 with 2 Axes>"
      ]
     },
     "metadata": {
      "needs_background": "light"
     },
     "output_type": "display_data"
    },
    {
     "data": {
      "image/png": "[encoded data removed]",
      "text/plain": [
       "<Figure size 720x720 with 2 Axes>"
      ]
     },
     "metadata": {
      "needs_background": "light"
     },
     "output_type": "display_data"
    },
    {
     "data": {
      "image/png": "[encoded data removed]",
      "text/plain": [
       "<Figure size 720x720 with 2 Axes>"
      ]
     },
     "metadata": {
      "needs_background": "light"
     },
     "output_type": "display_data"
    },
    {
     "data": {
      "image/png": "[encoded data removed]",
      "text/plain": [
       "<Figure size 720x720 with 2 Axes>"
      ]
     },
     "metadata": {
      "needs_background": "light"
     },
     "output_type": "display_data"
    },
    {
     "data": {
      "image/png": "[encoded data removed]",
      "text/plain": [
       "<Figure size 720x720 with 2 Axes>"
      ]
     },
     "metadata": {
      "needs_background": "light"
     },
     "output_type": "display_data"
    },
    {
     "data": {
      "image/png": "[encoded data removed]",
      "text/plain": [
       "<Figure size 720x720 with 2 Axes>"
      ]
     },
     "metadata": {
      "needs_background": "light"
     },
     "output_type": "display_data"
    },
    {
     "data": {
      "image/png": "[encoded data removed]",
      "text/plain": [
       "<Figure size 720x720 with 2 Axes>"
      ]
     },
     "metadata": {
      "needs_background": "light"
     },
     "output_type": "display_data"
    },
    {
     "data": {
      "image/png": "[encoded data removed]",
      "text/plain": [
       "<Figure size 720x720 with 2 Axes>"
      ]
     },
     "metadata": {
      "needs_background": "light"
     },
     "output_type": "display_data"
    },
    {
     "data": {
      "image/png": "[encoded data removed]",
      "text/plain": [
       "<Figure size 720x720 with 2 Axes>"
      ]
     },
     "metadata": {
      "needs_background": "light"
     },
     "output_type": "display_data"
    },
    {
     "data": {
      "image/png": "[encoded data removed]",
      "text/plain": [
       "<Figure size 720x720 with 2 Axes>"
      ]
     },
     "metadata": {
      "needs_background": "light"
     },
     "output_type": "display_data"
    },
    {
     "data": {
      "image/png": "[encoded data removed]",
      "text/plain": [
       "<Figure size 720x720 with 2 Axes>"
      ]
     },
     "metadata": {
      "needs_background": "light"
     },
     "output_type": "display_data"
    },
    {
     "data": {
      "image/png": "[encoded data removed]",
      "text/plain": [
       "<Figure size 720x720 with 2 Axes>"
      ]
     },
     "metadata": {
      "needs_background": "light"
     },
     "output_type": "display_data"
    },
    {
     "data": {
      "image/png": "[encoded data removed]",
      "text/plain": [
       "<Figure size 720x720 with 2 Axes>"
      ]
     },
     "metadata": {
      "needs_background": "light"
     },
     "output_type": "display_data"
    },
    {
     "data": {
      "image/png": "[encoded data removed]",
      "text/plain": [
       "<Figure size 720x720 with 2 Axes>"
      ]
     },
     "metadata": {
      "needs_background": "light"
     },
     "output_type": "display_data"
    },
    {
     "data": {
      "image/png": "[encoded data removed]",
      "text/plain": [
       "<Figure size 720x720 with 2 Axes>"
      ]
     },
     "metadata": {
      "needs_background": "light"
     },
     "output_type": "display_data"
    },
    {
     "data": {
      "image/png": "[encoded data removed]",
      "text/plain": [
       "<Figure size 720x720 with 2 Axes>"
      ]
     },
     "metadata": {
      "needs_background": "light"
     },
     "output_type": "display_data"
    },
    {
     "data": {
      "image/png": "[encoded data removed]",
      "text/plain": [
       "<Figure size 720x720 with 2 Axes>"
      ]
     },
     "metadata": {
      "needs_background": "light"
     },
     "output_type": "display_data"
    },
    {
     "data": {
      "image/png": "[encoded data removed]",
      "text/plain": [
       "<Figure size 720x720 with 2 Axes>"
      ]
     },
     "metadata": {
      "needs_background": "light"
     },
     "output_type": "display_data"
    },
    {
     "data": {
      "image/png": "[encoded data removed]",
      "text/plain": [
       "<Figure size 720x720 with 2 Axes>"
      ]
     },
     "metadata": {
      "needs_background": "light"
     },
     "output_type": "display_data"
    },
    {
     "data": {
      "image/png": "[encoded data removed]",
      "text/plain": [
       "<Figure size 720x720 with 2 Axes>"
      ]
     },
     "metadata": {
      "needs_background": "light"
     },
     "output_type": "display_data"
    },
    {
     "data": {
      "image/png": "[encoded data removed]",
      "text/plain": [
       "<Figure size 720x720 with 2 Axes>"
      ]
     },
     "metadata": {
      "needs_background": "light"
     },
     "output_type": "display_data"
    },
    {
     "data": {
      "image/png": "[encoded data removed]",
      "text/plain": [
       "<Figure size 720x720 with 2 Axes>"
      ]
     },
     "metadata": {
      "needs_background": "light"
     },
     "output_type": "display_data"
    },
    {
     "data": {
      "image/png": "[encoded data removed]",
      "text/plain": [
       "<Figure size 720x720 with 2 Axes>"
      ]
     },
     "metadata": {
      "needs_background": "light"
     },
     "output_type": "display_data"
    },
    {
     "data": {
      "image/png": "[encoded data removed]",
      "text/plain": [
       "<Figure size 720x720 with 2 Axes>"
      ]
     },
     "metadata": {
      "needs_background": "light"
     },
     "output_type": "display_data"
    },
    {
     "data": {
      "image/png": "[encoded data removed]",
      "text/plain": [
       "<Figure size 720x720 with 2 Axes>"
      ]
     },
     "metadata": {
      "needs_background": "light"
     },
     "output_type": "display_data"
    },
    {
     "data": {
      "image/png": "[encoded data removed]",
      "text/plain": [
       "<Figure size 720x720 with 2 Axes>"
      ]
     },
     "metadata": {
      "needs_background": "light"
     },
     "output_type": "display_data"
    },
    {
     "data": {
      "image/png": "[encoded data removed]",
      "text/plain": [
       "<Figure size 720x720 with 2 Axes>"
      ]
     },
     "metadata": {
      "needs_background": "light"
     },
     "output_type": "display_data"
    },
    {
     "data": {
      "image/png": "[encoded data removed]",
      "text/plain": [
       "<Figure size 720x720 with 2 Axes>"
      ]
     },
     "metadata": {
      "needs_background": "light"
     },
     "output_type": "display_data"
    },
    {
     "data": {
      "image/png": "[encoded data removed]",
      "text/plain": [
       "<Figure size 720x720 with 2 Axes>"
      ]
     },
     "metadata": {
      "needs_background": "light"
     },
     "output_type": "display_data"
    }
   ],
   "source": [
    "for i in range(32):\n",
    "    check(i,1,0)"
   ]
  },
  {
   "cell_type": "code",
   "execution_count": null,
   "metadata": {},
   "outputs": [],
   "source": [
    "def test(i, means=l_mean_tensor, stds=l_std_tensor, latent_dim=latent_dim, classes=len(train_data.classes)):\n",
    "    _, l_dist = model(example_data[i].unsqueeze_(0).to(device))\n",
    "    l_sample = model.reparameterize(l_dist)\n",
    "    noises = noise(l_sample)\n",
    "    coffs = cofficient(l_sample)\n",
    "#     print(coffs.shape)\n",
    "#     print(noises.shape)\n",
    "    noised_latent = means + noises.reshape(noises.shape[0], classes, latent_dim)*stds\n",
    "    noised_latent = coffs[:,:,None]*noised_latent\n",
    "#     print(noised_latent.shape)\n",
    "#     print(l_sample.shape)\n",
    "#     print(torch.transpose(coff[:,None].cuda()*avg_latent.T, 1, 2).sum(1).shape)\n",
    "#     noised_latent = l_sample + 2e-1*torch.transpose(coff[:,None].cuda()*avg_latent.T, 1, 2).sum(1)\n",
    "#     print(noised_latent.shape)\n",
    "#     print(noised_sample)\n",
    "#     print(l_sample)\n",
    "#     noised_sample = 1 * ((l_sample - l_sample.min())/(l_sample.max() - l_sample.min())) + 1e-2 * ((noised_sample - noised_sample.min())/(noised_sample.max() - noised_sample.min()))\n",
    "#     noised_sample = 1 * l_sample + 2e-2 * noised_sample\n",
    "#     noised_sample = l_sample + 1e-7 * noised_sample\n",
    "    final = model.decode(l_sample+1e-12*noised_latent.sum(dim=1))\n",
    "#     print(final.shape)\n",
    "    pred_org = torch.argmax(classifier(F.upsample(example_data[i,:,:,:].unsqueeze(0).cuda(), (28,28), mode='bilinear', align_corners=True)))\n",
    "    pred = torch.argmax(classifier(F.upsample(final, (28,28), mode='bilinear', align_corners=True)), dim=1)\n",
    "#     print(pred)\n",
    "    plt.figure(figsize=(10,10))\n",
    "    plt.subplot(1,2,1)\n",
    "    plt.imshow(example_data[i][0].detach().cpu().numpy(), cmap='gray', interpolation='none')\n",
    "    plt.subplot(1,2,2)\n",
    "    plt.imshow(final[0][0].detach().cpu().numpy(), cmap='gray', interpolation='none')\n",
    "    plt.title(\"Prediction: {}, {}\".format(pred_org.item(), pred.item()))"
   ]
  },
  {
   "cell_type": "code",
   "execution_count": null,
   "metadata": {},
   "outputs": [],
   "source": [
    "for i in range(64):\n",
    "    test(i)"
   ]
  },
  {
   "cell_type": "code",
   "execution_count": null,
   "metadata": {},
   "outputs": [],
   "source": [
    "torch.transpose(torch.clamp(coff[:,None].cuda(), min=-0.8, max=0.3)*self.avg_latent.T, 1, 2).sum(1)"
   ]
  }
 ],
 "metadata": {
  "kernelspec": {
   "display_name": "Python 3",
   "language": "python",
   "name": "python3"
  },
  "language_info": {
   "codemirror_mode": {
    "name": "ipython",
    "version": 3
   },
   "file_extension": ".py",
   "mimetype": "text/x-python",
   "name": "python",
   "nbconvert_exporter": "python",
   "pygments_lexer": "ipython3",
   "version": "3.6.9"
  }
 },
 "nbformat": 4,
 "nbformat_minor": 2
}
