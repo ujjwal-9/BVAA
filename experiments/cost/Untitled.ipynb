{
 "cells": [
  {
   "cell_type": "code",
   "execution_count": 3,
   "metadata": {},
   "outputs": [],
   "source": [
    "%matplotlib inline\n",
    "import numpy as np\n",
    "from matplotlib import pyplot as plt"
   ]
  },
  {
   "cell_type": "code",
   "execution_count": 2,
   "metadata": {},
   "outputs": [],
   "source": [
    "def wasserstein_loss(y_true, y_pred):\n",
    "\treturn mean(y_true * y_pred)"
   ]
  },
  {
   "cell_type": "code",
   "execution_count": 4,
   "metadata": {},
   "outputs": [
    {
     "name": "stdout",
     "output_type": "stream",
     "text": [
      "P_r:\n"
     ]
    },
    {
     "data": {
      "image/png": "[encoded data removed]",
      "text/plain": [
       "<Figure size 432x288 with 1 Axes>"
      ]
     },
     "metadata": {
      "needs_background": "light"
     },
     "output_type": "display_data"
    },
    {
     "name": "stdout",
     "output_type": "stream",
     "text": [
      "P_t:\n"
     ]
    },
    {
     "data": {
      "image/png": "[encoded data removed]",
      "text/plain": [
       "<Figure size 432x288 with 1 Axes>"
      ]
     },
     "metadata": {
      "needs_background": "light"
     },
     "output_type": "display_data"
    }
   ],
   "source": [
    "l = 10\n",
    "\n",
    "P_r = np.array([12,7,4,1,19,14,9,6,3,2])\n",
    "P_t = np.array([1,5,11,17,13,9,6,4,3,2])\n",
    "P_r = P_r / np.sum(P_r)\n",
    "P_t = P_t / np.sum(P_t)\n",
    "\n",
    "plt.bar(range(l), P_r, 1, color='blue', alpha=1)\n",
    "plt.axis('off')\n",
    "plt.ylim(0, 0.5)\n",
    "plt.savefig(\"discrete_p_r.svg\")\n",
    "print(\"P_r:\")\n",
    "plt.show()\n",
    "\n",
    "plt.bar(range(l), P_t, 1, color='green', alpha=1)\n",
    "plt.axis('off')\n",
    "plt.ylim(0, 0.5)\n",
    "plt.savefig(\"discrete_p_t.svg\")\n",
    "print(\"P_t:\")\n",
    "plt.show()"
   ]
  },
  {
   "cell_type": "code",
   "execution_count": null,
   "metadata": {},
   "outputs": [],
   "source": []
  }
 ],
 "metadata": {
  "kernelspec": {
   "display_name": "Python 3",
   "language": "python",
   "name": "python3"
  },
  "language_info": {
   "codemirror_mode": {
    "name": "ipython",
    "version": 3
   },
   "file_extension": ".py",
   "mimetype": "text/x-python",
   "name": "python",
   "nbconvert_exporter": "python",
   "pygments_lexer": "ipython3",
   "version": "3.6.9"
  }
 },
 "nbformat": 4,
 "nbformat_minor": 2
}
